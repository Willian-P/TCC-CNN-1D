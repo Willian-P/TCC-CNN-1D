{
 "cells": [
  {
   "cell_type": "code",
   "execution_count": 1,
   "metadata": {},
   "outputs": [
    {
     "name": "stderr",
     "output_type": "stream",
     "text": [
      "c:\\Users\\willi\\AppData\\Local\\Programs\\Python\\Python311\\Lib\\site-packages\\torchaudio\\backend\\utils.py:74: UserWarning: No audio backend is available.\n",
      "  warnings.warn(\"No audio backend is available.\")\n"
     ]
    }
   ],
   "source": [
    "import numpy as np\n",
    "import pandas as pd\n",
    "from sklearn.metrics import roc_auc_score, accuracy_score, f1_score, confusion_matrix\n",
    "\n",
    "import torch\n",
    "from torch import nn\n",
    "from torch.utils.data import DataLoader,TensorDataset\n",
    "from torch.optim.lr_scheduler import ReduceLROnPlateau\n",
    "\n",
    "import pytorch_lightning as pl\n",
    "from pytorch_lightning.callbacks.early_stopping import EarlyStopping\n",
    "\n",
    "import matplotlib.pyplot as plt\n",
    "import seaborn as sns"
   ]
  },
  {
   "cell_type": "markdown",
   "metadata": {},
   "source": [
    "PyTorch Lightning, é um framework leve para treinamento que visa simplificar e acelerar o processo de treinamento."
   ]
  },
  {
   "cell_type": "code",
   "execution_count": 2,
   "metadata": {},
   "outputs": [
    {
     "data": {
      "text/plain": [
       "device(type='cuda')"
      ]
     },
     "execution_count": 2,
     "metadata": {},
     "output_type": "execute_result"
    }
   ],
   "source": [
    "# Configuração para garantir a reprodutibilidade dos resultados\n",
    "SEED = 2\n",
    "# Definem a semente aleatória para as bibliotecas NumPy e PyTorch\n",
    "np.random.seed(SEED)\n",
    "torch.manual_seed(SEED) # CPU\n",
    "torch.cuda.manual_seed(SEED) # GPU\n",
    "torch.cuda.manual_seed_all(SEED) # GPUs\n",
    "\n",
    "# Configuração para garantir que a biblioteca cuDNN do PyTorch gere resultados determinísticos (usado para aceleração em GPU)\n",
    "torch.backends.cudnn.deterministic = True\n",
    "\n",
    "# Verifica se há uma GPU disponível e define o dispositivo para \"cuda\" (GPU) ou \"cpu\" (CPU)\n",
    "device = torch.device(\"cuda\" if torch.cuda.is_available() else \"cpu\")\n",
    "device"
   ]
  },
  {
   "cell_type": "code",
   "execution_count": 3,
   "metadata": {},
   "outputs": [
    {
     "data": {
      "text/html": [
       "<div>\n",
       "<style scoped>\n",
       "    .dataframe tbody tr th:only-of-type {\n",
       "        vertical-align: middle;\n",
       "    }\n",
       "\n",
       "    .dataframe tbody tr th {\n",
       "        vertical-align: top;\n",
       "    }\n",
       "\n",
       "    .dataframe thead th {\n",
       "        text-align: right;\n",
       "    }\n",
       "</style>\n",
       "<table border=\"1\" class=\"dataframe\">\n",
       "  <thead>\n",
       "    <tr style=\"text-align: right;\">\n",
       "      <th></th>\n",
       "      <th>CS_SEXO</th>\n",
       "      <th>NU_IDADE_N</th>\n",
       "      <th>CS_GESTANT</th>\n",
       "      <th>NOSOCOMIAL</th>\n",
       "      <th>FEBRE</th>\n",
       "      <th>TOSSE</th>\n",
       "      <th>GARGANTA</th>\n",
       "      <th>DISPNEIA</th>\n",
       "      <th>DESC_RESP</th>\n",
       "      <th>SATURACAO</th>\n",
       "      <th>...</th>\n",
       "      <th>TOMO_RES</th>\n",
       "      <th>RES_AN</th>\n",
       "      <th>VACINA_COV</th>\n",
       "      <th>QTD_DIAS</th>\n",
       "      <th>DIAS_INTERNA</th>\n",
       "      <th>SINT_ATE_NOTIF</th>\n",
       "      <th>PCR_EVOLUCAO</th>\n",
       "      <th>DIAS_DOSE2</th>\n",
       "      <th>DIAS_DOSE1</th>\n",
       "      <th>EVOLUCAO</th>\n",
       "    </tr>\n",
       "  </thead>\n",
       "  <tbody>\n",
       "    <tr>\n",
       "      <th>0</th>\n",
       "      <td>1.016317</td>\n",
       "      <td>-1.525360</td>\n",
       "      <td>-0.841847</td>\n",
       "      <td>-0.247347</td>\n",
       "      <td>-0.681876</td>\n",
       "      <td>-0.533104</td>\n",
       "      <td>-0.318904</td>\n",
       "      <td>0.130633</td>\n",
       "      <td>-0.028625</td>\n",
       "      <td>0.090063</td>\n",
       "      <td>...</td>\n",
       "      <td>0.612697</td>\n",
       "      <td>0.575506</td>\n",
       "      <td>-0.370379</td>\n",
       "      <td>-0.448566</td>\n",
       "      <td>-0.606642</td>\n",
       "      <td>-0.333757</td>\n",
       "      <td>-0.245809</td>\n",
       "      <td>-0.035479</td>\n",
       "      <td>-0.069846</td>\n",
       "      <td>0</td>\n",
       "    </tr>\n",
       "    <tr>\n",
       "      <th>1</th>\n",
       "      <td>-0.983945</td>\n",
       "      <td>0.288959</td>\n",
       "      <td>0.663434</td>\n",
       "      <td>-0.247347</td>\n",
       "      <td>2.634754</td>\n",
       "      <td>3.009587</td>\n",
       "      <td>-0.940007</td>\n",
       "      <td>2.830029</td>\n",
       "      <td>2.417626</td>\n",
       "      <td>-0.566145</td>\n",
       "      <td>...</td>\n",
       "      <td>0.612697</td>\n",
       "      <td>-1.068704</td>\n",
       "      <td>-0.370379</td>\n",
       "      <td>0.265732</td>\n",
       "      <td>0.567583</td>\n",
       "      <td>-0.333757</td>\n",
       "      <td>-0.505612</td>\n",
       "      <td>-0.007870</td>\n",
       "      <td>-0.016540</td>\n",
       "      <td>0</td>\n",
       "    </tr>\n",
       "    <tr>\n",
       "      <th>2</th>\n",
       "      <td>1.016317</td>\n",
       "      <td>-0.618201</td>\n",
       "      <td>-0.841847</td>\n",
       "      <td>-0.247347</td>\n",
       "      <td>-0.018550</td>\n",
       "      <td>-0.533104</td>\n",
       "      <td>-0.940007</td>\n",
       "      <td>-0.544216</td>\n",
       "      <td>-0.640188</td>\n",
       "      <td>0.090063</td>\n",
       "      <td>...</td>\n",
       "      <td>0.612697</td>\n",
       "      <td>1.123576</td>\n",
       "      <td>-0.370379</td>\n",
       "      <td>-0.364531</td>\n",
       "      <td>-0.537570</td>\n",
       "      <td>-0.292220</td>\n",
       "      <td>-0.505612</td>\n",
       "      <td>-0.029875</td>\n",
       "      <td>-0.043009</td>\n",
       "      <td>0</td>\n",
       "    </tr>\n",
       "    <tr>\n",
       "      <th>3</th>\n",
       "      <td>-0.983945</td>\n",
       "      <td>-0.247090</td>\n",
       "      <td>0.663434</td>\n",
       "      <td>-0.247347</td>\n",
       "      <td>-0.681876</td>\n",
       "      <td>-0.533104</td>\n",
       "      <td>-0.318904</td>\n",
       "      <td>-0.544216</td>\n",
       "      <td>-0.640188</td>\n",
       "      <td>-0.566145</td>\n",
       "      <td>...</td>\n",
       "      <td>0.612697</td>\n",
       "      <td>1.671646</td>\n",
       "      <td>1.135630</td>\n",
       "      <td>0.307750</td>\n",
       "      <td>0.636655</td>\n",
       "      <td>0.123142</td>\n",
       "      <td>0.966608</td>\n",
       "      <td>-0.043817</td>\n",
       "      <td>-0.121681</td>\n",
       "      <td>1</td>\n",
       "    </tr>\n",
       "    <tr>\n",
       "      <th>4</th>\n",
       "      <td>1.016317</td>\n",
       "      <td>-0.906842</td>\n",
       "      <td>-0.841847</td>\n",
       "      <td>-0.247347</td>\n",
       "      <td>-0.018550</td>\n",
       "      <td>-0.533104</td>\n",
       "      <td>-0.940007</td>\n",
       "      <td>0.130633</td>\n",
       "      <td>-0.028625</td>\n",
       "      <td>0.090063</td>\n",
       "      <td>...</td>\n",
       "      <td>-1.847184</td>\n",
       "      <td>0.575506</td>\n",
       "      <td>-0.370379</td>\n",
       "      <td>-0.364531</td>\n",
       "      <td>-0.468498</td>\n",
       "      <td>-0.416829</td>\n",
       "      <td>-0.505612</td>\n",
       "      <td>-0.027962</td>\n",
       "      <td>-0.048156</td>\n",
       "      <td>0</td>\n",
       "    </tr>\n",
       "    <tr>\n",
       "      <th>...</th>\n",
       "      <td>...</td>\n",
       "      <td>...</td>\n",
       "      <td>...</td>\n",
       "      <td>...</td>\n",
       "      <td>...</td>\n",
       "      <td>...</td>\n",
       "      <td>...</td>\n",
       "      <td>...</td>\n",
       "      <td>...</td>\n",
       "      <td>...</td>\n",
       "      <td>...</td>\n",
       "      <td>...</td>\n",
       "      <td>...</td>\n",
       "      <td>...</td>\n",
       "      <td>...</td>\n",
       "      <td>...</td>\n",
       "      <td>...</td>\n",
       "      <td>...</td>\n",
       "      <td>...</td>\n",
       "      <td>...</td>\n",
       "      <td>...</td>\n",
       "    </tr>\n",
       "    <tr>\n",
       "      <th>25205</th>\n",
       "      <td>-0.983945</td>\n",
       "      <td>0.412663</td>\n",
       "      <td>0.663434</td>\n",
       "      <td>-0.247347</td>\n",
       "      <td>-0.018550</td>\n",
       "      <td>-0.533104</td>\n",
       "      <td>-0.940007</td>\n",
       "      <td>-0.544216</td>\n",
       "      <td>-0.640188</td>\n",
       "      <td>-0.566145</td>\n",
       "      <td>...</td>\n",
       "      <td>-1.847184</td>\n",
       "      <td>0.575506</td>\n",
       "      <td>-0.370379</td>\n",
       "      <td>-0.406549</td>\n",
       "      <td>-0.606642</td>\n",
       "      <td>0.040070</td>\n",
       "      <td>-0.505612</td>\n",
       "      <td>0.020014</td>\n",
       "      <td>0.057720</td>\n",
       "      <td>1</td>\n",
       "    </tr>\n",
       "    <tr>\n",
       "      <th>25206</th>\n",
       "      <td>1.016317</td>\n",
       "      <td>0.825008</td>\n",
       "      <td>-0.841847</td>\n",
       "      <td>-0.247347</td>\n",
       "      <td>-0.681876</td>\n",
       "      <td>0.175434</td>\n",
       "      <td>-0.318904</td>\n",
       "      <td>-0.544216</td>\n",
       "      <td>-0.640188</td>\n",
       "      <td>-0.566145</td>\n",
       "      <td>...</td>\n",
       "      <td>-1.355208</td>\n",
       "      <td>-1.068704</td>\n",
       "      <td>-0.370379</td>\n",
       "      <td>-0.196461</td>\n",
       "      <td>-0.330354</td>\n",
       "      <td>0.123142</td>\n",
       "      <td>-0.505612</td>\n",
       "      <td>0.019604</td>\n",
       "      <td>0.059190</td>\n",
       "      <td>1</td>\n",
       "    </tr>\n",
       "    <tr>\n",
       "      <th>25207</th>\n",
       "      <td>1.016317</td>\n",
       "      <td>1.072415</td>\n",
       "      <td>-0.841847</td>\n",
       "      <td>-0.247347</td>\n",
       "      <td>-0.018550</td>\n",
       "      <td>-0.533104</td>\n",
       "      <td>-0.318904</td>\n",
       "      <td>-0.544216</td>\n",
       "      <td>-0.640188</td>\n",
       "      <td>-0.566145</td>\n",
       "      <td>...</td>\n",
       "      <td>-1.355208</td>\n",
       "      <td>-1.068704</td>\n",
       "      <td>-0.370379</td>\n",
       "      <td>-0.490584</td>\n",
       "      <td>1.396447</td>\n",
       "      <td>0.870795</td>\n",
       "      <td>-0.505612</td>\n",
       "      <td>0.025208</td>\n",
       "      <td>0.069484</td>\n",
       "      <td>1</td>\n",
       "    </tr>\n",
       "    <tr>\n",
       "      <th>25208</th>\n",
       "      <td>1.016317</td>\n",
       "      <td>0.866242</td>\n",
       "      <td>0.663434</td>\n",
       "      <td>-0.247347</td>\n",
       "      <td>-0.018550</td>\n",
       "      <td>-0.533104</td>\n",
       "      <td>-0.318904</td>\n",
       "      <td>-0.544216</td>\n",
       "      <td>-0.028625</td>\n",
       "      <td>0.090063</td>\n",
       "      <td>...</td>\n",
       "      <td>-1.355208</td>\n",
       "      <td>-1.068704</td>\n",
       "      <td>-0.370379</td>\n",
       "      <td>-0.406549</td>\n",
       "      <td>-0.537570</td>\n",
       "      <td>-0.209148</td>\n",
       "      <td>-0.245809</td>\n",
       "      <td>0.000058</td>\n",
       "      <td>0.008091</td>\n",
       "      <td>1</td>\n",
       "    </tr>\n",
       "    <tr>\n",
       "      <th>25209</th>\n",
       "      <td>1.016317</td>\n",
       "      <td>0.618835</td>\n",
       "      <td>-0.841847</td>\n",
       "      <td>-0.247347</td>\n",
       "      <td>-0.681876</td>\n",
       "      <td>-0.533104</td>\n",
       "      <td>-0.318904</td>\n",
       "      <td>-0.544216</td>\n",
       "      <td>-0.028625</td>\n",
       "      <td>-0.566145</td>\n",
       "      <td>...</td>\n",
       "      <td>0.612697</td>\n",
       "      <td>1.671646</td>\n",
       "      <td>-0.370379</td>\n",
       "      <td>0.181697</td>\n",
       "      <td>0.429439</td>\n",
       "      <td>-0.043003</td>\n",
       "      <td>0.706805</td>\n",
       "      <td>0.040243</td>\n",
       "      <td>0.114702</td>\n",
       "      <td>1</td>\n",
       "    </tr>\n",
       "  </tbody>\n",
       "</table>\n",
       "<p>25210 rows × 41 columns</p>\n",
       "</div>"
      ],
      "text/plain": [
       "        CS_SEXO  NU_IDADE_N  CS_GESTANT  NOSOCOMIAL     FEBRE     TOSSE  \\\n",
       "0      1.016317   -1.525360   -0.841847   -0.247347 -0.681876 -0.533104   \n",
       "1     -0.983945    0.288959    0.663434   -0.247347  2.634754  3.009587   \n",
       "2      1.016317   -0.618201   -0.841847   -0.247347 -0.018550 -0.533104   \n",
       "3     -0.983945   -0.247090    0.663434   -0.247347 -0.681876 -0.533104   \n",
       "4      1.016317   -0.906842   -0.841847   -0.247347 -0.018550 -0.533104   \n",
       "...         ...         ...         ...         ...       ...       ...   \n",
       "25205 -0.983945    0.412663    0.663434   -0.247347 -0.018550 -0.533104   \n",
       "25206  1.016317    0.825008   -0.841847   -0.247347 -0.681876  0.175434   \n",
       "25207  1.016317    1.072415   -0.841847   -0.247347 -0.018550 -0.533104   \n",
       "25208  1.016317    0.866242    0.663434   -0.247347 -0.018550 -0.533104   \n",
       "25209  1.016317    0.618835   -0.841847   -0.247347 -0.681876 -0.533104   \n",
       "\n",
       "       GARGANTA  DISPNEIA  DESC_RESP  SATURACAO  ...  TOMO_RES    RES_AN  \\\n",
       "0     -0.318904  0.130633  -0.028625   0.090063  ...  0.612697  0.575506   \n",
       "1     -0.940007  2.830029   2.417626  -0.566145  ...  0.612697 -1.068704   \n",
       "2     -0.940007 -0.544216  -0.640188   0.090063  ...  0.612697  1.123576   \n",
       "3     -0.318904 -0.544216  -0.640188  -0.566145  ...  0.612697  1.671646   \n",
       "4     -0.940007  0.130633  -0.028625   0.090063  ... -1.847184  0.575506   \n",
       "...         ...       ...        ...        ...  ...       ...       ...   \n",
       "25205 -0.940007 -0.544216  -0.640188  -0.566145  ... -1.847184  0.575506   \n",
       "25206 -0.318904 -0.544216  -0.640188  -0.566145  ... -1.355208 -1.068704   \n",
       "25207 -0.318904 -0.544216  -0.640188  -0.566145  ... -1.355208 -1.068704   \n",
       "25208 -0.318904 -0.544216  -0.028625   0.090063  ... -1.355208 -1.068704   \n",
       "25209 -0.318904 -0.544216  -0.028625  -0.566145  ...  0.612697  1.671646   \n",
       "\n",
       "       VACINA_COV  QTD_DIAS  DIAS_INTERNA  SINT_ATE_NOTIF  PCR_EVOLUCAO  \\\n",
       "0       -0.370379 -0.448566     -0.606642       -0.333757     -0.245809   \n",
       "1       -0.370379  0.265732      0.567583       -0.333757     -0.505612   \n",
       "2       -0.370379 -0.364531     -0.537570       -0.292220     -0.505612   \n",
       "3        1.135630  0.307750      0.636655        0.123142      0.966608   \n",
       "4       -0.370379 -0.364531     -0.468498       -0.416829     -0.505612   \n",
       "...           ...       ...           ...             ...           ...   \n",
       "25205   -0.370379 -0.406549     -0.606642        0.040070     -0.505612   \n",
       "25206   -0.370379 -0.196461     -0.330354        0.123142     -0.505612   \n",
       "25207   -0.370379 -0.490584      1.396447        0.870795     -0.505612   \n",
       "25208   -0.370379 -0.406549     -0.537570       -0.209148     -0.245809   \n",
       "25209   -0.370379  0.181697      0.429439       -0.043003      0.706805   \n",
       "\n",
       "       DIAS_DOSE2  DIAS_DOSE1  EVOLUCAO  \n",
       "0       -0.035479   -0.069846         0  \n",
       "1       -0.007870   -0.016540         0  \n",
       "2       -0.029875   -0.043009         0  \n",
       "3       -0.043817   -0.121681         1  \n",
       "4       -0.027962   -0.048156         0  \n",
       "...           ...         ...       ...  \n",
       "25205    0.020014    0.057720         1  \n",
       "25206    0.019604    0.059190         1  \n",
       "25207    0.025208    0.069484         1  \n",
       "25208    0.000058    0.008091         1  \n",
       "25209    0.040243    0.114702         1  \n",
       "\n",
       "[25210 rows x 41 columns]"
      ]
     },
     "execution_count": 3,
     "metadata": {},
     "output_type": "execute_result"
    }
   ],
   "source": [
    "# Carrega o Dataset\n",
    "dataset = pd.read_csv(\"..\\Datasets\\dataset_SP_Obitos_Scaler.csv\")\n",
    "dataset"
   ]
  },
  {
   "cell_type": "markdown",
   "metadata": {},
   "source": [
    "Divisão do dataset em três conjuntos distintos: treinamento, validação e teste. Sendo 60% para treinamento, 20% para validação e 20% para teste.\n"
   ]
  },
  {
   "cell_type": "code",
   "execution_count": 4,
   "metadata": {},
   "outputs": [],
   "source": [
    "# Cria um array para armazenar os índices do dataset original. Para embaralhar os índices e, posteriormente dividir os dados aleatoriamente.\n",
    "index = np.array(dataset.index)\n",
    "\n",
    "# Embaralha os índices de forma aleatória\n",
    "np.random.shuffle(index)\n",
    "# Número total de amostras no dataset\n",
    "n = len(index)\n",
    "\n",
    "# Seleciona os índices das primeiras 60% amostras embaralhadas para o conjunto de treinamento.\n",
    "train_index = index[0:int(0.6*n)]\n",
    "# As amostras da posição 60% até a posição 80% para o conjunto de validação\n",
    "valid_index = index[int(0.6*n):int(0.8*n)]\n",
    "# As amostras da posição 80% até o final para o conjunto de teste\n",
    "test_index = index[int(0.8*n):]\n",
    "\n",
    "# Cria um dataset para armazenar cada conjunto, treino, validação e teste, respectivamente e reindexa os índices\n",
    "train_dset = dataset.loc[train_index].reset_index(drop=True)\n",
    "valid_dset = dataset.loc[valid_index].reset_index(drop=True)\n",
    "test_dset = dataset.loc[test_index].reset_index(drop=True)"
   ]
  },
  {
   "cell_type": "code",
   "execution_count": 5,
   "metadata": {},
   "outputs": [],
   "source": [
    "# Obtendo os atributos (features) do dataset, excluindo a coluna 'EVOLUCAO'\n",
    "input_features = dataset.columns.drop('EVOLUCAO').tolist()\n",
    "\n",
    "# Obtendo os rótulos (target) do dataset\n",
    "target = 'EVOLUCAO'\n",
    "labels = dataset[target].tolist()"
   ]
  },
  {
   "cell_type": "code",
   "execution_count": 6,
   "metadata": {},
   "outputs": [],
   "source": [
    "# Os dados são convertidos em tensores PyTorch\n",
    "train_tensor_dset = TensorDataset(\n",
    "    # converte os dados das colunas de entradas em tensores de ponto flutuante\n",
    "    torch.tensor(train_dset[input_features].values, dtype=torch.float),\n",
    "    # converte os dados da coluna de rótulos em tensores de ponto flutuante com formato de matriz\n",
    "    torch.tensor(train_dset[target].values.reshape(-1,1), dtype=torch.float)\n",
    ")\n",
    "\n",
    "valid_tensor_dset = TensorDataset(\n",
    "    torch.tensor(valid_dset[input_features].values, dtype=torch.float),\n",
    "    torch.tensor(valid_dset[target].values.reshape(-1,1), dtype=torch.float)\n",
    ")\n",
    "\n",
    "test_tensor_dset = TensorDataset(\n",
    "    torch.tensor(test_dset[input_features].values, dtype=torch.float),\n",
    "    torch.tensor(test_dset[target].values.reshape(-1,1), dtype=torch.float) \n",
    ")"
   ]
  },
  {
   "cell_type": "markdown",
   "metadata": {},
   "source": [
    "No contexto da biblioteca PyTorch, um tensor é uma estrutura de dados similar a um array NumPy, mas com suporte para aceleração de hardware através de GPUs.\n",
    "\n",
    "A abordagem com tensores no PyTorch permite representar e manipular os dados de entrada e saída do modelo de forma eficiente, além de oferecer suporte para aceleração de hardware em GPUs, o que é essencial para realizar cálculos complexos em redes neurais profundas com grandes volumes de dados."
   ]
  },
  {
   "cell_type": "code",
   "execution_count": 7,
   "metadata": {},
   "outputs": [],
   "source": [
    "class SoftOrdering1DCNN(pl.LightningModule):\n",
    "\n",
    "    def __init__(self, input_dim, output_dim, sign_size=32, cha_input=16, cha_hidden=32, \n",
    "                 K=2, dropout_input=0.2, dropout_hidden=0.2, dropout_output=0.2):\n",
    "        super().__init__()\n",
    "\n",
    "        # Calcula o tamanho da camada oculta multiplicando o tamanho do sinal (sign_size) \n",
    "        # pela quantidade de canais de entrada (cha_input).\n",
    "        hidden_size = sign_size*cha_input\n",
    "        # Armazena o tamanho do sinal\n",
    "        sign_size1 = sign_size\n",
    "        # Calcula o tamanho do sinal dividido por 2 e armazena o resultado na variável\n",
    "        sign_size2 = sign_size//2\n",
    "\n",
    "        #Calcula o tamanho da camada de saída multiplicando o tamanho do sinal dividido \n",
    "        # por 4 pela quantidade de canais ocultos (cha_hidden).\n",
    "        output_size = (sign_size//4) * cha_hidden\n",
    "\n",
    "        self.hidden_size = hidden_size # Tamanho do vetor oculto\n",
    "        self.cha_input = cha_input # Número de canais de entrada\n",
    "        self.cha_hidden = cha_hidden # Número de canais da camada oculta\n",
    "        self.K = K # Fator de multiplicação utilizado na primeira camada convolucional\n",
    "        self.sign_size1 = sign_size1 # Tamanho do sinal de entrada original\n",
    "        self.sign_size2 = sign_size2 # Tamanho do sinal após a camada de pool adaptativa.\n",
    "        self.output_size = output_size # Tamanho do vetor de saída após a última camada de convolução e a camada de pool\n",
    "        self.dropout_input = dropout_input # Taxa de dropout aplicada à camada de entrada\n",
    "        self.dropout_hidden = dropout_hidden # Taxa de dropout aplicada às camadas ocultas\n",
    "        self.dropout_output = dropout_output # Taxa de dropout aplicada à camada de saída\n",
    "\n",
    "        # Cria uma camada de normalização por lote (BatchNorm1d) com tamanho de entrada \n",
    "        # igual a input_dim e a atribui ao atributo batch_norm1 da classe.\n",
    "        self.batch_norm1 = nn.BatchNorm1d(input_dim)\n",
    "        # Cria uma camada de dropout (Dropout) com taxa de dropout igual a dropout_input \n",
    "        # e a atribui ao atributo dropout1 da classe.\n",
    "        self.dropout1 = nn.Dropout(dropout_input)\n",
    "        # Cria uma camada densa (Linear) com tamanho de entrada igual a input_dim, tamanho de saída \n",
    "        # igual a hidden_size e sem viés (bias=False). A camada é armazenada temporariamente na variável dense1.\n",
    "        dense1 = nn.Linear(input_dim, hidden_size, bias=False)\n",
    "        # Aplica a normalização de peso (weight normalization) na camada dense1 e a atribui ao atributo dense1 da classe. \n",
    "        self.dense1 = nn.utils.weight_norm(dense1)\n",
    "\n",
    "        # 1st conv layer\n",
    "        self.batch_norm_c1 = nn.BatchNorm1d(cha_input)\n",
    "        conv1 = conv1 = nn.Conv1d(\n",
    "            cha_input, # canais de entrada\n",
    "            cha_input*K, # canais de saída\n",
    "            kernel_size=5, # tamanho de filtro\n",
    "            stride = 1, # Deslocamento\n",
    "            padding=2,  # Preenchimento\n",
    "            groups=cha_input, # igual ao número de canais de entrada e sem viés\n",
    "            bias=False) #  Essa camada aplica uma convolução em cada canal de entrada separadamente\n",
    "        # camada convolucional definida anteriormente é normalizada pela norma dos pesos \n",
    "        self.conv1 = nn.utils.weight_norm(conv1, dim=None) \n",
    "\n",
    "        self.ave_po_c1 = nn.AdaptiveAvgPool1d(output_size = sign_size2)\n",
    "\n",
    "        # 2nd conv layer\n",
    "        self.batch_norm_c2 = nn.BatchNorm1d(cha_input*K)\n",
    "        self.dropout_c2 = nn.Dropout(dropout_hidden)\n",
    "        conv2 = nn.Conv1d(\n",
    "            cha_input*K, \n",
    "            cha_hidden, \n",
    "            kernel_size=3, \n",
    "            stride=1, \n",
    "            padding=1, \n",
    "            bias=False)\n",
    "        self.conv2 = nn.utils.weight_norm(conv2, dim=None)\n",
    "\n",
    "        # 3rd conv layer\n",
    "        self.batch_norm_c3 = nn.BatchNorm1d(cha_hidden)\n",
    "        self.dropout_c3 = nn.Dropout(dropout_hidden)\n",
    "        conv3 = nn.Conv1d(\n",
    "            cha_hidden, \n",
    "            cha_hidden, \n",
    "            kernel_size=3, \n",
    "            stride=1, \n",
    "            padding=1, \n",
    "            bias=False)\n",
    "        self.conv3 = nn.utils.weight_norm(conv3, dim=None)\n",
    "        \n",
    "\n",
    "        # 4th conv layer\n",
    "        self.batch_norm_c4 = nn.BatchNorm1d(cha_hidden)\n",
    "        conv4 = nn.Conv1d(\n",
    "            cha_hidden, \n",
    "            cha_hidden, \n",
    "            kernel_size=5, \n",
    "            stride=1, \n",
    "            padding=2, \n",
    "            groups=cha_hidden, \n",
    "            bias=False)\n",
    "        self.conv4 = nn.utils.weight_norm(conv4, dim=None)\n",
    "\n",
    "        # cria uma camada de pooling médio unidimensional\n",
    "        self.avg_po_c4 = nn.AvgPool1d(kernel_size=4, stride=2, padding=1)\n",
    "\n",
    "        # cria uma camada de achatamento. É usada para transformar a saída das \n",
    "        # camadas convolucionais em um vetor unidimensional\n",
    "        self.flt = nn.Flatten()\n",
    "\n",
    "        self.batch_norm2 = nn.BatchNorm1d(output_size)\n",
    "        self.dropout2 = nn.Dropout(dropout_output)\n",
    "        dense2 = nn.Linear(output_size, output_dim, bias=False)\n",
    "        self.dense2 = nn.utils.weight_norm(dense2)\n",
    "\n",
    "        # Calcula a perda durante o treinamento\n",
    "        self.loss = nn.BCEWithLogitsLoss()\n",
    "\n",
    "\n",
    "    # Define a passagem direta (forward pass) do modelo (como os dados fluem pelas camadas)\n",
    "    def forward(self, x):\n",
    "        x = self.batch_norm1(x)\n",
    "        x = self.dropout1(x)\n",
    "        x = nn.functional.celu(self.dense1(x))\n",
    "\n",
    "        x = x.reshape(x.shape[0], self.cha_input, self.sign_size1)\n",
    "\n",
    "        x = self.batch_norm_c1(x)\n",
    "        x = nn.functional.relu(self.conv1(x))\n",
    "\n",
    "        x = self.ave_po_c1(x)\n",
    "\n",
    "        x = self.batch_norm_c2(x)\n",
    "        x = self.dropout_c2(x)\n",
    "        x = nn.functional.relu(self.conv2(x))\n",
    "        x_s = x\n",
    "\n",
    "        x = self.batch_norm_c3(x)\n",
    "        x = self.dropout_c3(x)\n",
    "        x = nn.functional.relu(self.conv3(x))\n",
    "\n",
    "        x = self.batch_norm_c4(x)\n",
    "        x = self.conv4(x)\n",
    "        x =  x + x_s\n",
    "        x = nn.functional.relu(x)\n",
    "\n",
    "        x = self.avg_po_c4(x)\n",
    "\n",
    "        x = self.flt(x)\n",
    "\n",
    "        x = self.batch_norm2(x)\n",
    "        x = self.dropout2(x)\n",
    "        x = self.dense2(x)\n",
    "\n",
    "        return x\n",
    "\n",
    "    # Métricas\n",
    "    def roc_auc(self, y_pred, y_true):\n",
    "        # Calcula o ROC AUC usando sklearn.metrics.roc_auc_score\n",
    "        roc_auc = roc_auc_score(y_true.cpu(), torch.sigmoid(y_pred).cpu())\n",
    "        return torch.tensor(roc_auc)\n",
    "\n",
    "    def accuracy(self, y_pred, y_true):\n",
    "        # Arredonda as probabilidades previstas para obter as previsões binárias (0 ou 1)\n",
    "        y_pred_labels = torch.round(torch.sigmoid(y_pred))\n",
    "        # Calcula a acurácia usando sklearn.metrics.accuracy_score\n",
    "        acc = accuracy_score(y_true.cpu(), y_pred_labels.cpu())\n",
    "        return torch.tensor(acc)\n",
    "\n",
    "    def f1(self, y_pred, y_true):\n",
    "        # Arredonda as probabilidades previstas para obter as previsões binárias (0 ou 1)\n",
    "        y_pred_labels = torch.round(torch.sigmoid(y_pred))\n",
    "        # Calcula o F1-score usando sklearn.metrics.f1_score\n",
    "        f1score = f1_score(y_true.cpu(), y_pred_labels.cpu())\n",
    "        return torch.tensor(f1score)\n",
    "    \n",
    "    def calculate_confusion_matrix(self, y_pred, y_true):\n",
    "        # Arredonda as probabilidades previstas para obter as previsões binárias (0 ou 1)\n",
    "        y_pred_labels = torch.round(torch.sigmoid(y_pred))\n",
    "        # Calcula a matriz de confusão usando as previsões e os rótulos verdadeiros\n",
    "        cm = confusion_matrix(y_true.cpu(), y_pred_labels.cpu())\n",
    "        return cm\n",
    "    \n",
    "    def plot_confusion_matrix(self, cm):\n",
    "        plt.figure(figsize=(8, 6))\n",
    "        sns.heatmap(cm, annot=True, fmt=\"d\", cmap=\"Blues\", xticklabels=['0', '1'], yticklabels=['0', '1'])\n",
    "        plt.xlabel(\"Predicted Label\")\n",
    "        plt.ylabel(\"True Label\")\n",
    "        plt.title(\"Confusion Matrix\")\n",
    "        plt.show()\n",
    "        \n",
    "\n",
    "    # define os passos de treinamento do modelo.\n",
    "    def training_step(self, batch, batch_idx):\n",
    "        X, y = batch\n",
    "        y_hat = self.forward(X)\n",
    "        loss = self.loss(y_hat, y)\n",
    "        self.log('train_loss', loss)\n",
    "        return loss\n",
    "\n",
    "    def validation_step(self, batch, batch_idx):\n",
    "        X, y = batch\n",
    "        y_hat = self.forward(X)\n",
    "        loss = self.loss(y_hat, y)\n",
    "        \n",
    "        # Calcular métricas durante a validação\n",
    "        valid_auc = self.roc_auc(y_hat, y)\n",
    "        valid_acc = self.accuracy(y_hat, y)\n",
    "        valid_f1 = self.f1(y_hat, y)\n",
    "        \n",
    "        self.log('valid_loss', loss)\n",
    "        self.log('valid_auc', valid_auc, prog_bar=True)\n",
    "        self.log('valid_acc', valid_acc, prog_bar=True)\n",
    "        self.log('valid_f1', valid_f1, prog_bar=True)\n",
    "        \n",
    "    def test_step(self, batch, batch_idx):\n",
    "        X, y = batch\n",
    "        y_logit = self.forward(X)\n",
    "        y_probs = torch.sigmoid(y_logit).detach().cpu().numpy()\n",
    "        loss = self.loss(y_logit, y)\n",
    "\n",
    "        # Calcular métricas\n",
    "        roc_auc = self.roc_auc(y_logit, y)\n",
    "        acc = self.accuracy(y_logit, y)\n",
    "        f1score = self.f1(y_logit, y)\n",
    "        cm = self.calculate_confusion_matrix(y_logit, y)\n",
    "        \n",
    "        self.plot_confusion_matrix(cm) # Plotar e salvar a matriz de confusão\n",
    "        self.log('test_loss', loss)\n",
    "        self.log('test_auc', roc_auc)\n",
    "        self.log('test_acc', acc, prog_bar=True)\n",
    "        self.log('test_f1', f1score, prog_bar=True)\n",
    "        \n",
    "        \n",
    "    def configure_optimizers(self):\n",
    "        # Cria um otimizador SGD\n",
    "        optimizer = torch.optim.SGD(self.parameters(), lr=1e-2, momentum=0.9)\n",
    "        scheduler = {\n",
    "            'scheduler': ReduceLROnPlateau(\n",
    "                optimizer, \n",
    "                mode=\"min\", \n",
    "                factor=0.5, \n",
    "                patience=5, \n",
    "                min_lr=1e-5),\n",
    "            'interval': 'epoch',\n",
    "            'frequency': 1,\n",
    "            'reduce_on_plateau': True,\n",
    "            'monitor': 'valid_loss',\n",
    "        }\n",
    "        return [optimizer], [scheduler]"
   ]
  },
  {
   "cell_type": "code",
   "execution_count": 8,
   "metadata": {},
   "outputs": [
    {
     "name": "stderr",
     "output_type": "stream",
     "text": [
      "GPU available: True (cuda), used: True\n",
      "TPU available: False, using: 0 TPU cores\n",
      "IPU available: False, using: 0 IPUs\n",
      "HPU available: False, using: 0 HPUs\n"
     ]
    },
    {
     "name": "stdout",
     "output_type": "stream",
     "text": [
      "Número de atributos (input_dim): 40\n"
     ]
    },
    {
     "name": "stderr",
     "output_type": "stream",
     "text": [
      "c:\\Users\\willi\\AppData\\Local\\Programs\\Python\\Python311\\Lib\\site-packages\\pytorch_lightning\\trainer\\connectors\\logger_connector\\logger_connector.py:67: UserWarning: Starting from v1.9.0, `tensorboardX` has been removed as a dependency of the `pytorch_lightning` package, due to potential conflicts with other packages in the ML ecosystem. For this reason, `logger=True` will use `CSVLogger` as the default logger, unless the `tensorboard` or `tensorboardX` packages are found. Please `pip install lightning[extra]` or one of them to enable TensorBoard support by default\n",
      "  warning_cache.warn(\n"
     ]
    }
   ],
   "source": [
    "model = SoftOrdering1DCNN(\n",
    "    input_dim=len(input_features), \n",
    "    output_dim=1, \n",
    "    sign_size=16, \n",
    "    cha_input=64, \n",
    "    cha_hidden=64, \n",
    "    K=2, \n",
    "    dropout_input=0.3, \n",
    "    dropout_hidden=0.3, \n",
    "    dropout_output=0.2\n",
    ")\n",
    "print(\"Número de atributos (input_dim):\", len(input_features))\n",
    "\n",
    "# interromper o treinamento prematuramente se a métrica de validação não melhorar, após x épocas\n",
    "early_stop_callback = EarlyStopping(\n",
    "   monitor='valid_loss',\n",
    "   min_delta=.0,\n",
    "   patience=21,\n",
    "   verbose=True,\n",
    "   mode='min'\n",
    ")\n",
    "\n",
    "trainer = pl.Trainer(\n",
    "    callbacks=[early_stop_callback],\n",
    "    min_epochs=10, \n",
    "    max_epochs=200, \n",
    "    accelerator='gpu') # gpus=1"
   ]
  },
  {
   "cell_type": "code",
   "execution_count": 9,
   "metadata": {},
   "outputs": [
    {
     "name": "stderr",
     "output_type": "stream",
     "text": [
      "You are using a CUDA device ('NVIDIA GeForce RTX 3060 Ti') that has Tensor Cores. To properly utilize them, you should set `torch.set_float32_matmul_precision('medium' | 'high')` which will trade-off precision for performance. For more details, read https://pytorch.org/docs/stable/generated/torch.set_float32_matmul_precision.html#torch.set_float32_matmul_precision\n",
      "LOCAL_RANK: 0 - CUDA_VISIBLE_DEVICES: [0]\n",
      "\n",
      "   | Name          | Type              | Params\n",
      "-----------------------------------------------------\n",
      "0  | batch_norm1   | BatchNorm1d       | 80    \n",
      "1  | dropout1      | Dropout           | 0     \n",
      "2  | dense1        | Linear            | 42.0 K\n",
      "3  | batch_norm_c1 | BatchNorm1d       | 128   \n",
      "4  | conv1         | Conv1d            | 641   \n",
      "5  | ave_po_c1     | AdaptiveAvgPool1d | 0     \n",
      "6  | batch_norm_c2 | BatchNorm1d       | 256   \n",
      "7  | dropout_c2    | Dropout           | 0     \n",
      "8  | conv2         | Conv1d            | 24.6 K\n",
      "9  | batch_norm_c3 | BatchNorm1d       | 128   \n",
      "10 | dropout_c3    | Dropout           | 0     \n",
      "11 | conv3         | Conv1d            | 12.3 K\n",
      "12 | batch_norm_c4 | BatchNorm1d       | 128   \n",
      "13 | conv4         | Conv1d            | 321   \n",
      "14 | avg_po_c4     | AvgPool1d         | 0     \n",
      "15 | flt           | Flatten           | 0     \n",
      "16 | batch_norm2   | BatchNorm1d       | 512   \n",
      "17 | dropout2      | Dropout           | 0     \n",
      "18 | dense2        | Linear            | 257   \n",
      "19 | loss          | BCEWithLogitsLoss | 0     \n",
      "-----------------------------------------------------\n",
      "81.3 K    Trainable params\n",
      "0         Non-trainable params\n",
      "81.3 K    Total params\n",
      "0.325     Total estimated model params size (MB)\n"
     ]
    },
    {
     "data": {
      "application/vnd.jupyter.widget-view+json": {
       "model_id": "15d7350b47e84ac992c7dca2de84869f",
       "version_major": 2,
       "version_minor": 0
      },
      "text/plain": [
       "Sanity Checking: 0it [00:00, ?it/s]"
      ]
     },
     "metadata": {},
     "output_type": "display_data"
    },
    {
     "name": "stderr",
     "output_type": "stream",
     "text": [
      "c:\\Users\\willi\\AppData\\Local\\Programs\\Python\\Python311\\Lib\\site-packages\\pytorch_lightning\\loops\\fit_loop.py:280: PossibleUserWarning: The number of training batches (8) is smaller than the logging interval Trainer(log_every_n_steps=50). Set a lower value for log_every_n_steps if you want to see logs for the training epoch.\n",
      "  rank_zero_warn(\n"
     ]
    },
    {
     "data": {
      "application/vnd.jupyter.widget-view+json": {
       "model_id": "ce5236baf20b4f0c903dab72318441f5",
       "version_major": 2,
       "version_minor": 0
      },
      "text/plain": [
       "Training: 0it [00:00, ?it/s]"
      ]
     },
     "metadata": {},
     "output_type": "display_data"
    },
    {
     "data": {
      "application/vnd.jupyter.widget-view+json": {
       "model_id": "7919c1d725f54db5b0809108e9198456",
       "version_major": 2,
       "version_minor": 0
      },
      "text/plain": [
       "Validation: 0it [00:00, ?it/s]"
      ]
     },
     "metadata": {},
     "output_type": "display_data"
    },
    {
     "name": "stderr",
     "output_type": "stream",
     "text": [
      "Metric valid_loss improved. New best score: 0.693\n"
     ]
    },
    {
     "data": {
      "application/vnd.jupyter.widget-view+json": {
       "model_id": "365d5fc199ff474389f889bd10103e8b",
       "version_major": 2,
       "version_minor": 0
      },
      "text/plain": [
       "Validation: 0it [00:00, ?it/s]"
      ]
     },
     "metadata": {},
     "output_type": "display_data"
    },
    {
     "name": "stderr",
     "output_type": "stream",
     "text": [
      "Metric valid_loss improved by 0.039 >= min_delta = 0.0. New best score: 0.654\n"
     ]
    },
    {
     "data": {
      "application/vnd.jupyter.widget-view+json": {
       "model_id": "5ed188974b044c7e9891342890012f7f",
       "version_major": 2,
       "version_minor": 0
      },
      "text/plain": [
       "Validation: 0it [00:00, ?it/s]"
      ]
     },
     "metadata": {},
     "output_type": "display_data"
    },
    {
     "name": "stderr",
     "output_type": "stream",
     "text": [
      "Metric valid_loss improved by 0.071 >= min_delta = 0.0. New best score: 0.584\n"
     ]
    },
    {
     "data": {
      "application/vnd.jupyter.widget-view+json": {
       "model_id": "044134e066e14c9fa135650cb2c42bb5",
       "version_major": 2,
       "version_minor": 0
      },
      "text/plain": [
       "Validation: 0it [00:00, ?it/s]"
      ]
     },
     "metadata": {},
     "output_type": "display_data"
    },
    {
     "name": "stderr",
     "output_type": "stream",
     "text": [
      "Metric valid_loss improved by 0.066 >= min_delta = 0.0. New best score: 0.518\n"
     ]
    },
    {
     "data": {
      "application/vnd.jupyter.widget-view+json": {
       "model_id": "21148df896c046098e69d2ea1c1eda45",
       "version_major": 2,
       "version_minor": 0
      },
      "text/plain": [
       "Validation: 0it [00:00, ?it/s]"
      ]
     },
     "metadata": {},
     "output_type": "display_data"
    },
    {
     "name": "stderr",
     "output_type": "stream",
     "text": [
      "Metric valid_loss improved by 0.040 >= min_delta = 0.0. New best score: 0.477\n"
     ]
    },
    {
     "data": {
      "application/vnd.jupyter.widget-view+json": {
       "model_id": "98b2bb93d4bc48779236453dde0eb600",
       "version_major": 2,
       "version_minor": 0
      },
      "text/plain": [
       "Validation: 0it [00:00, ?it/s]"
      ]
     },
     "metadata": {},
     "output_type": "display_data"
    },
    {
     "name": "stderr",
     "output_type": "stream",
     "text": [
      "Metric valid_loss improved by 0.022 >= min_delta = 0.0. New best score: 0.456\n"
     ]
    },
    {
     "data": {
      "application/vnd.jupyter.widget-view+json": {
       "model_id": "be5ecbf7d3da4708ac3daff3385c3c25",
       "version_major": 2,
       "version_minor": 0
      },
      "text/plain": [
       "Validation: 0it [00:00, ?it/s]"
      ]
     },
     "metadata": {},
     "output_type": "display_data"
    },
    {
     "name": "stderr",
     "output_type": "stream",
     "text": [
      "Metric valid_loss improved by 0.011 >= min_delta = 0.0. New best score: 0.445\n"
     ]
    },
    {
     "data": {
      "application/vnd.jupyter.widget-view+json": {
       "model_id": "ecf4545bfc334b8e9f260619b4234b62",
       "version_major": 2,
       "version_minor": 0
      },
      "text/plain": [
       "Validation: 0it [00:00, ?it/s]"
      ]
     },
     "metadata": {},
     "output_type": "display_data"
    },
    {
     "name": "stderr",
     "output_type": "stream",
     "text": [
      "Metric valid_loss improved by 0.007 >= min_delta = 0.0. New best score: 0.438\n"
     ]
    },
    {
     "data": {
      "application/vnd.jupyter.widget-view+json": {
       "model_id": "07453c7607b04217aa92d997961c4cbc",
       "version_major": 2,
       "version_minor": 0
      },
      "text/plain": [
       "Validation: 0it [00:00, ?it/s]"
      ]
     },
     "metadata": {},
     "output_type": "display_data"
    },
    {
     "name": "stderr",
     "output_type": "stream",
     "text": [
      "Metric valid_loss improved by 0.005 >= min_delta = 0.0. New best score: 0.433\n"
     ]
    },
    {
     "data": {
      "application/vnd.jupyter.widget-view+json": {
       "model_id": "30f5f609294741cd8c67b53c2f2fd6c5",
       "version_major": 2,
       "version_minor": 0
      },
      "text/plain": [
       "Validation: 0it [00:00, ?it/s]"
      ]
     },
     "metadata": {},
     "output_type": "display_data"
    },
    {
     "name": "stderr",
     "output_type": "stream",
     "text": [
      "Metric valid_loss improved by 0.005 >= min_delta = 0.0. New best score: 0.428\n"
     ]
    },
    {
     "data": {
      "application/vnd.jupyter.widget-view+json": {
       "model_id": "8c84a797d7b9493698a1d073812f4e7f",
       "version_major": 2,
       "version_minor": 0
      },
      "text/plain": [
       "Validation: 0it [00:00, ?it/s]"
      ]
     },
     "metadata": {},
     "output_type": "display_data"
    },
    {
     "name": "stderr",
     "output_type": "stream",
     "text": [
      "Metric valid_loss improved by 0.003 >= min_delta = 0.0. New best score: 0.425\n"
     ]
    },
    {
     "data": {
      "application/vnd.jupyter.widget-view+json": {
       "model_id": "6b85fb06d2364aa89c34c8d2d8891220",
       "version_major": 2,
       "version_minor": 0
      },
      "text/plain": [
       "Validation: 0it [00:00, ?it/s]"
      ]
     },
     "metadata": {},
     "output_type": "display_data"
    },
    {
     "name": "stderr",
     "output_type": "stream",
     "text": [
      "Metric valid_loss improved by 0.004 >= min_delta = 0.0. New best score: 0.421\n"
     ]
    },
    {
     "data": {
      "application/vnd.jupyter.widget-view+json": {
       "model_id": "3b165114047f4eb38cbb335ab165f6d6",
       "version_major": 2,
       "version_minor": 0
      },
      "text/plain": [
       "Validation: 0it [00:00, ?it/s]"
      ]
     },
     "metadata": {},
     "output_type": "display_data"
    },
    {
     "name": "stderr",
     "output_type": "stream",
     "text": [
      "Metric valid_loss improved by 0.004 >= min_delta = 0.0. New best score: 0.417\n"
     ]
    },
    {
     "data": {
      "application/vnd.jupyter.widget-view+json": {
       "model_id": "485f0f87315a4b51b9d6e2ca059f52c6",
       "version_major": 2,
       "version_minor": 0
      },
      "text/plain": [
       "Validation: 0it [00:00, ?it/s]"
      ]
     },
     "metadata": {},
     "output_type": "display_data"
    },
    {
     "name": "stderr",
     "output_type": "stream",
     "text": [
      "Metric valid_loss improved by 0.002 >= min_delta = 0.0. New best score: 0.415\n"
     ]
    },
    {
     "data": {
      "application/vnd.jupyter.widget-view+json": {
       "model_id": "1f09d6c6e0cf4dbabcc6f267c09050fc",
       "version_major": 2,
       "version_minor": 0
      },
      "text/plain": [
       "Validation: 0it [00:00, ?it/s]"
      ]
     },
     "metadata": {},
     "output_type": "display_data"
    },
    {
     "name": "stderr",
     "output_type": "stream",
     "text": [
      "Metric valid_loss improved by 0.002 >= min_delta = 0.0. New best score: 0.413\n"
     ]
    },
    {
     "data": {
      "application/vnd.jupyter.widget-view+json": {
       "model_id": "d58bb7e89e1f4504a2cfba4c0ad903eb",
       "version_major": 2,
       "version_minor": 0
      },
      "text/plain": [
       "Validation: 0it [00:00, ?it/s]"
      ]
     },
     "metadata": {},
     "output_type": "display_data"
    },
    {
     "name": "stderr",
     "output_type": "stream",
     "text": [
      "Metric valid_loss improved by 0.003 >= min_delta = 0.0. New best score: 0.410\n"
     ]
    },
    {
     "data": {
      "application/vnd.jupyter.widget-view+json": {
       "model_id": "517af2c6474b4a9ba7387464dfcb1278",
       "version_major": 2,
       "version_minor": 0
      },
      "text/plain": [
       "Validation: 0it [00:00, ?it/s]"
      ]
     },
     "metadata": {},
     "output_type": "display_data"
    },
    {
     "name": "stderr",
     "output_type": "stream",
     "text": [
      "Metric valid_loss improved by 0.001 >= min_delta = 0.0. New best score: 0.409\n"
     ]
    },
    {
     "data": {
      "application/vnd.jupyter.widget-view+json": {
       "model_id": "63571832260f4729a83f9994e0c50eef",
       "version_major": 2,
       "version_minor": 0
      },
      "text/plain": [
       "Validation: 0it [00:00, ?it/s]"
      ]
     },
     "metadata": {},
     "output_type": "display_data"
    },
    {
     "name": "stderr",
     "output_type": "stream",
     "text": [
      "Metric valid_loss improved by 0.001 >= min_delta = 0.0. New best score: 0.408\n"
     ]
    },
    {
     "data": {
      "application/vnd.jupyter.widget-view+json": {
       "model_id": "7465373649dd44869aeb00ef1eb612f4",
       "version_major": 2,
       "version_minor": 0
      },
      "text/plain": [
       "Validation: 0it [00:00, ?it/s]"
      ]
     },
     "metadata": {},
     "output_type": "display_data"
    },
    {
     "name": "stderr",
     "output_type": "stream",
     "text": [
      "Metric valid_loss improved by 0.002 >= min_delta = 0.0. New best score: 0.406\n"
     ]
    },
    {
     "data": {
      "application/vnd.jupyter.widget-view+json": {
       "model_id": "862f677a560a4495ae55233f57f1b2d6",
       "version_major": 2,
       "version_minor": 0
      },
      "text/plain": [
       "Validation: 0it [00:00, ?it/s]"
      ]
     },
     "metadata": {},
     "output_type": "display_data"
    },
    {
     "name": "stderr",
     "output_type": "stream",
     "text": [
      "Metric valid_loss improved by 0.000 >= min_delta = 0.0. New best score: 0.406\n"
     ]
    },
    {
     "data": {
      "application/vnd.jupyter.widget-view+json": {
       "model_id": "eb78c501c85d475c9ef4af7cfdcd09ae",
       "version_major": 2,
       "version_minor": 0
      },
      "text/plain": [
       "Validation: 0it [00:00, ?it/s]"
      ]
     },
     "metadata": {},
     "output_type": "display_data"
    },
    {
     "name": "stderr",
     "output_type": "stream",
     "text": [
      "Metric valid_loss improved by 0.002 >= min_delta = 0.0. New best score: 0.404\n"
     ]
    },
    {
     "data": {
      "application/vnd.jupyter.widget-view+json": {
       "model_id": "c3d1912cff5e43e0a565045b154d436f",
       "version_major": 2,
       "version_minor": 0
      },
      "text/plain": [
       "Validation: 0it [00:00, ?it/s]"
      ]
     },
     "metadata": {},
     "output_type": "display_data"
    },
    {
     "name": "stderr",
     "output_type": "stream",
     "text": [
      "Metric valid_loss improved by 0.001 >= min_delta = 0.0. New best score: 0.403\n"
     ]
    },
    {
     "data": {
      "application/vnd.jupyter.widget-view+json": {
       "model_id": "2868f93c5dfc4b9496e3ab49fd3117c9",
       "version_major": 2,
       "version_minor": 0
      },
      "text/plain": [
       "Validation: 0it [00:00, ?it/s]"
      ]
     },
     "metadata": {},
     "output_type": "display_data"
    },
    {
     "name": "stderr",
     "output_type": "stream",
     "text": [
      "Metric valid_loss improved by 0.002 >= min_delta = 0.0. New best score: 0.401\n"
     ]
    },
    {
     "data": {
      "application/vnd.jupyter.widget-view+json": {
       "model_id": "d1fdf9be650f403392e2d9df9c61876c",
       "version_major": 2,
       "version_minor": 0
      },
      "text/plain": [
       "Validation: 0it [00:00, ?it/s]"
      ]
     },
     "metadata": {},
     "output_type": "display_data"
    },
    {
     "name": "stderr",
     "output_type": "stream",
     "text": [
      "Metric valid_loss improved by 0.001 >= min_delta = 0.0. New best score: 0.400\n"
     ]
    },
    {
     "data": {
      "application/vnd.jupyter.widget-view+json": {
       "model_id": "45251fb74cba42f1bdd736cb50d1e790",
       "version_major": 2,
       "version_minor": 0
      },
      "text/plain": [
       "Validation: 0it [00:00, ?it/s]"
      ]
     },
     "metadata": {},
     "output_type": "display_data"
    },
    {
     "name": "stderr",
     "output_type": "stream",
     "text": [
      "Metric valid_loss improved by 0.001 >= min_delta = 0.0. New best score: 0.399\n"
     ]
    },
    {
     "data": {
      "application/vnd.jupyter.widget-view+json": {
       "model_id": "a22d7137b94e4ed6ad6a71bfae58e41f",
       "version_major": 2,
       "version_minor": 0
      },
      "text/plain": [
       "Validation: 0it [00:00, ?it/s]"
      ]
     },
     "metadata": {},
     "output_type": "display_data"
    },
    {
     "name": "stderr",
     "output_type": "stream",
     "text": [
      "Metric valid_loss improved by 0.000 >= min_delta = 0.0. New best score: 0.399\n"
     ]
    },
    {
     "data": {
      "application/vnd.jupyter.widget-view+json": {
       "model_id": "f645ef87aad44df494e49cd615ce306c",
       "version_major": 2,
       "version_minor": 0
      },
      "text/plain": [
       "Validation: 0it [00:00, ?it/s]"
      ]
     },
     "metadata": {},
     "output_type": "display_data"
    },
    {
     "name": "stderr",
     "output_type": "stream",
     "text": [
      "Metric valid_loss improved by 0.000 >= min_delta = 0.0. New best score: 0.399\n"
     ]
    },
    {
     "data": {
      "application/vnd.jupyter.widget-view+json": {
       "model_id": "47c83b505bae455284e7db46b360a231",
       "version_major": 2,
       "version_minor": 0
      },
      "text/plain": [
       "Validation: 0it [00:00, ?it/s]"
      ]
     },
     "metadata": {},
     "output_type": "display_data"
    },
    {
     "data": {
      "application/vnd.jupyter.widget-view+json": {
       "model_id": "725d40fd53c04aeb8aeac8c662f068db",
       "version_major": 2,
       "version_minor": 0
      },
      "text/plain": [
       "Validation: 0it [00:00, ?it/s]"
      ]
     },
     "metadata": {},
     "output_type": "display_data"
    },
    {
     "name": "stderr",
     "output_type": "stream",
     "text": [
      "Metric valid_loss improved by 0.002 >= min_delta = 0.0. New best score: 0.397\n"
     ]
    },
    {
     "data": {
      "application/vnd.jupyter.widget-view+json": {
       "model_id": "6349e05212ce4b3d9411d8e5d5bc7610",
       "version_major": 2,
       "version_minor": 0
      },
      "text/plain": [
       "Validation: 0it [00:00, ?it/s]"
      ]
     },
     "metadata": {},
     "output_type": "display_data"
    },
    {
     "name": "stderr",
     "output_type": "stream",
     "text": [
      "Metric valid_loss improved by 0.001 >= min_delta = 0.0. New best score: 0.396\n"
     ]
    },
    {
     "data": {
      "application/vnd.jupyter.widget-view+json": {
       "model_id": "75361545f8ea49b19ff763f3619ecf40",
       "version_major": 2,
       "version_minor": 0
      },
      "text/plain": [
       "Validation: 0it [00:00, ?it/s]"
      ]
     },
     "metadata": {},
     "output_type": "display_data"
    },
    {
     "name": "stderr",
     "output_type": "stream",
     "text": [
      "Metric valid_loss improved by 0.001 >= min_delta = 0.0. New best score: 0.395\n"
     ]
    },
    {
     "data": {
      "application/vnd.jupyter.widget-view+json": {
       "model_id": "152b78e4deab412bbe4cf262b7f48478",
       "version_major": 2,
       "version_minor": 0
      },
      "text/plain": [
       "Validation: 0it [00:00, ?it/s]"
      ]
     },
     "metadata": {},
     "output_type": "display_data"
    },
    {
     "data": {
      "application/vnd.jupyter.widget-view+json": {
       "model_id": "33c0b3e5aee342d193dfcd9762105e3d",
       "version_major": 2,
       "version_minor": 0
      },
      "text/plain": [
       "Validation: 0it [00:00, ?it/s]"
      ]
     },
     "metadata": {},
     "output_type": "display_data"
    },
    {
     "name": "stderr",
     "output_type": "stream",
     "text": [
      "Metric valid_loss improved by 0.000 >= min_delta = 0.0. New best score: 0.395\n"
     ]
    },
    {
     "data": {
      "application/vnd.jupyter.widget-view+json": {
       "model_id": "5ef12cf5706a4070abdaa5f4559b9356",
       "version_major": 2,
       "version_minor": 0
      },
      "text/plain": [
       "Validation: 0it [00:00, ?it/s]"
      ]
     },
     "metadata": {},
     "output_type": "display_data"
    },
    {
     "name": "stderr",
     "output_type": "stream",
     "text": [
      "Metric valid_loss improved by 0.001 >= min_delta = 0.0. New best score: 0.394\n"
     ]
    },
    {
     "data": {
      "application/vnd.jupyter.widget-view+json": {
       "model_id": "70c29d52e56e4e939a1fc389a6f3d237",
       "version_major": 2,
       "version_minor": 0
      },
      "text/plain": [
       "Validation: 0it [00:00, ?it/s]"
      ]
     },
     "metadata": {},
     "output_type": "display_data"
    },
    {
     "data": {
      "application/vnd.jupyter.widget-view+json": {
       "model_id": "753611e75057457abc640dc0d6d5c77c",
       "version_major": 2,
       "version_minor": 0
      },
      "text/plain": [
       "Validation: 0it [00:00, ?it/s]"
      ]
     },
     "metadata": {},
     "output_type": "display_data"
    },
    {
     "data": {
      "application/vnd.jupyter.widget-view+json": {
       "model_id": "2f852f76b9c54353abcd84b50bea54f1",
       "version_major": 2,
       "version_minor": 0
      },
      "text/plain": [
       "Validation: 0it [00:00, ?it/s]"
      ]
     },
     "metadata": {},
     "output_type": "display_data"
    },
    {
     "name": "stderr",
     "output_type": "stream",
     "text": [
      "Metric valid_loss improved by 0.001 >= min_delta = 0.0. New best score: 0.393\n"
     ]
    },
    {
     "data": {
      "application/vnd.jupyter.widget-view+json": {
       "model_id": "30eeced0c35a4f3189449214d017cffc",
       "version_major": 2,
       "version_minor": 0
      },
      "text/plain": [
       "Validation: 0it [00:00, ?it/s]"
      ]
     },
     "metadata": {},
     "output_type": "display_data"
    },
    {
     "name": "stderr",
     "output_type": "stream",
     "text": [
      "Metric valid_loss improved by 0.000 >= min_delta = 0.0. New best score: 0.393\n"
     ]
    },
    {
     "data": {
      "application/vnd.jupyter.widget-view+json": {
       "model_id": "1be7278e89f7445aaffd25b49eac19b7",
       "version_major": 2,
       "version_minor": 0
      },
      "text/plain": [
       "Validation: 0it [00:00, ?it/s]"
      ]
     },
     "metadata": {},
     "output_type": "display_data"
    },
    {
     "name": "stderr",
     "output_type": "stream",
     "text": [
      "Metric valid_loss improved by 0.001 >= min_delta = 0.0. New best score: 0.393\n"
     ]
    },
    {
     "data": {
      "application/vnd.jupyter.widget-view+json": {
       "model_id": "a9287792b88544a789838ad1aaa64d03",
       "version_major": 2,
       "version_minor": 0
      },
      "text/plain": [
       "Validation: 0it [00:00, ?it/s]"
      ]
     },
     "metadata": {},
     "output_type": "display_data"
    },
    {
     "name": "stderr",
     "output_type": "stream",
     "text": [
      "Metric valid_loss improved by 0.001 >= min_delta = 0.0. New best score: 0.392\n"
     ]
    },
    {
     "data": {
      "application/vnd.jupyter.widget-view+json": {
       "model_id": "e985331e247647d5a0b810967a99d3be",
       "version_major": 2,
       "version_minor": 0
      },
      "text/plain": [
       "Validation: 0it [00:00, ?it/s]"
      ]
     },
     "metadata": {},
     "output_type": "display_data"
    },
    {
     "data": {
      "application/vnd.jupyter.widget-view+json": {
       "model_id": "730022319d724ae597cfc388d7156896",
       "version_major": 2,
       "version_minor": 0
      },
      "text/plain": [
       "Validation: 0it [00:00, ?it/s]"
      ]
     },
     "metadata": {},
     "output_type": "display_data"
    },
    {
     "name": "stderr",
     "output_type": "stream",
     "text": [
      "Metric valid_loss improved by 0.001 >= min_delta = 0.0. New best score: 0.391\n"
     ]
    },
    {
     "data": {
      "application/vnd.jupyter.widget-view+json": {
       "model_id": "17dcd27fa2f14d91bf3232f936ebd24c",
       "version_major": 2,
       "version_minor": 0
      },
      "text/plain": [
       "Validation: 0it [00:00, ?it/s]"
      ]
     },
     "metadata": {},
     "output_type": "display_data"
    },
    {
     "data": {
      "application/vnd.jupyter.widget-view+json": {
       "model_id": "a89dff64ef884a17b973706579d23781",
       "version_major": 2,
       "version_minor": 0
      },
      "text/plain": [
       "Validation: 0it [00:00, ?it/s]"
      ]
     },
     "metadata": {},
     "output_type": "display_data"
    },
    {
     "data": {
      "application/vnd.jupyter.widget-view+json": {
       "model_id": "aaf6091ebb514b83af7933eb7175cfe7",
       "version_major": 2,
       "version_minor": 0
      },
      "text/plain": [
       "Validation: 0it [00:00, ?it/s]"
      ]
     },
     "metadata": {},
     "output_type": "display_data"
    },
    {
     "name": "stderr",
     "output_type": "stream",
     "text": [
      "Metric valid_loss improved by 0.000 >= min_delta = 0.0. New best score: 0.391\n"
     ]
    },
    {
     "data": {
      "application/vnd.jupyter.widget-view+json": {
       "model_id": "96e709f90dac4db0a8a1bd719adc9d7f",
       "version_major": 2,
       "version_minor": 0
      },
      "text/plain": [
       "Validation: 0it [00:00, ?it/s]"
      ]
     },
     "metadata": {},
     "output_type": "display_data"
    },
    {
     "name": "stderr",
     "output_type": "stream",
     "text": [
      "Metric valid_loss improved by 0.000 >= min_delta = 0.0. New best score: 0.391\n"
     ]
    },
    {
     "data": {
      "application/vnd.jupyter.widget-view+json": {
       "model_id": "69d99183e7d345fb8dc2011c9a10656d",
       "version_major": 2,
       "version_minor": 0
      },
      "text/plain": [
       "Validation: 0it [00:00, ?it/s]"
      ]
     },
     "metadata": {},
     "output_type": "display_data"
    },
    {
     "name": "stderr",
     "output_type": "stream",
     "text": [
      "Metric valid_loss improved by 0.001 >= min_delta = 0.0. New best score: 0.390\n"
     ]
    },
    {
     "data": {
      "application/vnd.jupyter.widget-view+json": {
       "model_id": "c8740a56271943d9b4058cfffb9873bb",
       "version_major": 2,
       "version_minor": 0
      },
      "text/plain": [
       "Validation: 0it [00:00, ?it/s]"
      ]
     },
     "metadata": {},
     "output_type": "display_data"
    },
    {
     "name": "stderr",
     "output_type": "stream",
     "text": [
      "Metric valid_loss improved by 0.001 >= min_delta = 0.0. New best score: 0.389\n"
     ]
    },
    {
     "data": {
      "application/vnd.jupyter.widget-view+json": {
       "model_id": "5e70802805af483685303cb1d40e5a79",
       "version_major": 2,
       "version_minor": 0
      },
      "text/plain": [
       "Validation: 0it [00:00, ?it/s]"
      ]
     },
     "metadata": {},
     "output_type": "display_data"
    },
    {
     "data": {
      "application/vnd.jupyter.widget-view+json": {
       "model_id": "36c543c9a3844cb5b67503bf0de9602a",
       "version_major": 2,
       "version_minor": 0
      },
      "text/plain": [
       "Validation: 0it [00:00, ?it/s]"
      ]
     },
     "metadata": {},
     "output_type": "display_data"
    },
    {
     "data": {
      "application/vnd.jupyter.widget-view+json": {
       "model_id": "a2ebc5760cd8470fb3cbeabd982f06bb",
       "version_major": 2,
       "version_minor": 0
      },
      "text/plain": [
       "Validation: 0it [00:00, ?it/s]"
      ]
     },
     "metadata": {},
     "output_type": "display_data"
    },
    {
     "data": {
      "application/vnd.jupyter.widget-view+json": {
       "model_id": "6a08c5b7385441139494337bc9c7cb21",
       "version_major": 2,
       "version_minor": 0
      },
      "text/plain": [
       "Validation: 0it [00:00, ?it/s]"
      ]
     },
     "metadata": {},
     "output_type": "display_data"
    },
    {
     "name": "stderr",
     "output_type": "stream",
     "text": [
      "Metric valid_loss improved by 0.000 >= min_delta = 0.0. New best score: 0.389\n"
     ]
    },
    {
     "data": {
      "application/vnd.jupyter.widget-view+json": {
       "model_id": "f2af15d2d4aa45d1a8e7bd8f02624ee8",
       "version_major": 2,
       "version_minor": 0
      },
      "text/plain": [
       "Validation: 0it [00:00, ?it/s]"
      ]
     },
     "metadata": {},
     "output_type": "display_data"
    },
    {
     "data": {
      "application/vnd.jupyter.widget-view+json": {
       "model_id": "497a1e1fc6ba4bc0ab4fe28b3d0ea9f8",
       "version_major": 2,
       "version_minor": 0
      },
      "text/plain": [
       "Validation: 0it [00:00, ?it/s]"
      ]
     },
     "metadata": {},
     "output_type": "display_data"
    },
    {
     "name": "stderr",
     "output_type": "stream",
     "text": [
      "Metric valid_loss improved by 0.001 >= min_delta = 0.0. New best score: 0.388\n"
     ]
    },
    {
     "data": {
      "application/vnd.jupyter.widget-view+json": {
       "model_id": "9f79960f0cae4ae39e35c883827e6312",
       "version_major": 2,
       "version_minor": 0
      },
      "text/plain": [
       "Validation: 0it [00:00, ?it/s]"
      ]
     },
     "metadata": {},
     "output_type": "display_data"
    },
    {
     "name": "stderr",
     "output_type": "stream",
     "text": [
      "Metric valid_loss improved by 0.000 >= min_delta = 0.0. New best score: 0.388\n"
     ]
    },
    {
     "data": {
      "application/vnd.jupyter.widget-view+json": {
       "model_id": "04097353850e44878813d41b6d94432d",
       "version_major": 2,
       "version_minor": 0
      },
      "text/plain": [
       "Validation: 0it [00:00, ?it/s]"
      ]
     },
     "metadata": {},
     "output_type": "display_data"
    },
    {
     "data": {
      "application/vnd.jupyter.widget-view+json": {
       "model_id": "4fcce7a921434511a36ca4546f9f7f7a",
       "version_major": 2,
       "version_minor": 0
      },
      "text/plain": [
       "Validation: 0it [00:00, ?it/s]"
      ]
     },
     "metadata": {},
     "output_type": "display_data"
    },
    {
     "data": {
      "application/vnd.jupyter.widget-view+json": {
       "model_id": "493869af550e4e33b21172ae5a006106",
       "version_major": 2,
       "version_minor": 0
      },
      "text/plain": [
       "Validation: 0it [00:00, ?it/s]"
      ]
     },
     "metadata": {},
     "output_type": "display_data"
    },
    {
     "name": "stderr",
     "output_type": "stream",
     "text": [
      "Metric valid_loss improved by 0.000 >= min_delta = 0.0. New best score: 0.387\n"
     ]
    },
    {
     "data": {
      "application/vnd.jupyter.widget-view+json": {
       "model_id": "90044749c57c4f3f83f6322e9f98e867",
       "version_major": 2,
       "version_minor": 0
      },
      "text/plain": [
       "Validation: 0it [00:00, ?it/s]"
      ]
     },
     "metadata": {},
     "output_type": "display_data"
    },
    {
     "name": "stderr",
     "output_type": "stream",
     "text": [
      "Metric valid_loss improved by 0.000 >= min_delta = 0.0. New best score: 0.387\n"
     ]
    },
    {
     "data": {
      "application/vnd.jupyter.widget-view+json": {
       "model_id": "c8afa79d04a9434f83928cc2a860fe08",
       "version_major": 2,
       "version_minor": 0
      },
      "text/plain": [
       "Validation: 0it [00:00, ?it/s]"
      ]
     },
     "metadata": {},
     "output_type": "display_data"
    },
    {
     "data": {
      "application/vnd.jupyter.widget-view+json": {
       "model_id": "1bcb7b3bb1f141178bd9b43c972ca037",
       "version_major": 2,
       "version_minor": 0
      },
      "text/plain": [
       "Validation: 0it [00:00, ?it/s]"
      ]
     },
     "metadata": {},
     "output_type": "display_data"
    },
    {
     "data": {
      "application/vnd.jupyter.widget-view+json": {
       "model_id": "6dcb2cbf01b84917b1e7e02ec897b5ad",
       "version_major": 2,
       "version_minor": 0
      },
      "text/plain": [
       "Validation: 0it [00:00, ?it/s]"
      ]
     },
     "metadata": {},
     "output_type": "display_data"
    },
    {
     "data": {
      "application/vnd.jupyter.widget-view+json": {
       "model_id": "d4ae45b5d21d44b3a371c7a802b783eb",
       "version_major": 2,
       "version_minor": 0
      },
      "text/plain": [
       "Validation: 0it [00:00, ?it/s]"
      ]
     },
     "metadata": {},
     "output_type": "display_data"
    },
    {
     "data": {
      "application/vnd.jupyter.widget-view+json": {
       "model_id": "aba29c9b00c5479a9540da442b3844b3",
       "version_major": 2,
       "version_minor": 0
      },
      "text/plain": [
       "Validation: 0it [00:00, ?it/s]"
      ]
     },
     "metadata": {},
     "output_type": "display_data"
    },
    {
     "name": "stderr",
     "output_type": "stream",
     "text": [
      "Metric valid_loss improved by 0.000 >= min_delta = 0.0. New best score: 0.387\n"
     ]
    },
    {
     "data": {
      "application/vnd.jupyter.widget-view+json": {
       "model_id": "a899f7398f4a4d35a28e3fb2e471bd37",
       "version_major": 2,
       "version_minor": 0
      },
      "text/plain": [
       "Validation: 0it [00:00, ?it/s]"
      ]
     },
     "metadata": {},
     "output_type": "display_data"
    },
    {
     "name": "stderr",
     "output_type": "stream",
     "text": [
      "Metric valid_loss improved by 0.001 >= min_delta = 0.0. New best score: 0.386\n"
     ]
    },
    {
     "data": {
      "application/vnd.jupyter.widget-view+json": {
       "model_id": "331e2b0b66cc4c4688129fc4b31c1a60",
       "version_major": 2,
       "version_minor": 0
      },
      "text/plain": [
       "Validation: 0it [00:00, ?it/s]"
      ]
     },
     "metadata": {},
     "output_type": "display_data"
    },
    {
     "data": {
      "application/vnd.jupyter.widget-view+json": {
       "model_id": "6e959d60658a491c85b6b609414f92ba",
       "version_major": 2,
       "version_minor": 0
      },
      "text/plain": [
       "Validation: 0it [00:00, ?it/s]"
      ]
     },
     "metadata": {},
     "output_type": "display_data"
    },
    {
     "data": {
      "application/vnd.jupyter.widget-view+json": {
       "model_id": "9a397d1151934e438391c29b2b0c4ef2",
       "version_major": 2,
       "version_minor": 0
      },
      "text/plain": [
       "Validation: 0it [00:00, ?it/s]"
      ]
     },
     "metadata": {},
     "output_type": "display_data"
    },
    {
     "data": {
      "application/vnd.jupyter.widget-view+json": {
       "model_id": "f9d22571abd0454baea70205d152226e",
       "version_major": 2,
       "version_minor": 0
      },
      "text/plain": [
       "Validation: 0it [00:00, ?it/s]"
      ]
     },
     "metadata": {},
     "output_type": "display_data"
    },
    {
     "data": {
      "application/vnd.jupyter.widget-view+json": {
       "model_id": "9eb24cf66bf54266a5c47ab8128f8512",
       "version_major": 2,
       "version_minor": 0
      },
      "text/plain": [
       "Validation: 0it [00:00, ?it/s]"
      ]
     },
     "metadata": {},
     "output_type": "display_data"
    },
    {
     "data": {
      "application/vnd.jupyter.widget-view+json": {
       "model_id": "f4cc230a5a194809b29615c90bac3141",
       "version_major": 2,
       "version_minor": 0
      },
      "text/plain": [
       "Validation: 0it [00:00, ?it/s]"
      ]
     },
     "metadata": {},
     "output_type": "display_data"
    },
    {
     "name": "stderr",
     "output_type": "stream",
     "text": [
      "Metric valid_loss improved by 0.000 >= min_delta = 0.0. New best score: 0.386\n"
     ]
    },
    {
     "data": {
      "application/vnd.jupyter.widget-view+json": {
       "model_id": "accdff0cbe2d4fed99024fae164dac0d",
       "version_major": 2,
       "version_minor": 0
      },
      "text/plain": [
       "Validation: 0it [00:00, ?it/s]"
      ]
     },
     "metadata": {},
     "output_type": "display_data"
    },
    {
     "name": "stderr",
     "output_type": "stream",
     "text": [
      "Metric valid_loss improved by 0.000 >= min_delta = 0.0. New best score: 0.386\n"
     ]
    },
    {
     "data": {
      "application/vnd.jupyter.widget-view+json": {
       "model_id": "426829600e0640648631f438f004374e",
       "version_major": 2,
       "version_minor": 0
      },
      "text/plain": [
       "Validation: 0it [00:00, ?it/s]"
      ]
     },
     "metadata": {},
     "output_type": "display_data"
    },
    {
     "name": "stderr",
     "output_type": "stream",
     "text": [
      "Metric valid_loss improved by 0.001 >= min_delta = 0.0. New best score: 0.385\n"
     ]
    },
    {
     "data": {
      "application/vnd.jupyter.widget-view+json": {
       "model_id": "267482ae80874d87926b79f86ea6e947",
       "version_major": 2,
       "version_minor": 0
      },
      "text/plain": [
       "Validation: 0it [00:00, ?it/s]"
      ]
     },
     "metadata": {},
     "output_type": "display_data"
    },
    {
     "name": "stderr",
     "output_type": "stream",
     "text": [
      "Metric valid_loss improved by 0.000 >= min_delta = 0.0. New best score: 0.385\n"
     ]
    },
    {
     "data": {
      "application/vnd.jupyter.widget-view+json": {
       "model_id": "f58d16118a504b4aa0372b54905432ea",
       "version_major": 2,
       "version_minor": 0
      },
      "text/plain": [
       "Validation: 0it [00:00, ?it/s]"
      ]
     },
     "metadata": {},
     "output_type": "display_data"
    },
    {
     "data": {
      "application/vnd.jupyter.widget-view+json": {
       "model_id": "7aed6ec62b7845c49b31c37f4eeb9e4c",
       "version_major": 2,
       "version_minor": 0
      },
      "text/plain": [
       "Validation: 0it [00:00, ?it/s]"
      ]
     },
     "metadata": {},
     "output_type": "display_data"
    },
    {
     "data": {
      "application/vnd.jupyter.widget-view+json": {
       "model_id": "cbd2f4142ab8480eb01bdd2e4f39d9e4",
       "version_major": 2,
       "version_minor": 0
      },
      "text/plain": [
       "Validation: 0it [00:00, ?it/s]"
      ]
     },
     "metadata": {},
     "output_type": "display_data"
    },
    {
     "data": {
      "application/vnd.jupyter.widget-view+json": {
       "model_id": "8520e2b104db4043819de18e7d2081eb",
       "version_major": 2,
       "version_minor": 0
      },
      "text/plain": [
       "Validation: 0it [00:00, ?it/s]"
      ]
     },
     "metadata": {},
     "output_type": "display_data"
    },
    {
     "data": {
      "application/vnd.jupyter.widget-view+json": {
       "model_id": "48150f855b704d72a915e79a27c73a87",
       "version_major": 2,
       "version_minor": 0
      },
      "text/plain": [
       "Validation: 0it [00:00, ?it/s]"
      ]
     },
     "metadata": {},
     "output_type": "display_data"
    },
    {
     "data": {
      "application/vnd.jupyter.widget-view+json": {
       "model_id": "5fac335b929748a48374b3772f6b0e24",
       "version_major": 2,
       "version_minor": 0
      },
      "text/plain": [
       "Validation: 0it [00:00, ?it/s]"
      ]
     },
     "metadata": {},
     "output_type": "display_data"
    },
    {
     "data": {
      "application/vnd.jupyter.widget-view+json": {
       "model_id": "ad0f0686263548b4a0f7f466e6a01572",
       "version_major": 2,
       "version_minor": 0
      },
      "text/plain": [
       "Validation: 0it [00:00, ?it/s]"
      ]
     },
     "metadata": {},
     "output_type": "display_data"
    },
    {
     "data": {
      "application/vnd.jupyter.widget-view+json": {
       "model_id": "06279dcb236b45ba8589da0ee73cdaf3",
       "version_major": 2,
       "version_minor": 0
      },
      "text/plain": [
       "Validation: 0it [00:00, ?it/s]"
      ]
     },
     "metadata": {},
     "output_type": "display_data"
    },
    {
     "name": "stderr",
     "output_type": "stream",
     "text": [
      "Metric valid_loss improved by 0.000 >= min_delta = 0.0. New best score: 0.385\n"
     ]
    },
    {
     "data": {
      "application/vnd.jupyter.widget-view+json": {
       "model_id": "077a7fbbef3541ba8c81f9d542e73793",
       "version_major": 2,
       "version_minor": 0
      },
      "text/plain": [
       "Validation: 0it [00:00, ?it/s]"
      ]
     },
     "metadata": {},
     "output_type": "display_data"
    },
    {
     "name": "stderr",
     "output_type": "stream",
     "text": [
      "Metric valid_loss improved by 0.000 >= min_delta = 0.0. New best score: 0.385\n"
     ]
    },
    {
     "data": {
      "application/vnd.jupyter.widget-view+json": {
       "model_id": "c2ae28b99836487ba7948d758816e572",
       "version_major": 2,
       "version_minor": 0
      },
      "text/plain": [
       "Validation: 0it [00:00, ?it/s]"
      ]
     },
     "metadata": {},
     "output_type": "display_data"
    },
    {
     "name": "stderr",
     "output_type": "stream",
     "text": [
      "Metric valid_loss improved by 0.000 >= min_delta = 0.0. New best score: 0.384\n"
     ]
    },
    {
     "data": {
      "application/vnd.jupyter.widget-view+json": {
       "model_id": "6b4b993d56cc4a9c9198ced998e53209",
       "version_major": 2,
       "version_minor": 0
      },
      "text/plain": [
       "Validation: 0it [00:00, ?it/s]"
      ]
     },
     "metadata": {},
     "output_type": "display_data"
    },
    {
     "name": "stderr",
     "output_type": "stream",
     "text": [
      "Metric valid_loss improved by 0.000 >= min_delta = 0.0. New best score: 0.384\n"
     ]
    },
    {
     "data": {
      "application/vnd.jupyter.widget-view+json": {
       "model_id": "d05b9668b43a4a38800ed8320b0dc144",
       "version_major": 2,
       "version_minor": 0
      },
      "text/plain": [
       "Validation: 0it [00:00, ?it/s]"
      ]
     },
     "metadata": {},
     "output_type": "display_data"
    },
    {
     "name": "stderr",
     "output_type": "stream",
     "text": [
      "Metric valid_loss improved by 0.000 >= min_delta = 0.0. New best score: 0.384\n"
     ]
    },
    {
     "data": {
      "application/vnd.jupyter.widget-view+json": {
       "model_id": "9f2f6ed83b31417da80a896adc2622cc",
       "version_major": 2,
       "version_minor": 0
      },
      "text/plain": [
       "Validation: 0it [00:00, ?it/s]"
      ]
     },
     "metadata": {},
     "output_type": "display_data"
    },
    {
     "name": "stderr",
     "output_type": "stream",
     "text": [
      "Metric valid_loss improved by 0.000 >= min_delta = 0.0. New best score: 0.384\n"
     ]
    },
    {
     "data": {
      "application/vnd.jupyter.widget-view+json": {
       "model_id": "61d58a33dfcb4fcf97fe720a64c3c1de",
       "version_major": 2,
       "version_minor": 0
      },
      "text/plain": [
       "Validation: 0it [00:00, ?it/s]"
      ]
     },
     "metadata": {},
     "output_type": "display_data"
    },
    {
     "data": {
      "application/vnd.jupyter.widget-view+json": {
       "model_id": "da9ee4b8afe54294a1fad1b3fca17ddd",
       "version_major": 2,
       "version_minor": 0
      },
      "text/plain": [
       "Validation: 0it [00:00, ?it/s]"
      ]
     },
     "metadata": {},
     "output_type": "display_data"
    },
    {
     "data": {
      "application/vnd.jupyter.widget-view+json": {
       "model_id": "512549cea86142ba8faf4f967411926e",
       "version_major": 2,
       "version_minor": 0
      },
      "text/plain": [
       "Validation: 0it [00:00, ?it/s]"
      ]
     },
     "metadata": {},
     "output_type": "display_data"
    },
    {
     "data": {
      "application/vnd.jupyter.widget-view+json": {
       "model_id": "a0368428ab5746dd88b2e320f23a244d",
       "version_major": 2,
       "version_minor": 0
      },
      "text/plain": [
       "Validation: 0it [00:00, ?it/s]"
      ]
     },
     "metadata": {},
     "output_type": "display_data"
    },
    {
     "data": {
      "application/vnd.jupyter.widget-view+json": {
       "model_id": "11321e12461343bba110bee67ac86aa0",
       "version_major": 2,
       "version_minor": 0
      },
      "text/plain": [
       "Validation: 0it [00:00, ?it/s]"
      ]
     },
     "metadata": {},
     "output_type": "display_data"
    },
    {
     "data": {
      "application/vnd.jupyter.widget-view+json": {
       "model_id": "7ebf300804634e09b1b0168e68b4be48",
       "version_major": 2,
       "version_minor": 0
      },
      "text/plain": [
       "Validation: 0it [00:00, ?it/s]"
      ]
     },
     "metadata": {},
     "output_type": "display_data"
    },
    {
     "name": "stderr",
     "output_type": "stream",
     "text": [
      "Metric valid_loss improved by 0.000 >= min_delta = 0.0. New best score: 0.384\n"
     ]
    },
    {
     "data": {
      "application/vnd.jupyter.widget-view+json": {
       "model_id": "c38fa80e8eb248be98e6d133ca58b83d",
       "version_major": 2,
       "version_minor": 0
      },
      "text/plain": [
       "Validation: 0it [00:00, ?it/s]"
      ]
     },
     "metadata": {},
     "output_type": "display_data"
    },
    {
     "data": {
      "application/vnd.jupyter.widget-view+json": {
       "model_id": "d9a93c03e0c943e8a2576efff051ef29",
       "version_major": 2,
       "version_minor": 0
      },
      "text/plain": [
       "Validation: 0it [00:00, ?it/s]"
      ]
     },
     "metadata": {},
     "output_type": "display_data"
    },
    {
     "data": {
      "application/vnd.jupyter.widget-view+json": {
       "model_id": "b330ee1fee2046b191bafe2144708be9",
       "version_major": 2,
       "version_minor": 0
      },
      "text/plain": [
       "Validation: 0it [00:00, ?it/s]"
      ]
     },
     "metadata": {},
     "output_type": "display_data"
    },
    {
     "data": {
      "application/vnd.jupyter.widget-view+json": {
       "model_id": "c5f42b0310474210bff3e2a24068a954",
       "version_major": 2,
       "version_minor": 0
      },
      "text/plain": [
       "Validation: 0it [00:00, ?it/s]"
      ]
     },
     "metadata": {},
     "output_type": "display_data"
    },
    {
     "name": "stderr",
     "output_type": "stream",
     "text": [
      "Metric valid_loss improved by 0.000 >= min_delta = 0.0. New best score: 0.384\n"
     ]
    },
    {
     "data": {
      "application/vnd.jupyter.widget-view+json": {
       "model_id": "6472fe722e7042aa8da4933f17422d66",
       "version_major": 2,
       "version_minor": 0
      },
      "text/plain": [
       "Validation: 0it [00:00, ?it/s]"
      ]
     },
     "metadata": {},
     "output_type": "display_data"
    },
    {
     "name": "stderr",
     "output_type": "stream",
     "text": [
      "Metric valid_loss improved by 0.000 >= min_delta = 0.0. New best score: 0.383\n"
     ]
    },
    {
     "data": {
      "application/vnd.jupyter.widget-view+json": {
       "model_id": "4469fc54eb0b47bd8668a6a746277a27",
       "version_major": 2,
       "version_minor": 0
      },
      "text/plain": [
       "Validation: 0it [00:00, ?it/s]"
      ]
     },
     "metadata": {},
     "output_type": "display_data"
    },
    {
     "data": {
      "application/vnd.jupyter.widget-view+json": {
       "model_id": "5c2e3199e0e74fb7b4aaef45f988953f",
       "version_major": 2,
       "version_minor": 0
      },
      "text/plain": [
       "Validation: 0it [00:00, ?it/s]"
      ]
     },
     "metadata": {},
     "output_type": "display_data"
    },
    {
     "data": {
      "application/vnd.jupyter.widget-view+json": {
       "model_id": "8ba1699a8b9e463fa7ff221902bbd220",
       "version_major": 2,
       "version_minor": 0
      },
      "text/plain": [
       "Validation: 0it [00:00, ?it/s]"
      ]
     },
     "metadata": {},
     "output_type": "display_data"
    },
    {
     "data": {
      "application/vnd.jupyter.widget-view+json": {
       "model_id": "28465e8258014dedb6e05889c4d30a01",
       "version_major": 2,
       "version_minor": 0
      },
      "text/plain": [
       "Validation: 0it [00:00, ?it/s]"
      ]
     },
     "metadata": {},
     "output_type": "display_data"
    },
    {
     "name": "stderr",
     "output_type": "stream",
     "text": [
      "Metric valid_loss improved by 0.000 >= min_delta = 0.0. New best score: 0.383\n"
     ]
    },
    {
     "data": {
      "application/vnd.jupyter.widget-view+json": {
       "model_id": "5e264ae4b5a74f56ab67776fecea3b91",
       "version_major": 2,
       "version_minor": 0
      },
      "text/plain": [
       "Validation: 0it [00:00, ?it/s]"
      ]
     },
     "metadata": {},
     "output_type": "display_data"
    },
    {
     "name": "stderr",
     "output_type": "stream",
     "text": [
      "Metric valid_loss improved by 0.000 >= min_delta = 0.0. New best score: 0.383\n"
     ]
    },
    {
     "data": {
      "application/vnd.jupyter.widget-view+json": {
       "model_id": "a1d84885ff1a4541a2d23bc05b5f2ed4",
       "version_major": 2,
       "version_minor": 0
      },
      "text/plain": [
       "Validation: 0it [00:00, ?it/s]"
      ]
     },
     "metadata": {},
     "output_type": "display_data"
    },
    {
     "data": {
      "application/vnd.jupyter.widget-view+json": {
       "model_id": "88b7fde082ed4bfdb7cd73707681aaaa",
       "version_major": 2,
       "version_minor": 0
      },
      "text/plain": [
       "Validation: 0it [00:00, ?it/s]"
      ]
     },
     "metadata": {},
     "output_type": "display_data"
    },
    {
     "data": {
      "application/vnd.jupyter.widget-view+json": {
       "model_id": "77081b1b6bc14176a724954e4868de28",
       "version_major": 2,
       "version_minor": 0
      },
      "text/plain": [
       "Validation: 0it [00:00, ?it/s]"
      ]
     },
     "metadata": {},
     "output_type": "display_data"
    },
    {
     "name": "stderr",
     "output_type": "stream",
     "text": [
      "Metric valid_loss improved by 0.000 >= min_delta = 0.0. New best score: 0.382\n"
     ]
    },
    {
     "data": {
      "application/vnd.jupyter.widget-view+json": {
       "model_id": "5100e0dc8bb0406b8453e7c8b7a811c4",
       "version_major": 2,
       "version_minor": 0
      },
      "text/plain": [
       "Validation: 0it [00:00, ?it/s]"
      ]
     },
     "metadata": {},
     "output_type": "display_data"
    },
    {
     "data": {
      "application/vnd.jupyter.widget-view+json": {
       "model_id": "e7b27bf06e8d454983b3e14cc68933c4",
       "version_major": 2,
       "version_minor": 0
      },
      "text/plain": [
       "Validation: 0it [00:00, ?it/s]"
      ]
     },
     "metadata": {},
     "output_type": "display_data"
    },
    {
     "data": {
      "application/vnd.jupyter.widget-view+json": {
       "model_id": "b702b0bd36fe4d4bbf5a31d4097b4f66",
       "version_major": 2,
       "version_minor": 0
      },
      "text/plain": [
       "Validation: 0it [00:00, ?it/s]"
      ]
     },
     "metadata": {},
     "output_type": "display_data"
    },
    {
     "name": "stderr",
     "output_type": "stream",
     "text": [
      "Metric valid_loss improved by 0.000 >= min_delta = 0.0. New best score: 0.382\n"
     ]
    },
    {
     "data": {
      "application/vnd.jupyter.widget-view+json": {
       "model_id": "68ad3f16d03b47d1ab8295bc0b9320cf",
       "version_major": 2,
       "version_minor": 0
      },
      "text/plain": [
       "Validation: 0it [00:00, ?it/s]"
      ]
     },
     "metadata": {},
     "output_type": "display_data"
    },
    {
     "data": {
      "application/vnd.jupyter.widget-view+json": {
       "model_id": "aa2cd356965d4737aa5f27a1258b0d67",
       "version_major": 2,
       "version_minor": 0
      },
      "text/plain": [
       "Validation: 0it [00:00, ?it/s]"
      ]
     },
     "metadata": {},
     "output_type": "display_data"
    },
    {
     "data": {
      "application/vnd.jupyter.widget-view+json": {
       "model_id": "e10e6177e3324293a8066d0f248526ec",
       "version_major": 2,
       "version_minor": 0
      },
      "text/plain": [
       "Validation: 0it [00:00, ?it/s]"
      ]
     },
     "metadata": {},
     "output_type": "display_data"
    },
    {
     "data": {
      "application/vnd.jupyter.widget-view+json": {
       "model_id": "8a000ed3063949f7ab6d163a14ff1f86",
       "version_major": 2,
       "version_minor": 0
      },
      "text/plain": [
       "Validation: 0it [00:00, ?it/s]"
      ]
     },
     "metadata": {},
     "output_type": "display_data"
    },
    {
     "name": "stderr",
     "output_type": "stream",
     "text": [
      "Metric valid_loss improved by 0.000 >= min_delta = 0.0. New best score: 0.382\n"
     ]
    },
    {
     "data": {
      "application/vnd.jupyter.widget-view+json": {
       "model_id": "383e49a03e7046cbbbb5ddc89b3c0f21",
       "version_major": 2,
       "version_minor": 0
      },
      "text/plain": [
       "Validation: 0it [00:00, ?it/s]"
      ]
     },
     "metadata": {},
     "output_type": "display_data"
    },
    {
     "data": {
      "application/vnd.jupyter.widget-view+json": {
       "model_id": "0fa8a2038db44d478daf98a912855ad0",
       "version_major": 2,
       "version_minor": 0
      },
      "text/plain": [
       "Validation: 0it [00:00, ?it/s]"
      ]
     },
     "metadata": {},
     "output_type": "display_data"
    },
    {
     "name": "stderr",
     "output_type": "stream",
     "text": [
      "Metric valid_loss improved by 0.000 >= min_delta = 0.0. New best score: 0.381\n"
     ]
    },
    {
     "data": {
      "application/vnd.jupyter.widget-view+json": {
       "model_id": "c817467a87e74b628d73bdf80a8c1853",
       "version_major": 2,
       "version_minor": 0
      },
      "text/plain": [
       "Validation: 0it [00:00, ?it/s]"
      ]
     },
     "metadata": {},
     "output_type": "display_data"
    },
    {
     "name": "stderr",
     "output_type": "stream",
     "text": [
      "Metric valid_loss improved by 0.000 >= min_delta = 0.0. New best score: 0.381\n"
     ]
    },
    {
     "data": {
      "application/vnd.jupyter.widget-view+json": {
       "model_id": "9cda6dae50f747e6a29f0937a44252c6",
       "version_major": 2,
       "version_minor": 0
      },
      "text/plain": [
       "Validation: 0it [00:00, ?it/s]"
      ]
     },
     "metadata": {},
     "output_type": "display_data"
    },
    {
     "name": "stderr",
     "output_type": "stream",
     "text": [
      "Metric valid_loss improved by 0.000 >= min_delta = 0.0. New best score: 0.381\n"
     ]
    },
    {
     "data": {
      "application/vnd.jupyter.widget-view+json": {
       "model_id": "6417661e83494570ad54b3c230687145",
       "version_major": 2,
       "version_minor": 0
      },
      "text/plain": [
       "Validation: 0it [00:00, ?it/s]"
      ]
     },
     "metadata": {},
     "output_type": "display_data"
    },
    {
     "data": {
      "application/vnd.jupyter.widget-view+json": {
       "model_id": "02e7ac3d732b45b6b85e0c6ef7f2a396",
       "version_major": 2,
       "version_minor": 0
      },
      "text/plain": [
       "Validation: 0it [00:00, ?it/s]"
      ]
     },
     "metadata": {},
     "output_type": "display_data"
    },
    {
     "data": {
      "application/vnd.jupyter.widget-view+json": {
       "model_id": "61837ee7527b4470a5e3f921e4a7d603",
       "version_major": 2,
       "version_minor": 0
      },
      "text/plain": [
       "Validation: 0it [00:00, ?it/s]"
      ]
     },
     "metadata": {},
     "output_type": "display_data"
    },
    {
     "data": {
      "application/vnd.jupyter.widget-view+json": {
       "model_id": "2e9aa8054d25413eb1a13edfc27a5f21",
       "version_major": 2,
       "version_minor": 0
      },
      "text/plain": [
       "Validation: 0it [00:00, ?it/s]"
      ]
     },
     "metadata": {},
     "output_type": "display_data"
    },
    {
     "data": {
      "application/vnd.jupyter.widget-view+json": {
       "model_id": "a2f200739dbb499889dc4505a7476e32",
       "version_major": 2,
       "version_minor": 0
      },
      "text/plain": [
       "Validation: 0it [00:00, ?it/s]"
      ]
     },
     "metadata": {},
     "output_type": "display_data"
    },
    {
     "data": {
      "application/vnd.jupyter.widget-view+json": {
       "model_id": "c9e9bb83ee5949d6a0ac9182f15a06c8",
       "version_major": 2,
       "version_minor": 0
      },
      "text/plain": [
       "Validation: 0it [00:00, ?it/s]"
      ]
     },
     "metadata": {},
     "output_type": "display_data"
    },
    {
     "data": {
      "application/vnd.jupyter.widget-view+json": {
       "model_id": "c17c77025c094339aac2309d7cc12315",
       "version_major": 2,
       "version_minor": 0
      },
      "text/plain": [
       "Validation: 0it [00:00, ?it/s]"
      ]
     },
     "metadata": {},
     "output_type": "display_data"
    },
    {
     "data": {
      "application/vnd.jupyter.widget-view+json": {
       "model_id": "a42169b8af59429fac5cdb388ca9a7ad",
       "version_major": 2,
       "version_minor": 0
      },
      "text/plain": [
       "Validation: 0it [00:00, ?it/s]"
      ]
     },
     "metadata": {},
     "output_type": "display_data"
    },
    {
     "data": {
      "application/vnd.jupyter.widget-view+json": {
       "model_id": "7cf4aabb7a114635a05395d8d6bb03cf",
       "version_major": 2,
       "version_minor": 0
      },
      "text/plain": [
       "Validation: 0it [00:00, ?it/s]"
      ]
     },
     "metadata": {},
     "output_type": "display_data"
    },
    {
     "data": {
      "application/vnd.jupyter.widget-view+json": {
       "model_id": "d27d2d59557546d2882ea8afb181b185",
       "version_major": 2,
       "version_minor": 0
      },
      "text/plain": [
       "Validation: 0it [00:00, ?it/s]"
      ]
     },
     "metadata": {},
     "output_type": "display_data"
    },
    {
     "data": {
      "application/vnd.jupyter.widget-view+json": {
       "model_id": "7fff92ff67df4af182b5b1a83c1a1eff",
       "version_major": 2,
       "version_minor": 0
      },
      "text/plain": [
       "Validation: 0it [00:00, ?it/s]"
      ]
     },
     "metadata": {},
     "output_type": "display_data"
    },
    {
     "data": {
      "application/vnd.jupyter.widget-view+json": {
       "model_id": "2a513f461f73431cacc60f5d9b46c2b3",
       "version_major": 2,
       "version_minor": 0
      },
      "text/plain": [
       "Validation: 0it [00:00, ?it/s]"
      ]
     },
     "metadata": {},
     "output_type": "display_data"
    },
    {
     "data": {
      "application/vnd.jupyter.widget-view+json": {
       "model_id": "6573db9a1edb4d2296ab75b6de9df751",
       "version_major": 2,
       "version_minor": 0
      },
      "text/plain": [
       "Validation: 0it [00:00, ?it/s]"
      ]
     },
     "metadata": {},
     "output_type": "display_data"
    },
    {
     "data": {
      "application/vnd.jupyter.widget-view+json": {
       "model_id": "d89b4aeeece84ccba04cef626a733270",
       "version_major": 2,
       "version_minor": 0
      },
      "text/plain": [
       "Validation: 0it [00:00, ?it/s]"
      ]
     },
     "metadata": {},
     "output_type": "display_data"
    },
    {
     "data": {
      "application/vnd.jupyter.widget-view+json": {
       "model_id": "5e36c741a35c4952886365ca91907029",
       "version_major": 2,
       "version_minor": 0
      },
      "text/plain": [
       "Validation: 0it [00:00, ?it/s]"
      ]
     },
     "metadata": {},
     "output_type": "display_data"
    },
    {
     "data": {
      "application/vnd.jupyter.widget-view+json": {
       "model_id": "412f7b5c1a6948498c58c941610b7ce4",
       "version_major": 2,
       "version_minor": 0
      },
      "text/plain": [
       "Validation: 0it [00:00, ?it/s]"
      ]
     },
     "metadata": {},
     "output_type": "display_data"
    },
    {
     "data": {
      "application/vnd.jupyter.widget-view+json": {
       "model_id": "b28918f735d24069bfa11ead6759f223",
       "version_major": 2,
       "version_minor": 0
      },
      "text/plain": [
       "Validation: 0it [00:00, ?it/s]"
      ]
     },
     "metadata": {},
     "output_type": "display_data"
    },
    {
     "data": {
      "application/vnd.jupyter.widget-view+json": {
       "model_id": "84e228a5f60b4491a853460923f86c08",
       "version_major": 2,
       "version_minor": 0
      },
      "text/plain": [
       "Validation: 0it [00:00, ?it/s]"
      ]
     },
     "metadata": {},
     "output_type": "display_data"
    },
    {
     "data": {
      "application/vnd.jupyter.widget-view+json": {
       "model_id": "981bbccab4d84bd2aa2e1b7f12867b87",
       "version_major": 2,
       "version_minor": 0
      },
      "text/plain": [
       "Validation: 0it [00:00, ?it/s]"
      ]
     },
     "metadata": {},
     "output_type": "display_data"
    },
    {
     "data": {
      "application/vnd.jupyter.widget-view+json": {
       "model_id": "72f6013ac2f342b5b5b0b6a7b572c9b1",
       "version_major": 2,
       "version_minor": 0
      },
      "text/plain": [
       "Validation: 0it [00:00, ?it/s]"
      ]
     },
     "metadata": {},
     "output_type": "display_data"
    },
    {
     "data": {
      "application/vnd.jupyter.widget-view+json": {
       "model_id": "dbf9aee00e46414e8003d1e691dd9500",
       "version_major": 2,
       "version_minor": 0
      },
      "text/plain": [
       "Validation: 0it [00:00, ?it/s]"
      ]
     },
     "metadata": {},
     "output_type": "display_data"
    },
    {
     "name": "stderr",
     "output_type": "stream",
     "text": [
      "Monitored metric valid_loss did not improve in the last 21 records. Best score: 0.381. Signaling Trainer to stop.\n"
     ]
    }
   ],
   "source": [
    "trainer.fit(\n",
    "    model, \n",
    "    DataLoader(train_tensor_dset, batch_size=2048, shuffle=True, num_workers=4),\n",
    "    DataLoader(valid_tensor_dset, batch_size=2048, shuffle=False, num_workers=4)\n",
    ")"
   ]
  },
  {
   "cell_type": "code",
   "execution_count": 10,
   "metadata": {},
   "outputs": [
    {
     "name": "stderr",
     "output_type": "stream",
     "text": [
      "LOCAL_RANK: 0 - CUDA_VISIBLE_DEVICES: [0]\n"
     ]
    },
    {
     "data": {
      "application/vnd.jupyter.widget-view+json": {
       "model_id": "375bf0271aae44efac2ce7aead779bd7",
       "version_major": 2,
       "version_minor": 0
      },
      "text/plain": [
       "Testing: 0it [00:00, ?it/s]"
      ]
     },
     "metadata": {},
     "output_type": "display_data"
    },
    {
     "data": {
      "image/png": "[encoded data removed]",
      "text/plain": [
       "<Figure size 800x600 with 2 Axes>"
      ]
     },
     "metadata": {},
     "output_type": "display_data"
    },
    {
     "data": {
      "image/png": "[encoded data removed]",
      "text/plain": [
       "<Figure size 800x600 with 2 Axes>"
      ]
     },
     "metadata": {},
     "output_type": "display_data"
    },
    {
     "data": {
      "image/png": "[encoded data removed]",
      "text/plain": [
       "<Figure size 800x600 with 2 Axes>"
      ]
     },
     "metadata": {},
     "output_type": "display_data"
    },
    {
     "name": "stdout",
     "output_type": "stream",
     "text": [
      "────────────────────────────────────────────────────────────────────────────────────────────────────────────────────────\n",
      "Runningstage.testing metric      DataLoader 0\n",
      "────────────────────────────────────────────────────────────────────────────────────────────────────────────────────────\n",
      "        test_acc            0.8278460928203094\n",
      "        test_auc            0.9092959004569505\n",
      "         test_f1            0.8137075464757799\n",
      "        test_loss           0.38158389925956726\n",
      "────────────────────────────────────────────────────────────────────────────────────────────────────────────────────────\n"
     ]
    },
    {
     "data": {
      "text/plain": [
       "[{'test_loss': 0.38158389925956726,\n",
       "  'test_auc': 0.9092959004569505,\n",
       "  'test_acc': 0.8278460928203094,\n",
       "  'test_f1': 0.8137075464757799}]"
      ]
     },
     "execution_count": 10,
     "metadata": {},
     "output_type": "execute_result"
    }
   ],
   "source": [
    "# AUC on validation dataset\n",
    "trainer.test(model, DataLoader(valid_tensor_dset, batch_size=2048, shuffle=False, num_workers=4))"
   ]
  },
  {
   "cell_type": "code",
   "execution_count": 11,
   "metadata": {},
   "outputs": [
    {
     "name": "stderr",
     "output_type": "stream",
     "text": [
      "LOCAL_RANK: 0 - CUDA_VISIBLE_DEVICES: [0]\n"
     ]
    },
    {
     "data": {
      "application/vnd.jupyter.widget-view+json": {
       "model_id": "0def47d8d9a2479a8e3e700c0d93ee46",
       "version_major": 2,
       "version_minor": 0
      },
      "text/plain": [
       "Testing: 0it [00:00, ?it/s]"
      ]
     },
     "metadata": {},
     "output_type": "display_data"
    },
    {
     "data": {
      "image/png": "[encoded data removed]",
      "text/plain": [
       "<Figure size 800x600 with 2 Axes>"
      ]
     },
     "metadata": {},
     "output_type": "display_data"
    },
    {
     "data": {
      "image/png": "[encoded data removed]",
      "text/plain": [
       "<Figure size 800x600 with 2 Axes>"
      ]
     },
     "metadata": {},
     "output_type": "display_data"
    },
    {
     "data": {
      "image/png": "[encoded data removed]",
      "text/plain": [
       "<Figure size 800x600 with 2 Axes>"
      ]
     },
     "metadata": {},
     "output_type": "display_data"
    },
    {
     "name": "stdout",
     "output_type": "stream",
     "text": [
      "────────────────────────────────────────────────────────────────────────────────────────────────────────────────────────\n",
      "Runningstage.testing metric      DataLoader 0\n",
      "────────────────────────────────────────────────────────────────────────────────────────────────────────────────────────\n",
      "        test_acc            0.8209044030146767\n",
      "        test_auc            0.9039392936098242\n",
      "         test_f1            0.8135898902504838\n",
      "        test_loss           0.39166557788848877\n",
      "────────────────────────────────────────────────────────────────────────────────────────────────────────────────────────\n"
     ]
    },
    {
     "data": {
      "text/plain": [
       "[{'test_loss': 0.39166557788848877,\n",
       "  'test_auc': 0.9039392936098242,\n",
       "  'test_acc': 0.8209044030146767,\n",
       "  'test_f1': 0.8135898902504838}]"
      ]
     },
     "execution_count": 11,
     "metadata": {},
     "output_type": "execute_result"
    }
   ],
   "source": [
    "# AUC on test dataset\n",
    "trainer.test(model, DataLoader(test_tensor_dset, batch_size=2048, shuffle=False, num_workers=4))"
   ]
  }
 ],
 "metadata": {
  "kernelspec": {
   "display_name": "TCC",
   "language": "python",
   "name": "python3"
  },
  "language_info": {
   "codemirror_mode": {
    "name": "ipython",
    "version": 3
   },
   "file_extension": ".py",
   "mimetype": "text/x-python",
   "name": "python",
   "nbconvert_exporter": "python",
   "pygments_lexer": "ipython3",
   "version": "3.11.3"
  },
  "orig_nbformat": 4
 },
 "nbformat": 4,
 "nbformat_minor": 2
}
