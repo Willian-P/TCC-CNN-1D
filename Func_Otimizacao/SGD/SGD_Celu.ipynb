{
 "cells": [
  {
   "cell_type": "code",
   "execution_count": 1,
   "metadata": {},
   "outputs": [
    {
     "name": "stderr",
     "output_type": "stream",
     "text": [
      "c:\\Users\\willi\\AppData\\Local\\Programs\\Python\\Python311\\Lib\\site-packages\\torchaudio\\backend\\utils.py:74: UserWarning: No audio backend is available.\n",
      "  warnings.warn(\"No audio backend is available.\")\n"
     ]
    }
   ],
   "source": [
    "import numpy as np\n",
    "import pandas as pd\n",
    "from sklearn.metrics import roc_auc_score, accuracy_score, f1_score, confusion_matrix\n",
    "\n",
    "import torch\n",
    "from torch import nn\n",
    "from torch.utils.data import DataLoader,TensorDataset\n",
    "from torch.optim.lr_scheduler import ReduceLROnPlateau\n",
    "\n",
    "import pytorch_lightning as pl\n",
    "from pytorch_lightning.callbacks.early_stopping import EarlyStopping\n",
    "\n",
    "import matplotlib.pyplot as plt\n",
    "import seaborn as sns"
   ]
  },
  {
   "cell_type": "markdown",
   "metadata": {},
   "source": [
    "PyTorch Lightning, é um framework leve para treinamento que visa simplificar e acelerar o processo de treinamento."
   ]
  },
  {
   "cell_type": "code",
   "execution_count": 2,
   "metadata": {},
   "outputs": [
    {
     "data": {
      "text/plain": [
       "device(type='cuda')"
      ]
     },
     "execution_count": 2,
     "metadata": {},
     "output_type": "execute_result"
    }
   ],
   "source": [
    "# Configuração para garantir a reprodutibilidade dos resultados\n",
    "SEED = 2\n",
    "# Definem a semente aleatória para as bibliotecas NumPy e PyTorch\n",
    "np.random.seed(SEED)\n",
    "torch.manual_seed(SEED) # CPU\n",
    "torch.cuda.manual_seed(SEED) # GPU\n",
    "torch.cuda.manual_seed_all(SEED) # GPUs\n",
    "\n",
    "# Configuração para garantir que a biblioteca cuDNN do PyTorch gere resultados determinísticos (usado para aceleração em GPU)\n",
    "torch.backends.cudnn.deterministic = True\n",
    "\n",
    "# Verifica se há uma GPU disponível e define o dispositivo para \"cuda\" (GPU) ou \"cpu\" (CPU)\n",
    "device = torch.device(\"cuda\" if torch.cuda.is_available() else \"cpu\")\n",
    "device"
   ]
  },
  {
   "cell_type": "code",
   "execution_count": 3,
   "metadata": {},
   "outputs": [
    {
     "data": {
      "text/html": [
       "<div>\n",
       "<style scoped>\n",
       "    .dataframe tbody tr th:only-of-type {\n",
       "        vertical-align: middle;\n",
       "    }\n",
       "\n",
       "    .dataframe tbody tr th {\n",
       "        vertical-align: top;\n",
       "    }\n",
       "\n",
       "    .dataframe thead th {\n",
       "        text-align: right;\n",
       "    }\n",
       "</style>\n",
       "<table border=\"1\" class=\"dataframe\">\n",
       "  <thead>\n",
       "    <tr style=\"text-align: right;\">\n",
       "      <th></th>\n",
       "      <th>CS_SEXO</th>\n",
       "      <th>NU_IDADE_N</th>\n",
       "      <th>CS_GESTANT</th>\n",
       "      <th>NOSOCOMIAL</th>\n",
       "      <th>FEBRE</th>\n",
       "      <th>TOSSE</th>\n",
       "      <th>GARGANTA</th>\n",
       "      <th>DISPNEIA</th>\n",
       "      <th>DESC_RESP</th>\n",
       "      <th>SATURACAO</th>\n",
       "      <th>...</th>\n",
       "      <th>TOMO_RES</th>\n",
       "      <th>RES_AN</th>\n",
       "      <th>VACINA_COV</th>\n",
       "      <th>QTD_DIAS</th>\n",
       "      <th>DIAS_INTERNA</th>\n",
       "      <th>SINT_ATE_NOTIF</th>\n",
       "      <th>PCR_EVOLUCAO</th>\n",
       "      <th>DIAS_DOSE2</th>\n",
       "      <th>DIAS_DOSE1</th>\n",
       "      <th>EVOLUCAO</th>\n",
       "    </tr>\n",
       "  </thead>\n",
       "  <tbody>\n",
       "    <tr>\n",
       "      <th>0</th>\n",
       "      <td>1.016317</td>\n",
       "      <td>-1.525360</td>\n",
       "      <td>-0.841847</td>\n",
       "      <td>-0.247347</td>\n",
       "      <td>-0.681876</td>\n",
       "      <td>-0.533104</td>\n",
       "      <td>-0.318904</td>\n",
       "      <td>0.130633</td>\n",
       "      <td>-0.028625</td>\n",
       "      <td>0.090063</td>\n",
       "      <td>...</td>\n",
       "      <td>0.612697</td>\n",
       "      <td>0.575506</td>\n",
       "      <td>-0.370379</td>\n",
       "      <td>-0.448566</td>\n",
       "      <td>-0.606642</td>\n",
       "      <td>-0.333757</td>\n",
       "      <td>-0.245809</td>\n",
       "      <td>-0.035479</td>\n",
       "      <td>-0.069846</td>\n",
       "      <td>0</td>\n",
       "    </tr>\n",
       "    <tr>\n",
       "      <th>1</th>\n",
       "      <td>-0.983945</td>\n",
       "      <td>0.288959</td>\n",
       "      <td>0.663434</td>\n",
       "      <td>-0.247347</td>\n",
       "      <td>2.634754</td>\n",
       "      <td>3.009587</td>\n",
       "      <td>-0.940007</td>\n",
       "      <td>2.830029</td>\n",
       "      <td>2.417626</td>\n",
       "      <td>-0.566145</td>\n",
       "      <td>...</td>\n",
       "      <td>0.612697</td>\n",
       "      <td>-1.068704</td>\n",
       "      <td>-0.370379</td>\n",
       "      <td>0.265732</td>\n",
       "      <td>0.567583</td>\n",
       "      <td>-0.333757</td>\n",
       "      <td>-0.505612</td>\n",
       "      <td>-0.007870</td>\n",
       "      <td>-0.016540</td>\n",
       "      <td>0</td>\n",
       "    </tr>\n",
       "    <tr>\n",
       "      <th>2</th>\n",
       "      <td>1.016317</td>\n",
       "      <td>-0.618201</td>\n",
       "      <td>-0.841847</td>\n",
       "      <td>-0.247347</td>\n",
       "      <td>-0.018550</td>\n",
       "      <td>-0.533104</td>\n",
       "      <td>-0.940007</td>\n",
       "      <td>-0.544216</td>\n",
       "      <td>-0.640188</td>\n",
       "      <td>0.090063</td>\n",
       "      <td>...</td>\n",
       "      <td>0.612697</td>\n",
       "      <td>1.123576</td>\n",
       "      <td>-0.370379</td>\n",
       "      <td>-0.364531</td>\n",
       "      <td>-0.537570</td>\n",
       "      <td>-0.292220</td>\n",
       "      <td>-0.505612</td>\n",
       "      <td>-0.029875</td>\n",
       "      <td>-0.043009</td>\n",
       "      <td>0</td>\n",
       "    </tr>\n",
       "    <tr>\n",
       "      <th>3</th>\n",
       "      <td>-0.983945</td>\n",
       "      <td>-0.247090</td>\n",
       "      <td>0.663434</td>\n",
       "      <td>-0.247347</td>\n",
       "      <td>-0.681876</td>\n",
       "      <td>-0.533104</td>\n",
       "      <td>-0.318904</td>\n",
       "      <td>-0.544216</td>\n",
       "      <td>-0.640188</td>\n",
       "      <td>-0.566145</td>\n",
       "      <td>...</td>\n",
       "      <td>0.612697</td>\n",
       "      <td>1.671646</td>\n",
       "      <td>1.135630</td>\n",
       "      <td>0.307750</td>\n",
       "      <td>0.636655</td>\n",
       "      <td>0.123142</td>\n",
       "      <td>0.966608</td>\n",
       "      <td>-0.043817</td>\n",
       "      <td>-0.121681</td>\n",
       "      <td>1</td>\n",
       "    </tr>\n",
       "    <tr>\n",
       "      <th>4</th>\n",
       "      <td>1.016317</td>\n",
       "      <td>-0.906842</td>\n",
       "      <td>-0.841847</td>\n",
       "      <td>-0.247347</td>\n",
       "      <td>-0.018550</td>\n",
       "      <td>-0.533104</td>\n",
       "      <td>-0.940007</td>\n",
       "      <td>0.130633</td>\n",
       "      <td>-0.028625</td>\n",
       "      <td>0.090063</td>\n",
       "      <td>...</td>\n",
       "      <td>-1.847184</td>\n",
       "      <td>0.575506</td>\n",
       "      <td>-0.370379</td>\n",
       "      <td>-0.364531</td>\n",
       "      <td>-0.468498</td>\n",
       "      <td>-0.416829</td>\n",
       "      <td>-0.505612</td>\n",
       "      <td>-0.027962</td>\n",
       "      <td>-0.048156</td>\n",
       "      <td>0</td>\n",
       "    </tr>\n",
       "    <tr>\n",
       "      <th>...</th>\n",
       "      <td>...</td>\n",
       "      <td>...</td>\n",
       "      <td>...</td>\n",
       "      <td>...</td>\n",
       "      <td>...</td>\n",
       "      <td>...</td>\n",
       "      <td>...</td>\n",
       "      <td>...</td>\n",
       "      <td>...</td>\n",
       "      <td>...</td>\n",
       "      <td>...</td>\n",
       "      <td>...</td>\n",
       "      <td>...</td>\n",
       "      <td>...</td>\n",
       "      <td>...</td>\n",
       "      <td>...</td>\n",
       "      <td>...</td>\n",
       "      <td>...</td>\n",
       "      <td>...</td>\n",
       "      <td>...</td>\n",
       "      <td>...</td>\n",
       "    </tr>\n",
       "    <tr>\n",
       "      <th>25205</th>\n",
       "      <td>-0.983945</td>\n",
       "      <td>0.412663</td>\n",
       "      <td>0.663434</td>\n",
       "      <td>-0.247347</td>\n",
       "      <td>-0.018550</td>\n",
       "      <td>-0.533104</td>\n",
       "      <td>-0.940007</td>\n",
       "      <td>-0.544216</td>\n",
       "      <td>-0.640188</td>\n",
       "      <td>-0.566145</td>\n",
       "      <td>...</td>\n",
       "      <td>-1.847184</td>\n",
       "      <td>0.575506</td>\n",
       "      <td>-0.370379</td>\n",
       "      <td>-0.406549</td>\n",
       "      <td>-0.606642</td>\n",
       "      <td>0.040070</td>\n",
       "      <td>-0.505612</td>\n",
       "      <td>0.020014</td>\n",
       "      <td>0.057720</td>\n",
       "      <td>1</td>\n",
       "    </tr>\n",
       "    <tr>\n",
       "      <th>25206</th>\n",
       "      <td>1.016317</td>\n",
       "      <td>0.825008</td>\n",
       "      <td>-0.841847</td>\n",
       "      <td>-0.247347</td>\n",
       "      <td>-0.681876</td>\n",
       "      <td>0.175434</td>\n",
       "      <td>-0.318904</td>\n",
       "      <td>-0.544216</td>\n",
       "      <td>-0.640188</td>\n",
       "      <td>-0.566145</td>\n",
       "      <td>...</td>\n",
       "      <td>-1.355208</td>\n",
       "      <td>-1.068704</td>\n",
       "      <td>-0.370379</td>\n",
       "      <td>-0.196461</td>\n",
       "      <td>-0.330354</td>\n",
       "      <td>0.123142</td>\n",
       "      <td>-0.505612</td>\n",
       "      <td>0.019604</td>\n",
       "      <td>0.059190</td>\n",
       "      <td>1</td>\n",
       "    </tr>\n",
       "    <tr>\n",
       "      <th>25207</th>\n",
       "      <td>1.016317</td>\n",
       "      <td>1.072415</td>\n",
       "      <td>-0.841847</td>\n",
       "      <td>-0.247347</td>\n",
       "      <td>-0.018550</td>\n",
       "      <td>-0.533104</td>\n",
       "      <td>-0.318904</td>\n",
       "      <td>-0.544216</td>\n",
       "      <td>-0.640188</td>\n",
       "      <td>-0.566145</td>\n",
       "      <td>...</td>\n",
       "      <td>-1.355208</td>\n",
       "      <td>-1.068704</td>\n",
       "      <td>-0.370379</td>\n",
       "      <td>-0.490584</td>\n",
       "      <td>1.396447</td>\n",
       "      <td>0.870795</td>\n",
       "      <td>-0.505612</td>\n",
       "      <td>0.025208</td>\n",
       "      <td>0.069484</td>\n",
       "      <td>1</td>\n",
       "    </tr>\n",
       "    <tr>\n",
       "      <th>25208</th>\n",
       "      <td>1.016317</td>\n",
       "      <td>0.866242</td>\n",
       "      <td>0.663434</td>\n",
       "      <td>-0.247347</td>\n",
       "      <td>-0.018550</td>\n",
       "      <td>-0.533104</td>\n",
       "      <td>-0.318904</td>\n",
       "      <td>-0.544216</td>\n",
       "      <td>-0.028625</td>\n",
       "      <td>0.090063</td>\n",
       "      <td>...</td>\n",
       "      <td>-1.355208</td>\n",
       "      <td>-1.068704</td>\n",
       "      <td>-0.370379</td>\n",
       "      <td>-0.406549</td>\n",
       "      <td>-0.537570</td>\n",
       "      <td>-0.209148</td>\n",
       "      <td>-0.245809</td>\n",
       "      <td>0.000058</td>\n",
       "      <td>0.008091</td>\n",
       "      <td>1</td>\n",
       "    </tr>\n",
       "    <tr>\n",
       "      <th>25209</th>\n",
       "      <td>1.016317</td>\n",
       "      <td>0.618835</td>\n",
       "      <td>-0.841847</td>\n",
       "      <td>-0.247347</td>\n",
       "      <td>-0.681876</td>\n",
       "      <td>-0.533104</td>\n",
       "      <td>-0.318904</td>\n",
       "      <td>-0.544216</td>\n",
       "      <td>-0.028625</td>\n",
       "      <td>-0.566145</td>\n",
       "      <td>...</td>\n",
       "      <td>0.612697</td>\n",
       "      <td>1.671646</td>\n",
       "      <td>-0.370379</td>\n",
       "      <td>0.181697</td>\n",
       "      <td>0.429439</td>\n",
       "      <td>-0.043003</td>\n",
       "      <td>0.706805</td>\n",
       "      <td>0.040243</td>\n",
       "      <td>0.114702</td>\n",
       "      <td>1</td>\n",
       "    </tr>\n",
       "  </tbody>\n",
       "</table>\n",
       "<p>25210 rows × 41 columns</p>\n",
       "</div>"
      ],
      "text/plain": [
       "        CS_SEXO  NU_IDADE_N  CS_GESTANT  NOSOCOMIAL     FEBRE     TOSSE  \\\n",
       "0      1.016317   -1.525360   -0.841847   -0.247347 -0.681876 -0.533104   \n",
       "1     -0.983945    0.288959    0.663434   -0.247347  2.634754  3.009587   \n",
       "2      1.016317   -0.618201   -0.841847   -0.247347 -0.018550 -0.533104   \n",
       "3     -0.983945   -0.247090    0.663434   -0.247347 -0.681876 -0.533104   \n",
       "4      1.016317   -0.906842   -0.841847   -0.247347 -0.018550 -0.533104   \n",
       "...         ...         ...         ...         ...       ...       ...   \n",
       "25205 -0.983945    0.412663    0.663434   -0.247347 -0.018550 -0.533104   \n",
       "25206  1.016317    0.825008   -0.841847   -0.247347 -0.681876  0.175434   \n",
       "25207  1.016317    1.072415   -0.841847   -0.247347 -0.018550 -0.533104   \n",
       "25208  1.016317    0.866242    0.663434   -0.247347 -0.018550 -0.533104   \n",
       "25209  1.016317    0.618835   -0.841847   -0.247347 -0.681876 -0.533104   \n",
       "\n",
       "       GARGANTA  DISPNEIA  DESC_RESP  SATURACAO  ...  TOMO_RES    RES_AN  \\\n",
       "0     -0.318904  0.130633  -0.028625   0.090063  ...  0.612697  0.575506   \n",
       "1     -0.940007  2.830029   2.417626  -0.566145  ...  0.612697 -1.068704   \n",
       "2     -0.940007 -0.544216  -0.640188   0.090063  ...  0.612697  1.123576   \n",
       "3     -0.318904 -0.544216  -0.640188  -0.566145  ...  0.612697  1.671646   \n",
       "4     -0.940007  0.130633  -0.028625   0.090063  ... -1.847184  0.575506   \n",
       "...         ...       ...        ...        ...  ...       ...       ...   \n",
       "25205 -0.940007 -0.544216  -0.640188  -0.566145  ... -1.847184  0.575506   \n",
       "25206 -0.318904 -0.544216  -0.640188  -0.566145  ... -1.355208 -1.068704   \n",
       "25207 -0.318904 -0.544216  -0.640188  -0.566145  ... -1.355208 -1.068704   \n",
       "25208 -0.318904 -0.544216  -0.028625   0.090063  ... -1.355208 -1.068704   \n",
       "25209 -0.318904 -0.544216  -0.028625  -0.566145  ...  0.612697  1.671646   \n",
       "\n",
       "       VACINA_COV  QTD_DIAS  DIAS_INTERNA  SINT_ATE_NOTIF  PCR_EVOLUCAO  \\\n",
       "0       -0.370379 -0.448566     -0.606642       -0.333757     -0.245809   \n",
       "1       -0.370379  0.265732      0.567583       -0.333757     -0.505612   \n",
       "2       -0.370379 -0.364531     -0.537570       -0.292220     -0.505612   \n",
       "3        1.135630  0.307750      0.636655        0.123142      0.966608   \n",
       "4       -0.370379 -0.364531     -0.468498       -0.416829     -0.505612   \n",
       "...           ...       ...           ...             ...           ...   \n",
       "25205   -0.370379 -0.406549     -0.606642        0.040070     -0.505612   \n",
       "25206   -0.370379 -0.196461     -0.330354        0.123142     -0.505612   \n",
       "25207   -0.370379 -0.490584      1.396447        0.870795     -0.505612   \n",
       "25208   -0.370379 -0.406549     -0.537570       -0.209148     -0.245809   \n",
       "25209   -0.370379  0.181697      0.429439       -0.043003      0.706805   \n",
       "\n",
       "       DIAS_DOSE2  DIAS_DOSE1  EVOLUCAO  \n",
       "0       -0.035479   -0.069846         0  \n",
       "1       -0.007870   -0.016540         0  \n",
       "2       -0.029875   -0.043009         0  \n",
       "3       -0.043817   -0.121681         1  \n",
       "4       -0.027962   -0.048156         0  \n",
       "...           ...         ...       ...  \n",
       "25205    0.020014    0.057720         1  \n",
       "25206    0.019604    0.059190         1  \n",
       "25207    0.025208    0.069484         1  \n",
       "25208    0.000058    0.008091         1  \n",
       "25209    0.040243    0.114702         1  \n",
       "\n",
       "[25210 rows x 41 columns]"
      ]
     },
     "execution_count": 3,
     "metadata": {},
     "output_type": "execute_result"
    }
   ],
   "source": [
    "# Carrega o Dataset\n",
    "dataset = pd.read_csv(\"../../Datasets/dataset_SP_Obitos_Scaler.csv\")\n",
    "dataset"
   ]
  },
  {
   "cell_type": "markdown",
   "metadata": {},
   "source": [
    "Divisão do dataset em três conjuntos distintos: treinamento, validação e teste. Sendo 60% para treinamento, 20% para validação e 20% para teste.\n"
   ]
  },
  {
   "cell_type": "code",
   "execution_count": 4,
   "metadata": {},
   "outputs": [],
   "source": [
    "# Cria um array para armazenar os índices do dataset original. Para embaralhar os índices e, posteriormente dividir os dados aleatoriamente.\n",
    "index = np.array(dataset.index)\n",
    "\n",
    "# Embaralha os índices de forma aleatória\n",
    "np.random.shuffle(index)\n",
    "# Número total de amostras no dataset\n",
    "n = len(index)\n",
    "\n",
    "# Seleciona os índices das primeiras 60% amostras embaralhadas para o conjunto de treinamento.\n",
    "train_index = index[0:int(0.6*n)]\n",
    "# As amostras da posição 60% até a posição 80% para o conjunto de validação\n",
    "valid_index = index[int(0.6*n):int(0.8*n)]\n",
    "# As amostras da posição 80% até o final para o conjunto de teste\n",
    "test_index = index[int(0.8*n):]\n",
    "\n",
    "# Cria um dataset para armazenar cada conjunto, treino, validação e teste, respectivamente e reindexa os índices\n",
    "train_dset = dataset.loc[train_index].reset_index(drop=True)\n",
    "valid_dset = dataset.loc[valid_index].reset_index(drop=True)\n",
    "test_dset = dataset.loc[test_index].reset_index(drop=True)"
   ]
  },
  {
   "cell_type": "code",
   "execution_count": 5,
   "metadata": {},
   "outputs": [],
   "source": [
    "# Obtendo os atributos (features) do dataset, excluindo a coluna 'EVOLUCAO'\n",
    "input_features = dataset.columns.drop('EVOLUCAO').tolist()\n",
    "\n",
    "# Obtendo os rótulos (target) do dataset\n",
    "target = 'EVOLUCAO'\n",
    "labels = dataset[target].tolist()"
   ]
  },
  {
   "cell_type": "code",
   "execution_count": 6,
   "metadata": {},
   "outputs": [],
   "source": [
    "# Os dados são convertidos em tensores PyTorch\n",
    "train_tensor_dset = TensorDataset(\n",
    "    # converte os dados das colunas de entradas em tensores de ponto flutuante\n",
    "    torch.tensor(train_dset[input_features].values, dtype=torch.float),\n",
    "    # converte os dados da coluna de rótulos em tensores de ponto flutuante com formato de matriz\n",
    "    torch.tensor(train_dset[target].values.reshape(-1,1), dtype=torch.float)\n",
    ")\n",
    "\n",
    "valid_tensor_dset = TensorDataset(\n",
    "    torch.tensor(valid_dset[input_features].values, dtype=torch.float),\n",
    "    torch.tensor(valid_dset[target].values.reshape(-1,1), dtype=torch.float)\n",
    ")\n",
    "\n",
    "test_tensor_dset = TensorDataset(\n",
    "    torch.tensor(test_dset[input_features].values, dtype=torch.float),\n",
    "    torch.tensor(test_dset[target].values.reshape(-1,1), dtype=torch.float) \n",
    ")"
   ]
  },
  {
   "cell_type": "markdown",
   "metadata": {},
   "source": [
    "No contexto da biblioteca PyTorch, um tensor é uma estrutura de dados similar a um array NumPy, mas com suporte para aceleração de hardware através de GPUs.\n",
    "\n",
    "A abordagem com tensores no PyTorch permite representar e manipular os dados de entrada e saída do modelo de forma eficiente, além de oferecer suporte para aceleração de hardware em GPUs, o que é essencial para realizar cálculos complexos em redes neurais profundas com grandes volumes de dados."
   ]
  },
  {
   "cell_type": "code",
   "execution_count": 7,
   "metadata": {},
   "outputs": [],
   "source": [
    "class SoftOrdering1DCNN(pl.LightningModule):\n",
    "\n",
    "    def __init__(self, input_dim, output_dim, sign_size=32, cha_input=16, cha_hidden=32, \n",
    "                 K=2, dropout_input=0.2, dropout_hidden=0.2, dropout_output=0.2):\n",
    "        super().__init__()\n",
    "\n",
    "        # Calcula o tamanho da camada oculta multiplicando o tamanho do sinal (sign_size) \n",
    "        # pela quantidade de canais de entrada (cha_input).\n",
    "        hidden_size = sign_size*cha_input\n",
    "        # Armazena o tamanho do sinal\n",
    "        sign_size1 = sign_size\n",
    "        # Calcula o tamanho do sinal dividido por 2 e armazena o resultado na variável\n",
    "        sign_size2 = sign_size//2\n",
    "\n",
    "        #Calcula o tamanho da camada de saída multiplicando o tamanho do sinal dividido \n",
    "        # por 4 pela quantidade de canais ocultos (cha_hidden).\n",
    "        output_size = (sign_size//4) * cha_hidden\n",
    "\n",
    "        self.hidden_size = hidden_size # Tamanho do vetor oculto\n",
    "        self.cha_input = cha_input # Número de canais de entrada\n",
    "        self.cha_hidden = cha_hidden # Número de canais da camada oculta\n",
    "        self.K = K # Fator de multiplicação utilizado na primeira camada convolucional\n",
    "        self.sign_size1 = sign_size1 # Tamanho do sinal de entrada original\n",
    "        self.sign_size2 = sign_size2 # Tamanho do sinal após a camada de pool adaptativa.\n",
    "        self.output_size = output_size # Tamanho do vetor de saída após a última camada de convolução e a camada de pool\n",
    "        self.dropout_input = dropout_input # Taxa de dropout aplicada à camada de entrada\n",
    "        self.dropout_hidden = dropout_hidden # Taxa de dropout aplicada às camadas ocultas\n",
    "        self.dropout_output = dropout_output # Taxa de dropout aplicada à camada de saída\n",
    "\n",
    "        # Cria uma camada de normalização por lote (BatchNorm1d) com tamanho de entrada \n",
    "        # igual a input_dim e a atribui ao atributo batch_norm1 da classe.\n",
    "        self.batch_norm1 = nn.BatchNorm1d(input_dim)\n",
    "        # Cria uma camada de dropout (Dropout) com taxa de dropout igual a dropout_input \n",
    "        # e a atribui ao atributo dropout1 da classe.\n",
    "        self.dropout1 = nn.Dropout(dropout_input)\n",
    "        # Cria uma camada densa (Linear) com tamanho de entrada igual a input_dim, tamanho de saída \n",
    "        # igual a hidden_size e sem viés (bias=False). A camada é armazenada temporariamente na variável dense1.\n",
    "        dense1 = nn.Linear(input_dim, hidden_size, bias=False)\n",
    "        # Aplica a normalização de peso (weight normalization) na camada dense1 e a atribui ao atributo dense1 da classe. \n",
    "        self.dense1 = nn.utils.weight_norm(dense1)\n",
    "\n",
    "        # 1st conv layer\n",
    "        self.batch_norm_c1 = nn.BatchNorm1d(cha_input)\n",
    "        conv1 = conv1 = nn.Conv1d(\n",
    "            cha_input, # canais de entrada\n",
    "            cha_input*K, # canais de saída\n",
    "            kernel_size=5, # tamanho de filtro\n",
    "            stride = 1, # Deslocamento\n",
    "            padding=2,  # Preenchimento\n",
    "            groups=cha_input, # igual ao número de canais de entrada e sem viés\n",
    "            bias=False) #  Essa camada aplica uma convolução em cada canal de entrada separadamente\n",
    "        # camada convolucional definida anteriormente é normalizada pela norma dos pesos \n",
    "        self.conv1 = nn.utils.weight_norm(conv1, dim=None) \n",
    "\n",
    "        self.ave_po_c1 = nn.AdaptiveAvgPool1d(output_size = sign_size2)\n",
    "\n",
    "        # 2nd conv layer\n",
    "        self.batch_norm_c2 = nn.BatchNorm1d(cha_input*K)\n",
    "        self.dropout_c2 = nn.Dropout(dropout_hidden)\n",
    "        conv2 = nn.Conv1d(\n",
    "            cha_input*K, \n",
    "            cha_hidden, \n",
    "            kernel_size=3, \n",
    "            stride=1, \n",
    "            padding=1, \n",
    "            bias=False)\n",
    "        self.conv2 = nn.utils.weight_norm(conv2, dim=None)\n",
    "\n",
    "        # 3rd conv layer\n",
    "        self.batch_norm_c3 = nn.BatchNorm1d(cha_hidden)\n",
    "        self.dropout_c3 = nn.Dropout(dropout_hidden)\n",
    "        conv3 = nn.Conv1d(\n",
    "            cha_hidden, \n",
    "            cha_hidden, \n",
    "            kernel_size=3, \n",
    "            stride=1, \n",
    "            padding=1, \n",
    "            bias=False)\n",
    "        self.conv3 = nn.utils.weight_norm(conv3, dim=None)\n",
    "        \n",
    "\n",
    "        # 4th conv layer\n",
    "        self.batch_norm_c4 = nn.BatchNorm1d(cha_hidden)\n",
    "        conv4 = nn.Conv1d(\n",
    "            cha_hidden, \n",
    "            cha_hidden, \n",
    "            kernel_size=5, \n",
    "            stride=1, \n",
    "            padding=2, \n",
    "            groups=cha_hidden, \n",
    "            bias=False)\n",
    "        self.conv4 = nn.utils.weight_norm(conv4, dim=None)\n",
    "\n",
    "        # cria uma camada de pooling médio unidimensional\n",
    "        self.avg_po_c4 = nn.AvgPool1d(kernel_size=4, stride=2, padding=1)\n",
    "\n",
    "        # cria uma camada de achatamento. É usada para transformar a saída das \n",
    "        # camadas convolucionais em um vetor unidimensional\n",
    "        self.flt = nn.Flatten()\n",
    "\n",
    "        self.batch_norm2 = nn.BatchNorm1d(output_size)\n",
    "        self.dropout2 = nn.Dropout(dropout_output)\n",
    "        dense2 = nn.Linear(output_size, output_dim, bias=False)\n",
    "        self.dense2 = nn.utils.weight_norm(dense2)\n",
    "\n",
    "        # Calcula a perda durante o treinamento\n",
    "        self.loss = nn.BCEWithLogitsLoss()\n",
    "\n",
    "\n",
    "    # Define a passagem direta (forward pass) do modelo (como os dados fluem pelas camadas)\n",
    "    def forward(self, x):\n",
    "        x = self.batch_norm1(x)\n",
    "        x = self.dropout1(x)\n",
    "        x = nn.functional.celu(self.dense1(x))\n",
    "\n",
    "        x = x.reshape(x.shape[0], self.cha_input, self.sign_size1)\n",
    "\n",
    "        x = self.batch_norm_c1(x)\n",
    "        x = nn.functional.celu(self.conv1(x))\n",
    "\n",
    "        x = self.ave_po_c1(x)\n",
    "\n",
    "        x = self.batch_norm_c2(x)\n",
    "        x = self.dropout_c2(x)\n",
    "        x = nn.functional.celu(self.conv2(x))\n",
    "        x_s = x\n",
    "\n",
    "        x = self.batch_norm_c3(x)\n",
    "        x = self.dropout_c3(x)\n",
    "        x = nn.functional.celu(self.conv3(x))\n",
    "\n",
    "        x = self.batch_norm_c4(x)\n",
    "        x = self.conv4(x)\n",
    "        x =  x + x_s\n",
    "        x = nn.functional.celu(x)\n",
    "\n",
    "        x = self.avg_po_c4(x)\n",
    "\n",
    "        x = self.flt(x)\n",
    "\n",
    "        x = self.batch_norm2(x)\n",
    "        x = self.dropout2(x)\n",
    "        x = self.dense2(x)\n",
    "\n",
    "        return x\n",
    "\n",
    "    # Métricas\n",
    "    def roc_auc(self, y_pred, y_true):\n",
    "        # Calcula o ROC AUC usando sklearn.metrics.roc_auc_score\n",
    "        roc_auc = roc_auc_score(y_true.cpu(), torch.sigmoid(y_pred).cpu())\n",
    "        return torch.tensor(roc_auc)\n",
    "\n",
    "    def accuracy(self, y_pred, y_true):\n",
    "        # Arredonda as probabilidades previstas para obter as previsões binárias (0 ou 1)\n",
    "        y_pred_labels = torch.round(torch.sigmoid(y_pred))\n",
    "        # Calcula a acurácia usando sklearn.metrics.accuracy_score\n",
    "        acc = accuracy_score(y_true.cpu(), y_pred_labels.cpu())\n",
    "        return torch.tensor(acc)\n",
    "\n",
    "    def f1(self, y_pred, y_true):\n",
    "        # Arredonda as probabilidades previstas para obter as previsões binárias (0 ou 1)\n",
    "        y_pred_labels = torch.round(torch.sigmoid(y_pred))\n",
    "        # Calcula o F1-score usando sklearn.metrics.f1_score\n",
    "        f1score = f1_score(y_true.cpu(), y_pred_labels.cpu())\n",
    "        return torch.tensor(f1score)\n",
    "    \n",
    "    def calculate_confusion_matrix(self, y_pred, y_true):\n",
    "        # Arredonda as probabilidades previstas para obter as previsões binárias (0 ou 1)\n",
    "        y_pred_labels = torch.round(torch.sigmoid(y_pred))\n",
    "        # Calcula a matriz de confusão usando as previsões e os rótulos verdadeiros\n",
    "        cm = confusion_matrix(y_true.cpu(), y_pred_labels.cpu())\n",
    "        return cm\n",
    "    \n",
    "    def plot_confusion_matrix(self, cm):\n",
    "        plt.figure(figsize=(8, 6))\n",
    "        sns.heatmap(cm, annot=True, fmt=\"d\", cmap=\"Blues\", xticklabels=['0', '1'], yticklabels=['0', '1'])\n",
    "        plt.xlabel(\"Predicted Label\")\n",
    "        plt.ylabel(\"True Label\")\n",
    "        plt.title(\"Confusion Matrix\")\n",
    "        plt.show()\n",
    "        \n",
    "\n",
    "    # define os passos de treinamento do modelo.\n",
    "    def training_step(self, batch, batch_idx):\n",
    "        X, y = batch\n",
    "        y_hat = self.forward(X)\n",
    "        loss = self.loss(y_hat, y)\n",
    "        self.log('train_loss', loss)\n",
    "        return loss\n",
    "\n",
    "    def validation_step(self, batch, batch_idx):\n",
    "        X, y = batch\n",
    "        y_hat = self.forward(X)\n",
    "        loss = self.loss(y_hat, y)\n",
    "        \n",
    "        # Calcular métricas durante a validação\n",
    "        valid_auc = self.roc_auc(y_hat, y)\n",
    "        valid_acc = self.accuracy(y_hat, y)\n",
    "        valid_f1 = self.f1(y_hat, y)\n",
    "        \n",
    "        self.log('valid_loss', loss)\n",
    "        self.log('valid_auc', valid_auc, prog_bar=True)\n",
    "        self.log('valid_acc', valid_acc, prog_bar=True)\n",
    "        self.log('valid_f1', valid_f1, prog_bar=True)\n",
    "        \n",
    "    def test_step(self, batch, batch_idx):\n",
    "        X, y = batch\n",
    "        y_logit = self.forward(X)\n",
    "        y_probs = torch.sigmoid(y_logit).detach().cpu().numpy()\n",
    "        loss = self.loss(y_logit, y)\n",
    "\n",
    "        # Calcular métricas\n",
    "        roc_auc = self.roc_auc(y_logit, y)\n",
    "        acc = self.accuracy(y_logit, y)\n",
    "        f1score = self.f1(y_logit, y)\n",
    "        cm = self.calculate_confusion_matrix(y_logit, y)\n",
    "        \n",
    "        self.plot_confusion_matrix(cm) # Plotar e salvar a matriz de confusão\n",
    "        self.log('test_loss', loss)\n",
    "        self.log('test_auc', roc_auc)\n",
    "        self.log('test_acc', acc, prog_bar=True)\n",
    "        self.log('test_f1', f1score, prog_bar=True)\n",
    "        \n",
    "        \n",
    "    def configure_optimizers(self):\n",
    "        # Cria um otimizador SGD\n",
    "        optimizer = torch.optim.SGD(self.parameters(), lr=1e-2)\n",
    "        scheduler = {\n",
    "            'scheduler': ReduceLROnPlateau(\n",
    "                optimizer, \n",
    "                mode=\"min\", \n",
    "                factor=0.5, \n",
    "                patience=5, \n",
    "                min_lr=1e-5),\n",
    "            'interval': 'epoch',\n",
    "            'frequency': 1,\n",
    "            'reduce_on_plateau': True,\n",
    "            'monitor': 'valid_loss',\n",
    "        }\n",
    "        return [optimizer], [scheduler]"
   ]
  },
  {
   "cell_type": "code",
   "execution_count": 8,
   "metadata": {},
   "outputs": [
    {
     "name": "stderr",
     "output_type": "stream",
     "text": [
      "GPU available: True (cuda), used: True\n",
      "TPU available: False, using: 0 TPU cores\n",
      "IPU available: False, using: 0 IPUs\n",
      "HPU available: False, using: 0 HPUs\n"
     ]
    },
    {
     "name": "stdout",
     "output_type": "stream",
     "text": [
      "Número de atributos (input_dim): 40\n"
     ]
    },
    {
     "name": "stderr",
     "output_type": "stream",
     "text": [
      "c:\\Users\\willi\\AppData\\Local\\Programs\\Python\\Python311\\Lib\\site-packages\\pytorch_lightning\\trainer\\connectors\\logger_connector\\logger_connector.py:67: UserWarning: Starting from v1.9.0, `tensorboardX` has been removed as a dependency of the `pytorch_lightning` package, due to potential conflicts with other packages in the ML ecosystem. For this reason, `logger=True` will use `CSVLogger` as the default logger, unless the `tensorboard` or `tensorboardX` packages are found. Please `pip install lightning[extra]` or one of them to enable TensorBoard support by default\n",
      "  warning_cache.warn(\n"
     ]
    }
   ],
   "source": [
    "model = SoftOrdering1DCNN(\n",
    "    input_dim=len(input_features), \n",
    "    output_dim=1, \n",
    "    sign_size=16, \n",
    "    cha_input=64, \n",
    "    cha_hidden=64, \n",
    "    K=2, \n",
    "    dropout_input=0.3, \n",
    "    dropout_hidden=0.3, \n",
    "    dropout_output=0.2\n",
    ")\n",
    "print(\"Número de atributos (input_dim):\", len(input_features))\n",
    "\n",
    "# interromper o treinamento prematuramente se a métrica de validação não melhorar, após x épocas\n",
    "early_stop_callback = EarlyStopping(\n",
    "   monitor='valid_loss',\n",
    "   min_delta=.0,\n",
    "   patience=21,\n",
    "   verbose=True,\n",
    "   mode='min'\n",
    ")\n",
    "\n",
    "trainer = pl.Trainer(\n",
    "    callbacks=[early_stop_callback],\n",
    "    min_epochs=10, \n",
    "    max_epochs=200, \n",
    "    accelerator='gpu') # gpus=1"
   ]
  },
  {
   "cell_type": "code",
   "execution_count": 9,
   "metadata": {},
   "outputs": [
    {
     "name": "stderr",
     "output_type": "stream",
     "text": [
      "You are using a CUDA device ('NVIDIA GeForce RTX 3060 Ti') that has Tensor Cores. To properly utilize them, you should set `torch.set_float32_matmul_precision('medium' | 'high')` which will trade-off precision for performance. For more details, read https://pytorch.org/docs/stable/generated/torch.set_float32_matmul_precision.html#torch.set_float32_matmul_precision\n",
      "LOCAL_RANK: 0 - CUDA_VISIBLE_DEVICES: [0]\n",
      "\n",
      "   | Name          | Type              | Params\n",
      "-----------------------------------------------------\n",
      "0  | batch_norm1   | BatchNorm1d       | 80    \n",
      "1  | dropout1      | Dropout           | 0     \n",
      "2  | dense1        | Linear            | 42.0 K\n",
      "3  | batch_norm_c1 | BatchNorm1d       | 128   \n",
      "4  | conv1         | Conv1d            | 641   \n",
      "5  | ave_po_c1     | AdaptiveAvgPool1d | 0     \n",
      "6  | batch_norm_c2 | BatchNorm1d       | 256   \n",
      "7  | dropout_c2    | Dropout           | 0     \n",
      "8  | conv2         | Conv1d            | 24.6 K\n",
      "9  | batch_norm_c3 | BatchNorm1d       | 128   \n",
      "10 | dropout_c3    | Dropout           | 0     \n",
      "11 | conv3         | Conv1d            | 12.3 K\n",
      "12 | batch_norm_c4 | BatchNorm1d       | 128   \n",
      "13 | conv4         | Conv1d            | 321   \n",
      "14 | avg_po_c4     | AvgPool1d         | 0     \n",
      "15 | flt           | Flatten           | 0     \n",
      "16 | batch_norm2   | BatchNorm1d       | 512   \n",
      "17 | dropout2      | Dropout           | 0     \n",
      "18 | dense2        | Linear            | 257   \n",
      "19 | loss          | BCEWithLogitsLoss | 0     \n",
      "-----------------------------------------------------\n",
      "81.3 K    Trainable params\n",
      "0         Non-trainable params\n",
      "81.3 K    Total params\n",
      "0.325     Total estimated model params size (MB)\n"
     ]
    },
    {
     "data": {
      "application/vnd.jupyter.widget-view+json": {
       "model_id": "6ad9e9f15da243f8b90499ed7bd36844",
       "version_major": 2,
       "version_minor": 0
      },
      "text/plain": [
       "Sanity Checking: 0it [00:00, ?it/s]"
      ]
     },
     "metadata": {},
     "output_type": "display_data"
    },
    {
     "name": "stderr",
     "output_type": "stream",
     "text": [
      "c:\\Users\\willi\\AppData\\Local\\Programs\\Python\\Python311\\Lib\\site-packages\\pytorch_lightning\\loops\\fit_loop.py:280: PossibleUserWarning: The number of training batches (8) is smaller than the logging interval Trainer(log_every_n_steps=50). Set a lower value for log_every_n_steps if you want to see logs for the training epoch.\n",
      "  rank_zero_warn(\n"
     ]
    },
    {
     "data": {
      "application/vnd.jupyter.widget-view+json": {
       "model_id": "e0c2f85381dd4a269f052c2e6ed68829",
       "version_major": 2,
       "version_minor": 0
      },
      "text/plain": [
       "Training: 0it [00:00, ?it/s]"
      ]
     },
     "metadata": {},
     "output_type": "display_data"
    },
    {
     "data": {
      "application/vnd.jupyter.widget-view+json": {
       "model_id": "44b7ebf4eb984067a6b2f22e4104e717",
       "version_major": 2,
       "version_minor": 0
      },
      "text/plain": [
       "Validation: 0it [00:00, ?it/s]"
      ]
     },
     "metadata": {},
     "output_type": "display_data"
    },
    {
     "name": "stderr",
     "output_type": "stream",
     "text": [
      "Metric valid_loss improved. New best score: 0.671\n"
     ]
    },
    {
     "data": {
      "application/vnd.jupyter.widget-view+json": {
       "model_id": "18379965170147fcbc3b6058f5a284bd",
       "version_major": 2,
       "version_minor": 0
      },
      "text/plain": [
       "Validation: 0it [00:00, ?it/s]"
      ]
     },
     "metadata": {},
     "output_type": "display_data"
    },
    {
     "name": "stderr",
     "output_type": "stream",
     "text": [
      "Metric valid_loss improved by 0.042 >= min_delta = 0.0. New best score: 0.629\n"
     ]
    },
    {
     "data": {
      "application/vnd.jupyter.widget-view+json": {
       "model_id": "07e4d4b27b3d4e9b9ba0d026d3ddb267",
       "version_major": 2,
       "version_minor": 0
      },
      "text/plain": [
       "Validation: 0it [00:00, ?it/s]"
      ]
     },
     "metadata": {},
     "output_type": "display_data"
    },
    {
     "name": "stderr",
     "output_type": "stream",
     "text": [
      "Metric valid_loss improved by 0.051 >= min_delta = 0.0. New best score: 0.578\n"
     ]
    },
    {
     "data": {
      "application/vnd.jupyter.widget-view+json": {
       "model_id": "7b3ba5496a7b496ba04c6d87d49a0a43",
       "version_major": 2,
       "version_minor": 0
      },
      "text/plain": [
       "Validation: 0it [00:00, ?it/s]"
      ]
     },
     "metadata": {},
     "output_type": "display_data"
    },
    {
     "name": "stderr",
     "output_type": "stream",
     "text": [
      "Metric valid_loss improved by 0.039 >= min_delta = 0.0. New best score: 0.539\n"
     ]
    },
    {
     "data": {
      "application/vnd.jupyter.widget-view+json": {
       "model_id": "cc5d333a221b4285bc36c4dda77de6ed",
       "version_major": 2,
       "version_minor": 0
      },
      "text/plain": [
       "Validation: 0it [00:00, ?it/s]"
      ]
     },
     "metadata": {},
     "output_type": "display_data"
    },
    {
     "name": "stderr",
     "output_type": "stream",
     "text": [
      "Metric valid_loss improved by 0.023 >= min_delta = 0.0. New best score: 0.516\n"
     ]
    },
    {
     "data": {
      "application/vnd.jupyter.widget-view+json": {
       "model_id": "c513f6b523c04ae7a6dbdbdb011579de",
       "version_major": 2,
       "version_minor": 0
      },
      "text/plain": [
       "Validation: 0it [00:00, ?it/s]"
      ]
     },
     "metadata": {},
     "output_type": "display_data"
    },
    {
     "name": "stderr",
     "output_type": "stream",
     "text": [
      "Metric valid_loss improved by 0.012 >= min_delta = 0.0. New best score: 0.504\n"
     ]
    },
    {
     "data": {
      "application/vnd.jupyter.widget-view+json": {
       "model_id": "18540130042b433c9ba10b8601b2b6ff",
       "version_major": 2,
       "version_minor": 0
      },
      "text/plain": [
       "Validation: 0it [00:00, ?it/s]"
      ]
     },
     "metadata": {},
     "output_type": "display_data"
    },
    {
     "name": "stderr",
     "output_type": "stream",
     "text": [
      "Metric valid_loss improved by 0.007 >= min_delta = 0.0. New best score: 0.497\n"
     ]
    },
    {
     "data": {
      "application/vnd.jupyter.widget-view+json": {
       "model_id": "5bfa05adeefd45e4806358d50be53325",
       "version_major": 2,
       "version_minor": 0
      },
      "text/plain": [
       "Validation: 0it [00:00, ?it/s]"
      ]
     },
     "metadata": {},
     "output_type": "display_data"
    },
    {
     "name": "stderr",
     "output_type": "stream",
     "text": [
      "Metric valid_loss improved by 0.004 >= min_delta = 0.0. New best score: 0.493\n"
     ]
    },
    {
     "data": {
      "application/vnd.jupyter.widget-view+json": {
       "model_id": "13aee9056e134361a7839a5735008c8f",
       "version_major": 2,
       "version_minor": 0
      },
      "text/plain": [
       "Validation: 0it [00:00, ?it/s]"
      ]
     },
     "metadata": {},
     "output_type": "display_data"
    },
    {
     "name": "stderr",
     "output_type": "stream",
     "text": [
      "Metric valid_loss improved by 0.004 >= min_delta = 0.0. New best score: 0.489\n"
     ]
    },
    {
     "data": {
      "application/vnd.jupyter.widget-view+json": {
       "model_id": "addad8a20ff54b52afd08ffae729bb81",
       "version_major": 2,
       "version_minor": 0
      },
      "text/plain": [
       "Validation: 0it [00:00, ?it/s]"
      ]
     },
     "metadata": {},
     "output_type": "display_data"
    },
    {
     "name": "stderr",
     "output_type": "stream",
     "text": [
      "Metric valid_loss improved by 0.003 >= min_delta = 0.0. New best score: 0.486\n"
     ]
    },
    {
     "data": {
      "application/vnd.jupyter.widget-view+json": {
       "model_id": "a1fd599328df48bc9b098ecb6ffe5d5b",
       "version_major": 2,
       "version_minor": 0
      },
      "text/plain": [
       "Validation: 0it [00:00, ?it/s]"
      ]
     },
     "metadata": {},
     "output_type": "display_data"
    },
    {
     "name": "stderr",
     "output_type": "stream",
     "text": [
      "Metric valid_loss improved by 0.002 >= min_delta = 0.0. New best score: 0.484\n"
     ]
    },
    {
     "data": {
      "application/vnd.jupyter.widget-view+json": {
       "model_id": "bd1d5f17cec0460ebaa38958e5de3e0f",
       "version_major": 2,
       "version_minor": 0
      },
      "text/plain": [
       "Validation: 0it [00:00, ?it/s]"
      ]
     },
     "metadata": {},
     "output_type": "display_data"
    },
    {
     "name": "stderr",
     "output_type": "stream",
     "text": [
      "Metric valid_loss improved by 0.002 >= min_delta = 0.0. New best score: 0.482\n"
     ]
    },
    {
     "data": {
      "application/vnd.jupyter.widget-view+json": {
       "model_id": "8428ad16fc4f4da2a30e16d2aa328bd2",
       "version_major": 2,
       "version_minor": 0
      },
      "text/plain": [
       "Validation: 0it [00:00, ?it/s]"
      ]
     },
     "metadata": {},
     "output_type": "display_data"
    },
    {
     "name": "stderr",
     "output_type": "stream",
     "text": [
      "Metric valid_loss improved by 0.001 >= min_delta = 0.0. New best score: 0.481\n"
     ]
    },
    {
     "data": {
      "application/vnd.jupyter.widget-view+json": {
       "model_id": "5a399286805940f5a9e1ac9702c8d2da",
       "version_major": 2,
       "version_minor": 0
      },
      "text/plain": [
       "Validation: 0it [00:00, ?it/s]"
      ]
     },
     "metadata": {},
     "output_type": "display_data"
    },
    {
     "name": "stderr",
     "output_type": "stream",
     "text": [
      "Metric valid_loss improved by 0.002 >= min_delta = 0.0. New best score: 0.479\n"
     ]
    },
    {
     "data": {
      "application/vnd.jupyter.widget-view+json": {
       "model_id": "c522936848df4405bdb8420ac77fc6b1",
       "version_major": 2,
       "version_minor": 0
      },
      "text/plain": [
       "Validation: 0it [00:00, ?it/s]"
      ]
     },
     "metadata": {},
     "output_type": "display_data"
    },
    {
     "name": "stderr",
     "output_type": "stream",
     "text": [
      "Metric valid_loss improved by 0.001 >= min_delta = 0.0. New best score: 0.478\n"
     ]
    },
    {
     "data": {
      "application/vnd.jupyter.widget-view+json": {
       "model_id": "ee91ddda473c45c7b025483c3626ac99",
       "version_major": 2,
       "version_minor": 0
      },
      "text/plain": [
       "Validation: 0it [00:00, ?it/s]"
      ]
     },
     "metadata": {},
     "output_type": "display_data"
    },
    {
     "name": "stderr",
     "output_type": "stream",
     "text": [
      "Metric valid_loss improved by 0.002 >= min_delta = 0.0. New best score: 0.477\n"
     ]
    },
    {
     "data": {
      "application/vnd.jupyter.widget-view+json": {
       "model_id": "46900190138d4979bdce23e2169278f5",
       "version_major": 2,
       "version_minor": 0
      },
      "text/plain": [
       "Validation: 0it [00:00, ?it/s]"
      ]
     },
     "metadata": {},
     "output_type": "display_data"
    },
    {
     "name": "stderr",
     "output_type": "stream",
     "text": [
      "Metric valid_loss improved by 0.001 >= min_delta = 0.0. New best score: 0.475\n"
     ]
    },
    {
     "data": {
      "application/vnd.jupyter.widget-view+json": {
       "model_id": "71255b02b24040c48bd559e0d4b41c7c",
       "version_major": 2,
       "version_minor": 0
      },
      "text/plain": [
       "Validation: 0it [00:00, ?it/s]"
      ]
     },
     "metadata": {},
     "output_type": "display_data"
    },
    {
     "name": "stderr",
     "output_type": "stream",
     "text": [
      "Metric valid_loss improved by 0.001 >= min_delta = 0.0. New best score: 0.474\n"
     ]
    },
    {
     "data": {
      "application/vnd.jupyter.widget-view+json": {
       "model_id": "d190be1004104981aead4df040504088",
       "version_major": 2,
       "version_minor": 0
      },
      "text/plain": [
       "Validation: 0it [00:00, ?it/s]"
      ]
     },
     "metadata": {},
     "output_type": "display_data"
    },
    {
     "name": "stderr",
     "output_type": "stream",
     "text": [
      "Metric valid_loss improved by 0.001 >= min_delta = 0.0. New best score: 0.473\n"
     ]
    },
    {
     "data": {
      "application/vnd.jupyter.widget-view+json": {
       "model_id": "969234e2ee0b4b2493fa39b7e882b744",
       "version_major": 2,
       "version_minor": 0
      },
      "text/plain": [
       "Validation: 0it [00:00, ?it/s]"
      ]
     },
     "metadata": {},
     "output_type": "display_data"
    },
    {
     "name": "stderr",
     "output_type": "stream",
     "text": [
      "Metric valid_loss improved by 0.001 >= min_delta = 0.0. New best score: 0.472\n"
     ]
    },
    {
     "data": {
      "application/vnd.jupyter.widget-view+json": {
       "model_id": "bc1058078d4c4389bd2d262533e0baed",
       "version_major": 2,
       "version_minor": 0
      },
      "text/plain": [
       "Validation: 0it [00:00, ?it/s]"
      ]
     },
     "metadata": {},
     "output_type": "display_data"
    },
    {
     "name": "stderr",
     "output_type": "stream",
     "text": [
      "Metric valid_loss improved by 0.002 >= min_delta = 0.0. New best score: 0.470\n"
     ]
    },
    {
     "data": {
      "application/vnd.jupyter.widget-view+json": {
       "model_id": "2ef912fa72ca4e71ad44b9ecc3dc62da",
       "version_major": 2,
       "version_minor": 0
      },
      "text/plain": [
       "Validation: 0it [00:00, ?it/s]"
      ]
     },
     "metadata": {},
     "output_type": "display_data"
    },
    {
     "name": "stderr",
     "output_type": "stream",
     "text": [
      "Metric valid_loss improved by 0.001 >= min_delta = 0.0. New best score: 0.469\n"
     ]
    },
    {
     "data": {
      "application/vnd.jupyter.widget-view+json": {
       "model_id": "3041d993e2c94ccaa02d301fcba94fe0",
       "version_major": 2,
       "version_minor": 0
      },
      "text/plain": [
       "Validation: 0it [00:00, ?it/s]"
      ]
     },
     "metadata": {},
     "output_type": "display_data"
    },
    {
     "name": "stderr",
     "output_type": "stream",
     "text": [
      "Metric valid_loss improved by 0.001 >= min_delta = 0.0. New best score: 0.468\n"
     ]
    },
    {
     "data": {
      "application/vnd.jupyter.widget-view+json": {
       "model_id": "2ffc85e3450440e49d9564124ee9c536",
       "version_major": 2,
       "version_minor": 0
      },
      "text/plain": [
       "Validation: 0it [00:00, ?it/s]"
      ]
     },
     "metadata": {},
     "output_type": "display_data"
    },
    {
     "name": "stderr",
     "output_type": "stream",
     "text": [
      "Metric valid_loss improved by 0.001 >= min_delta = 0.0. New best score: 0.467\n"
     ]
    },
    {
     "data": {
      "application/vnd.jupyter.widget-view+json": {
       "model_id": "cd3a761403684e7e9a043780712d7cad",
       "version_major": 2,
       "version_minor": 0
      },
      "text/plain": [
       "Validation: 0it [00:00, ?it/s]"
      ]
     },
     "metadata": {},
     "output_type": "display_data"
    },
    {
     "name": "stderr",
     "output_type": "stream",
     "text": [
      "Metric valid_loss improved by 0.001 >= min_delta = 0.0. New best score: 0.466\n"
     ]
    },
    {
     "data": {
      "application/vnd.jupyter.widget-view+json": {
       "model_id": "044be2bc5d434238812395766923ac64",
       "version_major": 2,
       "version_minor": 0
      },
      "text/plain": [
       "Validation: 0it [00:00, ?it/s]"
      ]
     },
     "metadata": {},
     "output_type": "display_data"
    },
    {
     "name": "stderr",
     "output_type": "stream",
     "text": [
      "Metric valid_loss improved by 0.000 >= min_delta = 0.0. New best score: 0.466\n"
     ]
    },
    {
     "data": {
      "application/vnd.jupyter.widget-view+json": {
       "model_id": "fd12a51de3234c00981c76c95827f78d",
       "version_major": 2,
       "version_minor": 0
      },
      "text/plain": [
       "Validation: 0it [00:00, ?it/s]"
      ]
     },
     "metadata": {},
     "output_type": "display_data"
    },
    {
     "name": "stderr",
     "output_type": "stream",
     "text": [
      "Metric valid_loss improved by 0.000 >= min_delta = 0.0. New best score: 0.465\n"
     ]
    },
    {
     "data": {
      "application/vnd.jupyter.widget-view+json": {
       "model_id": "5ae761999365438690e092b756566c89",
       "version_major": 2,
       "version_minor": 0
      },
      "text/plain": [
       "Validation: 0it [00:00, ?it/s]"
      ]
     },
     "metadata": {},
     "output_type": "display_data"
    },
    {
     "name": "stderr",
     "output_type": "stream",
     "text": [
      "Metric valid_loss improved by 0.001 >= min_delta = 0.0. New best score: 0.465\n"
     ]
    },
    {
     "data": {
      "application/vnd.jupyter.widget-view+json": {
       "model_id": "ba24265efb874d11b3fa256ee8ce6d79",
       "version_major": 2,
       "version_minor": 0
      },
      "text/plain": [
       "Validation: 0it [00:00, ?it/s]"
      ]
     },
     "metadata": {},
     "output_type": "display_data"
    },
    {
     "name": "stderr",
     "output_type": "stream",
     "text": [
      "Metric valid_loss improved by 0.001 >= min_delta = 0.0. New best score: 0.464\n"
     ]
    },
    {
     "data": {
      "application/vnd.jupyter.widget-view+json": {
       "model_id": "4b54b93bcca440289d9b66e04477dd8a",
       "version_major": 2,
       "version_minor": 0
      },
      "text/plain": [
       "Validation: 0it [00:00, ?it/s]"
      ]
     },
     "metadata": {},
     "output_type": "display_data"
    },
    {
     "name": "stderr",
     "output_type": "stream",
     "text": [
      "Metric valid_loss improved by 0.001 >= min_delta = 0.0. New best score: 0.463\n"
     ]
    },
    {
     "data": {
      "application/vnd.jupyter.widget-view+json": {
       "model_id": "6240dc20935a4c31a17edd5d328325d7",
       "version_major": 2,
       "version_minor": 0
      },
      "text/plain": [
       "Validation: 0it [00:00, ?it/s]"
      ]
     },
     "metadata": {},
     "output_type": "display_data"
    },
    {
     "name": "stderr",
     "output_type": "stream",
     "text": [
      "Metric valid_loss improved by 0.001 >= min_delta = 0.0. New best score: 0.462\n"
     ]
    },
    {
     "data": {
      "application/vnd.jupyter.widget-view+json": {
       "model_id": "51a2e59c59b14cfca0194392e0ae1f15",
       "version_major": 2,
       "version_minor": 0
      },
      "text/plain": [
       "Validation: 0it [00:00, ?it/s]"
      ]
     },
     "metadata": {},
     "output_type": "display_data"
    },
    {
     "name": "stderr",
     "output_type": "stream",
     "text": [
      "Metric valid_loss improved by 0.000 >= min_delta = 0.0. New best score: 0.462\n"
     ]
    },
    {
     "data": {
      "application/vnd.jupyter.widget-view+json": {
       "model_id": "0f1d5dc429854a39871ae3f4a6d6e1c4",
       "version_major": 2,
       "version_minor": 0
      },
      "text/plain": [
       "Validation: 0it [00:00, ?it/s]"
      ]
     },
     "metadata": {},
     "output_type": "display_data"
    },
    {
     "name": "stderr",
     "output_type": "stream",
     "text": [
      "Metric valid_loss improved by 0.001 >= min_delta = 0.0. New best score: 0.461\n"
     ]
    },
    {
     "data": {
      "application/vnd.jupyter.widget-view+json": {
       "model_id": "329a46a4b5a443a59fb142cbf92ca88c",
       "version_major": 2,
       "version_minor": 0
      },
      "text/plain": [
       "Validation: 0it [00:00, ?it/s]"
      ]
     },
     "metadata": {},
     "output_type": "display_data"
    },
    {
     "name": "stderr",
     "output_type": "stream",
     "text": [
      "Metric valid_loss improved by 0.001 >= min_delta = 0.0. New best score: 0.461\n"
     ]
    },
    {
     "data": {
      "application/vnd.jupyter.widget-view+json": {
       "model_id": "cb37b953a6024995a07834dbcd094919",
       "version_major": 2,
       "version_minor": 0
      },
      "text/plain": [
       "Validation: 0it [00:00, ?it/s]"
      ]
     },
     "metadata": {},
     "output_type": "display_data"
    },
    {
     "name": "stderr",
     "output_type": "stream",
     "text": [
      "Metric valid_loss improved by 0.001 >= min_delta = 0.0. New best score: 0.460\n"
     ]
    },
    {
     "data": {
      "application/vnd.jupyter.widget-view+json": {
       "model_id": "38a1f60925a94e3785105517c7877999",
       "version_major": 2,
       "version_minor": 0
      },
      "text/plain": [
       "Validation: 0it [00:00, ?it/s]"
      ]
     },
     "metadata": {},
     "output_type": "display_data"
    },
    {
     "name": "stderr",
     "output_type": "stream",
     "text": [
      "Metric valid_loss improved by 0.001 >= min_delta = 0.0. New best score: 0.460\n"
     ]
    },
    {
     "data": {
      "application/vnd.jupyter.widget-view+json": {
       "model_id": "f3a4c2a5881c40568585fa26079d0603",
       "version_major": 2,
       "version_minor": 0
      },
      "text/plain": [
       "Validation: 0it [00:00, ?it/s]"
      ]
     },
     "metadata": {},
     "output_type": "display_data"
    },
    {
     "name": "stderr",
     "output_type": "stream",
     "text": [
      "Metric valid_loss improved by 0.001 >= min_delta = 0.0. New best score: 0.459\n"
     ]
    },
    {
     "data": {
      "application/vnd.jupyter.widget-view+json": {
       "model_id": "6847db84a3cc48daa6d5c7159e6ec041",
       "version_major": 2,
       "version_minor": 0
      },
      "text/plain": [
       "Validation: 0it [00:00, ?it/s]"
      ]
     },
     "metadata": {},
     "output_type": "display_data"
    },
    {
     "name": "stderr",
     "output_type": "stream",
     "text": [
      "Metric valid_loss improved by 0.001 >= min_delta = 0.0. New best score: 0.458\n"
     ]
    },
    {
     "data": {
      "application/vnd.jupyter.widget-view+json": {
       "model_id": "288887017b5b457c90305cfcf21354dd",
       "version_major": 2,
       "version_minor": 0
      },
      "text/plain": [
       "Validation: 0it [00:00, ?it/s]"
      ]
     },
     "metadata": {},
     "output_type": "display_data"
    },
    {
     "name": "stderr",
     "output_type": "stream",
     "text": [
      "Metric valid_loss improved by 0.000 >= min_delta = 0.0. New best score: 0.457\n"
     ]
    },
    {
     "data": {
      "application/vnd.jupyter.widget-view+json": {
       "model_id": "523d7be7316644c9a9a43c47b7e7dc2d",
       "version_major": 2,
       "version_minor": 0
      },
      "text/plain": [
       "Validation: 0it [00:00, ?it/s]"
      ]
     },
     "metadata": {},
     "output_type": "display_data"
    },
    {
     "name": "stderr",
     "output_type": "stream",
     "text": [
      "Metric valid_loss improved by 0.001 >= min_delta = 0.0. New best score: 0.456\n"
     ]
    },
    {
     "data": {
      "application/vnd.jupyter.widget-view+json": {
       "model_id": "2477692c99304e1ba3fb7e3394630d53",
       "version_major": 2,
       "version_minor": 0
      },
      "text/plain": [
       "Validation: 0it [00:00, ?it/s]"
      ]
     },
     "metadata": {},
     "output_type": "display_data"
    },
    {
     "name": "stderr",
     "output_type": "stream",
     "text": [
      "Metric valid_loss improved by 0.000 >= min_delta = 0.0. New best score: 0.456\n"
     ]
    },
    {
     "data": {
      "application/vnd.jupyter.widget-view+json": {
       "model_id": "8d9a3d0628d84789bd014e05cb0b5a09",
       "version_major": 2,
       "version_minor": 0
      },
      "text/plain": [
       "Validation: 0it [00:00, ?it/s]"
      ]
     },
     "metadata": {},
     "output_type": "display_data"
    },
    {
     "name": "stderr",
     "output_type": "stream",
     "text": [
      "Metric valid_loss improved by 0.000 >= min_delta = 0.0. New best score: 0.456\n"
     ]
    },
    {
     "data": {
      "application/vnd.jupyter.widget-view+json": {
       "model_id": "19fbb2bf109940088da5c879df54eb1d",
       "version_major": 2,
       "version_minor": 0
      },
      "text/plain": [
       "Validation: 0it [00:00, ?it/s]"
      ]
     },
     "metadata": {},
     "output_type": "display_data"
    },
    {
     "name": "stderr",
     "output_type": "stream",
     "text": [
      "Metric valid_loss improved by 0.000 >= min_delta = 0.0. New best score: 0.455\n"
     ]
    },
    {
     "data": {
      "application/vnd.jupyter.widget-view+json": {
       "model_id": "798d833bf0d448a7b7373312e4e8cdea",
       "version_major": 2,
       "version_minor": 0
      },
      "text/plain": [
       "Validation: 0it [00:00, ?it/s]"
      ]
     },
     "metadata": {},
     "output_type": "display_data"
    },
    {
     "name": "stderr",
     "output_type": "stream",
     "text": [
      "Metric valid_loss improved by 0.000 >= min_delta = 0.0. New best score: 0.455\n"
     ]
    },
    {
     "data": {
      "application/vnd.jupyter.widget-view+json": {
       "model_id": "e77a6d21cb124420a92c0668771b3b22",
       "version_major": 2,
       "version_minor": 0
      },
      "text/plain": [
       "Validation: 0it [00:00, ?it/s]"
      ]
     },
     "metadata": {},
     "output_type": "display_data"
    },
    {
     "name": "stderr",
     "output_type": "stream",
     "text": [
      "Metric valid_loss improved by 0.000 >= min_delta = 0.0. New best score: 0.455\n"
     ]
    },
    {
     "data": {
      "application/vnd.jupyter.widget-view+json": {
       "model_id": "033eb46e1d864969ad06d830ec21b87e",
       "version_major": 2,
       "version_minor": 0
      },
      "text/plain": [
       "Validation: 0it [00:00, ?it/s]"
      ]
     },
     "metadata": {},
     "output_type": "display_data"
    },
    {
     "name": "stderr",
     "output_type": "stream",
     "text": [
      "Metric valid_loss improved by 0.001 >= min_delta = 0.0. New best score: 0.454\n"
     ]
    },
    {
     "data": {
      "application/vnd.jupyter.widget-view+json": {
       "model_id": "2d141d71a3a546b8998605c57eeebc06",
       "version_major": 2,
       "version_minor": 0
      },
      "text/plain": [
       "Validation: 0it [00:00, ?it/s]"
      ]
     },
     "metadata": {},
     "output_type": "display_data"
    },
    {
     "name": "stderr",
     "output_type": "stream",
     "text": [
      "Metric valid_loss improved by 0.000 >= min_delta = 0.0. New best score: 0.454\n"
     ]
    },
    {
     "data": {
      "application/vnd.jupyter.widget-view+json": {
       "model_id": "8d3b6a2df1614b58ba91893900398ec5",
       "version_major": 2,
       "version_minor": 0
      },
      "text/plain": [
       "Validation: 0it [00:00, ?it/s]"
      ]
     },
     "metadata": {},
     "output_type": "display_data"
    },
    {
     "name": "stderr",
     "output_type": "stream",
     "text": [
      "Metric valid_loss improved by 0.001 >= min_delta = 0.0. New best score: 0.453\n"
     ]
    },
    {
     "data": {
      "application/vnd.jupyter.widget-view+json": {
       "model_id": "fb769a24d70843579979177289fc9f88",
       "version_major": 2,
       "version_minor": 0
      },
      "text/plain": [
       "Validation: 0it [00:00, ?it/s]"
      ]
     },
     "metadata": {},
     "output_type": "display_data"
    },
    {
     "name": "stderr",
     "output_type": "stream",
     "text": [
      "Metric valid_loss improved by 0.000 >= min_delta = 0.0. New best score: 0.453\n"
     ]
    },
    {
     "data": {
      "application/vnd.jupyter.widget-view+json": {
       "model_id": "75f631e3052b476d9a5efccec6c5e27a",
       "version_major": 2,
       "version_minor": 0
      },
      "text/plain": [
       "Validation: 0it [00:00, ?it/s]"
      ]
     },
     "metadata": {},
     "output_type": "display_data"
    },
    {
     "name": "stderr",
     "output_type": "stream",
     "text": [
      "Metric valid_loss improved by 0.001 >= min_delta = 0.0. New best score: 0.452\n"
     ]
    },
    {
     "data": {
      "application/vnd.jupyter.widget-view+json": {
       "model_id": "3b3c2503853240838f680277c5c1be64",
       "version_major": 2,
       "version_minor": 0
      },
      "text/plain": [
       "Validation: 0it [00:00, ?it/s]"
      ]
     },
     "metadata": {},
     "output_type": "display_data"
    },
    {
     "name": "stderr",
     "output_type": "stream",
     "text": [
      "Metric valid_loss improved by 0.000 >= min_delta = 0.0. New best score: 0.452\n"
     ]
    },
    {
     "data": {
      "application/vnd.jupyter.widget-view+json": {
       "model_id": "aa43fe2477ed41bab57bdb472e23e38a",
       "version_major": 2,
       "version_minor": 0
      },
      "text/plain": [
       "Validation: 0it [00:00, ?it/s]"
      ]
     },
     "metadata": {},
     "output_type": "display_data"
    },
    {
     "name": "stderr",
     "output_type": "stream",
     "text": [
      "Metric valid_loss improved by 0.001 >= min_delta = 0.0. New best score: 0.451\n"
     ]
    },
    {
     "data": {
      "application/vnd.jupyter.widget-view+json": {
       "model_id": "39c93e6c01e24cc3ad4d0f11f6cca21a",
       "version_major": 2,
       "version_minor": 0
      },
      "text/plain": [
       "Validation: 0it [00:00, ?it/s]"
      ]
     },
     "metadata": {},
     "output_type": "display_data"
    },
    {
     "name": "stderr",
     "output_type": "stream",
     "text": [
      "Metric valid_loss improved by 0.000 >= min_delta = 0.0. New best score: 0.451\n"
     ]
    },
    {
     "data": {
      "application/vnd.jupyter.widget-view+json": {
       "model_id": "9ad44cd75e61437594f08ef8a995d005",
       "version_major": 2,
       "version_minor": 0
      },
      "text/plain": [
       "Validation: 0it [00:00, ?it/s]"
      ]
     },
     "metadata": {},
     "output_type": "display_data"
    },
    {
     "name": "stderr",
     "output_type": "stream",
     "text": [
      "Metric valid_loss improved by 0.001 >= min_delta = 0.0. New best score: 0.450\n"
     ]
    },
    {
     "data": {
      "application/vnd.jupyter.widget-view+json": {
       "model_id": "80113c5e53b543d68054ab8ec30d7932",
       "version_major": 2,
       "version_minor": 0
      },
      "text/plain": [
       "Validation: 0it [00:00, ?it/s]"
      ]
     },
     "metadata": {},
     "output_type": "display_data"
    },
    {
     "name": "stderr",
     "output_type": "stream",
     "text": [
      "Metric valid_loss improved by 0.000 >= min_delta = 0.0. New best score: 0.450\n"
     ]
    },
    {
     "data": {
      "application/vnd.jupyter.widget-view+json": {
       "model_id": "87949f8f450141ad99be04228a1d2d56",
       "version_major": 2,
       "version_minor": 0
      },
      "text/plain": [
       "Validation: 0it [00:00, ?it/s]"
      ]
     },
     "metadata": {},
     "output_type": "display_data"
    },
    {
     "name": "stderr",
     "output_type": "stream",
     "text": [
      "Metric valid_loss improved by 0.001 >= min_delta = 0.0. New best score: 0.449\n"
     ]
    },
    {
     "data": {
      "application/vnd.jupyter.widget-view+json": {
       "model_id": "27a3ce55723c46648b216836cbea6591",
       "version_major": 2,
       "version_minor": 0
      },
      "text/plain": [
       "Validation: 0it [00:00, ?it/s]"
      ]
     },
     "metadata": {},
     "output_type": "display_data"
    },
    {
     "name": "stderr",
     "output_type": "stream",
     "text": [
      "Metric valid_loss improved by 0.000 >= min_delta = 0.0. New best score: 0.449\n"
     ]
    },
    {
     "data": {
      "application/vnd.jupyter.widget-view+json": {
       "model_id": "78f40aef24964c89a2ef553063f2161c",
       "version_major": 2,
       "version_minor": 0
      },
      "text/plain": [
       "Validation: 0it [00:00, ?it/s]"
      ]
     },
     "metadata": {},
     "output_type": "display_data"
    },
    {
     "data": {
      "application/vnd.jupyter.widget-view+json": {
       "model_id": "8f0ec4d4fac4462fae772563f5267095",
       "version_major": 2,
       "version_minor": 0
      },
      "text/plain": [
       "Validation: 0it [00:00, ?it/s]"
      ]
     },
     "metadata": {},
     "output_type": "display_data"
    },
    {
     "name": "stderr",
     "output_type": "stream",
     "text": [
      "Metric valid_loss improved by 0.000 >= min_delta = 0.0. New best score: 0.448\n"
     ]
    },
    {
     "data": {
      "application/vnd.jupyter.widget-view+json": {
       "model_id": "520726c29cb1403a95e1672b88957548",
       "version_major": 2,
       "version_minor": 0
      },
      "text/plain": [
       "Validation: 0it [00:00, ?it/s]"
      ]
     },
     "metadata": {},
     "output_type": "display_data"
    },
    {
     "name": "stderr",
     "output_type": "stream",
     "text": [
      "Metric valid_loss improved by 0.001 >= min_delta = 0.0. New best score: 0.448\n"
     ]
    },
    {
     "data": {
      "application/vnd.jupyter.widget-view+json": {
       "model_id": "e7cb22a33b464b21afcf737bff91b809",
       "version_major": 2,
       "version_minor": 0
      },
      "text/plain": [
       "Validation: 0it [00:00, ?it/s]"
      ]
     },
     "metadata": {},
     "output_type": "display_data"
    },
    {
     "name": "stderr",
     "output_type": "stream",
     "text": [
      "Metric valid_loss improved by 0.001 >= min_delta = 0.0. New best score: 0.447\n"
     ]
    },
    {
     "data": {
      "application/vnd.jupyter.widget-view+json": {
       "model_id": "6650c56510844eb1b0af2ecb457628cc",
       "version_major": 2,
       "version_minor": 0
      },
      "text/plain": [
       "Validation: 0it [00:00, ?it/s]"
      ]
     },
     "metadata": {},
     "output_type": "display_data"
    },
    {
     "name": "stderr",
     "output_type": "stream",
     "text": [
      "Metric valid_loss improved by 0.000 >= min_delta = 0.0. New best score: 0.447\n"
     ]
    },
    {
     "data": {
      "application/vnd.jupyter.widget-view+json": {
       "model_id": "130ae569425741939dff911277e0116d",
       "version_major": 2,
       "version_minor": 0
      },
      "text/plain": [
       "Validation: 0it [00:00, ?it/s]"
      ]
     },
     "metadata": {},
     "output_type": "display_data"
    },
    {
     "name": "stderr",
     "output_type": "stream",
     "text": [
      "Metric valid_loss improved by 0.001 >= min_delta = 0.0. New best score: 0.446\n"
     ]
    },
    {
     "data": {
      "application/vnd.jupyter.widget-view+json": {
       "model_id": "f4bb1dd1012e438180d8ec2981565445",
       "version_major": 2,
       "version_minor": 0
      },
      "text/plain": [
       "Validation: 0it [00:00, ?it/s]"
      ]
     },
     "metadata": {},
     "output_type": "display_data"
    },
    {
     "name": "stderr",
     "output_type": "stream",
     "text": [
      "Metric valid_loss improved by 0.001 >= min_delta = 0.0. New best score: 0.446\n"
     ]
    },
    {
     "data": {
      "application/vnd.jupyter.widget-view+json": {
       "model_id": "f1fc826f25b04ccaaf2a8d73e3d823e9",
       "version_major": 2,
       "version_minor": 0
      },
      "text/plain": [
       "Validation: 0it [00:00, ?it/s]"
      ]
     },
     "metadata": {},
     "output_type": "display_data"
    },
    {
     "name": "stderr",
     "output_type": "stream",
     "text": [
      "Metric valid_loss improved by 0.001 >= min_delta = 0.0. New best score: 0.445\n"
     ]
    },
    {
     "data": {
      "application/vnd.jupyter.widget-view+json": {
       "model_id": "bec0f6a47db84c29b651ce70bc44c496",
       "version_major": 2,
       "version_minor": 0
      },
      "text/plain": [
       "Validation: 0it [00:00, ?it/s]"
      ]
     },
     "metadata": {},
     "output_type": "display_data"
    },
    {
     "name": "stderr",
     "output_type": "stream",
     "text": [
      "Metric valid_loss improved by 0.000 >= min_delta = 0.0. New best score: 0.445\n"
     ]
    },
    {
     "data": {
      "application/vnd.jupyter.widget-view+json": {
       "model_id": "83289e9efec9496ebbacf4b5238c6498",
       "version_major": 2,
       "version_minor": 0
      },
      "text/plain": [
       "Validation: 0it [00:00, ?it/s]"
      ]
     },
     "metadata": {},
     "output_type": "display_data"
    },
    {
     "name": "stderr",
     "output_type": "stream",
     "text": [
      "Metric valid_loss improved by 0.000 >= min_delta = 0.0. New best score: 0.444\n"
     ]
    },
    {
     "data": {
      "application/vnd.jupyter.widget-view+json": {
       "model_id": "d014140b3eb545038b7c018dbeeb63bb",
       "version_major": 2,
       "version_minor": 0
      },
      "text/plain": [
       "Validation: 0it [00:00, ?it/s]"
      ]
     },
     "metadata": {},
     "output_type": "display_data"
    },
    {
     "name": "stderr",
     "output_type": "stream",
     "text": [
      "Metric valid_loss improved by 0.000 >= min_delta = 0.0. New best score: 0.444\n"
     ]
    },
    {
     "data": {
      "application/vnd.jupyter.widget-view+json": {
       "model_id": "94b29858fb0e44fcb00c231d24a25761",
       "version_major": 2,
       "version_minor": 0
      },
      "text/plain": [
       "Validation: 0it [00:00, ?it/s]"
      ]
     },
     "metadata": {},
     "output_type": "display_data"
    },
    {
     "name": "stderr",
     "output_type": "stream",
     "text": [
      "Metric valid_loss improved by 0.000 >= min_delta = 0.0. New best score: 0.444\n"
     ]
    },
    {
     "data": {
      "application/vnd.jupyter.widget-view+json": {
       "model_id": "ce32181661a54e67828cb6291e62c635",
       "version_major": 2,
       "version_minor": 0
      },
      "text/plain": [
       "Validation: 0it [00:00, ?it/s]"
      ]
     },
     "metadata": {},
     "output_type": "display_data"
    },
    {
     "name": "stderr",
     "output_type": "stream",
     "text": [
      "Metric valid_loss improved by 0.001 >= min_delta = 0.0. New best score: 0.443\n"
     ]
    },
    {
     "data": {
      "application/vnd.jupyter.widget-view+json": {
       "model_id": "3f9b194779f3493fb9131330071986a6",
       "version_major": 2,
       "version_minor": 0
      },
      "text/plain": [
       "Validation: 0it [00:00, ?it/s]"
      ]
     },
     "metadata": {},
     "output_type": "display_data"
    },
    {
     "name": "stderr",
     "output_type": "stream",
     "text": [
      "Metric valid_loss improved by 0.000 >= min_delta = 0.0. New best score: 0.443\n"
     ]
    },
    {
     "data": {
      "application/vnd.jupyter.widget-view+json": {
       "model_id": "4fb07304b70c4d2fb3edfab97af79660",
       "version_major": 2,
       "version_minor": 0
      },
      "text/plain": [
       "Validation: 0it [00:00, ?it/s]"
      ]
     },
     "metadata": {},
     "output_type": "display_data"
    },
    {
     "name": "stderr",
     "output_type": "stream",
     "text": [
      "Metric valid_loss improved by 0.001 >= min_delta = 0.0. New best score: 0.442\n"
     ]
    },
    {
     "data": {
      "application/vnd.jupyter.widget-view+json": {
       "model_id": "7510d264978d4fee9f6cebf945ef4d86",
       "version_major": 2,
       "version_minor": 0
      },
      "text/plain": [
       "Validation: 0it [00:00, ?it/s]"
      ]
     },
     "metadata": {},
     "output_type": "display_data"
    },
    {
     "name": "stderr",
     "output_type": "stream",
     "text": [
      "Metric valid_loss improved by 0.001 >= min_delta = 0.0. New best score: 0.441\n"
     ]
    },
    {
     "data": {
      "application/vnd.jupyter.widget-view+json": {
       "model_id": "ab71c4007c164d56811d70db08ebb3db",
       "version_major": 2,
       "version_minor": 0
      },
      "text/plain": [
       "Validation: 0it [00:00, ?it/s]"
      ]
     },
     "metadata": {},
     "output_type": "display_data"
    },
    {
     "name": "stderr",
     "output_type": "stream",
     "text": [
      "Metric valid_loss improved by 0.001 >= min_delta = 0.0. New best score: 0.441\n"
     ]
    },
    {
     "data": {
      "application/vnd.jupyter.widget-view+json": {
       "model_id": "d93664d94247446bb6ee6b38463a2f59",
       "version_major": 2,
       "version_minor": 0
      },
      "text/plain": [
       "Validation: 0it [00:00, ?it/s]"
      ]
     },
     "metadata": {},
     "output_type": "display_data"
    },
    {
     "name": "stderr",
     "output_type": "stream",
     "text": [
      "Metric valid_loss improved by 0.000 >= min_delta = 0.0. New best score: 0.440\n"
     ]
    },
    {
     "data": {
      "application/vnd.jupyter.widget-view+json": {
       "model_id": "445ce396821a4f08984f89d2641eff0e",
       "version_major": 2,
       "version_minor": 0
      },
      "text/plain": [
       "Validation: 0it [00:00, ?it/s]"
      ]
     },
     "metadata": {},
     "output_type": "display_data"
    },
    {
     "name": "stderr",
     "output_type": "stream",
     "text": [
      "Metric valid_loss improved by 0.000 >= min_delta = 0.0. New best score: 0.440\n"
     ]
    },
    {
     "data": {
      "application/vnd.jupyter.widget-view+json": {
       "model_id": "e568f475187d45bfae15a9cdf2225fd0",
       "version_major": 2,
       "version_minor": 0
      },
      "text/plain": [
       "Validation: 0it [00:00, ?it/s]"
      ]
     },
     "metadata": {},
     "output_type": "display_data"
    },
    {
     "name": "stderr",
     "output_type": "stream",
     "text": [
      "Metric valid_loss improved by 0.000 >= min_delta = 0.0. New best score: 0.440\n"
     ]
    },
    {
     "data": {
      "application/vnd.jupyter.widget-view+json": {
       "model_id": "b55c7cce0b47461a9936e302dc3cf350",
       "version_major": 2,
       "version_minor": 0
      },
      "text/plain": [
       "Validation: 0it [00:00, ?it/s]"
      ]
     },
     "metadata": {},
     "output_type": "display_data"
    },
    {
     "name": "stderr",
     "output_type": "stream",
     "text": [
      "Metric valid_loss improved by 0.000 >= min_delta = 0.0. New best score: 0.440\n"
     ]
    },
    {
     "data": {
      "application/vnd.jupyter.widget-view+json": {
       "model_id": "3c7e5e01f570455ea0360dffdc9d491a",
       "version_major": 2,
       "version_minor": 0
      },
      "text/plain": [
       "Validation: 0it [00:00, ?it/s]"
      ]
     },
     "metadata": {},
     "output_type": "display_data"
    },
    {
     "name": "stderr",
     "output_type": "stream",
     "text": [
      "Metric valid_loss improved by 0.000 >= min_delta = 0.0. New best score: 0.439\n"
     ]
    },
    {
     "data": {
      "application/vnd.jupyter.widget-view+json": {
       "model_id": "d08542f64b0449b0aafc32013acde459",
       "version_major": 2,
       "version_minor": 0
      },
      "text/plain": [
       "Validation: 0it [00:00, ?it/s]"
      ]
     },
     "metadata": {},
     "output_type": "display_data"
    },
    {
     "name": "stderr",
     "output_type": "stream",
     "text": [
      "Metric valid_loss improved by 0.001 >= min_delta = 0.0. New best score: 0.439\n"
     ]
    },
    {
     "data": {
      "application/vnd.jupyter.widget-view+json": {
       "model_id": "4eef97d025fd43c49c90191404b2e153",
       "version_major": 2,
       "version_minor": 0
      },
      "text/plain": [
       "Validation: 0it [00:00, ?it/s]"
      ]
     },
     "metadata": {},
     "output_type": "display_data"
    },
    {
     "name": "stderr",
     "output_type": "stream",
     "text": [
      "Metric valid_loss improved by 0.000 >= min_delta = 0.0. New best score: 0.438\n"
     ]
    },
    {
     "data": {
      "application/vnd.jupyter.widget-view+json": {
       "model_id": "5c60159107494f8b87f715c726e8aa16",
       "version_major": 2,
       "version_minor": 0
      },
      "text/plain": [
       "Validation: 0it [00:00, ?it/s]"
      ]
     },
     "metadata": {},
     "output_type": "display_data"
    },
    {
     "name": "stderr",
     "output_type": "stream",
     "text": [
      "Metric valid_loss improved by 0.000 >= min_delta = 0.0. New best score: 0.438\n"
     ]
    },
    {
     "data": {
      "application/vnd.jupyter.widget-view+json": {
       "model_id": "d7611d8dce634ee2aaf27f3f2ef878f8",
       "version_major": 2,
       "version_minor": 0
      },
      "text/plain": [
       "Validation: 0it [00:00, ?it/s]"
      ]
     },
     "metadata": {},
     "output_type": "display_data"
    },
    {
     "name": "stderr",
     "output_type": "stream",
     "text": [
      "Metric valid_loss improved by 0.000 >= min_delta = 0.0. New best score: 0.437\n"
     ]
    },
    {
     "data": {
      "application/vnd.jupyter.widget-view+json": {
       "model_id": "8ed560ed292b44409cf258907a8888d9",
       "version_major": 2,
       "version_minor": 0
      },
      "text/plain": [
       "Validation: 0it [00:00, ?it/s]"
      ]
     },
     "metadata": {},
     "output_type": "display_data"
    },
    {
     "name": "stderr",
     "output_type": "stream",
     "text": [
      "Metric valid_loss improved by 0.001 >= min_delta = 0.0. New best score: 0.437\n"
     ]
    },
    {
     "data": {
      "application/vnd.jupyter.widget-view+json": {
       "model_id": "593ae3ee4b9d4c26bb9a3e1a26021603",
       "version_major": 2,
       "version_minor": 0
      },
      "text/plain": [
       "Validation: 0it [00:00, ?it/s]"
      ]
     },
     "metadata": {},
     "output_type": "display_data"
    },
    {
     "name": "stderr",
     "output_type": "stream",
     "text": [
      "Metric valid_loss improved by 0.001 >= min_delta = 0.0. New best score: 0.436\n"
     ]
    },
    {
     "data": {
      "application/vnd.jupyter.widget-view+json": {
       "model_id": "db1fd31921ce4c77bdcf04f565c86ce5",
       "version_major": 2,
       "version_minor": 0
      },
      "text/plain": [
       "Validation: 0it [00:00, ?it/s]"
      ]
     },
     "metadata": {},
     "output_type": "display_data"
    },
    {
     "name": "stderr",
     "output_type": "stream",
     "text": [
      "Metric valid_loss improved by 0.000 >= min_delta = 0.0. New best score: 0.436\n"
     ]
    },
    {
     "data": {
      "application/vnd.jupyter.widget-view+json": {
       "model_id": "8dd1a19e6cb9474bbf7d5ac7f98f6704",
       "version_major": 2,
       "version_minor": 0
      },
      "text/plain": [
       "Validation: 0it [00:00, ?it/s]"
      ]
     },
     "metadata": {},
     "output_type": "display_data"
    },
    {
     "name": "stderr",
     "output_type": "stream",
     "text": [
      "Metric valid_loss improved by 0.000 >= min_delta = 0.0. New best score: 0.435\n"
     ]
    },
    {
     "data": {
      "application/vnd.jupyter.widget-view+json": {
       "model_id": "1ad3d8158d984aa3a489e3f42b4872e3",
       "version_major": 2,
       "version_minor": 0
      },
      "text/plain": [
       "Validation: 0it [00:00, ?it/s]"
      ]
     },
     "metadata": {},
     "output_type": "display_data"
    },
    {
     "name": "stderr",
     "output_type": "stream",
     "text": [
      "Metric valid_loss improved by 0.000 >= min_delta = 0.0. New best score: 0.435\n"
     ]
    },
    {
     "data": {
      "application/vnd.jupyter.widget-view+json": {
       "model_id": "5443eccaddf34855a7e3a5e34dd0bef0",
       "version_major": 2,
       "version_minor": 0
      },
      "text/plain": [
       "Validation: 0it [00:00, ?it/s]"
      ]
     },
     "metadata": {},
     "output_type": "display_data"
    },
    {
     "name": "stderr",
     "output_type": "stream",
     "text": [
      "Metric valid_loss improved by 0.001 >= min_delta = 0.0. New best score: 0.434\n"
     ]
    },
    {
     "data": {
      "application/vnd.jupyter.widget-view+json": {
       "model_id": "c96f40795c6b443e8f54274a6d741a9b",
       "version_major": 2,
       "version_minor": 0
      },
      "text/plain": [
       "Validation: 0it [00:00, ?it/s]"
      ]
     },
     "metadata": {},
     "output_type": "display_data"
    },
    {
     "name": "stderr",
     "output_type": "stream",
     "text": [
      "Metric valid_loss improved by 0.000 >= min_delta = 0.0. New best score: 0.434\n"
     ]
    },
    {
     "data": {
      "application/vnd.jupyter.widget-view+json": {
       "model_id": "4a4a624b1b214c529727aa5e8409be01",
       "version_major": 2,
       "version_minor": 0
      },
      "text/plain": [
       "Validation: 0it [00:00, ?it/s]"
      ]
     },
     "metadata": {},
     "output_type": "display_data"
    },
    {
     "name": "stderr",
     "output_type": "stream",
     "text": [
      "Metric valid_loss improved by 0.000 >= min_delta = 0.0. New best score: 0.434\n"
     ]
    },
    {
     "data": {
      "application/vnd.jupyter.widget-view+json": {
       "model_id": "198d5ab34d494e948a531e08ccff4ac9",
       "version_major": 2,
       "version_minor": 0
      },
      "text/plain": [
       "Validation: 0it [00:00, ?it/s]"
      ]
     },
     "metadata": {},
     "output_type": "display_data"
    },
    {
     "name": "stderr",
     "output_type": "stream",
     "text": [
      "Metric valid_loss improved by 0.000 >= min_delta = 0.0. New best score: 0.434\n"
     ]
    },
    {
     "data": {
      "application/vnd.jupyter.widget-view+json": {
       "model_id": "2e05b26fdf3e498fbb5984931bcf237b",
       "version_major": 2,
       "version_minor": 0
      },
      "text/plain": [
       "Validation: 0it [00:00, ?it/s]"
      ]
     },
     "metadata": {},
     "output_type": "display_data"
    },
    {
     "name": "stderr",
     "output_type": "stream",
     "text": [
      "Metric valid_loss improved by 0.001 >= min_delta = 0.0. New best score: 0.433\n"
     ]
    },
    {
     "data": {
      "application/vnd.jupyter.widget-view+json": {
       "model_id": "0eafbb710a4344238411fa48bfdf82dc",
       "version_major": 2,
       "version_minor": 0
      },
      "text/plain": [
       "Validation: 0it [00:00, ?it/s]"
      ]
     },
     "metadata": {},
     "output_type": "display_data"
    },
    {
     "name": "stderr",
     "output_type": "stream",
     "text": [
      "Metric valid_loss improved by 0.001 >= min_delta = 0.0. New best score: 0.432\n"
     ]
    },
    {
     "data": {
      "application/vnd.jupyter.widget-view+json": {
       "model_id": "4073c05f001343ddb6428cc3820417b5",
       "version_major": 2,
       "version_minor": 0
      },
      "text/plain": [
       "Validation: 0it [00:00, ?it/s]"
      ]
     },
     "metadata": {},
     "output_type": "display_data"
    },
    {
     "data": {
      "application/vnd.jupyter.widget-view+json": {
       "model_id": "540c9059791a44208031537a5d000414",
       "version_major": 2,
       "version_minor": 0
      },
      "text/plain": [
       "Validation: 0it [00:00, ?it/s]"
      ]
     },
     "metadata": {},
     "output_type": "display_data"
    },
    {
     "name": "stderr",
     "output_type": "stream",
     "text": [
      "Metric valid_loss improved by 0.000 >= min_delta = 0.0. New best score: 0.432\n"
     ]
    },
    {
     "data": {
      "application/vnd.jupyter.widget-view+json": {
       "model_id": "d86412b491644741b2e43ff961dc9348",
       "version_major": 2,
       "version_minor": 0
      },
      "text/plain": [
       "Validation: 0it [00:00, ?it/s]"
      ]
     },
     "metadata": {},
     "output_type": "display_data"
    },
    {
     "name": "stderr",
     "output_type": "stream",
     "text": [
      "Metric valid_loss improved by 0.001 >= min_delta = 0.0. New best score: 0.431\n"
     ]
    },
    {
     "data": {
      "application/vnd.jupyter.widget-view+json": {
       "model_id": "d7c6acec567d4baeac72c6149e734d4e",
       "version_major": 2,
       "version_minor": 0
      },
      "text/plain": [
       "Validation: 0it [00:00, ?it/s]"
      ]
     },
     "metadata": {},
     "output_type": "display_data"
    },
    {
     "name": "stderr",
     "output_type": "stream",
     "text": [
      "Metric valid_loss improved by 0.000 >= min_delta = 0.0. New best score: 0.431\n"
     ]
    },
    {
     "data": {
      "application/vnd.jupyter.widget-view+json": {
       "model_id": "c201b2b3538942a2966f1239518482d9",
       "version_major": 2,
       "version_minor": 0
      },
      "text/plain": [
       "Validation: 0it [00:00, ?it/s]"
      ]
     },
     "metadata": {},
     "output_type": "display_data"
    },
    {
     "name": "stderr",
     "output_type": "stream",
     "text": [
      "Metric valid_loss improved by 0.000 >= min_delta = 0.0. New best score: 0.431\n"
     ]
    },
    {
     "data": {
      "application/vnd.jupyter.widget-view+json": {
       "model_id": "9d3e2932f7114cb186e140994d7177b6",
       "version_major": 2,
       "version_minor": 0
      },
      "text/plain": [
       "Validation: 0it [00:00, ?it/s]"
      ]
     },
     "metadata": {},
     "output_type": "display_data"
    },
    {
     "name": "stderr",
     "output_type": "stream",
     "text": [
      "Metric valid_loss improved by 0.001 >= min_delta = 0.0. New best score: 0.430\n"
     ]
    },
    {
     "data": {
      "application/vnd.jupyter.widget-view+json": {
       "model_id": "69fc45504e084cd1ae2d82877f05a275",
       "version_major": 2,
       "version_minor": 0
      },
      "text/plain": [
       "Validation: 0it [00:00, ?it/s]"
      ]
     },
     "metadata": {},
     "output_type": "display_data"
    },
    {
     "name": "stderr",
     "output_type": "stream",
     "text": [
      "Metric valid_loss improved by 0.000 >= min_delta = 0.0. New best score: 0.430\n"
     ]
    },
    {
     "data": {
      "application/vnd.jupyter.widget-view+json": {
       "model_id": "5bde2027babb4ecab4d432b79f5cf0e4",
       "version_major": 2,
       "version_minor": 0
      },
      "text/plain": [
       "Validation: 0it [00:00, ?it/s]"
      ]
     },
     "metadata": {},
     "output_type": "display_data"
    },
    {
     "name": "stderr",
     "output_type": "stream",
     "text": [
      "Metric valid_loss improved by 0.000 >= min_delta = 0.0. New best score: 0.429\n"
     ]
    },
    {
     "data": {
      "application/vnd.jupyter.widget-view+json": {
       "model_id": "5f0864d6e64e47478437185f0f6c85ef",
       "version_major": 2,
       "version_minor": 0
      },
      "text/plain": [
       "Validation: 0it [00:00, ?it/s]"
      ]
     },
     "metadata": {},
     "output_type": "display_data"
    },
    {
     "name": "stderr",
     "output_type": "stream",
     "text": [
      "Metric valid_loss improved by 0.000 >= min_delta = 0.0. New best score: 0.429\n"
     ]
    },
    {
     "data": {
      "application/vnd.jupyter.widget-view+json": {
       "model_id": "6e46f778efc54d4d925ddcc93c39d008",
       "version_major": 2,
       "version_minor": 0
      },
      "text/plain": [
       "Validation: 0it [00:00, ?it/s]"
      ]
     },
     "metadata": {},
     "output_type": "display_data"
    },
    {
     "name": "stderr",
     "output_type": "stream",
     "text": [
      "Metric valid_loss improved by 0.000 >= min_delta = 0.0. New best score: 0.429\n"
     ]
    },
    {
     "data": {
      "application/vnd.jupyter.widget-view+json": {
       "model_id": "23ac6b3934ee491b87e8dcdf1bbf51a5",
       "version_major": 2,
       "version_minor": 0
      },
      "text/plain": [
       "Validation: 0it [00:00, ?it/s]"
      ]
     },
     "metadata": {},
     "output_type": "display_data"
    },
    {
     "name": "stderr",
     "output_type": "stream",
     "text": [
      "Metric valid_loss improved by 0.000 >= min_delta = 0.0. New best score: 0.428\n"
     ]
    },
    {
     "data": {
      "application/vnd.jupyter.widget-view+json": {
       "model_id": "f65619cb40204235896d3c7fe4af12a3",
       "version_major": 2,
       "version_minor": 0
      },
      "text/plain": [
       "Validation: 0it [00:00, ?it/s]"
      ]
     },
     "metadata": {},
     "output_type": "display_data"
    },
    {
     "name": "stderr",
     "output_type": "stream",
     "text": [
      "Metric valid_loss improved by 0.001 >= min_delta = 0.0. New best score: 0.428\n"
     ]
    },
    {
     "data": {
      "application/vnd.jupyter.widget-view+json": {
       "model_id": "5fd4acf9455442e996423261a181e48d",
       "version_major": 2,
       "version_minor": 0
      },
      "text/plain": [
       "Validation: 0it [00:00, ?it/s]"
      ]
     },
     "metadata": {},
     "output_type": "display_data"
    },
    {
     "name": "stderr",
     "output_type": "stream",
     "text": [
      "Metric valid_loss improved by 0.000 >= min_delta = 0.0. New best score: 0.427\n"
     ]
    },
    {
     "data": {
      "application/vnd.jupyter.widget-view+json": {
       "model_id": "a1c9256c013440509f07d48a38ff15c1",
       "version_major": 2,
       "version_minor": 0
      },
      "text/plain": [
       "Validation: 0it [00:00, ?it/s]"
      ]
     },
     "metadata": {},
     "output_type": "display_data"
    },
    {
     "name": "stderr",
     "output_type": "stream",
     "text": [
      "Metric valid_loss improved by 0.000 >= min_delta = 0.0. New best score: 0.427\n"
     ]
    },
    {
     "data": {
      "application/vnd.jupyter.widget-view+json": {
       "model_id": "63671b3c797840f89d14acf45dd342a5",
       "version_major": 2,
       "version_minor": 0
      },
      "text/plain": [
       "Validation: 0it [00:00, ?it/s]"
      ]
     },
     "metadata": {},
     "output_type": "display_data"
    },
    {
     "name": "stderr",
     "output_type": "stream",
     "text": [
      "Metric valid_loss improved by 0.000 >= min_delta = 0.0. New best score: 0.427\n"
     ]
    },
    {
     "data": {
      "application/vnd.jupyter.widget-view+json": {
       "model_id": "5596f0e8533c4fb486b9ba5a20d80baf",
       "version_major": 2,
       "version_minor": 0
      },
      "text/plain": [
       "Validation: 0it [00:00, ?it/s]"
      ]
     },
     "metadata": {},
     "output_type": "display_data"
    },
    {
     "name": "stderr",
     "output_type": "stream",
     "text": [
      "Metric valid_loss improved by 0.000 >= min_delta = 0.0. New best score: 0.426\n"
     ]
    },
    {
     "data": {
      "application/vnd.jupyter.widget-view+json": {
       "model_id": "370afe41375543baa81f2ddb21798d4a",
       "version_major": 2,
       "version_minor": 0
      },
      "text/plain": [
       "Validation: 0it [00:00, ?it/s]"
      ]
     },
     "metadata": {},
     "output_type": "display_data"
    },
    {
     "name": "stderr",
     "output_type": "stream",
     "text": [
      "Metric valid_loss improved by 0.001 >= min_delta = 0.0. New best score: 0.426\n"
     ]
    },
    {
     "data": {
      "application/vnd.jupyter.widget-view+json": {
       "model_id": "e274e0ed4de1406d8e8c9dc3f5de6b88",
       "version_major": 2,
       "version_minor": 0
      },
      "text/plain": [
       "Validation: 0it [00:00, ?it/s]"
      ]
     },
     "metadata": {},
     "output_type": "display_data"
    },
    {
     "name": "stderr",
     "output_type": "stream",
     "text": [
      "Metric valid_loss improved by 0.001 >= min_delta = 0.0. New best score: 0.425\n"
     ]
    },
    {
     "data": {
      "application/vnd.jupyter.widget-view+json": {
       "model_id": "e0c7b893b5814a80a662d65fbdc32729",
       "version_major": 2,
       "version_minor": 0
      },
      "text/plain": [
       "Validation: 0it [00:00, ?it/s]"
      ]
     },
     "metadata": {},
     "output_type": "display_data"
    },
    {
     "name": "stderr",
     "output_type": "stream",
     "text": [
      "Metric valid_loss improved by 0.000 >= min_delta = 0.0. New best score: 0.425\n"
     ]
    },
    {
     "data": {
      "application/vnd.jupyter.widget-view+json": {
       "model_id": "41439334d4bd4373a198704843aea752",
       "version_major": 2,
       "version_minor": 0
      },
      "text/plain": [
       "Validation: 0it [00:00, ?it/s]"
      ]
     },
     "metadata": {},
     "output_type": "display_data"
    },
    {
     "name": "stderr",
     "output_type": "stream",
     "text": [
      "Metric valid_loss improved by 0.000 >= min_delta = 0.0. New best score: 0.425\n"
     ]
    },
    {
     "data": {
      "application/vnd.jupyter.widget-view+json": {
       "model_id": "067362caaf40428c8c1caa6a7b2b5172",
       "version_major": 2,
       "version_minor": 0
      },
      "text/plain": [
       "Validation: 0it [00:00, ?it/s]"
      ]
     },
     "metadata": {},
     "output_type": "display_data"
    },
    {
     "name": "stderr",
     "output_type": "stream",
     "text": [
      "Metric valid_loss improved by 0.001 >= min_delta = 0.0. New best score: 0.424\n"
     ]
    },
    {
     "data": {
      "application/vnd.jupyter.widget-view+json": {
       "model_id": "7f219cb267f248a0932df47570496f8d",
       "version_major": 2,
       "version_minor": 0
      },
      "text/plain": [
       "Validation: 0it [00:00, ?it/s]"
      ]
     },
     "metadata": {},
     "output_type": "display_data"
    },
    {
     "data": {
      "application/vnd.jupyter.widget-view+json": {
       "model_id": "55a6ca6c2b984a7e93ba37b6f112f6da",
       "version_major": 2,
       "version_minor": 0
      },
      "text/plain": [
       "Validation: 0it [00:00, ?it/s]"
      ]
     },
     "metadata": {},
     "output_type": "display_data"
    },
    {
     "name": "stderr",
     "output_type": "stream",
     "text": [
      "Metric valid_loss improved by 0.001 >= min_delta = 0.0. New best score: 0.423\n"
     ]
    },
    {
     "data": {
      "application/vnd.jupyter.widget-view+json": {
       "model_id": "9c696ac110fa4d8eb49df9fcf8d6c051",
       "version_major": 2,
       "version_minor": 0
      },
      "text/plain": [
       "Validation: 0it [00:00, ?it/s]"
      ]
     },
     "metadata": {},
     "output_type": "display_data"
    },
    {
     "name": "stderr",
     "output_type": "stream",
     "text": [
      "Metric valid_loss improved by 0.000 >= min_delta = 0.0. New best score: 0.423\n"
     ]
    },
    {
     "data": {
      "application/vnd.jupyter.widget-view+json": {
       "model_id": "163c53a351714ff5a02116e7395cb4dc",
       "version_major": 2,
       "version_minor": 0
      },
      "text/plain": [
       "Validation: 0it [00:00, ?it/s]"
      ]
     },
     "metadata": {},
     "output_type": "display_data"
    },
    {
     "name": "stderr",
     "output_type": "stream",
     "text": [
      "Metric valid_loss improved by 0.000 >= min_delta = 0.0. New best score: 0.423\n"
     ]
    },
    {
     "data": {
      "application/vnd.jupyter.widget-view+json": {
       "model_id": "7e396baf06354a5698e712543379b67c",
       "version_major": 2,
       "version_minor": 0
      },
      "text/plain": [
       "Validation: 0it [00:00, ?it/s]"
      ]
     },
     "metadata": {},
     "output_type": "display_data"
    },
    {
     "name": "stderr",
     "output_type": "stream",
     "text": [
      "Metric valid_loss improved by 0.000 >= min_delta = 0.0. New best score: 0.422\n"
     ]
    },
    {
     "data": {
      "application/vnd.jupyter.widget-view+json": {
       "model_id": "8b54425221a242e98467603fd503197d",
       "version_major": 2,
       "version_minor": 0
      },
      "text/plain": [
       "Validation: 0it [00:00, ?it/s]"
      ]
     },
     "metadata": {},
     "output_type": "display_data"
    },
    {
     "name": "stderr",
     "output_type": "stream",
     "text": [
      "Metric valid_loss improved by 0.000 >= min_delta = 0.0. New best score: 0.422\n"
     ]
    },
    {
     "data": {
      "application/vnd.jupyter.widget-view+json": {
       "model_id": "dafda555686e44a6a7dfd87f2050c0a6",
       "version_major": 2,
       "version_minor": 0
      },
      "text/plain": [
       "Validation: 0it [00:00, ?it/s]"
      ]
     },
     "metadata": {},
     "output_type": "display_data"
    },
    {
     "data": {
      "application/vnd.jupyter.widget-view+json": {
       "model_id": "e17ce856a7bb407abfd836a4520cca1e",
       "version_major": 2,
       "version_minor": 0
      },
      "text/plain": [
       "Validation: 0it [00:00, ?it/s]"
      ]
     },
     "metadata": {},
     "output_type": "display_data"
    },
    {
     "name": "stderr",
     "output_type": "stream",
     "text": [
      "Metric valid_loss improved by 0.001 >= min_delta = 0.0. New best score: 0.421\n"
     ]
    },
    {
     "data": {
      "application/vnd.jupyter.widget-view+json": {
       "model_id": "3cda72b0903b43bbb90b6fded2b04c8d",
       "version_major": 2,
       "version_minor": 0
      },
      "text/plain": [
       "Validation: 0it [00:00, ?it/s]"
      ]
     },
     "metadata": {},
     "output_type": "display_data"
    },
    {
     "name": "stderr",
     "output_type": "stream",
     "text": [
      "Metric valid_loss improved by 0.000 >= min_delta = 0.0. New best score: 0.421\n"
     ]
    },
    {
     "data": {
      "application/vnd.jupyter.widget-view+json": {
       "model_id": "b88a3013d4d2450a83a8e80e094c4c00",
       "version_major": 2,
       "version_minor": 0
      },
      "text/plain": [
       "Validation: 0it [00:00, ?it/s]"
      ]
     },
     "metadata": {},
     "output_type": "display_data"
    },
    {
     "data": {
      "application/vnd.jupyter.widget-view+json": {
       "model_id": "983eb79eb204455aaa4565fcc939cc53",
       "version_major": 2,
       "version_minor": 0
      },
      "text/plain": [
       "Validation: 0it [00:00, ?it/s]"
      ]
     },
     "metadata": {},
     "output_type": "display_data"
    },
    {
     "name": "stderr",
     "output_type": "stream",
     "text": [
      "Metric valid_loss improved by 0.000 >= min_delta = 0.0. New best score: 0.421\n"
     ]
    },
    {
     "data": {
      "application/vnd.jupyter.widget-view+json": {
       "model_id": "d88e8a7b99b04161b2f8b6084756dd3f",
       "version_major": 2,
       "version_minor": 0
      },
      "text/plain": [
       "Validation: 0it [00:00, ?it/s]"
      ]
     },
     "metadata": {},
     "output_type": "display_data"
    },
    {
     "data": {
      "application/vnd.jupyter.widget-view+json": {
       "model_id": "6dd07ed97f454df6889930036b2f1557",
       "version_major": 2,
       "version_minor": 0
      },
      "text/plain": [
       "Validation: 0it [00:00, ?it/s]"
      ]
     },
     "metadata": {},
     "output_type": "display_data"
    },
    {
     "name": "stderr",
     "output_type": "stream",
     "text": [
      "Metric valid_loss improved by 0.000 >= min_delta = 0.0. New best score: 0.421\n"
     ]
    },
    {
     "data": {
      "application/vnd.jupyter.widget-view+json": {
       "model_id": "eb8b9ae298014b8ea009ba5eb47270c8",
       "version_major": 2,
       "version_minor": 0
      },
      "text/plain": [
       "Validation: 0it [00:00, ?it/s]"
      ]
     },
     "metadata": {},
     "output_type": "display_data"
    },
    {
     "name": "stderr",
     "output_type": "stream",
     "text": [
      "Metric valid_loss improved by 0.001 >= min_delta = 0.0. New best score: 0.420\n"
     ]
    },
    {
     "data": {
      "application/vnd.jupyter.widget-view+json": {
       "model_id": "64f77a5be86e4a53baae41faa9e13221",
       "version_major": 2,
       "version_minor": 0
      },
      "text/plain": [
       "Validation: 0it [00:00, ?it/s]"
      ]
     },
     "metadata": {},
     "output_type": "display_data"
    },
    {
     "name": "stderr",
     "output_type": "stream",
     "text": [
      "Metric valid_loss improved by 0.000 >= min_delta = 0.0. New best score: 0.419\n"
     ]
    },
    {
     "data": {
      "application/vnd.jupyter.widget-view+json": {
       "model_id": "f3f835cf816a4e4e8a292c4ccf26db4e",
       "version_major": 2,
       "version_minor": 0
      },
      "text/plain": [
       "Validation: 0it [00:00, ?it/s]"
      ]
     },
     "metadata": {},
     "output_type": "display_data"
    },
    {
     "name": "stderr",
     "output_type": "stream",
     "text": [
      "Metric valid_loss improved by 0.000 >= min_delta = 0.0. New best score: 0.419\n"
     ]
    },
    {
     "data": {
      "application/vnd.jupyter.widget-view+json": {
       "model_id": "bae244db07b5498689253e8353a19f58",
       "version_major": 2,
       "version_minor": 0
      },
      "text/plain": [
       "Validation: 0it [00:00, ?it/s]"
      ]
     },
     "metadata": {},
     "output_type": "display_data"
    },
    {
     "name": "stderr",
     "output_type": "stream",
     "text": [
      "Metric valid_loss improved by 0.000 >= min_delta = 0.0. New best score: 0.419\n"
     ]
    },
    {
     "data": {
      "application/vnd.jupyter.widget-view+json": {
       "model_id": "8e94f04b5d7a4c6dbe555ec04a036e8a",
       "version_major": 2,
       "version_minor": 0
      },
      "text/plain": [
       "Validation: 0it [00:00, ?it/s]"
      ]
     },
     "metadata": {},
     "output_type": "display_data"
    },
    {
     "name": "stderr",
     "output_type": "stream",
     "text": [
      "Metric valid_loss improved by 0.000 >= min_delta = 0.0. New best score: 0.419\n"
     ]
    },
    {
     "data": {
      "application/vnd.jupyter.widget-view+json": {
       "model_id": "db179062d40d452f9938ee5fa06a7726",
       "version_major": 2,
       "version_minor": 0
      },
      "text/plain": [
       "Validation: 0it [00:00, ?it/s]"
      ]
     },
     "metadata": {},
     "output_type": "display_data"
    },
    {
     "name": "stderr",
     "output_type": "stream",
     "text": [
      "Metric valid_loss improved by 0.000 >= min_delta = 0.0. New best score: 0.418\n"
     ]
    },
    {
     "data": {
      "application/vnd.jupyter.widget-view+json": {
       "model_id": "cbb45b4e569f4645b50a3c0d57231653",
       "version_major": 2,
       "version_minor": 0
      },
      "text/plain": [
       "Validation: 0it [00:00, ?it/s]"
      ]
     },
     "metadata": {},
     "output_type": "display_data"
    },
    {
     "name": "stderr",
     "output_type": "stream",
     "text": [
      "Metric valid_loss improved by 0.000 >= min_delta = 0.0. New best score: 0.418\n"
     ]
    },
    {
     "data": {
      "application/vnd.jupyter.widget-view+json": {
       "model_id": "92c1b0e741ed4a7196367e4c3721a800",
       "version_major": 2,
       "version_minor": 0
      },
      "text/plain": [
       "Validation: 0it [00:00, ?it/s]"
      ]
     },
     "metadata": {},
     "output_type": "display_data"
    },
    {
     "name": "stderr",
     "output_type": "stream",
     "text": [
      "Metric valid_loss improved by 0.000 >= min_delta = 0.0. New best score: 0.418\n"
     ]
    },
    {
     "data": {
      "application/vnd.jupyter.widget-view+json": {
       "model_id": "5e22d29db31042deb06545ae355c6242",
       "version_major": 2,
       "version_minor": 0
      },
      "text/plain": [
       "Validation: 0it [00:00, ?it/s]"
      ]
     },
     "metadata": {},
     "output_type": "display_data"
    },
    {
     "name": "stderr",
     "output_type": "stream",
     "text": [
      "Metric valid_loss improved by 0.000 >= min_delta = 0.0. New best score: 0.418\n"
     ]
    },
    {
     "data": {
      "application/vnd.jupyter.widget-view+json": {
       "model_id": "13d3e543f9014493b0072118eeab59e0",
       "version_major": 2,
       "version_minor": 0
      },
      "text/plain": [
       "Validation: 0it [00:00, ?it/s]"
      ]
     },
     "metadata": {},
     "output_type": "display_data"
    },
    {
     "name": "stderr",
     "output_type": "stream",
     "text": [
      "Metric valid_loss improved by 0.000 >= min_delta = 0.0. New best score: 0.417\n"
     ]
    },
    {
     "data": {
      "application/vnd.jupyter.widget-view+json": {
       "model_id": "4e839f8676894b5daf90a8a53e12764c",
       "version_major": 2,
       "version_minor": 0
      },
      "text/plain": [
       "Validation: 0it [00:00, ?it/s]"
      ]
     },
     "metadata": {},
     "output_type": "display_data"
    },
    {
     "name": "stderr",
     "output_type": "stream",
     "text": [
      "Metric valid_loss improved by 0.000 >= min_delta = 0.0. New best score: 0.417\n"
     ]
    },
    {
     "data": {
      "application/vnd.jupyter.widget-view+json": {
       "model_id": "d821ad93f17d42b0852ae2d1136c625f",
       "version_major": 2,
       "version_minor": 0
      },
      "text/plain": [
       "Validation: 0it [00:00, ?it/s]"
      ]
     },
     "metadata": {},
     "output_type": "display_data"
    },
    {
     "name": "stderr",
     "output_type": "stream",
     "text": [
      "Metric valid_loss improved by 0.001 >= min_delta = 0.0. New best score: 0.416\n"
     ]
    },
    {
     "data": {
      "application/vnd.jupyter.widget-view+json": {
       "model_id": "223dd68a280e407ca8f1ae9b75cd33ef",
       "version_major": 2,
       "version_minor": 0
      },
      "text/plain": [
       "Validation: 0it [00:00, ?it/s]"
      ]
     },
     "metadata": {},
     "output_type": "display_data"
    },
    {
     "name": "stderr",
     "output_type": "stream",
     "text": [
      "Metric valid_loss improved by 0.000 >= min_delta = 0.0. New best score: 0.416\n"
     ]
    },
    {
     "data": {
      "application/vnd.jupyter.widget-view+json": {
       "model_id": "7c063770cb574f769e955018b9170375",
       "version_major": 2,
       "version_minor": 0
      },
      "text/plain": [
       "Validation: 0it [00:00, ?it/s]"
      ]
     },
     "metadata": {},
     "output_type": "display_data"
    },
    {
     "name": "stderr",
     "output_type": "stream",
     "text": [
      "Metric valid_loss improved by 0.000 >= min_delta = 0.0. New best score: 0.416\n"
     ]
    },
    {
     "data": {
      "application/vnd.jupyter.widget-view+json": {
       "model_id": "e7ff0fe6b7574019875d940bcfeb514e",
       "version_major": 2,
       "version_minor": 0
      },
      "text/plain": [
       "Validation: 0it [00:00, ?it/s]"
      ]
     },
     "metadata": {},
     "output_type": "display_data"
    },
    {
     "data": {
      "application/vnd.jupyter.widget-view+json": {
       "model_id": "07cff518024a4ed8a9bd2fc2b0213262",
       "version_major": 2,
       "version_minor": 0
      },
      "text/plain": [
       "Validation: 0it [00:00, ?it/s]"
      ]
     },
     "metadata": {},
     "output_type": "display_data"
    },
    {
     "name": "stderr",
     "output_type": "stream",
     "text": [
      "Metric valid_loss improved by 0.000 >= min_delta = 0.0. New best score: 0.416\n"
     ]
    },
    {
     "data": {
      "application/vnd.jupyter.widget-view+json": {
       "model_id": "c33ddf929fbd4f478f4f43bcc623c018",
       "version_major": 2,
       "version_minor": 0
      },
      "text/plain": [
       "Validation: 0it [00:00, ?it/s]"
      ]
     },
     "metadata": {},
     "output_type": "display_data"
    },
    {
     "name": "stderr",
     "output_type": "stream",
     "text": [
      "Metric valid_loss improved by 0.000 >= min_delta = 0.0. New best score: 0.416\n"
     ]
    },
    {
     "data": {
      "application/vnd.jupyter.widget-view+json": {
       "model_id": "d39e7753602a4408bcfbb509fe26755d",
       "version_major": 2,
       "version_minor": 0
      },
      "text/plain": [
       "Validation: 0it [00:00, ?it/s]"
      ]
     },
     "metadata": {},
     "output_type": "display_data"
    },
    {
     "name": "stderr",
     "output_type": "stream",
     "text": [
      "Metric valid_loss improved by 0.000 >= min_delta = 0.0. New best score: 0.415\n"
     ]
    },
    {
     "data": {
      "application/vnd.jupyter.widget-view+json": {
       "model_id": "3d25ad74560d4937ab3c0875faefe8ba",
       "version_major": 2,
       "version_minor": 0
      },
      "text/plain": [
       "Validation: 0it [00:00, ?it/s]"
      ]
     },
     "metadata": {},
     "output_type": "display_data"
    },
    {
     "name": "stderr",
     "output_type": "stream",
     "text": [
      "Metric valid_loss improved by 0.000 >= min_delta = 0.0. New best score: 0.415\n"
     ]
    },
    {
     "data": {
      "application/vnd.jupyter.widget-view+json": {
       "model_id": "9b3079affdd3418ca55cff17c4e09f3a",
       "version_major": 2,
       "version_minor": 0
      },
      "text/plain": [
       "Validation: 0it [00:00, ?it/s]"
      ]
     },
     "metadata": {},
     "output_type": "display_data"
    },
    {
     "name": "stderr",
     "output_type": "stream",
     "text": [
      "Metric valid_loss improved by 0.000 >= min_delta = 0.0. New best score: 0.415\n"
     ]
    },
    {
     "data": {
      "application/vnd.jupyter.widget-view+json": {
       "model_id": "c79d135b0912420daafc0bdf05d84db4",
       "version_major": 2,
       "version_minor": 0
      },
      "text/plain": [
       "Validation: 0it [00:00, ?it/s]"
      ]
     },
     "metadata": {},
     "output_type": "display_data"
    },
    {
     "name": "stderr",
     "output_type": "stream",
     "text": [
      "Metric valid_loss improved by 0.000 >= min_delta = 0.0. New best score: 0.415\n"
     ]
    },
    {
     "data": {
      "application/vnd.jupyter.widget-view+json": {
       "model_id": "51e62016dd6e4ba5bc8d24cfd66db75a",
       "version_major": 2,
       "version_minor": 0
      },
      "text/plain": [
       "Validation: 0it [00:00, ?it/s]"
      ]
     },
     "metadata": {},
     "output_type": "display_data"
    },
    {
     "name": "stderr",
     "output_type": "stream",
     "text": [
      "Metric valid_loss improved by 0.000 >= min_delta = 0.0. New best score: 0.414\n"
     ]
    },
    {
     "data": {
      "application/vnd.jupyter.widget-view+json": {
       "model_id": "1addc893214a411ea22cfc729c5bd8ba",
       "version_major": 2,
       "version_minor": 0
      },
      "text/plain": [
       "Validation: 0it [00:00, ?it/s]"
      ]
     },
     "metadata": {},
     "output_type": "display_data"
    },
    {
     "name": "stderr",
     "output_type": "stream",
     "text": [
      "Metric valid_loss improved by 0.000 >= min_delta = 0.0. New best score: 0.414\n"
     ]
    },
    {
     "data": {
      "application/vnd.jupyter.widget-view+json": {
       "model_id": "972ac0f52f3f4fcd994b82509b0d55ad",
       "version_major": 2,
       "version_minor": 0
      },
      "text/plain": [
       "Validation: 0it [00:00, ?it/s]"
      ]
     },
     "metadata": {},
     "output_type": "display_data"
    },
    {
     "data": {
      "application/vnd.jupyter.widget-view+json": {
       "model_id": "94aec243962d43c79b30e3861dbff7ac",
       "version_major": 2,
       "version_minor": 0
      },
      "text/plain": [
       "Validation: 0it [00:00, ?it/s]"
      ]
     },
     "metadata": {},
     "output_type": "display_data"
    },
    {
     "name": "stderr",
     "output_type": "stream",
     "text": [
      "Metric valid_loss improved by 0.000 >= min_delta = 0.0. New best score: 0.414\n"
     ]
    },
    {
     "data": {
      "application/vnd.jupyter.widget-view+json": {
       "model_id": "26b296ec175f40298164621b0c34a788",
       "version_major": 2,
       "version_minor": 0
      },
      "text/plain": [
       "Validation: 0it [00:00, ?it/s]"
      ]
     },
     "metadata": {},
     "output_type": "display_data"
    },
    {
     "name": "stderr",
     "output_type": "stream",
     "text": [
      "Metric valid_loss improved by 0.000 >= min_delta = 0.0. New best score: 0.414\n"
     ]
    },
    {
     "data": {
      "application/vnd.jupyter.widget-view+json": {
       "model_id": "696748ce089b43008b8ae5d991b53e5b",
       "version_major": 2,
       "version_minor": 0
      },
      "text/plain": [
       "Validation: 0it [00:00, ?it/s]"
      ]
     },
     "metadata": {},
     "output_type": "display_data"
    },
    {
     "name": "stderr",
     "output_type": "stream",
     "text": [
      "Metric valid_loss improved by 0.000 >= min_delta = 0.0. New best score: 0.413\n"
     ]
    },
    {
     "data": {
      "application/vnd.jupyter.widget-view+json": {
       "model_id": "c0b9b3023caa4dd280bdcae69d05b185",
       "version_major": 2,
       "version_minor": 0
      },
      "text/plain": [
       "Validation: 0it [00:00, ?it/s]"
      ]
     },
     "metadata": {},
     "output_type": "display_data"
    },
    {
     "name": "stderr",
     "output_type": "stream",
     "text": [
      "Metric valid_loss improved by 0.000 >= min_delta = 0.0. New best score: 0.413\n"
     ]
    },
    {
     "data": {
      "application/vnd.jupyter.widget-view+json": {
       "model_id": "d8f5eb8c1feb4f5aa12da393d5dd960d",
       "version_major": 2,
       "version_minor": 0
      },
      "text/plain": [
       "Validation: 0it [00:00, ?it/s]"
      ]
     },
     "metadata": {},
     "output_type": "display_data"
    },
    {
     "name": "stderr",
     "output_type": "stream",
     "text": [
      "Metric valid_loss improved by 0.000 >= min_delta = 0.0. New best score: 0.413\n"
     ]
    },
    {
     "data": {
      "application/vnd.jupyter.widget-view+json": {
       "model_id": "76da9e72b46c4820be1c6914529d7d63",
       "version_major": 2,
       "version_minor": 0
      },
      "text/plain": [
       "Validation: 0it [00:00, ?it/s]"
      ]
     },
     "metadata": {},
     "output_type": "display_data"
    },
    {
     "name": "stderr",
     "output_type": "stream",
     "text": [
      "Metric valid_loss improved by 0.000 >= min_delta = 0.0. New best score: 0.413\n"
     ]
    },
    {
     "data": {
      "application/vnd.jupyter.widget-view+json": {
       "model_id": "711b0f8b095e4f48b5540a267a623598",
       "version_major": 2,
       "version_minor": 0
      },
      "text/plain": [
       "Validation: 0it [00:00, ?it/s]"
      ]
     },
     "metadata": {},
     "output_type": "display_data"
    },
    {
     "name": "stderr",
     "output_type": "stream",
     "text": [
      "Metric valid_loss improved by 0.000 >= min_delta = 0.0. New best score: 0.412\n"
     ]
    },
    {
     "data": {
      "application/vnd.jupyter.widget-view+json": {
       "model_id": "9c02d9fc1cc64edbbf8ed01d3b77e7e8",
       "version_major": 2,
       "version_minor": 0
      },
      "text/plain": [
       "Validation: 0it [00:00, ?it/s]"
      ]
     },
     "metadata": {},
     "output_type": "display_data"
    },
    {
     "name": "stderr",
     "output_type": "stream",
     "text": [
      "Metric valid_loss improved by 0.001 >= min_delta = 0.0. New best score: 0.412\n"
     ]
    },
    {
     "data": {
      "application/vnd.jupyter.widget-view+json": {
       "model_id": "0d3c9d0fb98647bdae6bf1be1ab35719",
       "version_major": 2,
       "version_minor": 0
      },
      "text/plain": [
       "Validation: 0it [00:00, ?it/s]"
      ]
     },
     "metadata": {},
     "output_type": "display_data"
    },
    {
     "data": {
      "application/vnd.jupyter.widget-view+json": {
       "model_id": "6a8dc37cd9354924b170e74ce729771e",
       "version_major": 2,
       "version_minor": 0
      },
      "text/plain": [
       "Validation: 0it [00:00, ?it/s]"
      ]
     },
     "metadata": {},
     "output_type": "display_data"
    },
    {
     "data": {
      "application/vnd.jupyter.widget-view+json": {
       "model_id": "bdfd226a94044238addd0192328e7d77",
       "version_major": 2,
       "version_minor": 0
      },
      "text/plain": [
       "Validation: 0it [00:00, ?it/s]"
      ]
     },
     "metadata": {},
     "output_type": "display_data"
    },
    {
     "name": "stderr",
     "output_type": "stream",
     "text": [
      "Metric valid_loss improved by 0.000 >= min_delta = 0.0. New best score: 0.412\n"
     ]
    },
    {
     "data": {
      "application/vnd.jupyter.widget-view+json": {
       "model_id": "fb7cb2ccb0f04c61a39d589fd77fda4f",
       "version_major": 2,
       "version_minor": 0
      },
      "text/plain": [
       "Validation: 0it [00:00, ?it/s]"
      ]
     },
     "metadata": {},
     "output_type": "display_data"
    },
    {
     "data": {
      "application/vnd.jupyter.widget-view+json": {
       "model_id": "42e4597473f44480926780dc327abb95",
       "version_major": 2,
       "version_minor": 0
      },
      "text/plain": [
       "Validation: 0it [00:00, ?it/s]"
      ]
     },
     "metadata": {},
     "output_type": "display_data"
    },
    {
     "data": {
      "application/vnd.jupyter.widget-view+json": {
       "model_id": "31eab68b94754d57a800f7b31edd52aa",
       "version_major": 2,
       "version_minor": 0
      },
      "text/plain": [
       "Validation: 0it [00:00, ?it/s]"
      ]
     },
     "metadata": {},
     "output_type": "display_data"
    },
    {
     "name": "stderr",
     "output_type": "stream",
     "text": [
      "Metric valid_loss improved by 0.000 >= min_delta = 0.0. New best score: 0.412\n"
     ]
    },
    {
     "data": {
      "application/vnd.jupyter.widget-view+json": {
       "model_id": "b0547a4185824a09abaac7ce73815e2c",
       "version_major": 2,
       "version_minor": 0
      },
      "text/plain": [
       "Validation: 0it [00:00, ?it/s]"
      ]
     },
     "metadata": {},
     "output_type": "display_data"
    },
    {
     "name": "stderr",
     "output_type": "stream",
     "text": [
      "Metric valid_loss improved by 0.001 >= min_delta = 0.0. New best score: 0.411\n"
     ]
    },
    {
     "data": {
      "application/vnd.jupyter.widget-view+json": {
       "model_id": "c90b012c90164f9db59e43ce70c7373a",
       "version_major": 2,
       "version_minor": 0
      },
      "text/plain": [
       "Validation: 0it [00:00, ?it/s]"
      ]
     },
     "metadata": {},
     "output_type": "display_data"
    },
    {
     "name": "stderr",
     "output_type": "stream",
     "text": [
      "Metric valid_loss improved by 0.000 >= min_delta = 0.0. New best score: 0.411\n"
     ]
    },
    {
     "data": {
      "application/vnd.jupyter.widget-view+json": {
       "model_id": "67f842eadfa6410da97ee35968b3f564",
       "version_major": 2,
       "version_minor": 0
      },
      "text/plain": [
       "Validation: 0it [00:00, ?it/s]"
      ]
     },
     "metadata": {},
     "output_type": "display_data"
    },
    {
     "data": {
      "application/vnd.jupyter.widget-view+json": {
       "model_id": "e20e0ede29e04bc89ac56767f2be6dfe",
       "version_major": 2,
       "version_minor": 0
      },
      "text/plain": [
       "Validation: 0it [00:00, ?it/s]"
      ]
     },
     "metadata": {},
     "output_type": "display_data"
    },
    {
     "data": {
      "application/vnd.jupyter.widget-view+json": {
       "model_id": "881a6a83da234d7c9ea4ef4d73d44c4f",
       "version_major": 2,
       "version_minor": 0
      },
      "text/plain": [
       "Validation: 0it [00:00, ?it/s]"
      ]
     },
     "metadata": {},
     "output_type": "display_data"
    },
    {
     "name": "stderr",
     "output_type": "stream",
     "text": [
      "Metric valid_loss improved by 0.000 >= min_delta = 0.0. New best score: 0.411\n"
     ]
    },
    {
     "data": {
      "application/vnd.jupyter.widget-view+json": {
       "model_id": "ee943689213b4958a91dcd9084c13b07",
       "version_major": 2,
       "version_minor": 0
      },
      "text/plain": [
       "Validation: 0it [00:00, ?it/s]"
      ]
     },
     "metadata": {},
     "output_type": "display_data"
    },
    {
     "name": "stderr",
     "output_type": "stream",
     "text": [
      "Metric valid_loss improved by 0.001 >= min_delta = 0.0. New best score: 0.410\n"
     ]
    },
    {
     "data": {
      "application/vnd.jupyter.widget-view+json": {
       "model_id": "49ad939340ad4a79ae07a2b96d54ce87",
       "version_major": 2,
       "version_minor": 0
      },
      "text/plain": [
       "Validation: 0it [00:00, ?it/s]"
      ]
     },
     "metadata": {},
     "output_type": "display_data"
    },
    {
     "name": "stderr",
     "output_type": "stream",
     "text": [
      "Metric valid_loss improved by 0.000 >= min_delta = 0.0. New best score: 0.410\n"
     ]
    },
    {
     "data": {
      "application/vnd.jupyter.widget-view+json": {
       "model_id": "3a153153845a4fd2996a5c548b851a60",
       "version_major": 2,
       "version_minor": 0
      },
      "text/plain": [
       "Validation: 0it [00:00, ?it/s]"
      ]
     },
     "metadata": {},
     "output_type": "display_data"
    },
    {
     "name": "stderr",
     "output_type": "stream",
     "text": [
      "Metric valid_loss improved by 0.000 >= min_delta = 0.0. New best score: 0.410\n"
     ]
    },
    {
     "data": {
      "application/vnd.jupyter.widget-view+json": {
       "model_id": "47f4879e7214410dbb8c4bf8ecf49538",
       "version_major": 2,
       "version_minor": 0
      },
      "text/plain": [
       "Validation: 0it [00:00, ?it/s]"
      ]
     },
     "metadata": {},
     "output_type": "display_data"
    },
    {
     "data": {
      "application/vnd.jupyter.widget-view+json": {
       "model_id": "1be21708d4394afbb78e71c7879cf28b",
       "version_major": 2,
       "version_minor": 0
      },
      "text/plain": [
       "Validation: 0it [00:00, ?it/s]"
      ]
     },
     "metadata": {},
     "output_type": "display_data"
    },
    {
     "data": {
      "application/vnd.jupyter.widget-view+json": {
       "model_id": "b01b17beaa734bf993149045776619cd",
       "version_major": 2,
       "version_minor": 0
      },
      "text/plain": [
       "Validation: 0it [00:00, ?it/s]"
      ]
     },
     "metadata": {},
     "output_type": "display_data"
    },
    {
     "data": {
      "application/vnd.jupyter.widget-view+json": {
       "model_id": "e148bcbbc5334f7f8412df4f7af305fb",
       "version_major": 2,
       "version_minor": 0
      },
      "text/plain": [
       "Validation: 0it [00:00, ?it/s]"
      ]
     },
     "metadata": {},
     "output_type": "display_data"
    },
    {
     "name": "stderr",
     "output_type": "stream",
     "text": [
      "Metric valid_loss improved by 0.001 >= min_delta = 0.0. New best score: 0.409\n"
     ]
    },
    {
     "data": {
      "application/vnd.jupyter.widget-view+json": {
       "model_id": "7c7610e084e84019a3868e78256da50a",
       "version_major": 2,
       "version_minor": 0
      },
      "text/plain": [
       "Validation: 0it [00:00, ?it/s]"
      ]
     },
     "metadata": {},
     "output_type": "display_data"
    },
    {
     "data": {
      "application/vnd.jupyter.widget-view+json": {
       "model_id": "7f995280bb1b4d3bb7b606d27750121f",
       "version_major": 2,
       "version_minor": 0
      },
      "text/plain": [
       "Validation: 0it [00:00, ?it/s]"
      ]
     },
     "metadata": {},
     "output_type": "display_data"
    },
    {
     "data": {
      "application/vnd.jupyter.widget-view+json": {
       "model_id": "a7f1ec0ce9364a74bd117635a9a31ac6",
       "version_major": 2,
       "version_minor": 0
      },
      "text/plain": [
       "Validation: 0it [00:00, ?it/s]"
      ]
     },
     "metadata": {},
     "output_type": "display_data"
    },
    {
     "name": "stderr",
     "output_type": "stream",
     "text": [
      "Metric valid_loss improved by 0.000 >= min_delta = 0.0. New best score: 0.409\n"
     ]
    },
    {
     "data": {
      "application/vnd.jupyter.widget-view+json": {
       "model_id": "5a0f94afd98445a5b17ea6b23157a279",
       "version_major": 2,
       "version_minor": 0
      },
      "text/plain": [
       "Validation: 0it [00:00, ?it/s]"
      ]
     },
     "metadata": {},
     "output_type": "display_data"
    },
    {
     "data": {
      "application/vnd.jupyter.widget-view+json": {
       "model_id": "fbfe1a70a22c441e9cc8243b4ad8749c",
       "version_major": 2,
       "version_minor": 0
      },
      "text/plain": [
       "Validation: 0it [00:00, ?it/s]"
      ]
     },
     "metadata": {},
     "output_type": "display_data"
    },
    {
     "data": {
      "application/vnd.jupyter.widget-view+json": {
       "model_id": "c5ecebc57cb34e4282c1366a1ffe1c92",
       "version_major": 2,
       "version_minor": 0
      },
      "text/plain": [
       "Validation: 0it [00:00, ?it/s]"
      ]
     },
     "metadata": {},
     "output_type": "display_data"
    },
    {
     "name": "stderr",
     "output_type": "stream",
     "text": [
      "Metric valid_loss improved by 0.000 >= min_delta = 0.0. New best score: 0.409\n"
     ]
    },
    {
     "data": {
      "application/vnd.jupyter.widget-view+json": {
       "model_id": "90385faa31d04523b77599e9a0009de3",
       "version_major": 2,
       "version_minor": 0
      },
      "text/plain": [
       "Validation: 0it [00:00, ?it/s]"
      ]
     },
     "metadata": {},
     "output_type": "display_data"
    },
    {
     "name": "stderr",
     "output_type": "stream",
     "text": [
      "Metric valid_loss improved by 0.000 >= min_delta = 0.0. New best score: 0.408\n"
     ]
    },
    {
     "data": {
      "application/vnd.jupyter.widget-view+json": {
       "model_id": "6d55ad3e55d64532973a676b60a18307",
       "version_major": 2,
       "version_minor": 0
      },
      "text/plain": [
       "Validation: 0it [00:00, ?it/s]"
      ]
     },
     "metadata": {},
     "output_type": "display_data"
    },
    {
     "name": "stderr",
     "output_type": "stream",
     "text": [
      "Metric valid_loss improved by 0.000 >= min_delta = 0.0. New best score: 0.408\n"
     ]
    },
    {
     "data": {
      "application/vnd.jupyter.widget-view+json": {
       "model_id": "9a36956920d04aee9d49c3b782b70b99",
       "version_major": 2,
       "version_minor": 0
      },
      "text/plain": [
       "Validation: 0it [00:00, ?it/s]"
      ]
     },
     "metadata": {},
     "output_type": "display_data"
    },
    {
     "data": {
      "application/vnd.jupyter.widget-view+json": {
       "model_id": "ea849d9e81264da69062b01706f5ed77",
       "version_major": 2,
       "version_minor": 0
      },
      "text/plain": [
       "Validation: 0it [00:00, ?it/s]"
      ]
     },
     "metadata": {},
     "output_type": "display_data"
    },
    {
     "data": {
      "application/vnd.jupyter.widget-view+json": {
       "model_id": "3b8f0efd14024d2e96ae776d05366624",
       "version_major": 2,
       "version_minor": 0
      },
      "text/plain": [
       "Validation: 0it [00:00, ?it/s]"
      ]
     },
     "metadata": {},
     "output_type": "display_data"
    },
    {
     "name": "stderr",
     "output_type": "stream",
     "text": [
      "Metric valid_loss improved by 0.000 >= min_delta = 0.0. New best score: 0.408\n"
     ]
    },
    {
     "data": {
      "application/vnd.jupyter.widget-view+json": {
       "model_id": "d343709054fd4d67961f1f3d2987e277",
       "version_major": 2,
       "version_minor": 0
      },
      "text/plain": [
       "Validation: 0it [00:00, ?it/s]"
      ]
     },
     "metadata": {},
     "output_type": "display_data"
    },
    {
     "name": "stderr",
     "output_type": "stream",
     "text": [
      "Metric valid_loss improved by 0.000 >= min_delta = 0.0. New best score: 0.408\n"
     ]
    },
    {
     "data": {
      "application/vnd.jupyter.widget-view+json": {
       "model_id": "129ead70d67644f3a171b2721abf92d3",
       "version_major": 2,
       "version_minor": 0
      },
      "text/plain": [
       "Validation: 0it [00:00, ?it/s]"
      ]
     },
     "metadata": {},
     "output_type": "display_data"
    },
    {
     "name": "stderr",
     "output_type": "stream",
     "text": [
      "Metric valid_loss improved by 0.000 >= min_delta = 0.0. New best score: 0.408\n"
     ]
    },
    {
     "data": {
      "application/vnd.jupyter.widget-view+json": {
       "model_id": "2be89984bff746d3b8073f9d984b397e",
       "version_major": 2,
       "version_minor": 0
      },
      "text/plain": [
       "Validation: 0it [00:00, ?it/s]"
      ]
     },
     "metadata": {},
     "output_type": "display_data"
    },
    {
     "name": "stderr",
     "output_type": "stream",
     "text": [
      "Metric valid_loss improved by 0.000 >= min_delta = 0.0. New best score: 0.407\n"
     ]
    },
    {
     "data": {
      "application/vnd.jupyter.widget-view+json": {
       "model_id": "bc9d8ae3cded4e00868430f5b7ec1082",
       "version_major": 2,
       "version_minor": 0
      },
      "text/plain": [
       "Validation: 0it [00:00, ?it/s]"
      ]
     },
     "metadata": {},
     "output_type": "display_data"
    },
    {
     "data": {
      "application/vnd.jupyter.widget-view+json": {
       "model_id": "6462d31648c94607b09f226f96cac2a4",
       "version_major": 2,
       "version_minor": 0
      },
      "text/plain": [
       "Validation: 0it [00:00, ?it/s]"
      ]
     },
     "metadata": {},
     "output_type": "display_data"
    },
    {
     "data": {
      "application/vnd.jupyter.widget-view+json": {
       "model_id": "baa1a8c1c64541a4abf8ff5738ebd83a",
       "version_major": 2,
       "version_minor": 0
      },
      "text/plain": [
       "Validation: 0it [00:00, ?it/s]"
      ]
     },
     "metadata": {},
     "output_type": "display_data"
    },
    {
     "name": "stderr",
     "output_type": "stream",
     "text": [
      "Metric valid_loss improved by 0.000 >= min_delta = 0.0. New best score: 0.407\n"
     ]
    },
    {
     "data": {
      "application/vnd.jupyter.widget-view+json": {
       "model_id": "61292e90bf7449aeb6457e9184d914a8",
       "version_major": 2,
       "version_minor": 0
      },
      "text/plain": [
       "Validation: 0it [00:00, ?it/s]"
      ]
     },
     "metadata": {},
     "output_type": "display_data"
    },
    {
     "name": "stderr",
     "output_type": "stream",
     "text": [
      "Metric valid_loss improved by 0.000 >= min_delta = 0.0. New best score: 0.407\n"
     ]
    },
    {
     "data": {
      "application/vnd.jupyter.widget-view+json": {
       "model_id": "b9c71f32140941ae8637ede19c4a0c7b",
       "version_major": 2,
       "version_minor": 0
      },
      "text/plain": [
       "Validation: 0it [00:00, ?it/s]"
      ]
     },
     "metadata": {},
     "output_type": "display_data"
    },
    {
     "name": "stderr",
     "output_type": "stream",
     "text": [
      "Metric valid_loss improved by 0.000 >= min_delta = 0.0. New best score: 0.407\n"
     ]
    },
    {
     "data": {
      "application/vnd.jupyter.widget-view+json": {
       "model_id": "ec67d8ee5d59452b8c9e0ad76af7af6b",
       "version_major": 2,
       "version_minor": 0
      },
      "text/plain": [
       "Validation: 0it [00:00, ?it/s]"
      ]
     },
     "metadata": {},
     "output_type": "display_data"
    },
    {
     "data": {
      "application/vnd.jupyter.widget-view+json": {
       "model_id": "bbf2994872bb417a82b389766a422bfd",
       "version_major": 2,
       "version_minor": 0
      },
      "text/plain": [
       "Validation: 0it [00:00, ?it/s]"
      ]
     },
     "metadata": {},
     "output_type": "display_data"
    },
    {
     "name": "stderr",
     "output_type": "stream",
     "text": [
      "Metric valid_loss improved by 0.000 >= min_delta = 0.0. New best score: 0.407\n"
     ]
    },
    {
     "data": {
      "application/vnd.jupyter.widget-view+json": {
       "model_id": "80ff9cd3d14f47ebbf70521473cd58b6",
       "version_major": 2,
       "version_minor": 0
      },
      "text/plain": [
       "Validation: 0it [00:00, ?it/s]"
      ]
     },
     "metadata": {},
     "output_type": "display_data"
    },
    {
     "name": "stderr",
     "output_type": "stream",
     "text": [
      "`Trainer.fit` stopped: `max_epochs=200` reached.\n"
     ]
    }
   ],
   "source": [
    "trainer.fit(\n",
    "    model, \n",
    "    DataLoader(train_tensor_dset, batch_size=2048, shuffle=True, num_workers=4),\n",
    "    DataLoader(valid_tensor_dset, batch_size=2048, shuffle=False, num_workers=4)\n",
    ")"
   ]
  },
  {
   "cell_type": "code",
   "execution_count": 10,
   "metadata": {},
   "outputs": [
    {
     "name": "stderr",
     "output_type": "stream",
     "text": [
      "LOCAL_RANK: 0 - CUDA_VISIBLE_DEVICES: [0]\n"
     ]
    },
    {
     "data": {
      "application/vnd.jupyter.widget-view+json": {
       "model_id": "e4514e3b0d9146f594cde6f90f5aea5a",
       "version_major": 2,
       "version_minor": 0
      },
      "text/plain": [
       "Testing: 0it [00:00, ?it/s]"
      ]
     },
     "metadata": {},
     "output_type": "display_data"
    },
    {
     "data": {
      "image/png": "[encoded data removed]",
      "text/plain": [
       "<Figure size 800x600 with 2 Axes>"
      ]
     },
     "metadata": {},
     "output_type": "display_data"
    },
    {
     "data": {
      "image/png": "[encoded data removed]",
      "text/plain": [
       "<Figure size 800x600 with 2 Axes>"
      ]
     },
     "metadata": {},
     "output_type": "display_data"
    },
    {
     "data": {
      "image/png": "[encoded data removed]",
      "text/plain": [
       "<Figure size 800x600 with 2 Axes>"
      ]
     },
     "metadata": {},
     "output_type": "display_data"
    },
    {
     "name": "stdout",
     "output_type": "stream",
     "text": [
      "────────────────────────────────────────────────────────────────────────────────────────────────────────────────────────\n",
      "Runningstage.testing metric      DataLoader 0\n",
      "────────────────────────────────────────────────────────────────────────────────────────────────────────────────────────\n",
      "        test_acc            0.8143593811979373\n",
      "        test_auc             0.896780932807014\n",
      "         test_f1            0.7940295140759192\n",
      "        test_loss           0.40664124488830566\n",
      "────────────────────────────────────────────────────────────────────────────────────────────────────────────────────────\n"
     ]
    },
    {
     "data": {
      "text/plain": [
       "[{'test_loss': 0.40664124488830566,\n",
       "  'test_auc': 0.896780932807014,\n",
       "  'test_acc': 0.8143593811979373,\n",
       "  'test_f1': 0.7940295140759192}]"
      ]
     },
     "execution_count": 10,
     "metadata": {},
     "output_type": "execute_result"
    }
   ],
   "source": [
    "# Métricas no conjuntos de dados de Validação\n",
    "trainer.test(model, DataLoader(valid_tensor_dset, batch_size=2048, shuffle=False, num_workers=4))"
   ]
  },
  {
   "cell_type": "code",
   "execution_count": 11,
   "metadata": {},
   "outputs": [
    {
     "name": "stderr",
     "output_type": "stream",
     "text": [
      "LOCAL_RANK: 0 - CUDA_VISIBLE_DEVICES: [0]\n"
     ]
    },
    {
     "data": {
      "application/vnd.jupyter.widget-view+json": {
       "model_id": "0af9bdf5eab4442bb6abb7a838cd4908",
       "version_major": 2,
       "version_minor": 0
      },
      "text/plain": [
       "Testing: 0it [00:00, ?it/s]"
      ]
     },
     "metadata": {},
     "output_type": "display_data"
    },
    {
     "data": {
      "image/png": "[encoded data removed]",
      "text/plain": [
       "<Figure size 800x600 with 2 Axes>"
      ]
     },
     "metadata": {},
     "output_type": "display_data"
    },
    {
     "data": {
      "image/png": "[encoded data removed]",
      "text/plain": [
       "<Figure size 800x600 with 2 Axes>"
      ]
     },
     "metadata": {},
     "output_type": "display_data"
    },
    {
     "data": {
      "image/png": "[encoded data removed]",
      "text/plain": [
       "<Figure size 800x600 with 2 Axes>"
      ]
     },
     "metadata": {},
     "output_type": "display_data"
    },
    {
     "name": "stdout",
     "output_type": "stream",
     "text": [
      "────────────────────────────────────────────────────────────────────────────────────────────────────────────────────────\n",
      "Runningstage.testing metric      DataLoader 0\n",
      "────────────────────────────────────────────────────────────────────────────────────────────────────────────────────────\n",
      "        test_acc            0.8078143593811979\n",
      "        test_auc            0.8911673124126638\n",
      "         test_f1            0.7949843913317421\n",
      "        test_loss           0.41710031032562256\n",
      "────────────────────────────────────────────────────────────────────────────────────────────────────────────────────────\n"
     ]
    },
    {
     "data": {
      "text/plain": [
       "[{'test_loss': 0.41710031032562256,\n",
       "  'test_auc': 0.8911673124126638,\n",
       "  'test_acc': 0.8078143593811979,\n",
       "  'test_f1': 0.7949843913317421}]"
      ]
     },
     "execution_count": 11,
     "metadata": {},
     "output_type": "execute_result"
    }
   ],
   "source": [
    "# Métricas no conjuntos de dados de Teste\n",
    "trainer.test(model, DataLoader(test_tensor_dset, batch_size=2048, shuffle=False, num_workers=4))"
   ]
  }
 ],
 "metadata": {
  "kernelspec": {
   "display_name": "TCC",
   "language": "python",
   "name": "python3"
  },
  "language_info": {
   "codemirror_mode": {
    "name": "ipython",
    "version": 3
   },
   "file_extension": ".py",
   "mimetype": "text/x-python",
   "name": "python",
   "nbconvert_exporter": "python",
   "pygments_lexer": "ipython3",
   "version": "3.11.3"
  },
  "orig_nbformat": 4
 },
 "nbformat": 4,
 "nbformat_minor": 2
}
