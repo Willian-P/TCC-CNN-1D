{
 "cells": [
  {
   "cell_type": "code",
   "execution_count": 1,
   "metadata": {},
   "outputs": [
    {
     "name": "stderr",
     "output_type": "stream",
     "text": [
      "c:\\Users\\willi\\AppData\\Local\\Programs\\Python\\Python311\\Lib\\site-packages\\torchaudio\\backend\\utils.py:74: UserWarning: No audio backend is available.\n",
      "  warnings.warn(\"No audio backend is available.\")\n"
     ]
    }
   ],
   "source": [
    "# Arquivo de teste\n",
    "import numpy as np\n",
    "import pandas as pd\n",
    "from sklearn.metrics import roc_auc_score, accuracy_score, f1_score, confusion_matrix\n",
    "\n",
    "import torch\n",
    "from torch import nn\n",
    "from torch.utils.data import DataLoader,TensorDataset\n",
    "from torch.optim.lr_scheduler import ReduceLROnPlateau\n",
    "\n",
    "import pytorch_lightning as pl\n",
    "from pytorch_lightning.callbacks.early_stopping import EarlyStopping\n",
    "\n",
    "import matplotlib.pyplot as plt\n",
    "import seaborn as sns"
   ]
  },
  {
   "cell_type": "markdown",
   "metadata": {},
   "source": [
    "PyTorch Lightning, é um framework leve para treinamento que visa simplificar e acelerar o processo de treinamento."
   ]
  },
  {
   "cell_type": "code",
   "execution_count": 2,
   "metadata": {},
   "outputs": [
    {
     "data": {
      "text/plain": [
       "device(type='cuda')"
      ]
     },
     "execution_count": 2,
     "metadata": {},
     "output_type": "execute_result"
    }
   ],
   "source": [
    "# Configuração para garantir a reprodutibilidade dos resultados\n",
    "SEED = 2\n",
    "# Definem a semente aleatória para as bibliotecas NumPy e PyTorch\n",
    "np.random.seed(SEED)\n",
    "torch.manual_seed(SEED) # CPU\n",
    "torch.cuda.manual_seed(SEED) # GPU\n",
    "torch.cuda.manual_seed_all(SEED) # GPUs\n",
    "\n",
    "# Configuração para garantir que a biblioteca cuDNN do PyTorch gere resultados determinísticos (usado para aceleração em GPU)\n",
    "torch.backends.cudnn.deterministic = True\n",
    "\n",
    "# Verifica se há uma GPU disponível e define o dispositivo para \"cuda\" (GPU) ou \"cpu\" (CPU)\n",
    "device = torch.device(\"cuda\" if torch.cuda.is_available() else \"cpu\")\n",
    "device"
   ]
  },
  {
   "cell_type": "code",
   "execution_count": 3,
   "metadata": {},
   "outputs": [
    {
     "data": {
      "text/html": [
       "<div>\n",
       "<style scoped>\n",
       "    .dataframe tbody tr th:only-of-type {\n",
       "        vertical-align: middle;\n",
       "    }\n",
       "\n",
       "    .dataframe tbody tr th {\n",
       "        vertical-align: top;\n",
       "    }\n",
       "\n",
       "    .dataframe thead th {\n",
       "        text-align: right;\n",
       "    }\n",
       "</style>\n",
       "<table border=\"1\" class=\"dataframe\">\n",
       "  <thead>\n",
       "    <tr style=\"text-align: right;\">\n",
       "      <th></th>\n",
       "      <th>CS_SEXO</th>\n",
       "      <th>NU_IDADE_N</th>\n",
       "      <th>CS_GESTANT</th>\n",
       "      <th>NOSOCOMIAL</th>\n",
       "      <th>FEBRE</th>\n",
       "      <th>TOSSE</th>\n",
       "      <th>GARGANTA</th>\n",
       "      <th>DISPNEIA</th>\n",
       "      <th>DESC_RESP</th>\n",
       "      <th>SATURACAO</th>\n",
       "      <th>...</th>\n",
       "      <th>PERD_PALA</th>\n",
       "      <th>TOMO_RES</th>\n",
       "      <th>RES_AN</th>\n",
       "      <th>VACINA_COV</th>\n",
       "      <th>QTD_DIAS</th>\n",
       "      <th>DIAS_INTERNA</th>\n",
       "      <th>SINT_ATE_NOTIF</th>\n",
       "      <th>PCR_EVOLUCAO</th>\n",
       "      <th>DIAS_DOSE2</th>\n",
       "      <th>DIAS_DOSE1</th>\n",
       "    </tr>\n",
       "  </thead>\n",
       "  <tbody>\n",
       "    <tr>\n",
       "      <th>0</th>\n",
       "      <td>2</td>\n",
       "      <td>28</td>\n",
       "      <td>5</td>\n",
       "      <td>2</td>\n",
       "      <td>1</td>\n",
       "      <td>1</td>\n",
       "      <td>2</td>\n",
       "      <td>2</td>\n",
       "      <td>2</td>\n",
       "      <td>2</td>\n",
       "      <td>...</td>\n",
       "      <td>2</td>\n",
       "      <td>6</td>\n",
       "      <td>4</td>\n",
       "      <td>1</td>\n",
       "      <td>1</td>\n",
       "      <td>1</td>\n",
       "      <td>2</td>\n",
       "      <td>3</td>\n",
       "      <td>61</td>\n",
       "      <td>141</td>\n",
       "    </tr>\n",
       "    <tr>\n",
       "      <th>1</th>\n",
       "      <td>1</td>\n",
       "      <td>72</td>\n",
       "      <td>6</td>\n",
       "      <td>2</td>\n",
       "      <td>6</td>\n",
       "      <td>6</td>\n",
       "      <td>1</td>\n",
       "      <td>6</td>\n",
       "      <td>6</td>\n",
       "      <td>1</td>\n",
       "      <td>...</td>\n",
       "      <td>1</td>\n",
       "      <td>6</td>\n",
       "      <td>1</td>\n",
       "      <td>1</td>\n",
       "      <td>18</td>\n",
       "      <td>18</td>\n",
       "      <td>2</td>\n",
       "      <td>0</td>\n",
       "      <td>263</td>\n",
       "      <td>286</td>\n",
       "    </tr>\n",
       "    <tr>\n",
       "      <th>2</th>\n",
       "      <td>2</td>\n",
       "      <td>50</td>\n",
       "      <td>5</td>\n",
       "      <td>2</td>\n",
       "      <td>2</td>\n",
       "      <td>1</td>\n",
       "      <td>1</td>\n",
       "      <td>1</td>\n",
       "      <td>1</td>\n",
       "      <td>2</td>\n",
       "      <td>...</td>\n",
       "      <td>1</td>\n",
       "      <td>6</td>\n",
       "      <td>5</td>\n",
       "      <td>1</td>\n",
       "      <td>3</td>\n",
       "      <td>2</td>\n",
       "      <td>3</td>\n",
       "      <td>0</td>\n",
       "      <td>102</td>\n",
       "      <td>214</td>\n",
       "    </tr>\n",
       "    <tr>\n",
       "      <th>3</th>\n",
       "      <td>1</td>\n",
       "      <td>59</td>\n",
       "      <td>6</td>\n",
       "      <td>2</td>\n",
       "      <td>1</td>\n",
       "      <td>1</td>\n",
       "      <td>2</td>\n",
       "      <td>1</td>\n",
       "      <td>1</td>\n",
       "      <td>1</td>\n",
       "      <td>...</td>\n",
       "      <td>2</td>\n",
       "      <td>6</td>\n",
       "      <td>6</td>\n",
       "      <td>2</td>\n",
       "      <td>19</td>\n",
       "      <td>19</td>\n",
       "      <td>13</td>\n",
       "      <td>17</td>\n",
       "      <td>0</td>\n",
       "      <td>0</td>\n",
       "    </tr>\n",
       "    <tr>\n",
       "      <th>4</th>\n",
       "      <td>2</td>\n",
       "      <td>43</td>\n",
       "      <td>5</td>\n",
       "      <td>2</td>\n",
       "      <td>2</td>\n",
       "      <td>1</td>\n",
       "      <td>1</td>\n",
       "      <td>2</td>\n",
       "      <td>2</td>\n",
       "      <td>2</td>\n",
       "      <td>...</td>\n",
       "      <td>2</td>\n",
       "      <td>1</td>\n",
       "      <td>4</td>\n",
       "      <td>1</td>\n",
       "      <td>3</td>\n",
       "      <td>3</td>\n",
       "      <td>0</td>\n",
       "      <td>0</td>\n",
       "      <td>116</td>\n",
       "      <td>200</td>\n",
       "    </tr>\n",
       "    <tr>\n",
       "      <th>...</th>\n",
       "      <td>...</td>\n",
       "      <td>...</td>\n",
       "      <td>...</td>\n",
       "      <td>...</td>\n",
       "      <td>...</td>\n",
       "      <td>...</td>\n",
       "      <td>...</td>\n",
       "      <td>...</td>\n",
       "      <td>...</td>\n",
       "      <td>...</td>\n",
       "      <td>...</td>\n",
       "      <td>...</td>\n",
       "      <td>...</td>\n",
       "      <td>...</td>\n",
       "      <td>...</td>\n",
       "      <td>...</td>\n",
       "      <td>...</td>\n",
       "      <td>...</td>\n",
       "      <td>...</td>\n",
       "      <td>...</td>\n",
       "      <td>...</td>\n",
       "    </tr>\n",
       "    <tr>\n",
       "      <th>17427</th>\n",
       "      <td>1</td>\n",
       "      <td>27</td>\n",
       "      <td>6</td>\n",
       "      <td>2</td>\n",
       "      <td>1</td>\n",
       "      <td>1</td>\n",
       "      <td>2</td>\n",
       "      <td>1</td>\n",
       "      <td>1</td>\n",
       "      <td>2</td>\n",
       "      <td>...</td>\n",
       "      <td>2</td>\n",
       "      <td>6</td>\n",
       "      <td>1</td>\n",
       "      <td>2</td>\n",
       "      <td>0</td>\n",
       "      <td>1</td>\n",
       "      <td>3</td>\n",
       "      <td>0</td>\n",
       "      <td>0</td>\n",
       "      <td>0</td>\n",
       "    </tr>\n",
       "    <tr>\n",
       "      <th>17428</th>\n",
       "      <td>2</td>\n",
       "      <td>87</td>\n",
       "      <td>5</td>\n",
       "      <td>2</td>\n",
       "      <td>1</td>\n",
       "      <td>1</td>\n",
       "      <td>2</td>\n",
       "      <td>1</td>\n",
       "      <td>1</td>\n",
       "      <td>1</td>\n",
       "      <td>...</td>\n",
       "      <td>6</td>\n",
       "      <td>6</td>\n",
       "      <td>4</td>\n",
       "      <td>1</td>\n",
       "      <td>3</td>\n",
       "      <td>3</td>\n",
       "      <td>3</td>\n",
       "      <td>3</td>\n",
       "      <td>511</td>\n",
       "      <td>536</td>\n",
       "    </tr>\n",
       "    <tr>\n",
       "      <th>17429</th>\n",
       "      <td>2</td>\n",
       "      <td>92</td>\n",
       "      <td>6</td>\n",
       "      <td>2</td>\n",
       "      <td>1</td>\n",
       "      <td>1</td>\n",
       "      <td>1</td>\n",
       "      <td>2</td>\n",
       "      <td>2</td>\n",
       "      <td>2</td>\n",
       "      <td>...</td>\n",
       "      <td>1</td>\n",
       "      <td>6</td>\n",
       "      <td>5</td>\n",
       "      <td>1</td>\n",
       "      <td>2</td>\n",
       "      <td>2</td>\n",
       "      <td>3</td>\n",
       "      <td>1</td>\n",
       "      <td>532</td>\n",
       "      <td>572</td>\n",
       "    </tr>\n",
       "    <tr>\n",
       "      <th>17430</th>\n",
       "      <td>1</td>\n",
       "      <td>76</td>\n",
       "      <td>6</td>\n",
       "      <td>2</td>\n",
       "      <td>1</td>\n",
       "      <td>2</td>\n",
       "      <td>2</td>\n",
       "      <td>1</td>\n",
       "      <td>1</td>\n",
       "      <td>1</td>\n",
       "      <td>...</td>\n",
       "      <td>6</td>\n",
       "      <td>1</td>\n",
       "      <td>4</td>\n",
       "      <td>1</td>\n",
       "      <td>7</td>\n",
       "      <td>8</td>\n",
       "      <td>7</td>\n",
       "      <td>0</td>\n",
       "      <td>575</td>\n",
       "      <td>597</td>\n",
       "    </tr>\n",
       "    <tr>\n",
       "      <th>17431</th>\n",
       "      <td>2</td>\n",
       "      <td>67</td>\n",
       "      <td>5</td>\n",
       "      <td>2</td>\n",
       "      <td>2</td>\n",
       "      <td>2</td>\n",
       "      <td>2</td>\n",
       "      <td>1</td>\n",
       "      <td>1</td>\n",
       "      <td>1</td>\n",
       "      <td>...</td>\n",
       "      <td>2</td>\n",
       "      <td>6</td>\n",
       "      <td>5</td>\n",
       "      <td>1</td>\n",
       "      <td>5</td>\n",
       "      <td>5</td>\n",
       "      <td>0</td>\n",
       "      <td>3</td>\n",
       "      <td>606</td>\n",
       "      <td>634</td>\n",
       "    </tr>\n",
       "  </tbody>\n",
       "</table>\n",
       "<p>17432 rows × 41 columns</p>\n",
       "</div>"
      ],
      "text/plain": [
       "       CS_SEXO  NU_IDADE_N  CS_GESTANT  NOSOCOMIAL  FEBRE  TOSSE  GARGANTA  \\\n",
       "0            2          28           5           2      1      1         2   \n",
       "1            1          72           6           2      6      6         1   \n",
       "2            2          50           5           2      2      1         1   \n",
       "3            1          59           6           2      1      1         2   \n",
       "4            2          43           5           2      2      1         1   \n",
       "...        ...         ...         ...         ...    ...    ...       ...   \n",
       "17427        1          27           6           2      1      1         2   \n",
       "17428        2          87           5           2      1      1         2   \n",
       "17429        2          92           6           2      1      1         1   \n",
       "17430        1          76           6           2      1      2         2   \n",
       "17431        2          67           5           2      2      2         2   \n",
       "\n",
       "       DISPNEIA  DESC_RESP  SATURACAO  ...  PERD_PALA  TOMO_RES  RES_AN  \\\n",
       "0             2          2          2  ...          2         6       4   \n",
       "1             6          6          1  ...          1         6       1   \n",
       "2             1          1          2  ...          1         6       5   \n",
       "3             1          1          1  ...          2         6       6   \n",
       "4             2          2          2  ...          2         1       4   \n",
       "...         ...        ...        ...  ...        ...       ...     ...   \n",
       "17427         1          1          2  ...          2         6       1   \n",
       "17428         1          1          1  ...          6         6       4   \n",
       "17429         2          2          2  ...          1         6       5   \n",
       "17430         1          1          1  ...          6         1       4   \n",
       "17431         1          1          1  ...          2         6       5   \n",
       "\n",
       "       VACINA_COV  QTD_DIAS  DIAS_INTERNA  SINT_ATE_NOTIF  PCR_EVOLUCAO  \\\n",
       "0               1         1             1               2             3   \n",
       "1               1        18            18               2             0   \n",
       "2               1         3             2               3             0   \n",
       "3               2        19            19              13            17   \n",
       "4               1         3             3               0             0   \n",
       "...           ...       ...           ...             ...           ...   \n",
       "17427           2         0             1               3             0   \n",
       "17428           1         3             3               3             3   \n",
       "17429           1         2             2               3             1   \n",
       "17430           1         7             8               7             0   \n",
       "17431           1         5             5               0             3   \n",
       "\n",
       "       DIAS_DOSE2  DIAS_DOSE1  \n",
       "0              61         141  \n",
       "1             263         286  \n",
       "2             102         214  \n",
       "3               0           0  \n",
       "4             116         200  \n",
       "...           ...         ...  \n",
       "17427           0           0  \n",
       "17428         511         536  \n",
       "17429         532         572  \n",
       "17430         575         597  \n",
       "17431         606         634  \n",
       "\n",
       "[17432 rows x 41 columns]"
      ]
     },
     "execution_count": 3,
     "metadata": {},
     "output_type": "execute_result"
    }
   ],
   "source": [
    "# Carrega o Dataset\n",
    "dataset = pd.read_csv(\"Datasets\\SMOTE85_Scaler.csv\")\n",
    "dataset"
   ]
  },
  {
   "cell_type": "markdown",
   "metadata": {},
   "source": [
    "Divisão do dataset em três conjuntos distintos: treinamento, validação e teste. Sendo 60% para treinamento, 20% para validação e 20% para teste.\n"
   ]
  },
  {
   "cell_type": "code",
   "execution_count": 4,
   "metadata": {},
   "outputs": [],
   "source": [
    "# Cria um array para armazenar os índices do dataset original. Para embaralhar os índices e, posteriormente dividir os dados aleatoriamente.\n",
    "index = np.array(dataset.index)\n",
    "\n",
    "# Embaralha os índices de forma aleatória\n",
    "np.random.shuffle(index)\n",
    "# Número total de amostras no dataset\n",
    "n = len(index)\n",
    "\n",
    "# Seleciona os índices das primeiras 60% amostras embaralhadas para o conjunto de treinamento.\n",
    "train_index = index[0:int(0.6*n)]\n",
    "# As amostras da posição 60% até a posição 80% para o conjunto de validação\n",
    "valid_index = index[int(0.6*n):int(0.8*n)]\n",
    "# As amostras da posição 80% até o final para o conjunto de teste\n",
    "test_index = index[int(0.8*n):]\n",
    "\n",
    "# Cria um dataset para armazenar cada conjunto, treino, validação e teste, respectivamente e reindexa os índices\n",
    "train_dset = dataset.loc[train_index].reset_index(drop=True)\n",
    "valid_dset = dataset.loc[valid_index].reset_index(drop=True)\n",
    "test_dset = dataset.loc[test_index].reset_index(drop=True)"
   ]
  },
  {
   "cell_type": "code",
   "execution_count": 5,
   "metadata": {},
   "outputs": [],
   "source": [
    "# Obtendo os atributos (features) do dataset, excluindo a coluna 'EVOLUCAO'\n",
    "input_features = dataset.columns.drop('EVOLUCAO').tolist()\n",
    "\n",
    "# Obtendo os rótulos (target) do dataset\n",
    "target = 'EVOLUCAO'\n",
    "labels = dataset[target].tolist()"
   ]
  },
  {
   "cell_type": "code",
   "execution_count": 6,
   "metadata": {},
   "outputs": [],
   "source": [
    "# Os dados são convertidos em tensores PyTorch\n",
    "train_tensor_dset = TensorDataset(\n",
    "    # converte os dados das colunas de entradas em tensores de ponto flutuante\n",
    "    torch.tensor(train_dset[input_features].values, dtype=torch.float),\n",
    "    # converte os dados da coluna de rótulos em tensores de ponto flutuante com formato de matriz\n",
    "    torch.tensor(train_dset[target].values.reshape(-1,1), dtype=torch.float)\n",
    ")\n",
    "\n",
    "valid_tensor_dset = TensorDataset(\n",
    "    torch.tensor(valid_dset[input_features].values, dtype=torch.float),\n",
    "    torch.tensor(valid_dset[target].values.reshape(-1,1), dtype=torch.float)\n",
    ")\n",
    "\n",
    "test_tensor_dset = TensorDataset(\n",
    "    torch.tensor(test_dset[input_features].values, dtype=torch.float),\n",
    "    torch.tensor(test_dset[target].values.reshape(-1,1), dtype=torch.float) \n",
    ")"
   ]
  },
  {
   "cell_type": "code",
   "execution_count": 7,
   "metadata": {},
   "outputs": [],
   "source": [
    "# Função para calcular a matriz de confusão e plotar a matriz de confusão como uma imagem\n",
    "def plot_confusion_matrix(y_true, y_pred_labels):\n",
    "    # Calcula a matriz de confusão usando as previsões e os rótulos verdadeiros\n",
    "    cm = confusion_matrix(y_true, y_pred_labels)\n",
    "\n",
    "    # Normaliza a matriz de confusão dividindo cada elemento pelo número total de amostras de teste\n",
    "    cm_normalized = cm.astype('float') / cm.sum(axis=1)[:, np.newaxis]\n",
    "\n",
    "    # Plotar a matriz de confusão usando o seaborn\n",
    "    plt.figure(figsize=(8, 6))\n",
    "    sns.heatmap(cm_normalized, annot=True, fmt=\".2f\", cmap=\"Blues\")\n",
    "    plt.xlabel(\"Predicted Label\")\n",
    "    plt.ylabel(\"True Label\")\n",
    "    plt.title(\"Normalized Confusion Matrix\")\n",
    "\n",
    "    # Salvar a figura como uma imagem\n",
    "    confusion_matrix_image_path = \"confusion_matrix.png\"\n",
    "    plt.savefig(confusion_matrix_image_path)\n",
    "\n",
    "    # Fechar o plot para liberar recursos\n",
    "    plt.close()"
   ]
  },
  {
   "cell_type": "markdown",
   "metadata": {},
   "source": [
    "No contexto da biblioteca PyTorch, um tensor é uma estrutura de dados similar a um array NumPy, mas com suporte para aceleração de hardware através de GPUs.\n",
    "\n",
    "A abordagem com tensores no PyTorch permite representar e manipular os dados de entrada e saída do modelo de forma eficiente, além de oferecer suporte para aceleração de hardware em GPUs, o que é essencial para realizar cálculos complexos em redes neurais profundas com grandes volumes de dados."
   ]
  },
  {
   "cell_type": "code",
   "execution_count": 8,
   "metadata": {},
   "outputs": [],
   "source": [
    "class SoftOrdering1DCNN(pl.LightningModule):\n",
    "\n",
    "    def __init__(self, input_dim, output_dim, sign_size=16, cha_input=1, cha_hidden=64, \n",
    "                 K=2, dropout_input=0.2, dropout_hidden=0.2, dropout_output=0.2):\n",
    "        super().__init__()\n",
    "\n",
    "        # Calcula o tamanho da camada oculta multiplicando o tamanho do sinal (sign_size) \n",
    "        # pela quantidade de canais de entrada (cha_input).\n",
    "        hidden_size = sign_size*cha_input\n",
    "        # Armazena o tamanho do sinal\n",
    "        sign_size1 = sign_size\n",
    "        # Calcula o tamanho do sinal dividido por 2 e armazena o resultado na variável\n",
    "        sign_size2 = sign_size//2\n",
    "\n",
    "        #Calcula o tamanho da camada de saída multiplicando o tamanho do sinal dividido \n",
    "        # por 4 pela quantidade de canais ocultos (cha_hidden).\n",
    "        output_size = (sign_size//4) * cha_hidden\n",
    "\n",
    "        self.hidden_size = hidden_size # Tamanho do vetor oculto\n",
    "        self.cha_input = cha_input # Número de canais de entrada\n",
    "        self.cha_hidden = cha_hidden # Número de canais da camada oculta\n",
    "        self.K = K # Fator de multiplicação utilizado na primeira camada convolucional\n",
    "        self.sign_size1 = sign_size1 # Tamanho do sinal de entrada original\n",
    "        self.sign_size2 = sign_size2 # Tamanho do sinal após a camada de pool adaptativa.\n",
    "        self.output_size = output_size # Tamanho do vetor de saída após a última camada de convolução e a camada de pool\n",
    "        self.dropout_input = dropout_input # Taxa de dropout aplicada à camada de entrada\n",
    "        self.dropout_hidden = dropout_hidden # Taxa de dropout aplicada às camadas ocultas\n",
    "        self.dropout_output = dropout_output # Taxa de dropout aplicada à camada de saída\n",
    "\n",
    "        # Cria uma camada de normalização por lote (BatchNorm1d) com tamanho de entrada \n",
    "        # igual a input_dim e a atribui ao atributo batch_norm1 da classe.\n",
    "        self.batch_norm1 = nn.BatchNorm1d(input_dim)\n",
    "        # Cria uma camada de dropout (Dropout) com taxa de dropout igual a dropout_input \n",
    "        # e a atribui ao atributo dropout1 da classe.\n",
    "        self.dropout1 = nn.Dropout(dropout_input)\n",
    "        # Cria uma camada densa (Linear) com tamanho de entrada igual a input_dim, tamanho de saída \n",
    "        # igual a hidden_size e sem viés (bias=False). A camada é armazenada temporariamente na variável dense1.\n",
    "        dense1 = nn.Linear(input_dim, hidden_size, bias=False)\n",
    "        # Aplica a normalização de peso (weight normalization) na camada dense1 e a atribui ao atributo dense1 da classe. \n",
    "        self.dense1 = nn.utils.weight_norm(dense1)\n",
    "\n",
    "        # 1st conv layer\n",
    "        self.batch_norm_c1 = nn.BatchNorm1d(cha_input)\n",
    "        conv1 = conv1 = nn.Conv1d(\n",
    "            cha_input, # canais de entrada\n",
    "            cha_input*K, # canais de saída\n",
    "            kernel_size=5, # tamanho de filtro\n",
    "            stride = 1, # Deslocamento\n",
    "            padding=2,  # Preenchimento\n",
    "            groups=cha_input, # igual ao número de canais de entrada e sem viés\n",
    "            bias=False) #  Essa camada aplica uma convolução em cada canal de entrada separadamente\n",
    "        # camada convolucional definida anteriormente é normalizada pela norma dos pesos \n",
    "        self.conv1 = nn.utils.weight_norm(conv1, dim=None) \n",
    "\n",
    "        self.ave_po_c1 = nn.AdaptiveAvgPool1d(output_size = sign_size2)\n",
    "\n",
    "        # 2nd conv layer\n",
    "        self.batch_norm_c2 = nn.BatchNorm1d(cha_input*K)\n",
    "        self.dropout_c2 = nn.Dropout(dropout_hidden)\n",
    "        conv2 = nn.Conv1d(\n",
    "            cha_input*K, \n",
    "            cha_hidden, \n",
    "            kernel_size=3, \n",
    "            stride=1, \n",
    "            padding=1, \n",
    "            bias=False)\n",
    "        self.conv2 = nn.utils.weight_norm(conv2, dim=None)\n",
    "\n",
    "        # 3rd conv layer\n",
    "        self.batch_norm_c3 = nn.BatchNorm1d(cha_hidden)\n",
    "        self.dropout_c3 = nn.Dropout(dropout_hidden)\n",
    "        conv3 = nn.Conv1d(\n",
    "            cha_hidden, \n",
    "            cha_hidden, \n",
    "            kernel_size=3, \n",
    "            stride=1, \n",
    "            padding=1, \n",
    "            bias=False)\n",
    "        self.conv3 = nn.utils.weight_norm(conv3, dim=None)\n",
    "        \n",
    "\n",
    "        # 4th conv layer\n",
    "        self.batch_norm_c4 = nn.BatchNorm1d(cha_hidden)\n",
    "        conv4 = nn.Conv1d(\n",
    "            cha_hidden, \n",
    "            cha_hidden, \n",
    "            kernel_size=5, \n",
    "            stride=1, \n",
    "            padding=2, \n",
    "            groups=cha_hidden, \n",
    "            bias=False)\n",
    "        self.conv4 = nn.utils.weight_norm(conv4, dim=None)\n",
    "\n",
    "        # cria uma camada de pooling médio unidimensional\n",
    "        self.avg_po_c4 = nn.AvgPool1d(kernel_size=4, stride=2, padding=1)\n",
    "\n",
    "        # cria uma camada de achatamento. É usada para transformar a saída das \n",
    "        # camadas convolucionais em um vetor unidimensional\n",
    "        self.flt = nn.Flatten()\n",
    "\n",
    "        self.batch_norm2 = nn.BatchNorm1d(output_size)\n",
    "        self.dropout2 = nn.Dropout(dropout_output)\n",
    "        dense2 = nn.Linear(output_size, output_dim, bias=False)\n",
    "        self.dense2 = nn.utils.weight_norm(dense2)\n",
    "\n",
    "        # Calcula a perda durante o treinamento\n",
    "        self.loss = nn.BCEWithLogitsLoss()\n",
    "\n",
    "\n",
    "    # Define a passagem direta (forward pass) do modelo (como os dados fluem pelas camadas)\n",
    "    def forward(self, x):\n",
    "        x = self.batch_norm1(x)\n",
    "        x = self.dropout1(x)\n",
    "        x = nn.functional.celu(self.dense1(x))\n",
    "\n",
    "        x = x.reshape(x.shape[0], self.cha_input, self.sign_size1)\n",
    "\n",
    "        x = self.batch_norm_c1(x)\n",
    "        x = nn.functional.relu(self.conv1(x))\n",
    "\n",
    "        x = self.ave_po_c1(x)\n",
    "\n",
    "        x = self.batch_norm_c2(x)\n",
    "        x = self.dropout_c2(x)\n",
    "        x = nn.functional.relu(self.conv2(x))\n",
    "        x_s = x\n",
    "\n",
    "        x = self.batch_norm_c3(x)\n",
    "        x = self.dropout_c3(x)\n",
    "        x = nn.functional.relu(self.conv3(x))\n",
    "\n",
    "        x = self.batch_norm_c4(x)\n",
    "        x = self.conv4(x)\n",
    "        x =  x + x_s\n",
    "        x = nn.functional.relu(x)\n",
    "\n",
    "        x = self.avg_po_c4(x)\n",
    "\n",
    "        x = self.flt(x)\n",
    "\n",
    "        x = self.batch_norm2(x)\n",
    "        x = self.dropout2(x)\n",
    "        x = self.dense2(x)\n",
    "\n",
    "        return x\n",
    "\n",
    "    # Métricas\n",
    "    def roc_auc(self, y_pred, y_true):\n",
    "        # Calcula o ROC AUC usando sklearn.metrics.roc_auc_score\n",
    "        roc_auc = roc_auc_score(y_true.cpu(), torch.sigmoid(y_pred).cpu())\n",
    "        return torch.tensor(roc_auc)\n",
    "\n",
    "    def accuracy(self, y_pred, y_true):\n",
    "        # Arredonda as probabilidades previstas para obter as previsões binárias (0 ou 1)\n",
    "        y_pred_labels = torch.round(torch.sigmoid(y_pred))\n",
    "        # Calcula a acurácia usando sklearn.metrics.accuracy_score\n",
    "        acc = accuracy_score(y_true.cpu(), y_pred_labels.cpu())\n",
    "        return torch.tensor(acc)\n",
    "\n",
    "    def f1(self, y_pred, y_true):\n",
    "        # Arredonda as probabilidades previstas para obter as previsões binárias (0 ou 1)\n",
    "        y_pred_labels = torch.round(torch.sigmoid(y_pred))\n",
    "        # Calcula o F1-score usando sklearn.metrics.f1_score\n",
    "        f1score = f1_score(y_true.cpu(), y_pred_labels.cpu())\n",
    "        return torch.tensor(f1score)\n",
    "    \n",
    "    def calculate_confusion_matrix(self, y_pred, y_true):\n",
    "        # Arredonda as probabilidades previstas para obter as previsões binárias (0 ou 1)\n",
    "        y_pred_labels = torch.round(torch.sigmoid(y_pred))\n",
    "        # Calcula a matriz de confusão usando as previsões e os rótulos verdadeiros\n",
    "        cm = confusion_matrix(y_true.cpu(), y_pred_labels.cpu())\n",
    "        return cm\n",
    "    \n",
    "    def plot_confusion_matrix(self, cm):\n",
    "        plt.figure(figsize=(8, 6))\n",
    "        sns.heatmap(cm, annot=True, fmt=\"d\", cmap=\"Blues\", xticklabels=['0', '1'], yticklabels=['0', '1'])\n",
    "        plt.xlabel(\"Predicted Label\")\n",
    "        plt.ylabel(\"True Label\")\n",
    "        plt.title(\"Confusion Matrix\")\n",
    "        plt.show()\n",
    "\n",
    "    # define os passos de treinamento do modelo.\n",
    "    def training_step(self, batch, batch_idx):\n",
    "        X, y = batch\n",
    "        y_hat = self.forward(X)\n",
    "        loss = self.loss(y_hat, y)\n",
    "        self.log('train_loss', loss)\n",
    "        return loss\n",
    "    \n",
    "    def validation_step(self, batch, batch_idx):\n",
    "        X, y = batch\n",
    "        y_hat = self.forward(X)\n",
    "        loss = self.loss(y_hat, y)\n",
    "        self.log('valid_loss', loss)\n",
    "        \n",
    "    def test_step(self, batch, batch_idx):\n",
    "        X, y = batch\n",
    "        y_logit = self.forward(X)\n",
    "        y_probs = torch.sigmoid(y_logit).detach().cpu().numpy()\n",
    "        loss = self.loss(y_logit, y)\n",
    "        metric = roc_auc_score(y.cpu().numpy(), y_probs)\n",
    "        self.log('test_loss', loss)\n",
    "        self.log('test_metric', metric)\n",
    "\n",
    "        # MATRIZ\n",
    "        # Calcula a matriz de confusão usando a função calculate_confusion_matrix\n",
    "        cm = self.calculate_confusion_matrix(y_logit, y)\n",
    "        # Plotar e salvar a matriz de confusão\n",
    "        self.plot_confusion_matrix(cm)\n",
    "\n",
    "        roc_auc = self.roc_auc(y_logit, y)\n",
    "        acc = self.accuracy(y_logit, y)\n",
    "        f1score = self.f1(y_logit, y)\n",
    "        self.log('test_roc', roc_auc)\n",
    "        self.log('test_acc', acc, prog_bar=True)\n",
    "        self.log('test_f1', f1score, prog_bar=True)\n",
    "        \n",
    "    def configure_optimizers(self):\n",
    "        # Cria um otimizador SGD\n",
    "        optimizer = torch.optim.SGD(self.parameters(), lr=1e-2, momentum=0.9)\n",
    "        scheduler = {\n",
    "            'scheduler': ReduceLROnPlateau(\n",
    "                optimizer, \n",
    "                mode=\"min\", \n",
    "                factor=0.5, \n",
    "                patience=5, \n",
    "                min_lr=1e-5),\n",
    "            'interval': 'epoch',\n",
    "            'frequency': 1,\n",
    "            'reduce_on_plateau': True,\n",
    "            'monitor': 'valid_loss',\n",
    "        }\n",
    "        return [optimizer], [scheduler]"
   ]
  },
  {
   "cell_type": "code",
   "execution_count": 9,
   "metadata": {},
   "outputs": [
    {
     "name": "stderr",
     "output_type": "stream",
     "text": [
      "GPU available: True (cuda), used: True\n",
      "TPU available: False, using: 0 TPU cores\n",
      "IPU available: False, using: 0 IPUs\n",
      "HPU available: False, using: 0 HPUs\n"
     ]
    },
    {
     "name": "stdout",
     "output_type": "stream",
     "text": [
      "Número de atributos (input_dim): 40\n"
     ]
    },
    {
     "name": "stderr",
     "output_type": "stream",
     "text": [
      "c:\\Users\\willi\\AppData\\Local\\Programs\\Python\\Python311\\Lib\\site-packages\\pytorch_lightning\\trainer\\connectors\\logger_connector\\logger_connector.py:67: UserWarning: Starting from v1.9.0, `tensorboardX` has been removed as a dependency of the `pytorch_lightning` package, due to potential conflicts with other packages in the ML ecosystem. For this reason, `logger=True` will use `CSVLogger` as the default logger, unless the `tensorboard` or `tensorboardX` packages are found. Please `pip install lightning[extra]` or one of them to enable TensorBoard support by default\n",
      "  warning_cache.warn(\n"
     ]
    }
   ],
   "source": [
    "model = SoftOrdering1DCNN(\n",
    "    input_dim=len(input_features), \n",
    "    output_dim=1, # 0: Recuperado, 1: Óbito\n",
    "    sign_size=16, # É utilizado em dados temporais, o dataset não possui essa característica\n",
    "    cha_input=1,  # CNN1D\n",
    "    cha_hidden=64, \n",
    "    K=2, \n",
    "    dropout_input=0.3, \n",
    "    dropout_hidden=0.3, \n",
    "    dropout_output=0.2\n",
    ")\n",
    "print(\"Número de atributos (input_dim):\", len(input_features))\n",
    "\n",
    "\n",
    "# interromper o treinamento prematuramente se a métrica de validação não melhorar, após x épocas\n",
    "early_stop_callback = EarlyStopping(\n",
    "   monitor='valid_loss',\n",
    "   min_delta=.0,\n",
    "   patience=21,\n",
    "   verbose=True,\n",
    "   mode='min'\n",
    ")\n",
    "\n",
    "trainer = pl.Trainer(\n",
    "    callbacks=[early_stop_callback],\n",
    "    min_epochs=10, \n",
    "    max_epochs=30, # 200 \n",
    "    accelerator='gpu') # gpus=1"
   ]
  },
  {
   "cell_type": "code",
   "execution_count": 10,
   "metadata": {},
   "outputs": [
    {
     "name": "stderr",
     "output_type": "stream",
     "text": [
      "You are using a CUDA device ('NVIDIA GeForce RTX 3060 Ti') that has Tensor Cores. To properly utilize them, you should set `torch.set_float32_matmul_precision('medium' | 'high')` which will trade-off precision for performance. For more details, read https://pytorch.org/docs/stable/generated/torch.set_float32_matmul_precision.html#torch.set_float32_matmul_precision\n",
      "LOCAL_RANK: 0 - CUDA_VISIBLE_DEVICES: [0]\n",
      "\n",
      "   | Name          | Type              | Params\n",
      "-----------------------------------------------------\n",
      "0  | batch_norm1   | BatchNorm1d       | 80    \n",
      "1  | dropout1      | Dropout           | 0     \n",
      "2  | dense1        | Linear            | 656   \n",
      "3  | batch_norm_c1 | BatchNorm1d       | 2     \n",
      "4  | conv1         | Conv1d            | 11    \n",
      "5  | ave_po_c1     | AdaptiveAvgPool1d | 0     \n",
      "6  | batch_norm_c2 | BatchNorm1d       | 4     \n",
      "7  | dropout_c2    | Dropout           | 0     \n",
      "8  | conv2         | Conv1d            | 385   \n",
      "9  | batch_norm_c3 | BatchNorm1d       | 128   \n",
      "10 | dropout_c3    | Dropout           | 0     \n",
      "11 | conv3         | Conv1d            | 12.3 K\n",
      "12 | batch_norm_c4 | BatchNorm1d       | 128   \n",
      "13 | conv4         | Conv1d            | 321   \n",
      "14 | avg_po_c4     | AvgPool1d         | 0     \n",
      "15 | flt           | Flatten           | 0     \n",
      "16 | batch_norm2   | BatchNorm1d       | 512   \n",
      "17 | dropout2      | Dropout           | 0     \n",
      "18 | dense2        | Linear            | 257   \n",
      "19 | loss          | BCEWithLogitsLoss | 0     \n",
      "-----------------------------------------------------\n",
      "14.8 K    Trainable params\n",
      "0         Non-trainable params\n",
      "14.8 K    Total params\n",
      "0.059     Total estimated model params size (MB)\n"
     ]
    },
    {
     "data": {
      "application/vnd.jupyter.widget-view+json": {
       "model_id": "df6ef370e8c24011a042b92b42ffdd56",
       "version_major": 2,
       "version_minor": 0
      },
      "text/plain": [
       "Sanity Checking: 0it [00:00, ?it/s]"
      ]
     },
     "metadata": {},
     "output_type": "display_data"
    },
    {
     "name": "stderr",
     "output_type": "stream",
     "text": [
      "c:\\Users\\willi\\AppData\\Local\\Programs\\Python\\Python311\\Lib\\site-packages\\pytorch_lightning\\loops\\fit_loop.py:280: PossibleUserWarning: The number of training batches (6) is smaller than the logging interval Trainer(log_every_n_steps=50). Set a lower value for log_every_n_steps if you want to see logs for the training epoch.\n",
      "  rank_zero_warn(\n"
     ]
    },
    {
     "data": {
      "application/vnd.jupyter.widget-view+json": {
       "model_id": "618b2c0800424c528de3d2c136568ec6",
       "version_major": 2,
       "version_minor": 0
      },
      "text/plain": [
       "Training: 0it [00:00, ?it/s]"
      ]
     },
     "metadata": {},
     "output_type": "display_data"
    },
    {
     "data": {
      "application/vnd.jupyter.widget-view+json": {
       "model_id": "e3f759e0ad944715b8af6132adfa54da",
       "version_major": 2,
       "version_minor": 0
      },
      "text/plain": [
       "Validation: 0it [00:00, ?it/s]"
      ]
     },
     "metadata": {},
     "output_type": "display_data"
    },
    {
     "name": "stderr",
     "output_type": "stream",
     "text": [
      "Metric valid_loss improved. New best score: 0.688\n"
     ]
    },
    {
     "data": {
      "application/vnd.jupyter.widget-view+json": {
       "model_id": "6997ab8d81b847409de6499f7c604933",
       "version_major": 2,
       "version_minor": 0
      },
      "text/plain": [
       "Validation: 0it [00:00, ?it/s]"
      ]
     },
     "metadata": {},
     "output_type": "display_data"
    },
    {
     "data": {
      "application/vnd.jupyter.widget-view+json": {
       "model_id": "47d6fd0d9bae41d5831996db23f169ee",
       "version_major": 2,
       "version_minor": 0
      },
      "text/plain": [
       "Validation: 0it [00:00, ?it/s]"
      ]
     },
     "metadata": {},
     "output_type": "display_data"
    },
    {
     "name": "stderr",
     "output_type": "stream",
     "text": [
      "Metric valid_loss improved by 0.027 >= min_delta = 0.0. New best score: 0.662\n"
     ]
    },
    {
     "data": {
      "application/vnd.jupyter.widget-view+json": {
       "model_id": "7bf46095ce33425dbd6b59f2d98f5b6d",
       "version_major": 2,
       "version_minor": 0
      },
      "text/plain": [
       "Validation: 0it [00:00, ?it/s]"
      ]
     },
     "metadata": {},
     "output_type": "display_data"
    },
    {
     "data": {
      "application/vnd.jupyter.widget-view+json": {
       "model_id": "cd32cf43168443b8936bbc36b63b998c",
       "version_major": 2,
       "version_minor": 0
      },
      "text/plain": [
       "Validation: 0it [00:00, ?it/s]"
      ]
     },
     "metadata": {},
     "output_type": "display_data"
    },
    {
     "name": "stderr",
     "output_type": "stream",
     "text": [
      "Metric valid_loss improved by 0.027 >= min_delta = 0.0. New best score: 0.635\n"
     ]
    },
    {
     "data": {
      "application/vnd.jupyter.widget-view+json": {
       "model_id": "bce36b8e6f1742048305cadb47a2fe34",
       "version_major": 2,
       "version_minor": 0
      },
      "text/plain": [
       "Validation: 0it [00:00, ?it/s]"
      ]
     },
     "metadata": {},
     "output_type": "display_data"
    },
    {
     "name": "stderr",
     "output_type": "stream",
     "text": [
      "Metric valid_loss improved by 0.025 >= min_delta = 0.0. New best score: 0.610\n"
     ]
    },
    {
     "data": {
      "application/vnd.jupyter.widget-view+json": {
       "model_id": "979b0860664741ce88d34abf86d62a73",
       "version_major": 2,
       "version_minor": 0
      },
      "text/plain": [
       "Validation: 0it [00:00, ?it/s]"
      ]
     },
     "metadata": {},
     "output_type": "display_data"
    },
    {
     "name": "stderr",
     "output_type": "stream",
     "text": [
      "Metric valid_loss improved by 0.007 >= min_delta = 0.0. New best score: 0.602\n"
     ]
    },
    {
     "data": {
      "application/vnd.jupyter.widget-view+json": {
       "model_id": "85fe105c58c4490bb3774e207b0da719",
       "version_major": 2,
       "version_minor": 0
      },
      "text/plain": [
       "Validation: 0it [00:00, ?it/s]"
      ]
     },
     "metadata": {},
     "output_type": "display_data"
    },
    {
     "name": "stderr",
     "output_type": "stream",
     "text": [
      "Metric valid_loss improved by 0.012 >= min_delta = 0.0. New best score: 0.590\n"
     ]
    },
    {
     "data": {
      "application/vnd.jupyter.widget-view+json": {
       "model_id": "96d4624f3573483cb15711c57f20038a",
       "version_major": 2,
       "version_minor": 0
      },
      "text/plain": [
       "Validation: 0it [00:00, ?it/s]"
      ]
     },
     "metadata": {},
     "output_type": "display_data"
    },
    {
     "data": {
      "application/vnd.jupyter.widget-view+json": {
       "model_id": "5e23bff5a5bb4e61aa73bb346ae5d124",
       "version_major": 2,
       "version_minor": 0
      },
      "text/plain": [
       "Validation: 0it [00:00, ?it/s]"
      ]
     },
     "metadata": {},
     "output_type": "display_data"
    },
    {
     "name": "stderr",
     "output_type": "stream",
     "text": [
      "Metric valid_loss improved by 0.001 >= min_delta = 0.0. New best score: 0.590\n"
     ]
    },
    {
     "data": {
      "application/vnd.jupyter.widget-view+json": {
       "model_id": "04d2b8f815d8487ba6c41c75f6dd9186",
       "version_major": 2,
       "version_minor": 0
      },
      "text/plain": [
       "Validation: 0it [00:00, ?it/s]"
      ]
     },
     "metadata": {},
     "output_type": "display_data"
    },
    {
     "name": "stderr",
     "output_type": "stream",
     "text": [
      "Metric valid_loss improved by 0.046 >= min_delta = 0.0. New best score: 0.543\n"
     ]
    },
    {
     "data": {
      "application/vnd.jupyter.widget-view+json": {
       "model_id": "062c7130f1e74311a8dfebd7682d16ea",
       "version_major": 2,
       "version_minor": 0
      },
      "text/plain": [
       "Validation: 0it [00:00, ?it/s]"
      ]
     },
     "metadata": {},
     "output_type": "display_data"
    },
    {
     "name": "stderr",
     "output_type": "stream",
     "text": [
      "Metric valid_loss improved by 0.007 >= min_delta = 0.0. New best score: 0.536\n"
     ]
    },
    {
     "data": {
      "application/vnd.jupyter.widget-view+json": {
       "model_id": "76ccd612b05b4159908f5d3fbfaf9306",
       "version_major": 2,
       "version_minor": 0
      },
      "text/plain": [
       "Validation: 0it [00:00, ?it/s]"
      ]
     },
     "metadata": {},
     "output_type": "display_data"
    },
    {
     "data": {
      "application/vnd.jupyter.widget-view+json": {
       "model_id": "01f2bece2e88404c984c25f3b149e2d0",
       "version_major": 2,
       "version_minor": 0
      },
      "text/plain": [
       "Validation: 0it [00:00, ?it/s]"
      ]
     },
     "metadata": {},
     "output_type": "display_data"
    },
    {
     "name": "stderr",
     "output_type": "stream",
     "text": [
      "Metric valid_loss improved by 0.061 >= min_delta = 0.0. New best score: 0.475\n"
     ]
    },
    {
     "data": {
      "application/vnd.jupyter.widget-view+json": {
       "model_id": "6208e07753cc41398c1701c3e33d9ed7",
       "version_major": 2,
       "version_minor": 0
      },
      "text/plain": [
       "Validation: 0it [00:00, ?it/s]"
      ]
     },
     "metadata": {},
     "output_type": "display_data"
    },
    {
     "name": "stderr",
     "output_type": "stream",
     "text": [
      "Metric valid_loss improved by 0.003 >= min_delta = 0.0. New best score: 0.472\n"
     ]
    },
    {
     "data": {
      "application/vnd.jupyter.widget-view+json": {
       "model_id": "5115ffc5715c4cb499f45d2c734e16c0",
       "version_major": 2,
       "version_minor": 0
      },
      "text/plain": [
       "Validation: 0it [00:00, ?it/s]"
      ]
     },
     "metadata": {},
     "output_type": "display_data"
    },
    {
     "name": "stderr",
     "output_type": "stream",
     "text": [
      "Metric valid_loss improved by 0.016 >= min_delta = 0.0. New best score: 0.457\n"
     ]
    },
    {
     "data": {
      "application/vnd.jupyter.widget-view+json": {
       "model_id": "7f441a00c0c6407381120c7e4d6698a6",
       "version_major": 2,
       "version_minor": 0
      },
      "text/plain": [
       "Validation: 0it [00:00, ?it/s]"
      ]
     },
     "metadata": {},
     "output_type": "display_data"
    },
    {
     "name": "stderr",
     "output_type": "stream",
     "text": [
      "Metric valid_loss improved by 0.006 >= min_delta = 0.0. New best score: 0.451\n"
     ]
    },
    {
     "data": {
      "application/vnd.jupyter.widget-view+json": {
       "model_id": "a326a5c23c4a461bbcd8db68682426cd",
       "version_major": 2,
       "version_minor": 0
      },
      "text/plain": [
       "Validation: 0it [00:00, ?it/s]"
      ]
     },
     "metadata": {},
     "output_type": "display_data"
    },
    {
     "name": "stderr",
     "output_type": "stream",
     "text": [
      "Metric valid_loss improved by 0.026 >= min_delta = 0.0. New best score: 0.425\n"
     ]
    },
    {
     "data": {
      "application/vnd.jupyter.widget-view+json": {
       "model_id": "c1c147f5e4d544579b82871225a44edc",
       "version_major": 2,
       "version_minor": 0
      },
      "text/plain": [
       "Validation: 0it [00:00, ?it/s]"
      ]
     },
     "metadata": {},
     "output_type": "display_data"
    },
    {
     "data": {
      "application/vnd.jupyter.widget-view+json": {
       "model_id": "8a579bf5a10e43879689481287c4b1e7",
       "version_major": 2,
       "version_minor": 0
      },
      "text/plain": [
       "Validation: 0it [00:00, ?it/s]"
      ]
     },
     "metadata": {},
     "output_type": "display_data"
    },
    {
     "data": {
      "application/vnd.jupyter.widget-view+json": {
       "model_id": "5a5a87d6dfb1410f89f2d3710ae8218d",
       "version_major": 2,
       "version_minor": 0
      },
      "text/plain": [
       "Validation: 0it [00:00, ?it/s]"
      ]
     },
     "metadata": {},
     "output_type": "display_data"
    },
    {
     "name": "stderr",
     "output_type": "stream",
     "text": [
      "Metric valid_loss improved by 0.014 >= min_delta = 0.0. New best score: 0.411\n"
     ]
    },
    {
     "data": {
      "application/vnd.jupyter.widget-view+json": {
       "model_id": "66d6a3293b9f458f80d6107730d150cf",
       "version_major": 2,
       "version_minor": 0
      },
      "text/plain": [
       "Validation: 0it [00:00, ?it/s]"
      ]
     },
     "metadata": {},
     "output_type": "display_data"
    },
    {
     "data": {
      "application/vnd.jupyter.widget-view+json": {
       "model_id": "87fe2c4d572a4894892e1ff0bc4aabe3",
       "version_major": 2,
       "version_minor": 0
      },
      "text/plain": [
       "Validation: 0it [00:00, ?it/s]"
      ]
     },
     "metadata": {},
     "output_type": "display_data"
    },
    {
     "name": "stderr",
     "output_type": "stream",
     "text": [
      "Metric valid_loss improved by 0.012 >= min_delta = 0.0. New best score: 0.399\n"
     ]
    },
    {
     "data": {
      "application/vnd.jupyter.widget-view+json": {
       "model_id": "750761deb94e4b2b9e73ffd808d181c4",
       "version_major": 2,
       "version_minor": 0
      },
      "text/plain": [
       "Validation: 0it [00:00, ?it/s]"
      ]
     },
     "metadata": {},
     "output_type": "display_data"
    },
    {
     "name": "stderr",
     "output_type": "stream",
     "text": [
      "Metric valid_loss improved by 0.002 >= min_delta = 0.0. New best score: 0.397\n"
     ]
    },
    {
     "data": {
      "application/vnd.jupyter.widget-view+json": {
       "model_id": "6dfe3fb05a254c58b4834694a03e62ef",
       "version_major": 2,
       "version_minor": 0
      },
      "text/plain": [
       "Validation: 0it [00:00, ?it/s]"
      ]
     },
     "metadata": {},
     "output_type": "display_data"
    },
    {
     "data": {
      "application/vnd.jupyter.widget-view+json": {
       "model_id": "f09c3232359946058ced6e44d503f011",
       "version_major": 2,
       "version_minor": 0
      },
      "text/plain": [
       "Validation: 0it [00:00, ?it/s]"
      ]
     },
     "metadata": {},
     "output_type": "display_data"
    },
    {
     "data": {
      "application/vnd.jupyter.widget-view+json": {
       "model_id": "02447dd8760d4862bd1e0579a110aaac",
       "version_major": 2,
       "version_minor": 0
      },
      "text/plain": [
       "Validation: 0it [00:00, ?it/s]"
      ]
     },
     "metadata": {},
     "output_type": "display_data"
    },
    {
     "data": {
      "application/vnd.jupyter.widget-view+json": {
       "model_id": "4380d2811e16455bba326bc248a87d01",
       "version_major": 2,
       "version_minor": 0
      },
      "text/plain": [
       "Validation: 0it [00:00, ?it/s]"
      ]
     },
     "metadata": {},
     "output_type": "display_data"
    },
    {
     "name": "stderr",
     "output_type": "stream",
     "text": [
      "Metric valid_loss improved by 0.006 >= min_delta = 0.0. New best score: 0.390\n"
     ]
    },
    {
     "data": {
      "application/vnd.jupyter.widget-view+json": {
       "model_id": "79003b725949440caa757d5d603da295",
       "version_major": 2,
       "version_minor": 0
      },
      "text/plain": [
       "Validation: 0it [00:00, ?it/s]"
      ]
     },
     "metadata": {},
     "output_type": "display_data"
    },
    {
     "data": {
      "application/vnd.jupyter.widget-view+json": {
       "model_id": "d3947d1059554d1daf123a78ecebde08",
       "version_major": 2,
       "version_minor": 0
      },
      "text/plain": [
       "Validation: 0it [00:00, ?it/s]"
      ]
     },
     "metadata": {},
     "output_type": "display_data"
    },
    {
     "name": "stderr",
     "output_type": "stream",
     "text": [
      "`Trainer.fit` stopped: `max_epochs=30` reached.\n"
     ]
    }
   ],
   "source": [
    "trainer.fit(\n",
    "    model, \n",
    "    DataLoader(train_tensor_dset, batch_size=2048, shuffle=True, num_workers=4),\n",
    "    DataLoader(valid_tensor_dset, batch_size=2048, shuffle=False, num_workers=4)\n",
    ")"
   ]
  },
  {
   "cell_type": "code",
   "execution_count": 11,
   "metadata": {},
   "outputs": [
    {
     "name": "stderr",
     "output_type": "stream",
     "text": [
      "LOCAL_RANK: 0 - CUDA_VISIBLE_DEVICES: [0]\n"
     ]
    },
    {
     "data": {
      "application/vnd.jupyter.widget-view+json": {
       "model_id": "358cc6ae90f742f7b4d253c2cbbcd266",
       "version_major": 2,
       "version_minor": 0
      },
      "text/plain": [
       "Testing: 0it [00:00, ?it/s]"
      ]
     },
     "metadata": {},
     "output_type": "display_data"
    },
    {
     "data": {
      "image/png": "[encoded data removed]",
      "text/plain": [
       "<Figure size 800x600 with 2 Axes>"
      ]
     },
     "metadata": {},
     "output_type": "display_data"
    },
    {
     "data": {
      "image/png": "[encoded data removed]",
      "text/plain": [
       "<Figure size 800x600 with 2 Axes>"
      ]
     },
     "metadata": {},
     "output_type": "display_data"
    },
    {
     "name": "stdout",
     "output_type": "stream",
     "text": [
      "────────────────────────────────────────────────────────────────────────────────────────────────────────────────────────\n",
      "Runningstage.testing metric      DataLoader 0\n",
      "────────────────────────────────────────────────────────────────────────────────────────────────────────────────────────\n",
      "        test_acc            0.8402180149168101\n",
      "         test_f1            0.4884802139125555\n",
      "        test_loss           0.39263981580734253\n",
      "       test_metric          0.8437018971787438\n",
      "        test_roc            0.8437018971787438\n",
      "────────────────────────────────────────────────────────────────────────────────────────────────────────────────────────\n"
     ]
    },
    {
     "data": {
      "text/plain": [
       "[{'test_loss': 0.39263981580734253,\n",
       "  'test_metric': 0.8437018971787438,\n",
       "  'test_roc': 0.8437018971787438,\n",
       "  'test_acc': 0.8402180149168101,\n",
       "  'test_f1': 0.4884802139125555}]"
      ]
     },
     "execution_count": 11,
     "metadata": {},
     "output_type": "execute_result"
    }
   ],
   "source": [
    "# AUC on validation dataset\n",
    "trainer.test(model, DataLoader(valid_tensor_dset, batch_size=2048, shuffle=False, num_workers=4))"
   ]
  },
  {
   "cell_type": "code",
   "execution_count": 12,
   "metadata": {},
   "outputs": [
    {
     "name": "stderr",
     "output_type": "stream",
     "text": [
      "LOCAL_RANK: 0 - CUDA_VISIBLE_DEVICES: [0]\n"
     ]
    },
    {
     "data": {
      "application/vnd.jupyter.widget-view+json": {
       "model_id": "377200eb64be410787871ecca7440074",
       "version_major": 2,
       "version_minor": 0
      },
      "text/plain": [
       "Testing: 0it [00:00, ?it/s]"
      ]
     },
     "metadata": {},
     "output_type": "display_data"
    },
    {
     "data": {
      "image/png": "[encoded data removed]",
      "text/plain": [
       "<Figure size 800x600 with 2 Axes>"
      ]
     },
     "metadata": {},
     "output_type": "display_data"
    },
    {
     "data": {
      "image/png": "[encoded data removed]",
      "text/plain": [
       "<Figure size 800x600 with 2 Axes>"
      ]
     },
     "metadata": {},
     "output_type": "display_data"
    },
    {
     "name": "stdout",
     "output_type": "stream",
     "text": [
      "────────────────────────────────────────────────────────────────────────────────────────────────────────────────────────\n",
      "Runningstage.testing metric      DataLoader 0\n",
      "────────────────────────────────────────────────────────────────────────────────────────────────────────────────────────\n",
      "        test_acc            0.8158875824490966\n",
      "         test_f1            0.4799949596336175\n",
      "        test_loss           0.4222518801689148\n",
      "       test_metric           0.828913524680632\n",
      "        test_roc             0.828913524680632\n",
      "────────────────────────────────────────────────────────────────────────────────────────────────────────────────────────\n"
     ]
    },
    {
     "data": {
      "text/plain": [
       "[{'test_loss': 0.4222518801689148,\n",
       "  'test_metric': 0.828913524680632,\n",
       "  'test_roc': 0.828913524680632,\n",
       "  'test_acc': 0.8158875824490966,\n",
       "  'test_f1': 0.4799949596336175}]"
      ]
     },
     "execution_count": 12,
     "metadata": {},
     "output_type": "execute_result"
    }
   ],
   "source": [
    "# AUC on test dataset\n",
    "trainer.test(model, DataLoader(test_tensor_dset, batch_size=2048, shuffle=False, num_workers=4))"
   ]
  }
 ],
 "metadata": {
  "kernelspec": {
   "display_name": "Python 3",
   "language": "python",
   "name": "python3"
  },
  "language_info": {
   "codemirror_mode": {
    "name": "ipython",
    "version": 3
   },
   "file_extension": ".py",
   "mimetype": "text/x-python",
   "name": "python",
   "nbconvert_exporter": "python",
   "pygments_lexer": "ipython3",
   "version": "3.11.3"
  },
  "orig_nbformat": 4
 },
 "nbformat": 4,
 "nbformat_minor": 2
}
