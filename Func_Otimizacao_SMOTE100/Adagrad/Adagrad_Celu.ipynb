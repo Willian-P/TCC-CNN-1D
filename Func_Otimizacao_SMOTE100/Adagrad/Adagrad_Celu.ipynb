{
 "cells": [
  {
   "cell_type": "code",
   "execution_count": 1,
   "metadata": {},
   "outputs": [
    {
     "name": "stderr",
     "output_type": "stream",
     "text": [
      "c:\\Users\\willi\\AppData\\Local\\Programs\\Python\\Python311\\Lib\\site-packages\\torchaudio\\backend\\utils.py:74: UserWarning: No audio backend is available.\n",
      "  warnings.warn(\"No audio backend is available.\")\n"
     ]
    }
   ],
   "source": [
    "import numpy as np\n",
    "import pandas as pd\n",
    "from sklearn.metrics import roc_auc_score, accuracy_score, f1_score, confusion_matrix\n",
    "\n",
    "import torch\n",
    "from torch import nn\n",
    "from torch.utils.data import DataLoader,TensorDataset\n",
    "from torch.optim.lr_scheduler import ReduceLROnPlateau\n",
    "\n",
    "import pytorch_lightning as pl\n",
    "from pytorch_lightning.callbacks.early_stopping import EarlyStopping\n",
    "\n",
    "import matplotlib.pyplot as plt\n",
    "import seaborn as sns"
   ]
  },
  {
   "cell_type": "markdown",
   "metadata": {},
   "source": [
    "PyTorch Lightning, é um framework leve para treinamento que visa simplificar e acelerar o processo de treinamento."
   ]
  },
  {
   "cell_type": "code",
   "execution_count": 2,
   "metadata": {},
   "outputs": [
    {
     "data": {
      "text/plain": [
       "device(type='cuda')"
      ]
     },
     "execution_count": 2,
     "metadata": {},
     "output_type": "execute_result"
    }
   ],
   "source": [
    "# Configuração para garantir a reprodutibilidade dos resultados\n",
    "SEED = 2\n",
    "# Definem a semente aleatória para as bibliotecas NumPy e PyTorch\n",
    "np.random.seed(SEED)\n",
    "torch.manual_seed(SEED) # CPU\n",
    "torch.cuda.manual_seed(SEED) # GPU\n",
    "torch.cuda.manual_seed_all(SEED) # GPUs\n",
    "\n",
    "# Configuração para garantir que a biblioteca cuDNN do PyTorch gere resultados determinísticos (usado para aceleração em GPU)\n",
    "torch.backends.cudnn.deterministic = True\n",
    "\n",
    "# Verifica se há uma GPU disponível e define o dispositivo para \"cuda\" (GPU) ou \"cpu\" (CPU)\n",
    "device = torch.device(\"cuda\" if torch.cuda.is_available() else \"cpu\")\n",
    "device"
   ]
  },
  {
   "cell_type": "code",
   "execution_count": 3,
   "metadata": {},
   "outputs": [
    {
     "data": {
      "text/html": [
       "<div>\n",
       "<style scoped>\n",
       "    .dataframe tbody tr th:only-of-type {\n",
       "        vertical-align: middle;\n",
       "    }\n",
       "\n",
       "    .dataframe tbody tr th {\n",
       "        vertical-align: top;\n",
       "    }\n",
       "\n",
       "    .dataframe thead th {\n",
       "        text-align: right;\n",
       "    }\n",
       "</style>\n",
       "<table border=\"1\" class=\"dataframe\">\n",
       "  <thead>\n",
       "    <tr style=\"text-align: right;\">\n",
       "      <th></th>\n",
       "      <th>CS_SEXO</th>\n",
       "      <th>NU_IDADE_N</th>\n",
       "      <th>CS_GESTANT</th>\n",
       "      <th>NOSOCOMIAL</th>\n",
       "      <th>FEBRE</th>\n",
       "      <th>TOSSE</th>\n",
       "      <th>GARGANTA</th>\n",
       "      <th>DISPNEIA</th>\n",
       "      <th>DESC_RESP</th>\n",
       "      <th>SATURACAO</th>\n",
       "      <th>...</th>\n",
       "      <th>TOMO_RES</th>\n",
       "      <th>RES_AN</th>\n",
       "      <th>VACINA_COV</th>\n",
       "      <th>QTD_DIAS</th>\n",
       "      <th>DIAS_INTERNA</th>\n",
       "      <th>SINT_ATE_NOTIF</th>\n",
       "      <th>PCR_EVOLUCAO</th>\n",
       "      <th>DIAS_DOSE2</th>\n",
       "      <th>DIAS_DOSE1</th>\n",
       "      <th>EVOLUCAO</th>\n",
       "    </tr>\n",
       "  </thead>\n",
       "  <tbody>\n",
       "    <tr>\n",
       "      <th>0</th>\n",
       "      <td>1.016317</td>\n",
       "      <td>-1.525360</td>\n",
       "      <td>-0.841847</td>\n",
       "      <td>-0.247347</td>\n",
       "      <td>-0.681876</td>\n",
       "      <td>-0.533104</td>\n",
       "      <td>-0.318904</td>\n",
       "      <td>0.130633</td>\n",
       "      <td>-0.028625</td>\n",
       "      <td>0.090063</td>\n",
       "      <td>...</td>\n",
       "      <td>0.612697</td>\n",
       "      <td>0.575506</td>\n",
       "      <td>-0.370379</td>\n",
       "      <td>-0.448566</td>\n",
       "      <td>-0.606642</td>\n",
       "      <td>-0.333757</td>\n",
       "      <td>-0.245809</td>\n",
       "      <td>-0.035479</td>\n",
       "      <td>-0.069846</td>\n",
       "      <td>0</td>\n",
       "    </tr>\n",
       "    <tr>\n",
       "      <th>1</th>\n",
       "      <td>-0.983945</td>\n",
       "      <td>0.288959</td>\n",
       "      <td>0.663434</td>\n",
       "      <td>-0.247347</td>\n",
       "      <td>2.634754</td>\n",
       "      <td>3.009587</td>\n",
       "      <td>-0.940007</td>\n",
       "      <td>2.830029</td>\n",
       "      <td>2.417626</td>\n",
       "      <td>-0.566145</td>\n",
       "      <td>...</td>\n",
       "      <td>0.612697</td>\n",
       "      <td>-1.068704</td>\n",
       "      <td>-0.370379</td>\n",
       "      <td>0.265732</td>\n",
       "      <td>0.567583</td>\n",
       "      <td>-0.333757</td>\n",
       "      <td>-0.505612</td>\n",
       "      <td>-0.007870</td>\n",
       "      <td>-0.016540</td>\n",
       "      <td>0</td>\n",
       "    </tr>\n",
       "    <tr>\n",
       "      <th>2</th>\n",
       "      <td>1.016317</td>\n",
       "      <td>-0.618201</td>\n",
       "      <td>-0.841847</td>\n",
       "      <td>-0.247347</td>\n",
       "      <td>-0.018550</td>\n",
       "      <td>-0.533104</td>\n",
       "      <td>-0.940007</td>\n",
       "      <td>-0.544216</td>\n",
       "      <td>-0.640188</td>\n",
       "      <td>0.090063</td>\n",
       "      <td>...</td>\n",
       "      <td>0.612697</td>\n",
       "      <td>1.123576</td>\n",
       "      <td>-0.370379</td>\n",
       "      <td>-0.364531</td>\n",
       "      <td>-0.537570</td>\n",
       "      <td>-0.292220</td>\n",
       "      <td>-0.505612</td>\n",
       "      <td>-0.029875</td>\n",
       "      <td>-0.043009</td>\n",
       "      <td>0</td>\n",
       "    </tr>\n",
       "    <tr>\n",
       "      <th>3</th>\n",
       "      <td>-0.983945</td>\n",
       "      <td>-0.247090</td>\n",
       "      <td>0.663434</td>\n",
       "      <td>-0.247347</td>\n",
       "      <td>-0.681876</td>\n",
       "      <td>-0.533104</td>\n",
       "      <td>-0.318904</td>\n",
       "      <td>-0.544216</td>\n",
       "      <td>-0.640188</td>\n",
       "      <td>-0.566145</td>\n",
       "      <td>...</td>\n",
       "      <td>0.612697</td>\n",
       "      <td>1.671646</td>\n",
       "      <td>1.135630</td>\n",
       "      <td>0.307750</td>\n",
       "      <td>0.636655</td>\n",
       "      <td>0.123142</td>\n",
       "      <td>0.966608</td>\n",
       "      <td>-0.043817</td>\n",
       "      <td>-0.121681</td>\n",
       "      <td>1</td>\n",
       "    </tr>\n",
       "    <tr>\n",
       "      <th>4</th>\n",
       "      <td>1.016317</td>\n",
       "      <td>-0.906842</td>\n",
       "      <td>-0.841847</td>\n",
       "      <td>-0.247347</td>\n",
       "      <td>-0.018550</td>\n",
       "      <td>-0.533104</td>\n",
       "      <td>-0.940007</td>\n",
       "      <td>0.130633</td>\n",
       "      <td>-0.028625</td>\n",
       "      <td>0.090063</td>\n",
       "      <td>...</td>\n",
       "      <td>-1.847184</td>\n",
       "      <td>0.575506</td>\n",
       "      <td>-0.370379</td>\n",
       "      <td>-0.364531</td>\n",
       "      <td>-0.468498</td>\n",
       "      <td>-0.416829</td>\n",
       "      <td>-0.505612</td>\n",
       "      <td>-0.027962</td>\n",
       "      <td>-0.048156</td>\n",
       "      <td>0</td>\n",
       "    </tr>\n",
       "    <tr>\n",
       "      <th>...</th>\n",
       "      <td>...</td>\n",
       "      <td>...</td>\n",
       "      <td>...</td>\n",
       "      <td>...</td>\n",
       "      <td>...</td>\n",
       "      <td>...</td>\n",
       "      <td>...</td>\n",
       "      <td>...</td>\n",
       "      <td>...</td>\n",
       "      <td>...</td>\n",
       "      <td>...</td>\n",
       "      <td>...</td>\n",
       "      <td>...</td>\n",
       "      <td>...</td>\n",
       "      <td>...</td>\n",
       "      <td>...</td>\n",
       "      <td>...</td>\n",
       "      <td>...</td>\n",
       "      <td>...</td>\n",
       "      <td>...</td>\n",
       "      <td>...</td>\n",
       "    </tr>\n",
       "    <tr>\n",
       "      <th>25205</th>\n",
       "      <td>-0.983945</td>\n",
       "      <td>0.412663</td>\n",
       "      <td>0.663434</td>\n",
       "      <td>-0.247347</td>\n",
       "      <td>-0.018550</td>\n",
       "      <td>-0.533104</td>\n",
       "      <td>-0.940007</td>\n",
       "      <td>-0.544216</td>\n",
       "      <td>-0.640188</td>\n",
       "      <td>-0.566145</td>\n",
       "      <td>...</td>\n",
       "      <td>-1.847184</td>\n",
       "      <td>0.575506</td>\n",
       "      <td>-0.370379</td>\n",
       "      <td>-0.406549</td>\n",
       "      <td>-0.606642</td>\n",
       "      <td>0.040070</td>\n",
       "      <td>-0.505612</td>\n",
       "      <td>0.020014</td>\n",
       "      <td>0.057720</td>\n",
       "      <td>1</td>\n",
       "    </tr>\n",
       "    <tr>\n",
       "      <th>25206</th>\n",
       "      <td>1.016317</td>\n",
       "      <td>0.825008</td>\n",
       "      <td>-0.841847</td>\n",
       "      <td>-0.247347</td>\n",
       "      <td>-0.681876</td>\n",
       "      <td>0.175434</td>\n",
       "      <td>-0.318904</td>\n",
       "      <td>-0.544216</td>\n",
       "      <td>-0.640188</td>\n",
       "      <td>-0.566145</td>\n",
       "      <td>...</td>\n",
       "      <td>-1.355208</td>\n",
       "      <td>-1.068704</td>\n",
       "      <td>-0.370379</td>\n",
       "      <td>-0.196461</td>\n",
       "      <td>-0.330354</td>\n",
       "      <td>0.123142</td>\n",
       "      <td>-0.505612</td>\n",
       "      <td>0.019604</td>\n",
       "      <td>0.059190</td>\n",
       "      <td>1</td>\n",
       "    </tr>\n",
       "    <tr>\n",
       "      <th>25207</th>\n",
       "      <td>1.016317</td>\n",
       "      <td>1.072415</td>\n",
       "      <td>-0.841847</td>\n",
       "      <td>-0.247347</td>\n",
       "      <td>-0.018550</td>\n",
       "      <td>-0.533104</td>\n",
       "      <td>-0.318904</td>\n",
       "      <td>-0.544216</td>\n",
       "      <td>-0.640188</td>\n",
       "      <td>-0.566145</td>\n",
       "      <td>...</td>\n",
       "      <td>-1.355208</td>\n",
       "      <td>-1.068704</td>\n",
       "      <td>-0.370379</td>\n",
       "      <td>-0.490584</td>\n",
       "      <td>1.396447</td>\n",
       "      <td>0.870795</td>\n",
       "      <td>-0.505612</td>\n",
       "      <td>0.025208</td>\n",
       "      <td>0.069484</td>\n",
       "      <td>1</td>\n",
       "    </tr>\n",
       "    <tr>\n",
       "      <th>25208</th>\n",
       "      <td>1.016317</td>\n",
       "      <td>0.866242</td>\n",
       "      <td>0.663434</td>\n",
       "      <td>-0.247347</td>\n",
       "      <td>-0.018550</td>\n",
       "      <td>-0.533104</td>\n",
       "      <td>-0.318904</td>\n",
       "      <td>-0.544216</td>\n",
       "      <td>-0.028625</td>\n",
       "      <td>0.090063</td>\n",
       "      <td>...</td>\n",
       "      <td>-1.355208</td>\n",
       "      <td>-1.068704</td>\n",
       "      <td>-0.370379</td>\n",
       "      <td>-0.406549</td>\n",
       "      <td>-0.537570</td>\n",
       "      <td>-0.209148</td>\n",
       "      <td>-0.245809</td>\n",
       "      <td>0.000058</td>\n",
       "      <td>0.008091</td>\n",
       "      <td>1</td>\n",
       "    </tr>\n",
       "    <tr>\n",
       "      <th>25209</th>\n",
       "      <td>1.016317</td>\n",
       "      <td>0.618835</td>\n",
       "      <td>-0.841847</td>\n",
       "      <td>-0.247347</td>\n",
       "      <td>-0.681876</td>\n",
       "      <td>-0.533104</td>\n",
       "      <td>-0.318904</td>\n",
       "      <td>-0.544216</td>\n",
       "      <td>-0.028625</td>\n",
       "      <td>-0.566145</td>\n",
       "      <td>...</td>\n",
       "      <td>0.612697</td>\n",
       "      <td>1.671646</td>\n",
       "      <td>-0.370379</td>\n",
       "      <td>0.181697</td>\n",
       "      <td>0.429439</td>\n",
       "      <td>-0.043003</td>\n",
       "      <td>0.706805</td>\n",
       "      <td>0.040243</td>\n",
       "      <td>0.114702</td>\n",
       "      <td>1</td>\n",
       "    </tr>\n",
       "  </tbody>\n",
       "</table>\n",
       "<p>25210 rows × 41 columns</p>\n",
       "</div>"
      ],
      "text/plain": [
       "        CS_SEXO  NU_IDADE_N  CS_GESTANT  NOSOCOMIAL     FEBRE     TOSSE  \\\n",
       "0      1.016317   -1.525360   -0.841847   -0.247347 -0.681876 -0.533104   \n",
       "1     -0.983945    0.288959    0.663434   -0.247347  2.634754  3.009587   \n",
       "2      1.016317   -0.618201   -0.841847   -0.247347 -0.018550 -0.533104   \n",
       "3     -0.983945   -0.247090    0.663434   -0.247347 -0.681876 -0.533104   \n",
       "4      1.016317   -0.906842   -0.841847   -0.247347 -0.018550 -0.533104   \n",
       "...         ...         ...         ...         ...       ...       ...   \n",
       "25205 -0.983945    0.412663    0.663434   -0.247347 -0.018550 -0.533104   \n",
       "25206  1.016317    0.825008   -0.841847   -0.247347 -0.681876  0.175434   \n",
       "25207  1.016317    1.072415   -0.841847   -0.247347 -0.018550 -0.533104   \n",
       "25208  1.016317    0.866242    0.663434   -0.247347 -0.018550 -0.533104   \n",
       "25209  1.016317    0.618835   -0.841847   -0.247347 -0.681876 -0.533104   \n",
       "\n",
       "       GARGANTA  DISPNEIA  DESC_RESP  SATURACAO  ...  TOMO_RES    RES_AN  \\\n",
       "0     -0.318904  0.130633  -0.028625   0.090063  ...  0.612697  0.575506   \n",
       "1     -0.940007  2.830029   2.417626  -0.566145  ...  0.612697 -1.068704   \n",
       "2     -0.940007 -0.544216  -0.640188   0.090063  ...  0.612697  1.123576   \n",
       "3     -0.318904 -0.544216  -0.640188  -0.566145  ...  0.612697  1.671646   \n",
       "4     -0.940007  0.130633  -0.028625   0.090063  ... -1.847184  0.575506   \n",
       "...         ...       ...        ...        ...  ...       ...       ...   \n",
       "25205 -0.940007 -0.544216  -0.640188  -0.566145  ... -1.847184  0.575506   \n",
       "25206 -0.318904 -0.544216  -0.640188  -0.566145  ... -1.355208 -1.068704   \n",
       "25207 -0.318904 -0.544216  -0.640188  -0.566145  ... -1.355208 -1.068704   \n",
       "25208 -0.318904 -0.544216  -0.028625   0.090063  ... -1.355208 -1.068704   \n",
       "25209 -0.318904 -0.544216  -0.028625  -0.566145  ...  0.612697  1.671646   \n",
       "\n",
       "       VACINA_COV  QTD_DIAS  DIAS_INTERNA  SINT_ATE_NOTIF  PCR_EVOLUCAO  \\\n",
       "0       -0.370379 -0.448566     -0.606642       -0.333757     -0.245809   \n",
       "1       -0.370379  0.265732      0.567583       -0.333757     -0.505612   \n",
       "2       -0.370379 -0.364531     -0.537570       -0.292220     -0.505612   \n",
       "3        1.135630  0.307750      0.636655        0.123142      0.966608   \n",
       "4       -0.370379 -0.364531     -0.468498       -0.416829     -0.505612   \n",
       "...           ...       ...           ...             ...           ...   \n",
       "25205   -0.370379 -0.406549     -0.606642        0.040070     -0.505612   \n",
       "25206   -0.370379 -0.196461     -0.330354        0.123142     -0.505612   \n",
       "25207   -0.370379 -0.490584      1.396447        0.870795     -0.505612   \n",
       "25208   -0.370379 -0.406549     -0.537570       -0.209148     -0.245809   \n",
       "25209   -0.370379  0.181697      0.429439       -0.043003      0.706805   \n",
       "\n",
       "       DIAS_DOSE2  DIAS_DOSE1  EVOLUCAO  \n",
       "0       -0.035479   -0.069846         0  \n",
       "1       -0.007870   -0.016540         0  \n",
       "2       -0.029875   -0.043009         0  \n",
       "3       -0.043817   -0.121681         1  \n",
       "4       -0.027962   -0.048156         0  \n",
       "...           ...         ...       ...  \n",
       "25205    0.020014    0.057720         1  \n",
       "25206    0.019604    0.059190         1  \n",
       "25207    0.025208    0.069484         1  \n",
       "25208    0.000058    0.008091         1  \n",
       "25209    0.040243    0.114702         1  \n",
       "\n",
       "[25210 rows x 41 columns]"
      ]
     },
     "execution_count": 3,
     "metadata": {},
     "output_type": "execute_result"
    }
   ],
   "source": [
    "# Carrega o Dataset\n",
    "dataset = pd.read_csv(\"../../Datasets/dataset_SP_Obitos_Scaler.csv\")\n",
    "dataset"
   ]
  },
  {
   "cell_type": "markdown",
   "metadata": {},
   "source": [
    "Divisão do dataset em três conjuntos distintos: treinamento, validação e teste. Sendo 60% para treinamento, 20% para validação e 20% para teste.\n"
   ]
  },
  {
   "cell_type": "code",
   "execution_count": 4,
   "metadata": {},
   "outputs": [],
   "source": [
    "# Cria um array para armazenar os índices do dataset original. Para embaralhar os índices e, posteriormente dividir os dados aleatoriamente.\n",
    "index = np.array(dataset.index)\n",
    "\n",
    "# Embaralha os índices de forma aleatória\n",
    "np.random.shuffle(index)\n",
    "# Número total de amostras no dataset\n",
    "n = len(index)\n",
    "\n",
    "# Seleciona os índices das primeiras 60% amostras embaralhadas para o conjunto de treinamento.\n",
    "train_index = index[0:int(0.6*n)]\n",
    "# As amostras da posição 60% até a posição 80% para o conjunto de validação\n",
    "valid_index = index[int(0.6*n):int(0.8*n)]\n",
    "# As amostras da posição 80% até o final para o conjunto de teste\n",
    "test_index = index[int(0.8*n):]\n",
    "\n",
    "# Cria um dataset para armazenar cada conjunto, treino, validação e teste, respectivamente e reindexa os índices\n",
    "train_dset = dataset.loc[train_index].reset_index(drop=True)\n",
    "valid_dset = dataset.loc[valid_index].reset_index(drop=True)\n",
    "test_dset = dataset.loc[test_index].reset_index(drop=True)"
   ]
  },
  {
   "cell_type": "code",
   "execution_count": 5,
   "metadata": {},
   "outputs": [],
   "source": [
    "# Obtendo os atributos (features) do dataset, excluindo a coluna 'EVOLUCAO'\n",
    "input_features = dataset.columns.drop('EVOLUCAO').tolist()\n",
    "\n",
    "# Obtendo os rótulos (target) do dataset\n",
    "target = 'EVOLUCAO'\n",
    "labels = dataset[target].tolist()"
   ]
  },
  {
   "cell_type": "code",
   "execution_count": 6,
   "metadata": {},
   "outputs": [],
   "source": [
    "# Os dados são convertidos em tensores PyTorch\n",
    "train_tensor_dset = TensorDataset(\n",
    "    # converte os dados das colunas de entradas em tensores de ponto flutuante\n",
    "    torch.tensor(train_dset[input_features].values, dtype=torch.float),\n",
    "    # converte os dados da coluna de rótulos em tensores de ponto flutuante com formato de matriz\n",
    "    torch.tensor(train_dset[target].values.reshape(-1,1), dtype=torch.float)\n",
    ")\n",
    "\n",
    "valid_tensor_dset = TensorDataset(\n",
    "    torch.tensor(valid_dset[input_features].values, dtype=torch.float),\n",
    "    torch.tensor(valid_dset[target].values.reshape(-1,1), dtype=torch.float)\n",
    ")\n",
    "\n",
    "test_tensor_dset = TensorDataset(\n",
    "    torch.tensor(test_dset[input_features].values, dtype=torch.float),\n",
    "    torch.tensor(test_dset[target].values.reshape(-1,1), dtype=torch.float) \n",
    ")"
   ]
  },
  {
   "cell_type": "markdown",
   "metadata": {},
   "source": [
    "No contexto da biblioteca PyTorch, um tensor é uma estrutura de dados similar a um array NumPy, mas com suporte para aceleração de hardware através de GPUs.\n",
    "\n",
    "A abordagem com tensores no PyTorch permite representar e manipular os dados de entrada e saída do modelo de forma eficiente, além de oferecer suporte para aceleração de hardware em GPUs, o que é essencial para realizar cálculos complexos em redes neurais profundas com grandes volumes de dados."
   ]
  },
  {
   "cell_type": "code",
   "execution_count": 7,
   "metadata": {},
   "outputs": [],
   "source": [
    "class SoftOrdering1DCNN(pl.LightningModule):\n",
    "\n",
    "    def __init__(self, input_dim, output_dim, sign_size=32, cha_input=16, cha_hidden=32, \n",
    "                 K=2, dropout_input=0.2, dropout_hidden=0.2, dropout_output=0.2):\n",
    "        super().__init__()\n",
    "\n",
    "        # Calcula o tamanho da camada oculta multiplicando o tamanho do sinal (sign_size) \n",
    "        # pela quantidade de canais de entrada (cha_input).\n",
    "        hidden_size = sign_size*cha_input\n",
    "        # Armazena o tamanho do sinal\n",
    "        sign_size1 = sign_size\n",
    "        # Calcula o tamanho do sinal dividido por 2 e armazena o resultado na variável\n",
    "        sign_size2 = sign_size//2\n",
    "\n",
    "        #Calcula o tamanho da camada de saída multiplicando o tamanho do sinal dividido \n",
    "        # por 4 pela quantidade de canais ocultos (cha_hidden).\n",
    "        output_size = (sign_size//4) * cha_hidden\n",
    "\n",
    "        self.hidden_size = hidden_size # Tamanho do vetor oculto\n",
    "        self.cha_input = cha_input # Número de canais de entrada\n",
    "        self.cha_hidden = cha_hidden # Número de canais da camada oculta\n",
    "        self.K = K # Fator de multiplicação utilizado na primeira camada convolucional\n",
    "        self.sign_size1 = sign_size1 # Tamanho do sinal de entrada original\n",
    "        self.sign_size2 = sign_size2 # Tamanho do sinal após a camada de pool adaptativa.\n",
    "        self.output_size = output_size # Tamanho do vetor de saída após a última camada de convolução e a camada de pool\n",
    "        self.dropout_input = dropout_input # Taxa de dropout aplicada à camada de entrada\n",
    "        self.dropout_hidden = dropout_hidden # Taxa de dropout aplicada às camadas ocultas\n",
    "        self.dropout_output = dropout_output # Taxa de dropout aplicada à camada de saída\n",
    "\n",
    "        # Cria uma camada de normalização por lote (BatchNorm1d) com tamanho de entrada \n",
    "        # igual a input_dim e a atribui ao atributo batch_norm1 da classe.\n",
    "        self.batch_norm1 = nn.BatchNorm1d(input_dim)\n",
    "        # Cria uma camada de dropout (Dropout) com taxa de dropout igual a dropout_input \n",
    "        # e a atribui ao atributo dropout1 da classe.\n",
    "        self.dropout1 = nn.Dropout(dropout_input)\n",
    "        # Cria uma camada densa (Linear) com tamanho de entrada igual a input_dim, tamanho de saída \n",
    "        # igual a hidden_size e sem viés (bias=False). A camada é armazenada temporariamente na variável dense1.\n",
    "        dense1 = nn.Linear(input_dim, hidden_size, bias=False)\n",
    "        # Aplica a normalização de peso (weight normalization) na camada dense1 e a atribui ao atributo dense1 da classe. \n",
    "        self.dense1 = nn.utils.weight_norm(dense1)\n",
    "\n",
    "        # 1st conv layer\n",
    "        self.batch_norm_c1 = nn.BatchNorm1d(cha_input)\n",
    "        conv1 = conv1 = nn.Conv1d(\n",
    "            cha_input, # canais de entrada\n",
    "            cha_input*K, # canais de saída\n",
    "            kernel_size=5, # tamanho de filtro\n",
    "            stride = 1, # Deslocamento\n",
    "            padding=2,  # Preenchimento\n",
    "            groups=cha_input, # igual ao número de canais de entrada e sem viés\n",
    "            bias=False) #  Essa camada aplica uma convolução em cada canal de entrada separadamente\n",
    "        # camada convolucional definida anteriormente é normalizada pela norma dos pesos \n",
    "        self.conv1 = nn.utils.weight_norm(conv1, dim=None) \n",
    "\n",
    "        self.ave_po_c1 = nn.AdaptiveAvgPool1d(output_size = sign_size2)\n",
    "\n",
    "        # 2nd conv layer\n",
    "        self.batch_norm_c2 = nn.BatchNorm1d(cha_input*K)\n",
    "        self.dropout_c2 = nn.Dropout(dropout_hidden)\n",
    "        conv2 = nn.Conv1d(\n",
    "            cha_input*K, \n",
    "            cha_hidden, \n",
    "            kernel_size=3, \n",
    "            stride=1, \n",
    "            padding=1, \n",
    "            bias=False)\n",
    "        self.conv2 = nn.utils.weight_norm(conv2, dim=None)\n",
    "\n",
    "        # 3rd conv layer\n",
    "        self.batch_norm_c3 = nn.BatchNorm1d(cha_hidden)\n",
    "        self.dropout_c3 = nn.Dropout(dropout_hidden)\n",
    "        conv3 = nn.Conv1d(\n",
    "            cha_hidden, \n",
    "            cha_hidden, \n",
    "            kernel_size=3, \n",
    "            stride=1, \n",
    "            padding=1, \n",
    "            bias=False)\n",
    "        self.conv3 = nn.utils.weight_norm(conv3, dim=None)\n",
    "        \n",
    "\n",
    "        # 4th conv layer\n",
    "        self.batch_norm_c4 = nn.BatchNorm1d(cha_hidden)\n",
    "        conv4 = nn.Conv1d(\n",
    "            cha_hidden, \n",
    "            cha_hidden, \n",
    "            kernel_size=5, \n",
    "            stride=1, \n",
    "            padding=2, \n",
    "            groups=cha_hidden, \n",
    "            bias=False)\n",
    "        self.conv4 = nn.utils.weight_norm(conv4, dim=None)\n",
    "\n",
    "        # cria uma camada de pooling médio unidimensional\n",
    "        self.avg_po_c4 = nn.AvgPool1d(kernel_size=4, stride=2, padding=1)\n",
    "\n",
    "        # cria uma camada de achatamento. É usada para transformar a saída das \n",
    "        # camadas convolucionais em um vetor unidimensional\n",
    "        self.flt = nn.Flatten()\n",
    "\n",
    "        self.batch_norm2 = nn.BatchNorm1d(output_size)\n",
    "        self.dropout2 = nn.Dropout(dropout_output)\n",
    "        dense2 = nn.Linear(output_size, output_dim, bias=False)\n",
    "        self.dense2 = nn.utils.weight_norm(dense2)\n",
    "\n",
    "        # Calcula a perda durante o treinamento\n",
    "        self.loss = nn.BCEWithLogitsLoss()\n",
    "\n",
    "\n",
    "    # Define a passagem direta (forward pass) do modelo (como os dados fluem pelas camadas)\n",
    "    def forward(self, x):\n",
    "        x = self.batch_norm1(x)\n",
    "        x = self.dropout1(x)\n",
    "        x = nn.functional.celu(self.dense1(x))\n",
    "\n",
    "        x = x.reshape(x.shape[0], self.cha_input, self.sign_size1)\n",
    "\n",
    "        x = self.batch_norm_c1(x)\n",
    "        x = nn.functional.celu(self.conv1(x))\n",
    "\n",
    "        x = self.ave_po_c1(x)\n",
    "\n",
    "        x = self.batch_norm_c2(x)\n",
    "        x = self.dropout_c2(x)\n",
    "        x = nn.functional.celu(self.conv2(x))\n",
    "        x_s = x\n",
    "\n",
    "        x = self.batch_norm_c3(x)\n",
    "        x = self.dropout_c3(x)\n",
    "        x = nn.functional.celu(self.conv3(x))\n",
    "\n",
    "        x = self.batch_norm_c4(x)\n",
    "        x = self.conv4(x)\n",
    "        x =  x + x_s\n",
    "        x = nn.functional.celu(x)\n",
    "\n",
    "        x = self.avg_po_c4(x)\n",
    "\n",
    "        x = self.flt(x)\n",
    "\n",
    "        x = self.batch_norm2(x)\n",
    "        x = self.dropout2(x)\n",
    "        x = self.dense2(x)\n",
    "\n",
    "        return x\n",
    "\n",
    "    # Métricas\n",
    "    def roc_auc(self, y_pred, y_true):\n",
    "        # Calcula o ROC AUC usando sklearn.metrics.roc_auc_score\n",
    "        roc_auc = roc_auc_score(y_true.cpu(), torch.sigmoid(y_pred).cpu())\n",
    "        return torch.tensor(roc_auc)\n",
    "\n",
    "    def accuracy(self, y_pred, y_true):\n",
    "        # Arredonda as probabilidades previstas para obter as previsões binárias (0 ou 1)\n",
    "        y_pred_labels = torch.round(torch.sigmoid(y_pred))\n",
    "        # Calcula a acurácia usando sklearn.metrics.accuracy_score\n",
    "        acc = accuracy_score(y_true.cpu(), y_pred_labels.cpu())\n",
    "        return torch.tensor(acc)\n",
    "\n",
    "    def f1(self, y_pred, y_true):\n",
    "        # Arredonda as probabilidades previstas para obter as previsões binárias (0 ou 1)\n",
    "        y_pred_labels = torch.round(torch.sigmoid(y_pred))\n",
    "        # Calcula o F1-score usando sklearn.metrics.f1_score\n",
    "        f1score = f1_score(y_true.cpu(), y_pred_labels.cpu())\n",
    "        return torch.tensor(f1score)\n",
    "    \n",
    "    def calculate_confusion_matrix(self, y_pred, y_true):\n",
    "        # Arredonda as probabilidades previstas para obter as previsões binárias (0 ou 1)\n",
    "        y_pred_labels = torch.round(torch.sigmoid(y_pred))\n",
    "        # Calcula a matriz de confusão usando as previsões e os rótulos verdadeiros\n",
    "        cm = confusion_matrix(y_true.cpu(), y_pred_labels.cpu())\n",
    "        return cm\n",
    "    \n",
    "    def plot_confusion_matrix(self, cm):\n",
    "        plt.figure(figsize=(8, 6))\n",
    "        sns.heatmap(cm, annot=True, fmt=\"d\", cmap=\"Blues\", xticklabels=['0', '1'], yticklabels=['0', '1'])\n",
    "        plt.xlabel(\"Predicted Label\")\n",
    "        plt.ylabel(\"True Label\")\n",
    "        plt.title(\"Confusion Matrix\")\n",
    "        plt.show()\n",
    "        \n",
    "\n",
    "    # define os passos de treinamento do modelo.\n",
    "    def training_step(self, batch, batch_idx):\n",
    "        X, y = batch\n",
    "        y_hat = self.forward(X)\n",
    "        loss = self.loss(y_hat, y)\n",
    "        self.log('train_loss', loss)\n",
    "        return loss\n",
    "\n",
    "    def validation_step(self, batch, batch_idx):\n",
    "        X, y = batch\n",
    "        y_hat = self.forward(X)\n",
    "        loss = self.loss(y_hat, y)\n",
    "        \n",
    "        # Calcular métricas durante a validação\n",
    "        valid_auc = self.roc_auc(y_hat, y)\n",
    "        valid_acc = self.accuracy(y_hat, y)\n",
    "        valid_f1 = self.f1(y_hat, y)\n",
    "        \n",
    "        self.log('valid_loss', loss)\n",
    "        self.log('valid_auc', valid_auc, prog_bar=True)\n",
    "        self.log('valid_acc', valid_acc, prog_bar=True)\n",
    "        self.log('valid_f1', valid_f1, prog_bar=True)\n",
    "        \n",
    "    def test_step(self, batch, batch_idx):\n",
    "        X, y = batch\n",
    "        y_logit = self.forward(X)\n",
    "        y_probs = torch.sigmoid(y_logit).detach().cpu().numpy()\n",
    "        loss = self.loss(y_logit, y)\n",
    "\n",
    "        # Calcular métricas\n",
    "        roc_auc = self.roc_auc(y_logit, y)\n",
    "        acc = self.accuracy(y_logit, y)\n",
    "        f1score = self.f1(y_logit, y)\n",
    "        cm = self.calculate_confusion_matrix(y_logit, y)\n",
    "        \n",
    "        self.plot_confusion_matrix(cm) # Plotar e salvar a matriz de confusão\n",
    "        self.log('test_loss', loss)\n",
    "        self.log('test_auc', roc_auc)\n",
    "        self.log('test_acc', acc, prog_bar=True)\n",
    "        self.log('test_f1', f1score, prog_bar=True)\n",
    "        \n",
    "        \n",
    "    def configure_optimizers(self):\n",
    "        # Cria um otimizador Adagrad\n",
    "        optimizer = torch.optim.Adagrad(self.parameters())\n",
    "        scheduler = {\n",
    "            'scheduler': ReduceLROnPlateau(\n",
    "                optimizer, \n",
    "                mode=\"min\", \n",
    "                factor=0.5, \n",
    "                patience=5, \n",
    "                min_lr=1e-5),\n",
    "            'interval': 'epoch',\n",
    "            'frequency': 1,\n",
    "            'reduce_on_plateau': True,\n",
    "            'monitor': 'valid_loss',\n",
    "        }\n",
    "        return [optimizer], [scheduler]"
   ]
  },
  {
   "cell_type": "code",
   "execution_count": 8,
   "metadata": {},
   "outputs": [
    {
     "name": "stderr",
     "output_type": "stream",
     "text": [
      "GPU available: True (cuda), used: True\n",
      "TPU available: False, using: 0 TPU cores\n",
      "IPU available: False, using: 0 IPUs\n",
      "HPU available: False, using: 0 HPUs\n"
     ]
    },
    {
     "name": "stdout",
     "output_type": "stream",
     "text": [
      "Número de atributos (input_dim): 40\n"
     ]
    },
    {
     "name": "stderr",
     "output_type": "stream",
     "text": [
      "c:\\Users\\willi\\AppData\\Local\\Programs\\Python\\Python311\\Lib\\site-packages\\pytorch_lightning\\trainer\\connectors\\logger_connector\\logger_connector.py:67: UserWarning: Starting from v1.9.0, `tensorboardX` has been removed as a dependency of the `pytorch_lightning` package, due to potential conflicts with other packages in the ML ecosystem. For this reason, `logger=True` will use `CSVLogger` as the default logger, unless the `tensorboard` or `tensorboardX` packages are found. Please `pip install lightning[extra]` or one of them to enable TensorBoard support by default\n",
      "  warning_cache.warn(\n"
     ]
    }
   ],
   "source": [
    "model = SoftOrdering1DCNN(\n",
    "    input_dim=len(input_features), \n",
    "    output_dim=1, \n",
    "    sign_size=16, \n",
    "    cha_input=64, \n",
    "    cha_hidden=64, \n",
    "    K=2, \n",
    "    dropout_input=0.3, \n",
    "    dropout_hidden=0.3, \n",
    "    dropout_output=0.2\n",
    ")\n",
    "print(\"Número de atributos (input_dim):\", len(input_features))\n",
    "\n",
    "# interromper o treinamento prematuramente se a métrica de validação não melhorar, após x épocas\n",
    "early_stop_callback = EarlyStopping(\n",
    "   monitor='valid_loss',\n",
    "   min_delta=.0,\n",
    "   patience=21,\n",
    "   verbose=True,\n",
    "   mode='min'\n",
    ")\n",
    "\n",
    "trainer = pl.Trainer(\n",
    "    callbacks=[early_stop_callback],\n",
    "    min_epochs=10, \n",
    "    max_epochs=200, \n",
    "    accelerator='gpu') # gpus=1"
   ]
  },
  {
   "cell_type": "code",
   "execution_count": 9,
   "metadata": {},
   "outputs": [
    {
     "name": "stderr",
     "output_type": "stream",
     "text": [
      "You are using a CUDA device ('NVIDIA GeForce RTX 3060 Ti') that has Tensor Cores. To properly utilize them, you should set `torch.set_float32_matmul_precision('medium' | 'high')` which will trade-off precision for performance. For more details, read https://pytorch.org/docs/stable/generated/torch.set_float32_matmul_precision.html#torch.set_float32_matmul_precision\n",
      "LOCAL_RANK: 0 - CUDA_VISIBLE_DEVICES: [0]\n",
      "\n",
      "   | Name          | Type              | Params\n",
      "-----------------------------------------------------\n",
      "0  | batch_norm1   | BatchNorm1d       | 80    \n",
      "1  | dropout1      | Dropout           | 0     \n",
      "2  | dense1        | Linear            | 42.0 K\n",
      "3  | batch_norm_c1 | BatchNorm1d       | 128   \n",
      "4  | conv1         | Conv1d            | 641   \n",
      "5  | ave_po_c1     | AdaptiveAvgPool1d | 0     \n",
      "6  | batch_norm_c2 | BatchNorm1d       | 256   \n",
      "7  | dropout_c2    | Dropout           | 0     \n",
      "8  | conv2         | Conv1d            | 24.6 K\n",
      "9  | batch_norm_c3 | BatchNorm1d       | 128   \n",
      "10 | dropout_c3    | Dropout           | 0     \n",
      "11 | conv3         | Conv1d            | 12.3 K\n",
      "12 | batch_norm_c4 | BatchNorm1d       | 128   \n",
      "13 | conv4         | Conv1d            | 321   \n",
      "14 | avg_po_c4     | AvgPool1d         | 0     \n",
      "15 | flt           | Flatten           | 0     \n",
      "16 | batch_norm2   | BatchNorm1d       | 512   \n",
      "17 | dropout2      | Dropout           | 0     \n",
      "18 | dense2        | Linear            | 257   \n",
      "19 | loss          | BCEWithLogitsLoss | 0     \n",
      "-----------------------------------------------------\n",
      "81.3 K    Trainable params\n",
      "0         Non-trainable params\n",
      "81.3 K    Total params\n",
      "0.325     Total estimated model params size (MB)\n"
     ]
    },
    {
     "data": {
      "application/vnd.jupyter.widget-view+json": {
       "model_id": "71be18323d4e4504b2141ebefcaf3af2",
       "version_major": 2,
       "version_minor": 0
      },
      "text/plain": [
       "Sanity Checking: 0it [00:00, ?it/s]"
      ]
     },
     "metadata": {},
     "output_type": "display_data"
    },
    {
     "name": "stderr",
     "output_type": "stream",
     "text": [
      "c:\\Users\\willi\\AppData\\Local\\Programs\\Python\\Python311\\Lib\\site-packages\\pytorch_lightning\\loops\\fit_loop.py:280: PossibleUserWarning: The number of training batches (8) is smaller than the logging interval Trainer(log_every_n_steps=50). Set a lower value for log_every_n_steps if you want to see logs for the training epoch.\n",
      "  rank_zero_warn(\n"
     ]
    },
    {
     "data": {
      "application/vnd.jupyter.widget-view+json": {
       "model_id": "bb745d1ff3504fff90ae1573e188db7e",
       "version_major": 2,
       "version_minor": 0
      },
      "text/plain": [
       "Training: 0it [00:00, ?it/s]"
      ]
     },
     "metadata": {},
     "output_type": "display_data"
    },
    {
     "data": {
      "application/vnd.jupyter.widget-view+json": {
       "model_id": "a045aa755989401f9a055f9d7cee7bb7",
       "version_major": 2,
       "version_minor": 0
      },
      "text/plain": [
       "Validation: 0it [00:00, ?it/s]"
      ]
     },
     "metadata": {},
     "output_type": "display_data"
    },
    {
     "name": "stderr",
     "output_type": "stream",
     "text": [
      "Metric valid_loss improved. New best score: 0.568\n"
     ]
    },
    {
     "data": {
      "application/vnd.jupyter.widget-view+json": {
       "model_id": "3b76c751756d48f684971489de060f47",
       "version_major": 2,
       "version_minor": 0
      },
      "text/plain": [
       "Validation: 0it [00:00, ?it/s]"
      ]
     },
     "metadata": {},
     "output_type": "display_data"
    },
    {
     "name": "stderr",
     "output_type": "stream",
     "text": [
      "Metric valid_loss improved by 0.048 >= min_delta = 0.0. New best score: 0.519\n"
     ]
    },
    {
     "data": {
      "application/vnd.jupyter.widget-view+json": {
       "model_id": "963f544179854713b85e3174c067a9a0",
       "version_major": 2,
       "version_minor": 0
      },
      "text/plain": [
       "Validation: 0it [00:00, ?it/s]"
      ]
     },
     "metadata": {},
     "output_type": "display_data"
    },
    {
     "name": "stderr",
     "output_type": "stream",
     "text": [
      "Metric valid_loss improved by 0.060 >= min_delta = 0.0. New best score: 0.460\n"
     ]
    },
    {
     "data": {
      "application/vnd.jupyter.widget-view+json": {
       "model_id": "bce0dbcf2c1c4b24a9fcb227e264f637",
       "version_major": 2,
       "version_minor": 0
      },
      "text/plain": [
       "Validation: 0it [00:00, ?it/s]"
      ]
     },
     "metadata": {},
     "output_type": "display_data"
    },
    {
     "name": "stderr",
     "output_type": "stream",
     "text": [
      "Metric valid_loss improved by 0.016 >= min_delta = 0.0. New best score: 0.443\n"
     ]
    },
    {
     "data": {
      "application/vnd.jupyter.widget-view+json": {
       "model_id": "bafd8a1558e44dd88c733c1b1ecf91ee",
       "version_major": 2,
       "version_minor": 0
      },
      "text/plain": [
       "Validation: 0it [00:00, ?it/s]"
      ]
     },
     "metadata": {},
     "output_type": "display_data"
    },
    {
     "name": "stderr",
     "output_type": "stream",
     "text": [
      "Metric valid_loss improved by 0.033 >= min_delta = 0.0. New best score: 0.410\n"
     ]
    },
    {
     "data": {
      "application/vnd.jupyter.widget-view+json": {
       "model_id": "43dc6fdbf64e40519599d7d2197a0b26",
       "version_major": 2,
       "version_minor": 0
      },
      "text/plain": [
       "Validation: 0it [00:00, ?it/s]"
      ]
     },
     "metadata": {},
     "output_type": "display_data"
    },
    {
     "name": "stderr",
     "output_type": "stream",
     "text": [
      "Metric valid_loss improved by 0.004 >= min_delta = 0.0. New best score: 0.406\n"
     ]
    },
    {
     "data": {
      "application/vnd.jupyter.widget-view+json": {
       "model_id": "88220d51be3e42f78fb5a845b79e8d27",
       "version_major": 2,
       "version_minor": 0
      },
      "text/plain": [
       "Validation: 0it [00:00, ?it/s]"
      ]
     },
     "metadata": {},
     "output_type": "display_data"
    },
    {
     "name": "stderr",
     "output_type": "stream",
     "text": [
      "Metric valid_loss improved by 0.002 >= min_delta = 0.0. New best score: 0.404\n"
     ]
    },
    {
     "data": {
      "application/vnd.jupyter.widget-view+json": {
       "model_id": "cd18381990224208ac065d4b06aac8a4",
       "version_major": 2,
       "version_minor": 0
      },
      "text/plain": [
       "Validation: 0it [00:00, ?it/s]"
      ]
     },
     "metadata": {},
     "output_type": "display_data"
    },
    {
     "name": "stderr",
     "output_type": "stream",
     "text": [
      "Metric valid_loss improved by 0.003 >= min_delta = 0.0. New best score: 0.401\n"
     ]
    },
    {
     "data": {
      "application/vnd.jupyter.widget-view+json": {
       "model_id": "f8506dfad3294aeeba4d8a96519f43f4",
       "version_major": 2,
       "version_minor": 0
      },
      "text/plain": [
       "Validation: 0it [00:00, ?it/s]"
      ]
     },
     "metadata": {},
     "output_type": "display_data"
    },
    {
     "name": "stderr",
     "output_type": "stream",
     "text": [
      "Metric valid_loss improved by 0.003 >= min_delta = 0.0. New best score: 0.398\n"
     ]
    },
    {
     "data": {
      "application/vnd.jupyter.widget-view+json": {
       "model_id": "c691ecef2e5d40f5be788b570bfafe52",
       "version_major": 2,
       "version_minor": 0
      },
      "text/plain": [
       "Validation: 0it [00:00, ?it/s]"
      ]
     },
     "metadata": {},
     "output_type": "display_data"
    },
    {
     "name": "stderr",
     "output_type": "stream",
     "text": [
      "Metric valid_loss improved by 0.005 >= min_delta = 0.0. New best score: 0.394\n"
     ]
    },
    {
     "data": {
      "application/vnd.jupyter.widget-view+json": {
       "model_id": "d244e9f9988d4d028007efa5a2196e10",
       "version_major": 2,
       "version_minor": 0
      },
      "text/plain": [
       "Validation: 0it [00:00, ?it/s]"
      ]
     },
     "metadata": {},
     "output_type": "display_data"
    },
    {
     "data": {
      "application/vnd.jupyter.widget-view+json": {
       "model_id": "1d07d475569e4235b2bdb2bc76cc2133",
       "version_major": 2,
       "version_minor": 0
      },
      "text/plain": [
       "Validation: 0it [00:00, ?it/s]"
      ]
     },
     "metadata": {},
     "output_type": "display_data"
    },
    {
     "name": "stderr",
     "output_type": "stream",
     "text": [
      "Metric valid_loss improved by 0.002 >= min_delta = 0.0. New best score: 0.392\n"
     ]
    },
    {
     "data": {
      "application/vnd.jupyter.widget-view+json": {
       "model_id": "d19b8f8b2e4249d7a0f9b1be9934de71",
       "version_major": 2,
       "version_minor": 0
      },
      "text/plain": [
       "Validation: 0it [00:00, ?it/s]"
      ]
     },
     "metadata": {},
     "output_type": "display_data"
    },
    {
     "data": {
      "application/vnd.jupyter.widget-view+json": {
       "model_id": "d381b89c47e34cb381f967943463b5af",
       "version_major": 2,
       "version_minor": 0
      },
      "text/plain": [
       "Validation: 0it [00:00, ?it/s]"
      ]
     },
     "metadata": {},
     "output_type": "display_data"
    },
    {
     "name": "stderr",
     "output_type": "stream",
     "text": [
      "Metric valid_loss improved by 0.003 >= min_delta = 0.0. New best score: 0.389\n"
     ]
    },
    {
     "data": {
      "application/vnd.jupyter.widget-view+json": {
       "model_id": "0761c287a7e74237ab09be6aa9bbf8f1",
       "version_major": 2,
       "version_minor": 0
      },
      "text/plain": [
       "Validation: 0it [00:00, ?it/s]"
      ]
     },
     "metadata": {},
     "output_type": "display_data"
    },
    {
     "data": {
      "application/vnd.jupyter.widget-view+json": {
       "model_id": "3ceae284402a40a397fe51a967079d2b",
       "version_major": 2,
       "version_minor": 0
      },
      "text/plain": [
       "Validation: 0it [00:00, ?it/s]"
      ]
     },
     "metadata": {},
     "output_type": "display_data"
    },
    {
     "name": "stderr",
     "output_type": "stream",
     "text": [
      "Metric valid_loss improved by 0.000 >= min_delta = 0.0. New best score: 0.389\n"
     ]
    },
    {
     "data": {
      "application/vnd.jupyter.widget-view+json": {
       "model_id": "9f2113ffba1742768f071337dcbc88a1",
       "version_major": 2,
       "version_minor": 0
      },
      "text/plain": [
       "Validation: 0it [00:00, ?it/s]"
      ]
     },
     "metadata": {},
     "output_type": "display_data"
    },
    {
     "data": {
      "application/vnd.jupyter.widget-view+json": {
       "model_id": "e61f196680184506ad7d1ca955f54748",
       "version_major": 2,
       "version_minor": 0
      },
      "text/plain": [
       "Validation: 0it [00:00, ?it/s]"
      ]
     },
     "metadata": {},
     "output_type": "display_data"
    },
    {
     "name": "stderr",
     "output_type": "stream",
     "text": [
      "Metric valid_loss improved by 0.002 >= min_delta = 0.0. New best score: 0.387\n"
     ]
    },
    {
     "data": {
      "application/vnd.jupyter.widget-view+json": {
       "model_id": "54de7249b6f44a26b1fda18b91e081cf",
       "version_major": 2,
       "version_minor": 0
      },
      "text/plain": [
       "Validation: 0it [00:00, ?it/s]"
      ]
     },
     "metadata": {},
     "output_type": "display_data"
    },
    {
     "name": "stderr",
     "output_type": "stream",
     "text": [
      "Metric valid_loss improved by 0.000 >= min_delta = 0.0. New best score: 0.387\n"
     ]
    },
    {
     "data": {
      "application/vnd.jupyter.widget-view+json": {
       "model_id": "e0aa48e6fe3a4c17abb8da3842bf79d2",
       "version_major": 2,
       "version_minor": 0
      },
      "text/plain": [
       "Validation: 0it [00:00, ?it/s]"
      ]
     },
     "metadata": {},
     "output_type": "display_data"
    },
    {
     "name": "stderr",
     "output_type": "stream",
     "text": [
      "Metric valid_loss improved by 0.000 >= min_delta = 0.0. New best score: 0.387\n"
     ]
    },
    {
     "data": {
      "application/vnd.jupyter.widget-view+json": {
       "model_id": "d4c28a4463094bef982aae7586d06d6c",
       "version_major": 2,
       "version_minor": 0
      },
      "text/plain": [
       "Validation: 0it [00:00, ?it/s]"
      ]
     },
     "metadata": {},
     "output_type": "display_data"
    },
    {
     "name": "stderr",
     "output_type": "stream",
     "text": [
      "Metric valid_loss improved by 0.001 >= min_delta = 0.0. New best score: 0.386\n"
     ]
    },
    {
     "data": {
      "application/vnd.jupyter.widget-view+json": {
       "model_id": "f6ee4744683b4713a44682bafef57eff",
       "version_major": 2,
       "version_minor": 0
      },
      "text/plain": [
       "Validation: 0it [00:00, ?it/s]"
      ]
     },
     "metadata": {},
     "output_type": "display_data"
    },
    {
     "data": {
      "application/vnd.jupyter.widget-view+json": {
       "model_id": "0efe323ef62240ab9f87167dd3b9d4ad",
       "version_major": 2,
       "version_minor": 0
      },
      "text/plain": [
       "Validation: 0it [00:00, ?it/s]"
      ]
     },
     "metadata": {},
     "output_type": "display_data"
    },
    {
     "data": {
      "application/vnd.jupyter.widget-view+json": {
       "model_id": "8d54c0c9fff94e498d1b8fb6e03a6858",
       "version_major": 2,
       "version_minor": 0
      },
      "text/plain": [
       "Validation: 0it [00:00, ?it/s]"
      ]
     },
     "metadata": {},
     "output_type": "display_data"
    },
    {
     "name": "stderr",
     "output_type": "stream",
     "text": [
      "Metric valid_loss improved by 0.003 >= min_delta = 0.0. New best score: 0.383\n"
     ]
    },
    {
     "data": {
      "application/vnd.jupyter.widget-view+json": {
       "model_id": "5920fff934c045b795c71b9e5c401be1",
       "version_major": 2,
       "version_minor": 0
      },
      "text/plain": [
       "Validation: 0it [00:00, ?it/s]"
      ]
     },
     "metadata": {},
     "output_type": "display_data"
    },
    {
     "data": {
      "application/vnd.jupyter.widget-view+json": {
       "model_id": "7cb3c6dc2aa545eeb9142241a4d529cc",
       "version_major": 2,
       "version_minor": 0
      },
      "text/plain": [
       "Validation: 0it [00:00, ?it/s]"
      ]
     },
     "metadata": {},
     "output_type": "display_data"
    },
    {
     "data": {
      "application/vnd.jupyter.widget-view+json": {
       "model_id": "89d6ee08240a45268a9d017ae1c8ac03",
       "version_major": 2,
       "version_minor": 0
      },
      "text/plain": [
       "Validation: 0it [00:00, ?it/s]"
      ]
     },
     "metadata": {},
     "output_type": "display_data"
    },
    {
     "data": {
      "application/vnd.jupyter.widget-view+json": {
       "model_id": "130a536ad3894e6192f11e7cf3e47e17",
       "version_major": 2,
       "version_minor": 0
      },
      "text/plain": [
       "Validation: 0it [00:00, ?it/s]"
      ]
     },
     "metadata": {},
     "output_type": "display_data"
    },
    {
     "name": "stderr",
     "output_type": "stream",
     "text": [
      "Metric valid_loss improved by 0.001 >= min_delta = 0.0. New best score: 0.382\n"
     ]
    },
    {
     "data": {
      "application/vnd.jupyter.widget-view+json": {
       "model_id": "4768c68a0b9c4f56a1984bbe9b5e9fa5",
       "version_major": 2,
       "version_minor": 0
      },
      "text/plain": [
       "Validation: 0it [00:00, ?it/s]"
      ]
     },
     "metadata": {},
     "output_type": "display_data"
    },
    {
     "data": {
      "application/vnd.jupyter.widget-view+json": {
       "model_id": "a1e680beeb3f47059021ca8447c332c0",
       "version_major": 2,
       "version_minor": 0
      },
      "text/plain": [
       "Validation: 0it [00:00, ?it/s]"
      ]
     },
     "metadata": {},
     "output_type": "display_data"
    },
    {
     "data": {
      "application/vnd.jupyter.widget-view+json": {
       "model_id": "d9e97e5a135f49fb880252ccccf7df66",
       "version_major": 2,
       "version_minor": 0
      },
      "text/plain": [
       "Validation: 0it [00:00, ?it/s]"
      ]
     },
     "metadata": {},
     "output_type": "display_data"
    },
    {
     "data": {
      "application/vnd.jupyter.widget-view+json": {
       "model_id": "fd899ff6daa5464e95d8e4ea565ae6c9",
       "version_major": 2,
       "version_minor": 0
      },
      "text/plain": [
       "Validation: 0it [00:00, ?it/s]"
      ]
     },
     "metadata": {},
     "output_type": "display_data"
    },
    {
     "data": {
      "application/vnd.jupyter.widget-view+json": {
       "model_id": "07c6e356acdf47afae9b15d0c63f5e67",
       "version_major": 2,
       "version_minor": 0
      },
      "text/plain": [
       "Validation: 0it [00:00, ?it/s]"
      ]
     },
     "metadata": {},
     "output_type": "display_data"
    },
    {
     "data": {
      "application/vnd.jupyter.widget-view+json": {
       "model_id": "bc0ab572aff64e5d8fbe0749cdea24da",
       "version_major": 2,
       "version_minor": 0
      },
      "text/plain": [
       "Validation: 0it [00:00, ?it/s]"
      ]
     },
     "metadata": {},
     "output_type": "display_data"
    },
    {
     "data": {
      "application/vnd.jupyter.widget-view+json": {
       "model_id": "d6ea45907a1c40b4b2ea4127ce1ef836",
       "version_major": 2,
       "version_minor": 0
      },
      "text/plain": [
       "Validation: 0it [00:00, ?it/s]"
      ]
     },
     "metadata": {},
     "output_type": "display_data"
    },
    {
     "name": "stderr",
     "output_type": "stream",
     "text": [
      "Metric valid_loss improved by 0.000 >= min_delta = 0.0. New best score: 0.382\n"
     ]
    },
    {
     "data": {
      "application/vnd.jupyter.widget-view+json": {
       "model_id": "eb12eecb13004d2c8f3f95f904002b8a",
       "version_major": 2,
       "version_minor": 0
      },
      "text/plain": [
       "Validation: 0it [00:00, ?it/s]"
      ]
     },
     "metadata": {},
     "output_type": "display_data"
    },
    {
     "name": "stderr",
     "output_type": "stream",
     "text": [
      "Metric valid_loss improved by 0.001 >= min_delta = 0.0. New best score: 0.381\n"
     ]
    },
    {
     "data": {
      "application/vnd.jupyter.widget-view+json": {
       "model_id": "a8736c948f0f47f097aab7cfe7d155cc",
       "version_major": 2,
       "version_minor": 0
      },
      "text/plain": [
       "Validation: 0it [00:00, ?it/s]"
      ]
     },
     "metadata": {},
     "output_type": "display_data"
    },
    {
     "name": "stderr",
     "output_type": "stream",
     "text": [
      "Metric valid_loss improved by 0.000 >= min_delta = 0.0. New best score: 0.380\n"
     ]
    },
    {
     "data": {
      "application/vnd.jupyter.widget-view+json": {
       "model_id": "fdd0527443274fbfa44e2a776d53bc9e",
       "version_major": 2,
       "version_minor": 0
      },
      "text/plain": [
       "Validation: 0it [00:00, ?it/s]"
      ]
     },
     "metadata": {},
     "output_type": "display_data"
    },
    {
     "name": "stderr",
     "output_type": "stream",
     "text": [
      "Metric valid_loss improved by 0.000 >= min_delta = 0.0. New best score: 0.380\n"
     ]
    },
    {
     "data": {
      "application/vnd.jupyter.widget-view+json": {
       "model_id": "ee9ac9bd6d8b4e0c8b85e5a13ea93d7e",
       "version_major": 2,
       "version_minor": 0
      },
      "text/plain": [
       "Validation: 0it [00:00, ?it/s]"
      ]
     },
     "metadata": {},
     "output_type": "display_data"
    },
    {
     "name": "stderr",
     "output_type": "stream",
     "text": [
      "Metric valid_loss improved by 0.000 >= min_delta = 0.0. New best score: 0.380\n"
     ]
    },
    {
     "data": {
      "application/vnd.jupyter.widget-view+json": {
       "model_id": "4b9fedfd84df43dd9c5b0390e227d385",
       "version_major": 2,
       "version_minor": 0
      },
      "text/plain": [
       "Validation: 0it [00:00, ?it/s]"
      ]
     },
     "metadata": {},
     "output_type": "display_data"
    },
    {
     "name": "stderr",
     "output_type": "stream",
     "text": [
      "Metric valid_loss improved by 0.000 >= min_delta = 0.0. New best score: 0.380\n"
     ]
    },
    {
     "data": {
      "application/vnd.jupyter.widget-view+json": {
       "model_id": "c74949620392498c9e1fe6d777143047",
       "version_major": 2,
       "version_minor": 0
      },
      "text/plain": [
       "Validation: 0it [00:00, ?it/s]"
      ]
     },
     "metadata": {},
     "output_type": "display_data"
    },
    {
     "data": {
      "application/vnd.jupyter.widget-view+json": {
       "model_id": "4c0bc4a594964c59b12d06be08a4d793",
       "version_major": 2,
       "version_minor": 0
      },
      "text/plain": [
       "Validation: 0it [00:00, ?it/s]"
      ]
     },
     "metadata": {},
     "output_type": "display_data"
    },
    {
     "data": {
      "application/vnd.jupyter.widget-view+json": {
       "model_id": "5635a295062540c6b675f0acb92363cc",
       "version_major": 2,
       "version_minor": 0
      },
      "text/plain": [
       "Validation: 0it [00:00, ?it/s]"
      ]
     },
     "metadata": {},
     "output_type": "display_data"
    },
    {
     "data": {
      "application/vnd.jupyter.widget-view+json": {
       "model_id": "c190d98e81f940ad8fb39a8a716a7787",
       "version_major": 2,
       "version_minor": 0
      },
      "text/plain": [
       "Validation: 0it [00:00, ?it/s]"
      ]
     },
     "metadata": {},
     "output_type": "display_data"
    },
    {
     "data": {
      "application/vnd.jupyter.widget-view+json": {
       "model_id": "c99fcc8161514267a321440917950f3b",
       "version_major": 2,
       "version_minor": 0
      },
      "text/plain": [
       "Validation: 0it [00:00, ?it/s]"
      ]
     },
     "metadata": {},
     "output_type": "display_data"
    },
    {
     "data": {
      "application/vnd.jupyter.widget-view+json": {
       "model_id": "bda0218aa6b942e5ad9382e0580ccca1",
       "version_major": 2,
       "version_minor": 0
      },
      "text/plain": [
       "Validation: 0it [00:00, ?it/s]"
      ]
     },
     "metadata": {},
     "output_type": "display_data"
    },
    {
     "name": "stderr",
     "output_type": "stream",
     "text": [
      "Metric valid_loss improved by 0.000 >= min_delta = 0.0. New best score: 0.379\n"
     ]
    },
    {
     "data": {
      "application/vnd.jupyter.widget-view+json": {
       "model_id": "d21d677a0bd64fff8296584c1c1d1167",
       "version_major": 2,
       "version_minor": 0
      },
      "text/plain": [
       "Validation: 0it [00:00, ?it/s]"
      ]
     },
     "metadata": {},
     "output_type": "display_data"
    },
    {
     "name": "stderr",
     "output_type": "stream",
     "text": [
      "Metric valid_loss improved by 0.000 >= min_delta = 0.0. New best score: 0.379\n"
     ]
    },
    {
     "data": {
      "application/vnd.jupyter.widget-view+json": {
       "model_id": "42f35dcce9004c4ebc708f0b7f975688",
       "version_major": 2,
       "version_minor": 0
      },
      "text/plain": [
       "Validation: 0it [00:00, ?it/s]"
      ]
     },
     "metadata": {},
     "output_type": "display_data"
    },
    {
     "data": {
      "application/vnd.jupyter.widget-view+json": {
       "model_id": "f0c83142d442431a8c3b119ee15c3f21",
       "version_major": 2,
       "version_minor": 0
      },
      "text/plain": [
       "Validation: 0it [00:00, ?it/s]"
      ]
     },
     "metadata": {},
     "output_type": "display_data"
    },
    {
     "data": {
      "application/vnd.jupyter.widget-view+json": {
       "model_id": "4becaf4087214c77a7d0e044cf28d259",
       "version_major": 2,
       "version_minor": 0
      },
      "text/plain": [
       "Validation: 0it [00:00, ?it/s]"
      ]
     },
     "metadata": {},
     "output_type": "display_data"
    },
    {
     "data": {
      "application/vnd.jupyter.widget-view+json": {
       "model_id": "b348c8736aa742fc9444adf17ddf440f",
       "version_major": 2,
       "version_minor": 0
      },
      "text/plain": [
       "Validation: 0it [00:00, ?it/s]"
      ]
     },
     "metadata": {},
     "output_type": "display_data"
    },
    {
     "name": "stderr",
     "output_type": "stream",
     "text": [
      "Metric valid_loss improved by 0.000 >= min_delta = 0.0. New best score: 0.379\n"
     ]
    },
    {
     "data": {
      "application/vnd.jupyter.widget-view+json": {
       "model_id": "fee8ffb50d5349558d2e6677da9aac80",
       "version_major": 2,
       "version_minor": 0
      },
      "text/plain": [
       "Validation: 0it [00:00, ?it/s]"
      ]
     },
     "metadata": {},
     "output_type": "display_data"
    },
    {
     "data": {
      "application/vnd.jupyter.widget-view+json": {
       "model_id": "111654aee38945ba9f1cbd1a03de4ff9",
       "version_major": 2,
       "version_minor": 0
      },
      "text/plain": [
       "Validation: 0it [00:00, ?it/s]"
      ]
     },
     "metadata": {},
     "output_type": "display_data"
    },
    {
     "data": {
      "application/vnd.jupyter.widget-view+json": {
       "model_id": "f562f790602b4e8486c46370d7ee0a2a",
       "version_major": 2,
       "version_minor": 0
      },
      "text/plain": [
       "Validation: 0it [00:00, ?it/s]"
      ]
     },
     "metadata": {},
     "output_type": "display_data"
    },
    {
     "data": {
      "application/vnd.jupyter.widget-view+json": {
       "model_id": "ee4c5f3df68d4a6e9b578bb71a2ff568",
       "version_major": 2,
       "version_minor": 0
      },
      "text/plain": [
       "Validation: 0it [00:00, ?it/s]"
      ]
     },
     "metadata": {},
     "output_type": "display_data"
    },
    {
     "data": {
      "application/vnd.jupyter.widget-view+json": {
       "model_id": "110aa10e9e5543fa922e8b97e948b7a8",
       "version_major": 2,
       "version_minor": 0
      },
      "text/plain": [
       "Validation: 0it [00:00, ?it/s]"
      ]
     },
     "metadata": {},
     "output_type": "display_data"
    },
    {
     "data": {
      "application/vnd.jupyter.widget-view+json": {
       "model_id": "ed8f6c8fb09d4a73928bda1c9ca1cee3",
       "version_major": 2,
       "version_minor": 0
      },
      "text/plain": [
       "Validation: 0it [00:00, ?it/s]"
      ]
     },
     "metadata": {},
     "output_type": "display_data"
    },
    {
     "data": {
      "application/vnd.jupyter.widget-view+json": {
       "model_id": "d9aa1c4011324959a9e40fa1cf5155d6",
       "version_major": 2,
       "version_minor": 0
      },
      "text/plain": [
       "Validation: 0it [00:00, ?it/s]"
      ]
     },
     "metadata": {},
     "output_type": "display_data"
    },
    {
     "name": "stderr",
     "output_type": "stream",
     "text": [
      "Metric valid_loss improved by 0.000 >= min_delta = 0.0. New best score: 0.378\n"
     ]
    },
    {
     "data": {
      "application/vnd.jupyter.widget-view+json": {
       "model_id": "0f30379d23394051aa6439fdcc36181b",
       "version_major": 2,
       "version_minor": 0
      },
      "text/plain": [
       "Validation: 0it [00:00, ?it/s]"
      ]
     },
     "metadata": {},
     "output_type": "display_data"
    },
    {
     "data": {
      "application/vnd.jupyter.widget-view+json": {
       "model_id": "27a772345e66452f8a9fe6b8383512b0",
       "version_major": 2,
       "version_minor": 0
      },
      "text/plain": [
       "Validation: 0it [00:00, ?it/s]"
      ]
     },
     "metadata": {},
     "output_type": "display_data"
    },
    {
     "data": {
      "application/vnd.jupyter.widget-view+json": {
       "model_id": "00024e780cda4af8a106e59d17036772",
       "version_major": 2,
       "version_minor": 0
      },
      "text/plain": [
       "Validation: 0it [00:00, ?it/s]"
      ]
     },
     "metadata": {},
     "output_type": "display_data"
    },
    {
     "data": {
      "application/vnd.jupyter.widget-view+json": {
       "model_id": "0967a5c836e94fb183793da5a7f29ef5",
       "version_major": 2,
       "version_minor": 0
      },
      "text/plain": [
       "Validation: 0it [00:00, ?it/s]"
      ]
     },
     "metadata": {},
     "output_type": "display_data"
    },
    {
     "data": {
      "application/vnd.jupyter.widget-view+json": {
       "model_id": "cc61cfdd9d6f4ad5a70a32f3c7c711f6",
       "version_major": 2,
       "version_minor": 0
      },
      "text/plain": [
       "Validation: 0it [00:00, ?it/s]"
      ]
     },
     "metadata": {},
     "output_type": "display_data"
    },
    {
     "data": {
      "application/vnd.jupyter.widget-view+json": {
       "model_id": "b6c0ce622a8742818591a1ea718c7dcc",
       "version_major": 2,
       "version_minor": 0
      },
      "text/plain": [
       "Validation: 0it [00:00, ?it/s]"
      ]
     },
     "metadata": {},
     "output_type": "display_data"
    },
    {
     "data": {
      "application/vnd.jupyter.widget-view+json": {
       "model_id": "c8947b4b906c47dcb9164f7786c5d809",
       "version_major": 2,
       "version_minor": 0
      },
      "text/plain": [
       "Validation: 0it [00:00, ?it/s]"
      ]
     },
     "metadata": {},
     "output_type": "display_data"
    },
    {
     "name": "stderr",
     "output_type": "stream",
     "text": [
      "Metric valid_loss improved by 0.000 >= min_delta = 0.0. New best score: 0.378\n"
     ]
    },
    {
     "data": {
      "application/vnd.jupyter.widget-view+json": {
       "model_id": "cd71ab0b34404d98bdfef426234691b6",
       "version_major": 2,
       "version_minor": 0
      },
      "text/plain": [
       "Validation: 0it [00:00, ?it/s]"
      ]
     },
     "metadata": {},
     "output_type": "display_data"
    },
    {
     "data": {
      "application/vnd.jupyter.widget-view+json": {
       "model_id": "9597401c7191449d86f1447271de05f0",
       "version_major": 2,
       "version_minor": 0
      },
      "text/plain": [
       "Validation: 0it [00:00, ?it/s]"
      ]
     },
     "metadata": {},
     "output_type": "display_data"
    },
    {
     "data": {
      "application/vnd.jupyter.widget-view+json": {
       "model_id": "382a0b56a44f4818ae3163d7868012b3",
       "version_major": 2,
       "version_minor": 0
      },
      "text/plain": [
       "Validation: 0it [00:00, ?it/s]"
      ]
     },
     "metadata": {},
     "output_type": "display_data"
    },
    {
     "data": {
      "application/vnd.jupyter.widget-view+json": {
       "model_id": "cfff723934924b3c9b73b8c1f58746c4",
       "version_major": 2,
       "version_minor": 0
      },
      "text/plain": [
       "Validation: 0it [00:00, ?it/s]"
      ]
     },
     "metadata": {},
     "output_type": "display_data"
    },
    {
     "data": {
      "application/vnd.jupyter.widget-view+json": {
       "model_id": "9af540dc0de2469fbcb010abfcd4d16b",
       "version_major": 2,
       "version_minor": 0
      },
      "text/plain": [
       "Validation: 0it [00:00, ?it/s]"
      ]
     },
     "metadata": {},
     "output_type": "display_data"
    },
    {
     "data": {
      "application/vnd.jupyter.widget-view+json": {
       "model_id": "a68172cf0a3e4b8e866a640bd4d073f1",
       "version_major": 2,
       "version_minor": 0
      },
      "text/plain": [
       "Validation: 0it [00:00, ?it/s]"
      ]
     },
     "metadata": {},
     "output_type": "display_data"
    },
    {
     "data": {
      "application/vnd.jupyter.widget-view+json": {
       "model_id": "49b97719417d4c49b4385a933edbb681",
       "version_major": 2,
       "version_minor": 0
      },
      "text/plain": [
       "Validation: 0it [00:00, ?it/s]"
      ]
     },
     "metadata": {},
     "output_type": "display_data"
    },
    {
     "data": {
      "application/vnd.jupyter.widget-view+json": {
       "model_id": "d2523efc989a4e1abb73d6034c7c4b2d",
       "version_major": 2,
       "version_minor": 0
      },
      "text/plain": [
       "Validation: 0it [00:00, ?it/s]"
      ]
     },
     "metadata": {},
     "output_type": "display_data"
    },
    {
     "data": {
      "application/vnd.jupyter.widget-view+json": {
       "model_id": "8c75167a72714adea1b27d66ae98b64a",
       "version_major": 2,
       "version_minor": 0
      },
      "text/plain": [
       "Validation: 0it [00:00, ?it/s]"
      ]
     },
     "metadata": {},
     "output_type": "display_data"
    },
    {
     "data": {
      "application/vnd.jupyter.widget-view+json": {
       "model_id": "551dddda1c8c48bfb797d021b5451bbf",
       "version_major": 2,
       "version_minor": 0
      },
      "text/plain": [
       "Validation: 0it [00:00, ?it/s]"
      ]
     },
     "metadata": {},
     "output_type": "display_data"
    },
    {
     "data": {
      "application/vnd.jupyter.widget-view+json": {
       "model_id": "42fdacfa9d544f5cb69aac6d6dc18464",
       "version_major": 2,
       "version_minor": 0
      },
      "text/plain": [
       "Validation: 0it [00:00, ?it/s]"
      ]
     },
     "metadata": {},
     "output_type": "display_data"
    },
    {
     "data": {
      "application/vnd.jupyter.widget-view+json": {
       "model_id": "4872f1a3b7054867a9201d10e88ac19a",
       "version_major": 2,
       "version_minor": 0
      },
      "text/plain": [
       "Validation: 0it [00:00, ?it/s]"
      ]
     },
     "metadata": {},
     "output_type": "display_data"
    },
    {
     "data": {
      "application/vnd.jupyter.widget-view+json": {
       "model_id": "b949e00d44b242b49b20985d3afb6bb8",
       "version_major": 2,
       "version_minor": 0
      },
      "text/plain": [
       "Validation: 0it [00:00, ?it/s]"
      ]
     },
     "metadata": {},
     "output_type": "display_data"
    },
    {
     "data": {
      "application/vnd.jupyter.widget-view+json": {
       "model_id": "4d738fd044d142a197c7da2dc2c64279",
       "version_major": 2,
       "version_minor": 0
      },
      "text/plain": [
       "Validation: 0it [00:00, ?it/s]"
      ]
     },
     "metadata": {},
     "output_type": "display_data"
    },
    {
     "data": {
      "application/vnd.jupyter.widget-view+json": {
       "model_id": "c50a9553b69e41e8983fb11472977808",
       "version_major": 2,
       "version_minor": 0
      },
      "text/plain": [
       "Validation: 0it [00:00, ?it/s]"
      ]
     },
     "metadata": {},
     "output_type": "display_data"
    },
    {
     "data": {
      "application/vnd.jupyter.widget-view+json": {
       "model_id": "7c90dfbd02ad4f93856cd46c097455fe",
       "version_major": 2,
       "version_minor": 0
      },
      "text/plain": [
       "Validation: 0it [00:00, ?it/s]"
      ]
     },
     "metadata": {},
     "output_type": "display_data"
    },
    {
     "data": {
      "application/vnd.jupyter.widget-view+json": {
       "model_id": "cd8d69b534a24c9ea27f72ee555fa9e0",
       "version_major": 2,
       "version_minor": 0
      },
      "text/plain": [
       "Validation: 0it [00:00, ?it/s]"
      ]
     },
     "metadata": {},
     "output_type": "display_data"
    },
    {
     "name": "stderr",
     "output_type": "stream",
     "text": [
      "Metric valid_loss improved by 0.000 >= min_delta = 0.0. New best score: 0.378\n"
     ]
    },
    {
     "data": {
      "application/vnd.jupyter.widget-view+json": {
       "model_id": "476a576a3e97469fa1a2ad4bebeb7255",
       "version_major": 2,
       "version_minor": 0
      },
      "text/plain": [
       "Validation: 0it [00:00, ?it/s]"
      ]
     },
     "metadata": {},
     "output_type": "display_data"
    },
    {
     "data": {
      "application/vnd.jupyter.widget-view+json": {
       "model_id": "a01aa8abfca04837bb38b5bcda74bca0",
       "version_major": 2,
       "version_minor": 0
      },
      "text/plain": [
       "Validation: 0it [00:00, ?it/s]"
      ]
     },
     "metadata": {},
     "output_type": "display_data"
    },
    {
     "name": "stderr",
     "output_type": "stream",
     "text": [
      "Metric valid_loss improved by 0.000 >= min_delta = 0.0. New best score: 0.378\n"
     ]
    },
    {
     "data": {
      "application/vnd.jupyter.widget-view+json": {
       "model_id": "6e45603f13384dacb5e077cc1310cd11",
       "version_major": 2,
       "version_minor": 0
      },
      "text/plain": [
       "Validation: 0it [00:00, ?it/s]"
      ]
     },
     "metadata": {},
     "output_type": "display_data"
    },
    {
     "data": {
      "application/vnd.jupyter.widget-view+json": {
       "model_id": "834c77ba1bd74d508b8b5984a577ff72",
       "version_major": 2,
       "version_minor": 0
      },
      "text/plain": [
       "Validation: 0it [00:00, ?it/s]"
      ]
     },
     "metadata": {},
     "output_type": "display_data"
    },
    {
     "name": "stderr",
     "output_type": "stream",
     "text": [
      "Metric valid_loss improved by 0.000 >= min_delta = 0.0. New best score: 0.378\n"
     ]
    },
    {
     "data": {
      "application/vnd.jupyter.widget-view+json": {
       "model_id": "f6c1c7b132fa49088830d4d4692048ba",
       "version_major": 2,
       "version_minor": 0
      },
      "text/plain": [
       "Validation: 0it [00:00, ?it/s]"
      ]
     },
     "metadata": {},
     "output_type": "display_data"
    },
    {
     "data": {
      "application/vnd.jupyter.widget-view+json": {
       "model_id": "d90886dec4474050af313a11b1dc7435",
       "version_major": 2,
       "version_minor": 0
      },
      "text/plain": [
       "Validation: 0it [00:00, ?it/s]"
      ]
     },
     "metadata": {},
     "output_type": "display_data"
    },
    {
     "data": {
      "application/vnd.jupyter.widget-view+json": {
       "model_id": "d81e787542e9486b9f07f1ff13630940",
       "version_major": 2,
       "version_minor": 0
      },
      "text/plain": [
       "Validation: 0it [00:00, ?it/s]"
      ]
     },
     "metadata": {},
     "output_type": "display_data"
    },
    {
     "data": {
      "application/vnd.jupyter.widget-view+json": {
       "model_id": "370dd98dcfc94df482567efa7905c1df",
       "version_major": 2,
       "version_minor": 0
      },
      "text/plain": [
       "Validation: 0it [00:00, ?it/s]"
      ]
     },
     "metadata": {},
     "output_type": "display_data"
    },
    {
     "data": {
      "application/vnd.jupyter.widget-view+json": {
       "model_id": "07b84ebaa4084fd8a3772fe23f695c51",
       "version_major": 2,
       "version_minor": 0
      },
      "text/plain": [
       "Validation: 0it [00:00, ?it/s]"
      ]
     },
     "metadata": {},
     "output_type": "display_data"
    },
    {
     "data": {
      "application/vnd.jupyter.widget-view+json": {
       "model_id": "7542e4b5979b4b33b22e616483bb903d",
       "version_major": 2,
       "version_minor": 0
      },
      "text/plain": [
       "Validation: 0it [00:00, ?it/s]"
      ]
     },
     "metadata": {},
     "output_type": "display_data"
    },
    {
     "data": {
      "application/vnd.jupyter.widget-view+json": {
       "model_id": "123156c0b29345e28c209ca050210a92",
       "version_major": 2,
       "version_minor": 0
      },
      "text/plain": [
       "Validation: 0it [00:00, ?it/s]"
      ]
     },
     "metadata": {},
     "output_type": "display_data"
    },
    {
     "data": {
      "application/vnd.jupyter.widget-view+json": {
       "model_id": "cfb505aec69c4530afaa2175d6d7ff88",
       "version_major": 2,
       "version_minor": 0
      },
      "text/plain": [
       "Validation: 0it [00:00, ?it/s]"
      ]
     },
     "metadata": {},
     "output_type": "display_data"
    },
    {
     "data": {
      "application/vnd.jupyter.widget-view+json": {
       "model_id": "4bcaabdfd2a743e690cfe4d3f4c06318",
       "version_major": 2,
       "version_minor": 0
      },
      "text/plain": [
       "Validation: 0it [00:00, ?it/s]"
      ]
     },
     "metadata": {},
     "output_type": "display_data"
    },
    {
     "data": {
      "application/vnd.jupyter.widget-view+json": {
       "model_id": "f96c2e2dd5c6497daff31453baea1ab3",
       "version_major": 2,
       "version_minor": 0
      },
      "text/plain": [
       "Validation: 0it [00:00, ?it/s]"
      ]
     },
     "metadata": {},
     "output_type": "display_data"
    },
    {
     "data": {
      "application/vnd.jupyter.widget-view+json": {
       "model_id": "94add557b9724c01a80c242c05951766",
       "version_major": 2,
       "version_minor": 0
      },
      "text/plain": [
       "Validation: 0it [00:00, ?it/s]"
      ]
     },
     "metadata": {},
     "output_type": "display_data"
    },
    {
     "data": {
      "application/vnd.jupyter.widget-view+json": {
       "model_id": "07cdb1a1d8674f60adf7c017027c9505",
       "version_major": 2,
       "version_minor": 0
      },
      "text/plain": [
       "Validation: 0it [00:00, ?it/s]"
      ]
     },
     "metadata": {},
     "output_type": "display_data"
    },
    {
     "data": {
      "application/vnd.jupyter.widget-view+json": {
       "model_id": "5616b18ad6c4458bb571264217bdaed2",
       "version_major": 2,
       "version_minor": 0
      },
      "text/plain": [
       "Validation: 0it [00:00, ?it/s]"
      ]
     },
     "metadata": {},
     "output_type": "display_data"
    },
    {
     "data": {
      "application/vnd.jupyter.widget-view+json": {
       "model_id": "277b047caa6548d7b19ce9310679de54",
       "version_major": 2,
       "version_minor": 0
      },
      "text/plain": [
       "Validation: 0it [00:00, ?it/s]"
      ]
     },
     "metadata": {},
     "output_type": "display_data"
    },
    {
     "data": {
      "application/vnd.jupyter.widget-view+json": {
       "model_id": "105c76924acd41988f9a096cabd1cf66",
       "version_major": 2,
       "version_minor": 0
      },
      "text/plain": [
       "Validation: 0it [00:00, ?it/s]"
      ]
     },
     "metadata": {},
     "output_type": "display_data"
    },
    {
     "data": {
      "application/vnd.jupyter.widget-view+json": {
       "model_id": "54c3b73e5eb54aab94babfb7efc81ea7",
       "version_major": 2,
       "version_minor": 0
      },
      "text/plain": [
       "Validation: 0it [00:00, ?it/s]"
      ]
     },
     "metadata": {},
     "output_type": "display_data"
    },
    {
     "data": {
      "application/vnd.jupyter.widget-view+json": {
       "model_id": "ba2ebd6655854f2891e2afe39ec08939",
       "version_major": 2,
       "version_minor": 0
      },
      "text/plain": [
       "Validation: 0it [00:00, ?it/s]"
      ]
     },
     "metadata": {},
     "output_type": "display_data"
    },
    {
     "name": "stderr",
     "output_type": "stream",
     "text": [
      "Metric valid_loss improved by 0.000 >= min_delta = 0.0. New best score: 0.378\n"
     ]
    },
    {
     "data": {
      "application/vnd.jupyter.widget-view+json": {
       "model_id": "dc29ea0c1c654259b3074e8185a4468f",
       "version_major": 2,
       "version_minor": 0
      },
      "text/plain": [
       "Validation: 0it [00:00, ?it/s]"
      ]
     },
     "metadata": {},
     "output_type": "display_data"
    },
    {
     "data": {
      "application/vnd.jupyter.widget-view+json": {
       "model_id": "8659feb58e144a5e93e6676a5e1cba1e",
       "version_major": 2,
       "version_minor": 0
      },
      "text/plain": [
       "Validation: 0it [00:00, ?it/s]"
      ]
     },
     "metadata": {},
     "output_type": "display_data"
    },
    {
     "data": {
      "application/vnd.jupyter.widget-view+json": {
       "model_id": "ab151085f4664ddea46af847c13184aa",
       "version_major": 2,
       "version_minor": 0
      },
      "text/plain": [
       "Validation: 0it [00:00, ?it/s]"
      ]
     },
     "metadata": {},
     "output_type": "display_data"
    },
    {
     "data": {
      "application/vnd.jupyter.widget-view+json": {
       "model_id": "4bb7617d7579476494317eba9ea897a3",
       "version_major": 2,
       "version_minor": 0
      },
      "text/plain": [
       "Validation: 0it [00:00, ?it/s]"
      ]
     },
     "metadata": {},
     "output_type": "display_data"
    },
    {
     "data": {
      "application/vnd.jupyter.widget-view+json": {
       "model_id": "650d0fa25e784a45ac5e3378acfe3a68",
       "version_major": 2,
       "version_minor": 0
      },
      "text/plain": [
       "Validation: 0it [00:00, ?it/s]"
      ]
     },
     "metadata": {},
     "output_type": "display_data"
    },
    {
     "data": {
      "application/vnd.jupyter.widget-view+json": {
       "model_id": "83e024a09b374a149b3e67b0a98b8a75",
       "version_major": 2,
       "version_minor": 0
      },
      "text/plain": [
       "Validation: 0it [00:00, ?it/s]"
      ]
     },
     "metadata": {},
     "output_type": "display_data"
    },
    {
     "data": {
      "application/vnd.jupyter.widget-view+json": {
       "model_id": "5840924ff41c47fea21d582b8c27326b",
       "version_major": 2,
       "version_minor": 0
      },
      "text/plain": [
       "Validation: 0it [00:00, ?it/s]"
      ]
     },
     "metadata": {},
     "output_type": "display_data"
    },
    {
     "data": {
      "application/vnd.jupyter.widget-view+json": {
       "model_id": "7b05fd50861946cdbb4ee609c240b542",
       "version_major": 2,
       "version_minor": 0
      },
      "text/plain": [
       "Validation: 0it [00:00, ?it/s]"
      ]
     },
     "metadata": {},
     "output_type": "display_data"
    },
    {
     "data": {
      "application/vnd.jupyter.widget-view+json": {
       "model_id": "ca5736e6a77d4e8b8ab73ab4296a1e8d",
       "version_major": 2,
       "version_minor": 0
      },
      "text/plain": [
       "Validation: 0it [00:00, ?it/s]"
      ]
     },
     "metadata": {},
     "output_type": "display_data"
    },
    {
     "data": {
      "application/vnd.jupyter.widget-view+json": {
       "model_id": "07f1346ca430478ba52f1206f237b91e",
       "version_major": 2,
       "version_minor": 0
      },
      "text/plain": [
       "Validation: 0it [00:00, ?it/s]"
      ]
     },
     "metadata": {},
     "output_type": "display_data"
    },
    {
     "data": {
      "application/vnd.jupyter.widget-view+json": {
       "model_id": "21286e21e60341f799c0a6558cccec7d",
       "version_major": 2,
       "version_minor": 0
      },
      "text/plain": [
       "Validation: 0it [00:00, ?it/s]"
      ]
     },
     "metadata": {},
     "output_type": "display_data"
    },
    {
     "data": {
      "application/vnd.jupyter.widget-view+json": {
       "model_id": "2860f7fb110c437b967d7bfd694a0f6b",
       "version_major": 2,
       "version_minor": 0
      },
      "text/plain": [
       "Validation: 0it [00:00, ?it/s]"
      ]
     },
     "metadata": {},
     "output_type": "display_data"
    },
    {
     "data": {
      "application/vnd.jupyter.widget-view+json": {
       "model_id": "631f9d7bb5df4954ae297260dd0d2734",
       "version_major": 2,
       "version_minor": 0
      },
      "text/plain": [
       "Validation: 0it [00:00, ?it/s]"
      ]
     },
     "metadata": {},
     "output_type": "display_data"
    },
    {
     "data": {
      "application/vnd.jupyter.widget-view+json": {
       "model_id": "4bb54c13949c4eb2947c2877eb69b3b8",
       "version_major": 2,
       "version_minor": 0
      },
      "text/plain": [
       "Validation: 0it [00:00, ?it/s]"
      ]
     },
     "metadata": {},
     "output_type": "display_data"
    },
    {
     "data": {
      "application/vnd.jupyter.widget-view+json": {
       "model_id": "85ad9c7dd05042808e66142ba45171fb",
       "version_major": 2,
       "version_minor": 0
      },
      "text/plain": [
       "Validation: 0it [00:00, ?it/s]"
      ]
     },
     "metadata": {},
     "output_type": "display_data"
    },
    {
     "data": {
      "application/vnd.jupyter.widget-view+json": {
       "model_id": "f98bebd6dcbf4f308e55497e903379df",
       "version_major": 2,
       "version_minor": 0
      },
      "text/plain": [
       "Validation: 0it [00:00, ?it/s]"
      ]
     },
     "metadata": {},
     "output_type": "display_data"
    },
    {
     "data": {
      "application/vnd.jupyter.widget-view+json": {
       "model_id": "05fa6d5ab0c14daf9533c06175e260af",
       "version_major": 2,
       "version_minor": 0
      },
      "text/plain": [
       "Validation: 0it [00:00, ?it/s]"
      ]
     },
     "metadata": {},
     "output_type": "display_data"
    },
    {
     "data": {
      "application/vnd.jupyter.widget-view+json": {
       "model_id": "bb01ae19105c464f91ec2f8628675e33",
       "version_major": 2,
       "version_minor": 0
      },
      "text/plain": [
       "Validation: 0it [00:00, ?it/s]"
      ]
     },
     "metadata": {},
     "output_type": "display_data"
    },
    {
     "data": {
      "application/vnd.jupyter.widget-view+json": {
       "model_id": "117f69abdbe84a5db8db1b7c8baf6f04",
       "version_major": 2,
       "version_minor": 0
      },
      "text/plain": [
       "Validation: 0it [00:00, ?it/s]"
      ]
     },
     "metadata": {},
     "output_type": "display_data"
    },
    {
     "data": {
      "application/vnd.jupyter.widget-view+json": {
       "model_id": "f9f53a2b3c3e4fb0bd0b3db3f7bffbe5",
       "version_major": 2,
       "version_minor": 0
      },
      "text/plain": [
       "Validation: 0it [00:00, ?it/s]"
      ]
     },
     "metadata": {},
     "output_type": "display_data"
    },
    {
     "data": {
      "application/vnd.jupyter.widget-view+json": {
       "model_id": "7d4a7121a9da4fa48f3a58443a861bcb",
       "version_major": 2,
       "version_minor": 0
      },
      "text/plain": [
       "Validation: 0it [00:00, ?it/s]"
      ]
     },
     "metadata": {},
     "output_type": "display_data"
    },
    {
     "name": "stderr",
     "output_type": "stream",
     "text": [
      "Monitored metric valid_loss did not improve in the last 21 records. Best score: 0.378. Signaling Trainer to stop.\n"
     ]
    }
   ],
   "source": [
    "trainer.fit(\n",
    "    model, \n",
    "    DataLoader(train_tensor_dset, batch_size=2048, shuffle=True, num_workers=4),\n",
    "    DataLoader(valid_tensor_dset, batch_size=2048, shuffle=False, num_workers=4)\n",
    ")"
   ]
  },
  {
   "cell_type": "code",
   "execution_count": 10,
   "metadata": {},
   "outputs": [
    {
     "name": "stderr",
     "output_type": "stream",
     "text": [
      "LOCAL_RANK: 0 - CUDA_VISIBLE_DEVICES: [0]\n"
     ]
    },
    {
     "data": {
      "application/vnd.jupyter.widget-view+json": {
       "model_id": "b56f83b27d15428c9fbbdb1a71d90978",
       "version_major": 2,
       "version_minor": 0
      },
      "text/plain": [
       "Testing: 0it [00:00, ?it/s]"
      ]
     },
     "metadata": {},
     "output_type": "display_data"
    },
    {
     "data": {
      "image/png": "[encoded data removed]",
      "text/plain": [
       "<Figure size 800x600 with 2 Axes>"
      ]
     },
     "metadata": {},
     "output_type": "display_data"
    },
    {
     "data": {
      "image/png": "[encoded data removed]",
      "text/plain": [
       "<Figure size 800x600 with 2 Axes>"
      ]
     },
     "metadata": {},
     "output_type": "display_data"
    },
    {
     "data": {
      "image/png": "[encoded data removed]",
      "text/plain": [
       "<Figure size 800x600 with 2 Axes>"
      ]
     },
     "metadata": {},
     "output_type": "display_data"
    },
    {
     "name": "stdout",
     "output_type": "stream",
     "text": [
      "────────────────────────────────────────────────────────────────────────────────────────────────────────────────────────\n",
      "Runningstage.testing metric      DataLoader 0\n",
      "────────────────────────────────────────────────────────────────────────────────────────────────────────────────────────\n",
      "        test_acc            0.8284410948036494\n",
      "        test_auc            0.9109240518080726\n",
      "         test_f1            0.8151197428722241\n",
      "        test_loss           0.3781100809574127\n",
      "────────────────────────────────────────────────────────────────────────────────────────────────────────────────────────\n"
     ]
    },
    {
     "data": {
      "text/plain": [
       "[{'test_loss': 0.3781100809574127,\n",
       "  'test_auc': 0.9109240518080726,\n",
       "  'test_acc': 0.8284410948036494,\n",
       "  'test_f1': 0.8151197428722241}]"
      ]
     },
     "execution_count": 10,
     "metadata": {},
     "output_type": "execute_result"
    }
   ],
   "source": [
    "# Métricas no conjuntos de dados de Validação\n",
    "trainer.test(model, DataLoader(valid_tensor_dset, batch_size=2048, shuffle=False, num_workers=4))"
   ]
  },
  {
   "cell_type": "code",
   "execution_count": 11,
   "metadata": {},
   "outputs": [
    {
     "name": "stderr",
     "output_type": "stream",
     "text": [
      "LOCAL_RANK: 0 - CUDA_VISIBLE_DEVICES: [0]\n"
     ]
    },
    {
     "data": {
      "application/vnd.jupyter.widget-view+json": {
       "model_id": "5232c0f366834121b2312447aa0bdfef",
       "version_major": 2,
       "version_minor": 0
      },
      "text/plain": [
       "Testing: 0it [00:00, ?it/s]"
      ]
     },
     "metadata": {},
     "output_type": "display_data"
    },
    {
     "data": {
      "image/png": "[encoded data removed]",
      "text/plain": [
       "<Figure size 800x600 with 2 Axes>"
      ]
     },
     "metadata": {},
     "output_type": "display_data"
    },
    {
     "data": {
      "image/png": "[encoded data removed]",
      "text/plain": [
       "<Figure size 800x600 with 2 Axes>"
      ]
     },
     "metadata": {},
     "output_type": "display_data"
    },
    {
     "data": {
      "image/png": "[encoded data removed]",
      "text/plain": [
       "<Figure size 800x600 with 2 Axes>"
      ]
     },
     "metadata": {},
     "output_type": "display_data"
    },
    {
     "name": "stdout",
     "output_type": "stream",
     "text": [
      "────────────────────────────────────────────────────────────────────────────────────────────────────────────────────────\n",
      "Runningstage.testing metric      DataLoader 0\n",
      "────────────────────────────────────────────────────────────────────────────────────────────────────────────────────────\n",
      "        test_acc            0.8228877429591432\n",
      "        test_auc            0.9047597374650422\n",
      "         test_f1            0.8163299428314199\n",
      "        test_loss           0.39004194736480713\n",
      "────────────────────────────────────────────────────────────────────────────────────────────────────────────────────────\n"
     ]
    },
    {
     "data": {
      "text/plain": [
       "[{'test_loss': 0.39004194736480713,\n",
       "  'test_auc': 0.9047597374650422,\n",
       "  'test_acc': 0.8228877429591432,\n",
       "  'test_f1': 0.8163299428314199}]"
      ]
     },
     "execution_count": 11,
     "metadata": {},
     "output_type": "execute_result"
    }
   ],
   "source": [
    "# Métricas no conjuntos de dados de Teste\n",
    "trainer.test(model, DataLoader(test_tensor_dset, batch_size=2048, shuffle=False, num_workers=4))"
   ]
  }
 ],
 "metadata": {
  "kernelspec": {
   "display_name": "TCC",
   "language": "python",
   "name": "python3"
  },
  "language_info": {
   "codemirror_mode": {
    "name": "ipython",
    "version": 3
   },
   "file_extension": ".py",
   "mimetype": "text/x-python",
   "name": "python",
   "nbconvert_exporter": "python",
   "pygments_lexer": "ipython3",
   "version": "3.11.3"
  },
  "orig_nbformat": 4
 },
 "nbformat": 4,
 "nbformat_minor": 2
}
