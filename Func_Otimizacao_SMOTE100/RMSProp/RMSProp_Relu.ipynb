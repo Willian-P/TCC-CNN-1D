{
 "cells": [
  {
   "cell_type": "code",
   "execution_count": 1,
   "metadata": {},
   "outputs": [
    {
     "name": "stderr",
     "output_type": "stream",
     "text": [
      "c:\\Users\\willi\\AppData\\Local\\Programs\\Python\\Python311\\Lib\\site-packages\\torchaudio\\backend\\utils.py:74: UserWarning: No audio backend is available.\n",
      "  warnings.warn(\"No audio backend is available.\")\n"
     ]
    }
   ],
   "source": [
    "import numpy as np\n",
    "import pandas as pd\n",
    "from sklearn.metrics import roc_auc_score, accuracy_score, f1_score, confusion_matrix\n",
    "\n",
    "import torch\n",
    "from torch import nn\n",
    "from torch.utils.data import DataLoader,TensorDataset\n",
    "from torch.optim.lr_scheduler import ReduceLROnPlateau\n",
    "\n",
    "import pytorch_lightning as pl\n",
    "from pytorch_lightning.callbacks.early_stopping import EarlyStopping\n",
    "\n",
    "import matplotlib.pyplot as plt\n",
    "import seaborn as sns"
   ]
  },
  {
   "cell_type": "markdown",
   "metadata": {},
   "source": [
    "PyTorch Lightning, é um framework leve para treinamento que visa simplificar e acelerar o processo de treinamento."
   ]
  },
  {
   "cell_type": "code",
   "execution_count": 2,
   "metadata": {},
   "outputs": [
    {
     "data": {
      "text/plain": [
       "device(type='cuda')"
      ]
     },
     "execution_count": 2,
     "metadata": {},
     "output_type": "execute_result"
    }
   ],
   "source": [
    "# Configuração para garantir a reprodutibilidade dos resultados\n",
    "SEED = 2\n",
    "# Definem a semente aleatória para as bibliotecas NumPy e PyTorch\n",
    "np.random.seed(SEED)\n",
    "torch.manual_seed(SEED) # CPU\n",
    "torch.cuda.manual_seed(SEED) # GPU\n",
    "torch.cuda.manual_seed_all(SEED) # GPUs\n",
    "\n",
    "# Configuração para garantir que a biblioteca cuDNN do PyTorch gere resultados determinísticos (usado para aceleração em GPU)\n",
    "torch.backends.cudnn.deterministic = True\n",
    "\n",
    "# Verifica se há uma GPU disponível e define o dispositivo para \"cuda\" (GPU) ou \"cpu\" (CPU)\n",
    "device = torch.device(\"cuda\" if torch.cuda.is_available() else \"cpu\")\n",
    "device"
   ]
  },
  {
   "cell_type": "code",
   "execution_count": 3,
   "metadata": {},
   "outputs": [
    {
     "data": {
      "text/html": [
       "<div>\n",
       "<style scoped>\n",
       "    .dataframe tbody tr th:only-of-type {\n",
       "        vertical-align: middle;\n",
       "    }\n",
       "\n",
       "    .dataframe tbody tr th {\n",
       "        vertical-align: top;\n",
       "    }\n",
       "\n",
       "    .dataframe thead th {\n",
       "        text-align: right;\n",
       "    }\n",
       "</style>\n",
       "<table border=\"1\" class=\"dataframe\">\n",
       "  <thead>\n",
       "    <tr style=\"text-align: right;\">\n",
       "      <th></th>\n",
       "      <th>CS_SEXO</th>\n",
       "      <th>NU_IDADE_N</th>\n",
       "      <th>CS_GESTANT</th>\n",
       "      <th>NOSOCOMIAL</th>\n",
       "      <th>FEBRE</th>\n",
       "      <th>TOSSE</th>\n",
       "      <th>GARGANTA</th>\n",
       "      <th>DISPNEIA</th>\n",
       "      <th>DESC_RESP</th>\n",
       "      <th>SATURACAO</th>\n",
       "      <th>...</th>\n",
       "      <th>TOMO_RES</th>\n",
       "      <th>RES_AN</th>\n",
       "      <th>VACINA_COV</th>\n",
       "      <th>QTD_DIAS</th>\n",
       "      <th>DIAS_INTERNA</th>\n",
       "      <th>SINT_ATE_NOTIF</th>\n",
       "      <th>PCR_EVOLUCAO</th>\n",
       "      <th>DIAS_DOSE2</th>\n",
       "      <th>DIAS_DOSE1</th>\n",
       "      <th>EVOLUCAO</th>\n",
       "    </tr>\n",
       "  </thead>\n",
       "  <tbody>\n",
       "    <tr>\n",
       "      <th>0</th>\n",
       "      <td>0.995421</td>\n",
       "      <td>-1.242145</td>\n",
       "      <td>-0.718677</td>\n",
       "      <td>-0.291673</td>\n",
       "      <td>-0.699049</td>\n",
       "      <td>-0.561770</td>\n",
       "      <td>-0.427354</td>\n",
       "      <td>-0.039069</td>\n",
       "      <td>-0.201868</td>\n",
       "      <td>-0.085837</td>\n",
       "      <td>...</td>\n",
       "      <td>0.545826</td>\n",
       "      <td>0.553550</td>\n",
       "      <td>-0.409720</td>\n",
       "      <td>-0.444636</td>\n",
       "      <td>-0.568138</td>\n",
       "      <td>-0.344578</td>\n",
       "      <td>-0.197813</td>\n",
       "      <td>-0.029956</td>\n",
       "      <td>-0.756641</td>\n",
       "      <td>0</td>\n",
       "    </tr>\n",
       "    <tr>\n",
       "      <th>1</th>\n",
       "      <td>-1.004600</td>\n",
       "      <td>0.443229</td>\n",
       "      <td>0.657872</td>\n",
       "      <td>-0.291673</td>\n",
       "      <td>2.173339</td>\n",
       "      <td>2.492745</td>\n",
       "      <td>-0.968870</td>\n",
       "      <td>2.321590</td>\n",
       "      <td>1.968317</td>\n",
       "      <td>-0.664007</td>\n",
       "      <td>...</td>\n",
       "      <td>0.545826</td>\n",
       "      <td>-1.105958</td>\n",
       "      <td>-0.409720</td>\n",
       "      <td>0.268908</td>\n",
       "      <td>0.656730</td>\n",
       "      <td>-0.344578</td>\n",
       "      <td>-0.477986</td>\n",
       "      <td>-0.006995</td>\n",
       "      <td>-0.053336</td>\n",
       "      <td>0</td>\n",
       "    </tr>\n",
       "    <tr>\n",
       "      <th>2</th>\n",
       "      <td>0.995421</td>\n",
       "      <td>-0.399458</td>\n",
       "      <td>-0.718677</td>\n",
       "      <td>-0.291673</td>\n",
       "      <td>-0.124571</td>\n",
       "      <td>-0.561770</td>\n",
       "      <td>-0.968870</td>\n",
       "      <td>-0.629234</td>\n",
       "      <td>-0.744414</td>\n",
       "      <td>-0.085837</td>\n",
       "      <td>...</td>\n",
       "      <td>0.545826</td>\n",
       "      <td>1.106720</td>\n",
       "      <td>-0.409720</td>\n",
       "      <td>-0.360690</td>\n",
       "      <td>-0.496087</td>\n",
       "      <td>-0.303805</td>\n",
       "      <td>-0.477986</td>\n",
       "      <td>-0.025296</td>\n",
       "      <td>-0.402563</td>\n",
       "      <td>0</td>\n",
       "    </tr>\n",
       "    <tr>\n",
       "      <th>3</th>\n",
       "      <td>-1.004600</td>\n",
       "      <td>-0.054722</td>\n",
       "      <td>0.657872</td>\n",
       "      <td>-0.291673</td>\n",
       "      <td>-0.699049</td>\n",
       "      <td>-0.561770</td>\n",
       "      <td>-0.427354</td>\n",
       "      <td>-0.629234</td>\n",
       "      <td>-0.744414</td>\n",
       "      <td>-0.664007</td>\n",
       "      <td>...</td>\n",
       "      <td>0.545826</td>\n",
       "      <td>1.659889</td>\n",
       "      <td>0.956430</td>\n",
       "      <td>0.310881</td>\n",
       "      <td>0.728781</td>\n",
       "      <td>0.103916</td>\n",
       "      <td>1.109660</td>\n",
       "      <td>-0.036890</td>\n",
       "      <td>-1.440545</td>\n",
       "      <td>1</td>\n",
       "    </tr>\n",
       "    <tr>\n",
       "      <th>4</th>\n",
       "      <td>0.995421</td>\n",
       "      <td>-0.667585</td>\n",
       "      <td>-0.718677</td>\n",
       "      <td>-0.291673</td>\n",
       "      <td>-0.124571</td>\n",
       "      <td>-0.561770</td>\n",
       "      <td>-0.968870</td>\n",
       "      <td>-0.039069</td>\n",
       "      <td>-0.201868</td>\n",
       "      <td>-0.085837</td>\n",
       "      <td>...</td>\n",
       "      <td>-2.106320</td>\n",
       "      <td>0.553550</td>\n",
       "      <td>-0.409720</td>\n",
       "      <td>-0.360690</td>\n",
       "      <td>-0.424036</td>\n",
       "      <td>-0.426122</td>\n",
       "      <td>-0.477986</td>\n",
       "      <td>-0.023704</td>\n",
       "      <td>-0.470469</td>\n",
       "      <td>0</td>\n",
       "    </tr>\n",
       "    <tr>\n",
       "      <th>...</th>\n",
       "      <td>...</td>\n",
       "      <td>...</td>\n",
       "      <td>...</td>\n",
       "      <td>...</td>\n",
       "      <td>...</td>\n",
       "      <td>...</td>\n",
       "      <td>...</td>\n",
       "      <td>...</td>\n",
       "      <td>...</td>\n",
       "      <td>...</td>\n",
       "      <td>...</td>\n",
       "      <td>...</td>\n",
       "      <td>...</td>\n",
       "      <td>...</td>\n",
       "      <td>...</td>\n",
       "      <td>...</td>\n",
       "      <td>...</td>\n",
       "      <td>...</td>\n",
       "      <td>...</td>\n",
       "      <td>...</td>\n",
       "      <td>...</td>\n",
       "    </tr>\n",
       "    <tr>\n",
       "      <th>27037</th>\n",
       "      <td>0.995421</td>\n",
       "      <td>1.045916</td>\n",
       "      <td>-0.516509</td>\n",
       "      <td>-0.291673</td>\n",
       "      <td>-0.699049</td>\n",
       "      <td>2.492745</td>\n",
       "      <td>1.738710</td>\n",
       "      <td>-0.195859</td>\n",
       "      <td>1.968317</td>\n",
       "      <td>-0.664007</td>\n",
       "      <td>...</td>\n",
       "      <td>0.545826</td>\n",
       "      <td>0.634792</td>\n",
       "      <td>-0.409720</td>\n",
       "      <td>-0.449623</td>\n",
       "      <td>-0.424036</td>\n",
       "      <td>-0.227105</td>\n",
       "      <td>-0.329731</td>\n",
       "      <td>0.006409</td>\n",
       "      <td>0.571365</td>\n",
       "      <td>1</td>\n",
       "    </tr>\n",
       "    <tr>\n",
       "      <th>27038</th>\n",
       "      <td>-1.004600</td>\n",
       "      <td>0.750801</td>\n",
       "      <td>0.657872</td>\n",
       "      <td>3.139125</td>\n",
       "      <td>-0.124571</td>\n",
       "      <td>-0.561770</td>\n",
       "      <td>-0.427354</td>\n",
       "      <td>-0.039069</td>\n",
       "      <td>-0.201868</td>\n",
       "      <td>-0.085837</td>\n",
       "      <td>...</td>\n",
       "      <td>-1.897306</td>\n",
       "      <td>1.106720</td>\n",
       "      <td>-0.409720</td>\n",
       "      <td>-0.360690</td>\n",
       "      <td>0.405751</td>\n",
       "      <td>0.516636</td>\n",
       "      <td>0.577774</td>\n",
       "      <td>-0.006064</td>\n",
       "      <td>0.214480</td>\n",
       "      <td>1</td>\n",
       "    </tr>\n",
       "    <tr>\n",
       "      <th>27039</th>\n",
       "      <td>0.995421</td>\n",
       "      <td>1.147598</td>\n",
       "      <td>-0.718677</td>\n",
       "      <td>-0.291673</td>\n",
       "      <td>-0.643187</td>\n",
       "      <td>-0.561770</td>\n",
       "      <td>-0.427354</td>\n",
       "      <td>-0.629234</td>\n",
       "      <td>-0.201868</td>\n",
       "      <td>-0.664007</td>\n",
       "      <td>...</td>\n",
       "      <td>0.545826</td>\n",
       "      <td>-0.606578</td>\n",
       "      <td>-0.409720</td>\n",
       "      <td>-0.256336</td>\n",
       "      <td>-0.179858</td>\n",
       "      <td>-0.287947</td>\n",
       "      <td>-0.113503</td>\n",
       "      <td>0.024105</td>\n",
       "      <td>1.328208</td>\n",
       "      <td>1</td>\n",
       "    </tr>\n",
       "    <tr>\n",
       "      <th>27040</th>\n",
       "      <td>-1.004600</td>\n",
       "      <td>0.758964</td>\n",
       "      <td>0.657872</td>\n",
       "      <td>-0.291673</td>\n",
       "      <td>-0.124571</td>\n",
       "      <td>-0.413389</td>\n",
       "      <td>-0.427354</td>\n",
       "      <td>-0.182413</td>\n",
       "      <td>-0.333645</td>\n",
       "      <td>-0.226267</td>\n",
       "      <td>...</td>\n",
       "      <td>-2.106320</td>\n",
       "      <td>-1.105958</td>\n",
       "      <td>0.956430</td>\n",
       "      <td>-0.162213</td>\n",
       "      <td>-0.028780</td>\n",
       "      <td>-0.333515</td>\n",
       "      <td>-0.477986</td>\n",
       "      <td>-0.036890</td>\n",
       "      <td>-1.440545</td>\n",
       "      <td>1</td>\n",
       "    </tr>\n",
       "    <tr>\n",
       "      <th>27041</th>\n",
       "      <td>0.995421</td>\n",
       "      <td>-0.724426</td>\n",
       "      <td>-0.718677</td>\n",
       "      <td>-0.291673</td>\n",
       "      <td>-0.560044</td>\n",
       "      <td>-0.413951</td>\n",
       "      <td>-0.427354</td>\n",
       "      <td>-0.629234</td>\n",
       "      <td>-0.613135</td>\n",
       "      <td>-0.664007</td>\n",
       "      <td>...</td>\n",
       "      <td>-0.095907</td>\n",
       "      <td>0.990644</td>\n",
       "      <td>-0.079156</td>\n",
       "      <td>4.586119</td>\n",
       "      <td>0.301105</td>\n",
       "      <td>5.095926</td>\n",
       "      <td>-0.336399</td>\n",
       "      <td>-0.012764</td>\n",
       "      <td>-0.252956</td>\n",
       "      <td>1</td>\n",
       "    </tr>\n",
       "  </tbody>\n",
       "</table>\n",
       "<p>27042 rows × 41 columns</p>\n",
       "</div>"
      ],
      "text/plain": [
       "        CS_SEXO  NU_IDADE_N  CS_GESTANT  NOSOCOMIAL     FEBRE     TOSSE  \\\n",
       "0      0.995421   -1.242145   -0.718677   -0.291673 -0.699049 -0.561770   \n",
       "1     -1.004600    0.443229    0.657872   -0.291673  2.173339  2.492745   \n",
       "2      0.995421   -0.399458   -0.718677   -0.291673 -0.124571 -0.561770   \n",
       "3     -1.004600   -0.054722    0.657872   -0.291673 -0.699049 -0.561770   \n",
       "4      0.995421   -0.667585   -0.718677   -0.291673 -0.124571 -0.561770   \n",
       "...         ...         ...         ...         ...       ...       ...   \n",
       "27037  0.995421    1.045916   -0.516509   -0.291673 -0.699049  2.492745   \n",
       "27038 -1.004600    0.750801    0.657872    3.139125 -0.124571 -0.561770   \n",
       "27039  0.995421    1.147598   -0.718677   -0.291673 -0.643187 -0.561770   \n",
       "27040 -1.004600    0.758964    0.657872   -0.291673 -0.124571 -0.413389   \n",
       "27041  0.995421   -0.724426   -0.718677   -0.291673 -0.560044 -0.413951   \n",
       "\n",
       "       GARGANTA  DISPNEIA  DESC_RESP  SATURACAO  ...  TOMO_RES    RES_AN  \\\n",
       "0     -0.427354 -0.039069  -0.201868  -0.085837  ...  0.545826  0.553550   \n",
       "1     -0.968870  2.321590   1.968317  -0.664007  ...  0.545826 -1.105958   \n",
       "2     -0.968870 -0.629234  -0.744414  -0.085837  ...  0.545826  1.106720   \n",
       "3     -0.427354 -0.629234  -0.744414  -0.664007  ...  0.545826  1.659889   \n",
       "4     -0.968870 -0.039069  -0.201868  -0.085837  ... -2.106320  0.553550   \n",
       "...         ...       ...        ...        ...  ...       ...       ...   \n",
       "27037  1.738710 -0.195859   1.968317  -0.664007  ...  0.545826  0.634792   \n",
       "27038 -0.427354 -0.039069  -0.201868  -0.085837  ... -1.897306  1.106720   \n",
       "27039 -0.427354 -0.629234  -0.201868  -0.664007  ...  0.545826 -0.606578   \n",
       "27040 -0.427354 -0.182413  -0.333645  -0.226267  ... -2.106320 -1.105958   \n",
       "27041 -0.427354 -0.629234  -0.613135  -0.664007  ... -0.095907  0.990644   \n",
       "\n",
       "       VACINA_COV  QTD_DIAS  DIAS_INTERNA  SINT_ATE_NOTIF  PCR_EVOLUCAO  \\\n",
       "0       -0.409720 -0.444636     -0.568138       -0.344578     -0.197813   \n",
       "1       -0.409720  0.268908      0.656730       -0.344578     -0.477986   \n",
       "2       -0.409720 -0.360690     -0.496087       -0.303805     -0.477986   \n",
       "3        0.956430  0.310881      0.728781        0.103916      1.109660   \n",
       "4       -0.409720 -0.360690     -0.424036       -0.426122     -0.477986   \n",
       "...           ...       ...           ...             ...           ...   \n",
       "27037   -0.409720 -0.449623     -0.424036       -0.227105     -0.329731   \n",
       "27038   -0.409720 -0.360690      0.405751        0.516636      0.577774   \n",
       "27039   -0.409720 -0.256336     -0.179858       -0.287947     -0.113503   \n",
       "27040    0.956430 -0.162213     -0.028780       -0.333515     -0.477986   \n",
       "27041   -0.079156  4.586119      0.301105        5.095926     -0.336399   \n",
       "\n",
       "       DIAS_DOSE2  DIAS_DOSE1  EVOLUCAO  \n",
       "0       -0.029956   -0.756641         0  \n",
       "1       -0.006995   -0.053336         0  \n",
       "2       -0.025296   -0.402563         0  \n",
       "3       -0.036890   -1.440545         1  \n",
       "4       -0.023704   -0.470469         0  \n",
       "...           ...         ...       ...  \n",
       "27037    0.006409    0.571365         1  \n",
       "27038   -0.006064    0.214480         1  \n",
       "27039    0.024105    1.328208         1  \n",
       "27040   -0.036890   -1.440545         1  \n",
       "27041   -0.012764   -0.252956         1  \n",
       "\n",
       "[27042 rows x 41 columns]"
      ]
     },
     "execution_count": 3,
     "metadata": {},
     "output_type": "execute_result"
    }
   ],
   "source": [
    "# Carrega o Dataset\n",
    "dataset = pd.read_csv(\"../../Datasets/dataset_SMOTE100_Scaler.csv\")\n",
    "dataset"
   ]
  },
  {
   "cell_type": "markdown",
   "metadata": {},
   "source": [
    "Divisão do dataset em três conjuntos distintos: treinamento, validação e teste. Sendo 60% para treinamento, 20% para validação e 20% para teste.\n"
   ]
  },
  {
   "cell_type": "code",
   "execution_count": 4,
   "metadata": {},
   "outputs": [],
   "source": [
    "# Cria um array para armazenar os índices do dataset original. Para embaralhar os índices e, posteriormente dividir os dados aleatoriamente.\n",
    "index = np.array(dataset.index)\n",
    "\n",
    "# Embaralha os índices de forma aleatória\n",
    "np.random.shuffle(index)\n",
    "# Número total de amostras no dataset\n",
    "n = len(index)\n",
    "\n",
    "# Seleciona os índices das primeiras 60% amostras embaralhadas para o conjunto de treinamento.\n",
    "train_index = index[0:int(0.6*n)]\n",
    "# As amostras da posição 60% até a posição 80% para o conjunto de validação\n",
    "valid_index = index[int(0.6*n):int(0.8*n)]\n",
    "# As amostras da posição 80% até o final para o conjunto de teste\n",
    "test_index = index[int(0.8*n):]\n",
    "\n",
    "# Cria um dataset para armazenar cada conjunto, treino, validação e teste, respectivamente e reindexa os índices\n",
    "train_dset = dataset.loc[train_index].reset_index(drop=True)\n",
    "valid_dset = dataset.loc[valid_index].reset_index(drop=True)\n",
    "test_dset = dataset.loc[test_index].reset_index(drop=True)"
   ]
  },
  {
   "cell_type": "code",
   "execution_count": 5,
   "metadata": {},
   "outputs": [],
   "source": [
    "# Obtendo os atributos (features) do dataset, excluindo a coluna 'EVOLUCAO'\n",
    "input_features = dataset.columns.drop('EVOLUCAO').tolist()\n",
    "\n",
    "# Obtendo os rótulos (target) do dataset\n",
    "target = 'EVOLUCAO'\n",
    "labels = dataset[target].tolist()"
   ]
  },
  {
   "cell_type": "code",
   "execution_count": 6,
   "metadata": {},
   "outputs": [],
   "source": [
    "# Os dados são convertidos em tensores PyTorch\n",
    "train_tensor_dset = TensorDataset(\n",
    "    # converte os dados das colunas de entradas em tensores de ponto flutuante\n",
    "    torch.tensor(train_dset[input_features].values, dtype=torch.float),\n",
    "    # converte os dados da coluna de rótulos em tensores de ponto flutuante com formato de matriz\n",
    "    torch.tensor(train_dset[target].values.reshape(-1,1), dtype=torch.float)\n",
    ")\n",
    "\n",
    "valid_tensor_dset = TensorDataset(\n",
    "    torch.tensor(valid_dset[input_features].values, dtype=torch.float),\n",
    "    torch.tensor(valid_dset[target].values.reshape(-1,1), dtype=torch.float)\n",
    ")\n",
    "\n",
    "test_tensor_dset = TensorDataset(\n",
    "    torch.tensor(test_dset[input_features].values, dtype=torch.float),\n",
    "    torch.tensor(test_dset[target].values.reshape(-1,1), dtype=torch.float) \n",
    ")"
   ]
  },
  {
   "cell_type": "markdown",
   "metadata": {},
   "source": [
    "No contexto da biblioteca PyTorch, um tensor é uma estrutura de dados similar a um array NumPy, mas com suporte para aceleração de hardware através de GPUs.\n",
    "\n",
    "A abordagem com tensores no PyTorch permite representar e manipular os dados de entrada e saída do modelo de forma eficiente, além de oferecer suporte para aceleração de hardware em GPUs, o que é essencial para realizar cálculos complexos em redes neurais profundas com grandes volumes de dados."
   ]
  },
  {
   "cell_type": "code",
   "execution_count": 7,
   "metadata": {},
   "outputs": [],
   "source": [
    "class SoftOrdering1DCNN(pl.LightningModule):\n",
    "\n",
    "    def __init__(self, input_dim, output_dim, sign_size=32, cha_input=16, cha_hidden=32, \n",
    "                 K=2, dropout_input=0.2, dropout_hidden=0.2, dropout_output=0.2):\n",
    "        super().__init__()\n",
    "\n",
    "        # Calcula o tamanho da camada oculta multiplicando o tamanho do sinal (sign_size) \n",
    "        # pela quantidade de canais de entrada (cha_input).\n",
    "        hidden_size = sign_size*cha_input\n",
    "        # Armazena o tamanho do sinal\n",
    "        sign_size1 = sign_size\n",
    "        # Calcula o tamanho do sinal dividido por 2 e armazena o resultado na variável\n",
    "        sign_size2 = sign_size//2\n",
    "\n",
    "        #Calcula o tamanho da camada de saída multiplicando o tamanho do sinal dividido \n",
    "        # por 4 pela quantidade de canais ocultos (cha_hidden).\n",
    "        output_size = (sign_size//4) * cha_hidden\n",
    "\n",
    "        self.hidden_size = hidden_size # Tamanho do vetor oculto\n",
    "        self.cha_input = cha_input # Número de canais de entrada\n",
    "        self.cha_hidden = cha_hidden # Número de canais da camada oculta\n",
    "        self.K = K # Fator de multiplicação utilizado na primeira camada convolucional\n",
    "        self.sign_size1 = sign_size1 # Tamanho do sinal de entrada original\n",
    "        self.sign_size2 = sign_size2 # Tamanho do sinal após a camada de pool adaptativa.\n",
    "        self.output_size = output_size # Tamanho do vetor de saída após a última camada de convolução e a camada de pool\n",
    "        self.dropout_input = dropout_input # Taxa de dropout aplicada à camada de entrada\n",
    "        self.dropout_hidden = dropout_hidden # Taxa de dropout aplicada às camadas ocultas\n",
    "        self.dropout_output = dropout_output # Taxa de dropout aplicada à camada de saída\n",
    "\n",
    "        # Cria uma camada de normalização por lote (BatchNorm1d) com tamanho de entrada \n",
    "        # igual a input_dim e a atribui ao atributo batch_norm1 da classe.\n",
    "        self.batch_norm1 = nn.BatchNorm1d(input_dim)\n",
    "        # Cria uma camada de dropout (Dropout) com taxa de dropout igual a dropout_input \n",
    "        # e a atribui ao atributo dropout1 da classe.\n",
    "        self.dropout1 = nn.Dropout(dropout_input)\n",
    "        # Cria uma camada densa (Linear) com tamanho de entrada igual a input_dim, tamanho de saída \n",
    "        # igual a hidden_size e sem viés (bias=False). A camada é armazenada temporariamente na variável dense1.\n",
    "        dense1 = nn.Linear(input_dim, hidden_size, bias=False)\n",
    "        # Aplica a normalização de peso (weight normalization) na camada dense1 e a atribui ao atributo dense1 da classe. \n",
    "        self.dense1 = nn.utils.weight_norm(dense1)\n",
    "\n",
    "        # 1st conv layer\n",
    "        self.batch_norm_c1 = nn.BatchNorm1d(cha_input)\n",
    "        conv1 = conv1 = nn.Conv1d(\n",
    "            cha_input, # canais de entrada\n",
    "            cha_input*K, # canais de saída\n",
    "            kernel_size=5, # tamanho de filtro\n",
    "            stride = 1, # Deslocamento\n",
    "            padding=2,  # Preenchimento\n",
    "            groups=cha_input, # igual ao número de canais de entrada e sem viés\n",
    "            bias=False) #  Essa camada aplica uma convolução em cada canal de entrada separadamente\n",
    "        # camada convolucional definida anteriormente é normalizada pela norma dos pesos \n",
    "        self.conv1 = nn.utils.weight_norm(conv1, dim=None) \n",
    "\n",
    "        self.ave_po_c1 = nn.AdaptiveAvgPool1d(output_size = sign_size2)\n",
    "\n",
    "        # 2nd conv layer\n",
    "        self.batch_norm_c2 = nn.BatchNorm1d(cha_input*K)\n",
    "        self.dropout_c2 = nn.Dropout(dropout_hidden)\n",
    "        conv2 = nn.Conv1d(\n",
    "            cha_input*K, \n",
    "            cha_hidden, \n",
    "            kernel_size=3, \n",
    "            stride=1, \n",
    "            padding=1, \n",
    "            bias=False)\n",
    "        self.conv2 = nn.utils.weight_norm(conv2, dim=None)\n",
    "\n",
    "        # 3rd conv layer\n",
    "        self.batch_norm_c3 = nn.BatchNorm1d(cha_hidden)\n",
    "        self.dropout_c3 = nn.Dropout(dropout_hidden)\n",
    "        conv3 = nn.Conv1d(\n",
    "            cha_hidden, \n",
    "            cha_hidden, \n",
    "            kernel_size=3, \n",
    "            stride=1, \n",
    "            padding=1, \n",
    "            bias=False)\n",
    "        self.conv3 = nn.utils.weight_norm(conv3, dim=None)      \n",
    "\n",
    "        # 4th conv layer\n",
    "        self.batch_norm_c4 = nn.BatchNorm1d(cha_hidden)\n",
    "        conv4 = nn.Conv1d(\n",
    "            cha_hidden, \n",
    "            cha_hidden, \n",
    "            kernel_size=5, \n",
    "            stride=1, \n",
    "            padding=2, \n",
    "            groups=cha_hidden, \n",
    "            bias=False)\n",
    "        self.conv4 = nn.utils.weight_norm(conv4, dim=None)\n",
    "\n",
    "        # cria uma camada de pooling médio unidimensional\n",
    "        self.avg_po_c4 = nn.AvgPool1d(kernel_size=4, stride=2, padding=1)\n",
    "\n",
    "        # cria uma camada de achatamento. É usada para transformar a saída das \n",
    "        # camadas convolucionais em um vetor unidimensional\n",
    "        self.flt = nn.Flatten()\n",
    "\n",
    "        self.batch_norm2 = nn.BatchNorm1d(output_size)\n",
    "        self.dropout2 = nn.Dropout(dropout_output)\n",
    "        dense2 = nn.Linear(output_size, output_dim, bias=False)\n",
    "        self.dense2 = nn.utils.weight_norm(dense2)\n",
    "\n",
    "        # Calcula a perda durante o treinamento\n",
    "        self.loss = nn.BCEWithLogitsLoss()\n",
    "\n",
    "\n",
    "    # Define a passagem direta (forward pass) do modelo (como os dados fluem pelas camadas)\n",
    "    def forward(self, x):\n",
    "        x = self.batch_norm1(x)\n",
    "        x = self.dropout1(x)\n",
    "        x = nn.functional.relu(self.dense1(x))\n",
    "\n",
    "        x = x.reshape(x.shape[0], self.cha_input, self.sign_size1)\n",
    "\n",
    "        x = self.batch_norm_c1(x)\n",
    "        x = nn.functional.relu(self.conv1(x))\n",
    "\n",
    "        x = self.ave_po_c1(x)\n",
    "\n",
    "        x = self.batch_norm_c2(x)\n",
    "        x = self.dropout_c2(x)\n",
    "        x = nn.functional.relu(self.conv2(x))\n",
    "        x_s = x\n",
    "\n",
    "        x = self.batch_norm_c3(x)\n",
    "        x = self.dropout_c3(x)\n",
    "        x = nn.functional.relu(self.conv3(x))\n",
    "\n",
    "        x = self.batch_norm_c4(x)\n",
    "        x = self.conv4(x)\n",
    "        x =  x + x_s\n",
    "        x = nn.functional.relu(x)\n",
    "\n",
    "        x = self.avg_po_c4(x)\n",
    "\n",
    "        x = self.flt(x)\n",
    "\n",
    "        x = self.batch_norm2(x)\n",
    "        x = self.dropout2(x)\n",
    "        x = self.dense2(x)\n",
    "\n",
    "        return x\n",
    "\n",
    "    # Métricas\n",
    "    def roc_auc(self, y_pred, y_true):\n",
    "        # Calcula o ROC AUC usando sklearn.metrics.roc_auc_score\n",
    "        roc_auc = roc_auc_score(y_true.cpu(), torch.sigmoid(y_pred).cpu())\n",
    "        return torch.tensor(roc_auc)\n",
    "\n",
    "    def accuracy(self, y_pred, y_true):\n",
    "        # Arredonda as probabilidades previstas para obter as previsões binárias (0 ou 1)\n",
    "        y_pred_labels = torch.round(torch.sigmoid(y_pred))\n",
    "        # Calcula a acurácia usando sklearn.metrics.accuracy_score\n",
    "        acc = accuracy_score(y_true.cpu(), y_pred_labels.cpu())\n",
    "        return torch.tensor(acc)\n",
    "\n",
    "    def f1(self, y_pred, y_true):\n",
    "        # Arredonda as probabilidades previstas para obter as previsões binárias (0 ou 1)\n",
    "        y_pred_labels = torch.round(torch.sigmoid(y_pred))\n",
    "        # Calcula o F1-score usando sklearn.metrics.f1_score\n",
    "        f1score = f1_score(y_true.cpu(), y_pred_labels.cpu())\n",
    "        return torch.tensor(f1score)\n",
    "    \n",
    "    def calculate_confusion_matrix(self, y_pred, y_true):\n",
    "        # Arredonda as probabilidades previstas para obter as previsões binárias (0 ou 1)\n",
    "        y_pred_labels = torch.round(torch.sigmoid(y_pred))\n",
    "        # Calcula a matriz de confusão usando as previsões e os rótulos verdadeiros\n",
    "        cm = confusion_matrix(y_true.cpu(), y_pred_labels.cpu())\n",
    "        return cm\n",
    "    \n",
    "    def plot_confusion_matrix(self, cm):\n",
    "        plt.figure(figsize=(8, 6))\n",
    "        sns.heatmap(cm, annot=True, fmt=\"d\", cmap=\"Blues\", xticklabels=['0', '1'], yticklabels=['0', '1'])\n",
    "        plt.xlabel(\"Predicted Label\")\n",
    "        plt.ylabel(\"True Label\")\n",
    "        plt.title(\"Confusion Matrix\")\n",
    "        plt.show()\n",
    "        \n",
    "\n",
    "    # define os passos de treinamento do modelo.\n",
    "    def training_step(self, batch, batch_idx):\n",
    "        X, y = batch\n",
    "        y_hat = self.forward(X)\n",
    "        loss = self.loss(y_hat, y)\n",
    "        self.log('train_loss', loss)\n",
    "        return loss\n",
    "\n",
    "    def validation_step(self, batch, batch_idx):\n",
    "        X, y = batch\n",
    "        y_hat = self.forward(X)\n",
    "        loss = self.loss(y_hat, y)\n",
    "        \n",
    "        # Calcular métricas durante a validação\n",
    "        valid_auc = self.roc_auc(y_hat, y)\n",
    "        valid_acc = self.accuracy(y_hat, y)\n",
    "        valid_f1 = self.f1(y_hat, y)\n",
    "        \n",
    "        self.log('valid_loss', loss)\n",
    "        self.log('valid_auc', valid_auc, prog_bar=True)\n",
    "        self.log('valid_acc', valid_acc, prog_bar=True)\n",
    "        self.log('valid_f1', valid_f1, prog_bar=True)\n",
    "        \n",
    "    def test_step(self, batch, batch_idx):\n",
    "        X, y = batch\n",
    "        y_logit = self.forward(X)\n",
    "        y_probs = torch.sigmoid(y_logit).detach().cpu().numpy()\n",
    "        loss = self.loss(y_logit, y)\n",
    "\n",
    "        # Calcular métricas\n",
    "        roc_auc = self.roc_auc(y_logit, y)\n",
    "        acc = self.accuracy(y_logit, y)\n",
    "        f1score = self.f1(y_logit, y)\n",
    "        cm = self.calculate_confusion_matrix(y_logit, y)\n",
    "        \n",
    "        self.plot_confusion_matrix(cm) # Plotar e salvar a matriz de confusão\n",
    "        self.log('test_loss', loss)\n",
    "        self.log('test_auc', roc_auc)\n",
    "        self.log('test_acc', acc, prog_bar=True)\n",
    "        self.log('test_f1', f1score, prog_bar=True)\n",
    "        \n",
    "        \n",
    "    def configure_optimizers(self):\n",
    "        # Cria um otimizador RMSProp\n",
    "        optimizer = torch.optim.RMSprop(self.parameters())\n",
    "        scheduler = {\n",
    "            'scheduler': ReduceLROnPlateau(\n",
    "                optimizer, \n",
    "                mode=\"min\", \n",
    "                factor=0.5, \n",
    "                patience=5, \n",
    "                min_lr=1e-5),\n",
    "            'interval': 'epoch',\n",
    "            'frequency': 1,\n",
    "            'reduce_on_plateau': True,\n",
    "            'monitor': 'valid_loss',\n",
    "        }\n",
    "        return [optimizer], [scheduler]"
   ]
  },
  {
   "cell_type": "code",
   "execution_count": 8,
   "metadata": {},
   "outputs": [
    {
     "name": "stderr",
     "output_type": "stream",
     "text": [
      "GPU available: True (cuda), used: True\n",
      "TPU available: False, using: 0 TPU cores\n",
      "IPU available: False, using: 0 IPUs\n",
      "HPU available: False, using: 0 HPUs\n"
     ]
    },
    {
     "name": "stdout",
     "output_type": "stream",
     "text": [
      "Número de atributos (input_dim): 40\n"
     ]
    },
    {
     "name": "stderr",
     "output_type": "stream",
     "text": [
      "c:\\Users\\willi\\AppData\\Local\\Programs\\Python\\Python311\\Lib\\site-packages\\pytorch_lightning\\trainer\\connectors\\logger_connector\\logger_connector.py:67: UserWarning: Starting from v1.9.0, `tensorboardX` has been removed as a dependency of the `pytorch_lightning` package, due to potential conflicts with other packages in the ML ecosystem. For this reason, `logger=True` will use `CSVLogger` as the default logger, unless the `tensorboard` or `tensorboardX` packages are found. Please `pip install lightning[extra]` or one of them to enable TensorBoard support by default\n",
      "  warning_cache.warn(\n"
     ]
    }
   ],
   "source": [
    "model = SoftOrdering1DCNN(\n",
    "    input_dim=len(input_features), \n",
    "    output_dim=1, \n",
    "    sign_size=16, \n",
    "    cha_input=64, \n",
    "    cha_hidden=64, \n",
    "    K=2, \n",
    "    dropout_input=0.3, \n",
    "    dropout_hidden=0.3, \n",
    "    dropout_output=0.2\n",
    ")\n",
    "print(\"Número de atributos (input_dim):\", len(input_features))\n",
    "\n",
    "# interromper o treinamento prematuramente se a métrica de validação não melhorar, após x épocas\n",
    "early_stop_callback = EarlyStopping(\n",
    "   monitor='valid_loss',\n",
    "   min_delta=.0,\n",
    "   patience=21,\n",
    "   verbose=True,\n",
    "   mode='min'\n",
    ")\n",
    "\n",
    "trainer = pl.Trainer(\n",
    "    callbacks=[early_stop_callback],\n",
    "    min_epochs=10, \n",
    "    max_epochs=200, \n",
    "    accelerator='gpu') # gpus=1"
   ]
  },
  {
   "cell_type": "code",
   "execution_count": 9,
   "metadata": {},
   "outputs": [
    {
     "name": "stderr",
     "output_type": "stream",
     "text": [
      "You are using a CUDA device ('NVIDIA GeForce RTX 3060 Ti') that has Tensor Cores. To properly utilize them, you should set `torch.set_float32_matmul_precision('medium' | 'high')` which will trade-off precision for performance. For more details, read https://pytorch.org/docs/stable/generated/torch.set_float32_matmul_precision.html#torch.set_float32_matmul_precision\n",
      "LOCAL_RANK: 0 - CUDA_VISIBLE_DEVICES: [0]\n",
      "\n",
      "   | Name          | Type              | Params\n",
      "-----------------------------------------------------\n",
      "0  | batch_norm1   | BatchNorm1d       | 80    \n",
      "1  | dropout1      | Dropout           | 0     \n",
      "2  | dense1        | Linear            | 42.0 K\n",
      "3  | batch_norm_c1 | BatchNorm1d       | 128   \n",
      "4  | conv1         | Conv1d            | 641   \n",
      "5  | ave_po_c1     | AdaptiveAvgPool1d | 0     \n",
      "6  | batch_norm_c2 | BatchNorm1d       | 256   \n",
      "7  | dropout_c2    | Dropout           | 0     \n",
      "8  | conv2         | Conv1d            | 24.6 K\n",
      "9  | batch_norm_c3 | BatchNorm1d       | 128   \n",
      "10 | dropout_c3    | Dropout           | 0     \n",
      "11 | conv3         | Conv1d            | 12.3 K\n",
      "12 | batch_norm_c4 | BatchNorm1d       | 128   \n",
      "13 | conv4         | Conv1d            | 321   \n",
      "14 | avg_po_c4     | AvgPool1d         | 0     \n",
      "15 | flt           | Flatten           | 0     \n",
      "16 | batch_norm2   | BatchNorm1d       | 512   \n",
      "17 | dropout2      | Dropout           | 0     \n",
      "18 | dense2        | Linear            | 257   \n",
      "19 | loss          | BCEWithLogitsLoss | 0     \n",
      "-----------------------------------------------------\n",
      "81.3 K    Trainable params\n",
      "0         Non-trainable params\n",
      "81.3 K    Total params\n",
      "0.325     Total estimated model params size (MB)\n"
     ]
    },
    {
     "data": {
      "application/vnd.jupyter.widget-view+json": {
       "model_id": "09b62b6fe70b4381b528be7a6fabe58d",
       "version_major": 2,
       "version_minor": 0
      },
      "text/plain": [
       "Sanity Checking: 0it [00:00, ?it/s]"
      ]
     },
     "metadata": {},
     "output_type": "display_data"
    },
    {
     "name": "stderr",
     "output_type": "stream",
     "text": [
      "c:\\Users\\willi\\AppData\\Local\\Programs\\Python\\Python311\\Lib\\site-packages\\pytorch_lightning\\loops\\fit_loop.py:280: PossibleUserWarning: The number of training batches (8) is smaller than the logging interval Trainer(log_every_n_steps=50). Set a lower value for log_every_n_steps if you want to see logs for the training epoch.\n",
      "  rank_zero_warn(\n"
     ]
    },
    {
     "data": {
      "application/vnd.jupyter.widget-view+json": {
       "model_id": "8e43fd692d0749368dc8fc6987e42052",
       "version_major": 2,
       "version_minor": 0
      },
      "text/plain": [
       "Training: 0it [00:00, ?it/s]"
      ]
     },
     "metadata": {},
     "output_type": "display_data"
    },
    {
     "data": {
      "application/vnd.jupyter.widget-view+json": {
       "model_id": "9782378e25b8424480968d0b7314a6f4",
       "version_major": 2,
       "version_minor": 0
      },
      "text/plain": [
       "Validation: 0it [00:00, ?it/s]"
      ]
     },
     "metadata": {},
     "output_type": "display_data"
    },
    {
     "name": "stderr",
     "output_type": "stream",
     "text": [
      "Metric valid_loss improved. New best score: 0.611\n"
     ]
    },
    {
     "data": {
      "application/vnd.jupyter.widget-view+json": {
       "model_id": "2eaf04045f58436eaa2bd61424fcbae0",
       "version_major": 2,
       "version_minor": 0
      },
      "text/plain": [
       "Validation: 0it [00:00, ?it/s]"
      ]
     },
     "metadata": {},
     "output_type": "display_data"
    },
    {
     "name": "stderr",
     "output_type": "stream",
     "text": [
      "Metric valid_loss improved by 0.073 >= min_delta = 0.0. New best score: 0.539\n"
     ]
    },
    {
     "data": {
      "application/vnd.jupyter.widget-view+json": {
       "model_id": "958965f655444a76a8d907f9944d17c5",
       "version_major": 2,
       "version_minor": 0
      },
      "text/plain": [
       "Validation: 0it [00:00, ?it/s]"
      ]
     },
     "metadata": {},
     "output_type": "display_data"
    },
    {
     "name": "stderr",
     "output_type": "stream",
     "text": [
      "Metric valid_loss improved by 0.051 >= min_delta = 0.0. New best score: 0.487\n"
     ]
    },
    {
     "data": {
      "application/vnd.jupyter.widget-view+json": {
       "model_id": "c2f5ce502b02474488d0323969376a6b",
       "version_major": 2,
       "version_minor": 0
      },
      "text/plain": [
       "Validation: 0it [00:00, ?it/s]"
      ]
     },
     "metadata": {},
     "output_type": "display_data"
    },
    {
     "name": "stderr",
     "output_type": "stream",
     "text": [
      "Metric valid_loss improved by 0.037 >= min_delta = 0.0. New best score: 0.450\n"
     ]
    },
    {
     "data": {
      "application/vnd.jupyter.widget-view+json": {
       "model_id": "d5fde8cc74414cc39f10600ec4faa5ea",
       "version_major": 2,
       "version_minor": 0
      },
      "text/plain": [
       "Validation: 0it [00:00, ?it/s]"
      ]
     },
     "metadata": {},
     "output_type": "display_data"
    },
    {
     "name": "stderr",
     "output_type": "stream",
     "text": [
      "Metric valid_loss improved by 0.012 >= min_delta = 0.0. New best score: 0.438\n"
     ]
    },
    {
     "data": {
      "application/vnd.jupyter.widget-view+json": {
       "model_id": "407f386326c44ac3afe74fb3d31449c1",
       "version_major": 2,
       "version_minor": 0
      },
      "text/plain": [
       "Validation: 0it [00:00, ?it/s]"
      ]
     },
     "metadata": {},
     "output_type": "display_data"
    },
    {
     "name": "stderr",
     "output_type": "stream",
     "text": [
      "Metric valid_loss improved by 0.021 >= min_delta = 0.0. New best score: 0.417\n"
     ]
    },
    {
     "data": {
      "application/vnd.jupyter.widget-view+json": {
       "model_id": "4c54cb235a3c4754b36a400caaaea49d",
       "version_major": 2,
       "version_minor": 0
      },
      "text/plain": [
       "Validation: 0it [00:00, ?it/s]"
      ]
     },
     "metadata": {},
     "output_type": "display_data"
    },
    {
     "name": "stderr",
     "output_type": "stream",
     "text": [
      "Metric valid_loss improved by 0.005 >= min_delta = 0.0. New best score: 0.413\n"
     ]
    },
    {
     "data": {
      "application/vnd.jupyter.widget-view+json": {
       "model_id": "106a1ee911a24a1faa60d32b511b4d4c",
       "version_major": 2,
       "version_minor": 0
      },
      "text/plain": [
       "Validation: 0it [00:00, ?it/s]"
      ]
     },
     "metadata": {},
     "output_type": "display_data"
    },
    {
     "name": "stderr",
     "output_type": "stream",
     "text": [
      "Metric valid_loss improved by 0.009 >= min_delta = 0.0. New best score: 0.403\n"
     ]
    },
    {
     "data": {
      "application/vnd.jupyter.widget-view+json": {
       "model_id": "42d68e17372d4bf097f9e6608055cef9",
       "version_major": 2,
       "version_minor": 0
      },
      "text/plain": [
       "Validation: 0it [00:00, ?it/s]"
      ]
     },
     "metadata": {},
     "output_type": "display_data"
    },
    {
     "data": {
      "application/vnd.jupyter.widget-view+json": {
       "model_id": "a7fe6f62d4b2415da3ab4def110a48f6",
       "version_major": 2,
       "version_minor": 0
      },
      "text/plain": [
       "Validation: 0it [00:00, ?it/s]"
      ]
     },
     "metadata": {},
     "output_type": "display_data"
    },
    {
     "name": "stderr",
     "output_type": "stream",
     "text": [
      "Metric valid_loss improved by 0.005 >= min_delta = 0.0. New best score: 0.399\n"
     ]
    },
    {
     "data": {
      "application/vnd.jupyter.widget-view+json": {
       "model_id": "43a8f5503e514e1b89144caf68ecc6a8",
       "version_major": 2,
       "version_minor": 0
      },
      "text/plain": [
       "Validation: 0it [00:00, ?it/s]"
      ]
     },
     "metadata": {},
     "output_type": "display_data"
    },
    {
     "data": {
      "application/vnd.jupyter.widget-view+json": {
       "model_id": "07be71feabd44a40b3347eee92382b30",
       "version_major": 2,
       "version_minor": 0
      },
      "text/plain": [
       "Validation: 0it [00:00, ?it/s]"
      ]
     },
     "metadata": {},
     "output_type": "display_data"
    },
    {
     "data": {
      "application/vnd.jupyter.widget-view+json": {
       "model_id": "27ce8e7a13c74423a7517aed88c320bc",
       "version_major": 2,
       "version_minor": 0
      },
      "text/plain": [
       "Validation: 0it [00:00, ?it/s]"
      ]
     },
     "metadata": {},
     "output_type": "display_data"
    },
    {
     "data": {
      "application/vnd.jupyter.widget-view+json": {
       "model_id": "683e93272bb4430a8d2c5a8bb3bf7289",
       "version_major": 2,
       "version_minor": 0
      },
      "text/plain": [
       "Validation: 0it [00:00, ?it/s]"
      ]
     },
     "metadata": {},
     "output_type": "display_data"
    },
    {
     "data": {
      "application/vnd.jupyter.widget-view+json": {
       "model_id": "76189cd310844f8f8caccfd1dff9f1b4",
       "version_major": 2,
       "version_minor": 0
      },
      "text/plain": [
       "Validation: 0it [00:00, ?it/s]"
      ]
     },
     "metadata": {},
     "output_type": "display_data"
    },
    {
     "name": "stderr",
     "output_type": "stream",
     "text": [
      "Metric valid_loss improved by 0.008 >= min_delta = 0.0. New best score: 0.391\n"
     ]
    },
    {
     "data": {
      "application/vnd.jupyter.widget-view+json": {
       "model_id": "1144d131b5a2448a819f76a8e9820cd0",
       "version_major": 2,
       "version_minor": 0
      },
      "text/plain": [
       "Validation: 0it [00:00, ?it/s]"
      ]
     },
     "metadata": {},
     "output_type": "display_data"
    },
    {
     "name": "stderr",
     "output_type": "stream",
     "text": [
      "Metric valid_loss improved by 0.002 >= min_delta = 0.0. New best score: 0.389\n"
     ]
    },
    {
     "data": {
      "application/vnd.jupyter.widget-view+json": {
       "model_id": "d76e17628f304eb881fbf98f673b21ad",
       "version_major": 2,
       "version_minor": 0
      },
      "text/plain": [
       "Validation: 0it [00:00, ?it/s]"
      ]
     },
     "metadata": {},
     "output_type": "display_data"
    },
    {
     "data": {
      "application/vnd.jupyter.widget-view+json": {
       "model_id": "636964f0d4c9451d847e5f257b115996",
       "version_major": 2,
       "version_minor": 0
      },
      "text/plain": [
       "Validation: 0it [00:00, ?it/s]"
      ]
     },
     "metadata": {},
     "output_type": "display_data"
    },
    {
     "data": {
      "application/vnd.jupyter.widget-view+json": {
       "model_id": "063a245232cc45f7a5c8844e872fca2c",
       "version_major": 2,
       "version_minor": 0
      },
      "text/plain": [
       "Validation: 0it [00:00, ?it/s]"
      ]
     },
     "metadata": {},
     "output_type": "display_data"
    },
    {
     "name": "stderr",
     "output_type": "stream",
     "text": [
      "Metric valid_loss improved by 0.003 >= min_delta = 0.0. New best score: 0.386\n"
     ]
    },
    {
     "data": {
      "application/vnd.jupyter.widget-view+json": {
       "model_id": "d27e4a06cbde4e439e365795147bcf2b",
       "version_major": 2,
       "version_minor": 0
      },
      "text/plain": [
       "Validation: 0it [00:00, ?it/s]"
      ]
     },
     "metadata": {},
     "output_type": "display_data"
    },
    {
     "data": {
      "application/vnd.jupyter.widget-view+json": {
       "model_id": "9e712c0170dc4a58a85578f3503920c7",
       "version_major": 2,
       "version_minor": 0
      },
      "text/plain": [
       "Validation: 0it [00:00, ?it/s]"
      ]
     },
     "metadata": {},
     "output_type": "display_data"
    },
    {
     "name": "stderr",
     "output_type": "stream",
     "text": [
      "Metric valid_loss improved by 0.004 >= min_delta = 0.0. New best score: 0.382\n"
     ]
    },
    {
     "data": {
      "application/vnd.jupyter.widget-view+json": {
       "model_id": "0e194f6bc01f4440895afa56c08c37c8",
       "version_major": 2,
       "version_minor": 0
      },
      "text/plain": [
       "Validation: 0it [00:00, ?it/s]"
      ]
     },
     "metadata": {},
     "output_type": "display_data"
    },
    {
     "data": {
      "application/vnd.jupyter.widget-view+json": {
       "model_id": "bafc18e31d55441a89c8531cbce0baca",
       "version_major": 2,
       "version_minor": 0
      },
      "text/plain": [
       "Validation: 0it [00:00, ?it/s]"
      ]
     },
     "metadata": {},
     "output_type": "display_data"
    },
    {
     "data": {
      "application/vnd.jupyter.widget-view+json": {
       "model_id": "6eea2bea8fdf4d738e29e1aacbf72ad0",
       "version_major": 2,
       "version_minor": 0
      },
      "text/plain": [
       "Validation: 0it [00:00, ?it/s]"
      ]
     },
     "metadata": {},
     "output_type": "display_data"
    },
    {
     "data": {
      "application/vnd.jupyter.widget-view+json": {
       "model_id": "68a3f6469bee482389a265c1a30dd1b0",
       "version_major": 2,
       "version_minor": 0
      },
      "text/plain": [
       "Validation: 0it [00:00, ?it/s]"
      ]
     },
     "metadata": {},
     "output_type": "display_data"
    },
    {
     "data": {
      "application/vnd.jupyter.widget-view+json": {
       "model_id": "695eb797801b4019bf4146e45312601e",
       "version_major": 2,
       "version_minor": 0
      },
      "text/plain": [
       "Validation: 0it [00:00, ?it/s]"
      ]
     },
     "metadata": {},
     "output_type": "display_data"
    },
    {
     "data": {
      "application/vnd.jupyter.widget-view+json": {
       "model_id": "54418aea6c22468c9bf982be2439ccf5",
       "version_major": 2,
       "version_minor": 0
      },
      "text/plain": [
       "Validation: 0it [00:00, ?it/s]"
      ]
     },
     "metadata": {},
     "output_type": "display_data"
    },
    {
     "name": "stderr",
     "output_type": "stream",
     "text": [
      "Metric valid_loss improved by 0.007 >= min_delta = 0.0. New best score: 0.376\n"
     ]
    },
    {
     "data": {
      "application/vnd.jupyter.widget-view+json": {
       "model_id": "e81d573651ff4d98bc326c486f6566c5",
       "version_major": 2,
       "version_minor": 0
      },
      "text/plain": [
       "Validation: 0it [00:00, ?it/s]"
      ]
     },
     "metadata": {},
     "output_type": "display_data"
    },
    {
     "data": {
      "application/vnd.jupyter.widget-view+json": {
       "model_id": "27aee16a53d54595b77a403bd985aad1",
       "version_major": 2,
       "version_minor": 0
      },
      "text/plain": [
       "Validation: 0it [00:00, ?it/s]"
      ]
     },
     "metadata": {},
     "output_type": "display_data"
    },
    {
     "data": {
      "application/vnd.jupyter.widget-view+json": {
       "model_id": "e752c61c4a5149f0ab3b55b4b5685be3",
       "version_major": 2,
       "version_minor": 0
      },
      "text/plain": [
       "Validation: 0it [00:00, ?it/s]"
      ]
     },
     "metadata": {},
     "output_type": "display_data"
    },
    {
     "data": {
      "application/vnd.jupyter.widget-view+json": {
       "model_id": "1a323e213a7a48fd854abe6e9b137560",
       "version_major": 2,
       "version_minor": 0
      },
      "text/plain": [
       "Validation: 0it [00:00, ?it/s]"
      ]
     },
     "metadata": {},
     "output_type": "display_data"
    },
    {
     "data": {
      "application/vnd.jupyter.widget-view+json": {
       "model_id": "18125b816235433ea81dc7d887e4ccb4",
       "version_major": 2,
       "version_minor": 0
      },
      "text/plain": [
       "Validation: 0it [00:00, ?it/s]"
      ]
     },
     "metadata": {},
     "output_type": "display_data"
    },
    {
     "data": {
      "application/vnd.jupyter.widget-view+json": {
       "model_id": "829b57816f9e44199ce5fde35a5078c1",
       "version_major": 2,
       "version_minor": 0
      },
      "text/plain": [
       "Validation: 0it [00:00, ?it/s]"
      ]
     },
     "metadata": {},
     "output_type": "display_data"
    },
    {
     "data": {
      "application/vnd.jupyter.widget-view+json": {
       "model_id": "c2ffca93ea52454390cd03999f384873",
       "version_major": 2,
       "version_minor": 0
      },
      "text/plain": [
       "Validation: 0it [00:00, ?it/s]"
      ]
     },
     "metadata": {},
     "output_type": "display_data"
    },
    {
     "name": "stderr",
     "output_type": "stream",
     "text": [
      "Metric valid_loss improved by 0.001 >= min_delta = 0.0. New best score: 0.375\n"
     ]
    },
    {
     "data": {
      "application/vnd.jupyter.widget-view+json": {
       "model_id": "a195838aef3b41d89b25926f16d91b7d",
       "version_major": 2,
       "version_minor": 0
      },
      "text/plain": [
       "Validation: 0it [00:00, ?it/s]"
      ]
     },
     "metadata": {},
     "output_type": "display_data"
    },
    {
     "data": {
      "application/vnd.jupyter.widget-view+json": {
       "model_id": "52919efb6bff462abcd87f2be2bd1b29",
       "version_major": 2,
       "version_minor": 0
      },
      "text/plain": [
       "Validation: 0it [00:00, ?it/s]"
      ]
     },
     "metadata": {},
     "output_type": "display_data"
    },
    {
     "data": {
      "application/vnd.jupyter.widget-view+json": {
       "model_id": "0263415f29e94387888cef96a48e59f4",
       "version_major": 2,
       "version_minor": 0
      },
      "text/plain": [
       "Validation: 0it [00:00, ?it/s]"
      ]
     },
     "metadata": {},
     "output_type": "display_data"
    },
    {
     "data": {
      "application/vnd.jupyter.widget-view+json": {
       "model_id": "c51cc3671d9148399296bed1867ee9c5",
       "version_major": 2,
       "version_minor": 0
      },
      "text/plain": [
       "Validation: 0it [00:00, ?it/s]"
      ]
     },
     "metadata": {},
     "output_type": "display_data"
    },
    {
     "data": {
      "application/vnd.jupyter.widget-view+json": {
       "model_id": "7ea3f3be16f540ae99f8b6a01a3d3739",
       "version_major": 2,
       "version_minor": 0
      },
      "text/plain": [
       "Validation: 0it [00:00, ?it/s]"
      ]
     },
     "metadata": {},
     "output_type": "display_data"
    },
    {
     "data": {
      "application/vnd.jupyter.widget-view+json": {
       "model_id": "f2f453fb33954d84941adaef8140aa02",
       "version_major": 2,
       "version_minor": 0
      },
      "text/plain": [
       "Validation: 0it [00:00, ?it/s]"
      ]
     },
     "metadata": {},
     "output_type": "display_data"
    },
    {
     "data": {
      "application/vnd.jupyter.widget-view+json": {
       "model_id": "697c786ba6a54bb19c948d66fc416a4c",
       "version_major": 2,
       "version_minor": 0
      },
      "text/plain": [
       "Validation: 0it [00:00, ?it/s]"
      ]
     },
     "metadata": {},
     "output_type": "display_data"
    },
    {
     "data": {
      "application/vnd.jupyter.widget-view+json": {
       "model_id": "0896eca143404bae8258cf676860e519",
       "version_major": 2,
       "version_minor": 0
      },
      "text/plain": [
       "Validation: 0it [00:00, ?it/s]"
      ]
     },
     "metadata": {},
     "output_type": "display_data"
    },
    {
     "data": {
      "application/vnd.jupyter.widget-view+json": {
       "model_id": "1c1ce11ca6834566bb1dc6048041103f",
       "version_major": 2,
       "version_minor": 0
      },
      "text/plain": [
       "Validation: 0it [00:00, ?it/s]"
      ]
     },
     "metadata": {},
     "output_type": "display_data"
    },
    {
     "data": {
      "application/vnd.jupyter.widget-view+json": {
       "model_id": "59b6375b22944a8e8de5f79f88736d0d",
       "version_major": 2,
       "version_minor": 0
      },
      "text/plain": [
       "Validation: 0it [00:00, ?it/s]"
      ]
     },
     "metadata": {},
     "output_type": "display_data"
    },
    {
     "data": {
      "application/vnd.jupyter.widget-view+json": {
       "model_id": "faf4a95c934e42bcb959ba15382e93fc",
       "version_major": 2,
       "version_minor": 0
      },
      "text/plain": [
       "Validation: 0it [00:00, ?it/s]"
      ]
     },
     "metadata": {},
     "output_type": "display_data"
    },
    {
     "data": {
      "application/vnd.jupyter.widget-view+json": {
       "model_id": "378734ab8de14353b4d2b434802d2f24",
       "version_major": 2,
       "version_minor": 0
      },
      "text/plain": [
       "Validation: 0it [00:00, ?it/s]"
      ]
     },
     "metadata": {},
     "output_type": "display_data"
    },
    {
     "data": {
      "application/vnd.jupyter.widget-view+json": {
       "model_id": "0d6ab751e93340589f62a2fae4e0dbb1",
       "version_major": 2,
       "version_minor": 0
      },
      "text/plain": [
       "Validation: 0it [00:00, ?it/s]"
      ]
     },
     "metadata": {},
     "output_type": "display_data"
    },
    {
     "data": {
      "application/vnd.jupyter.widget-view+json": {
       "model_id": "b60b9d25f7f441d798c7f4b9be95ba38",
       "version_major": 2,
       "version_minor": 0
      },
      "text/plain": [
       "Validation: 0it [00:00, ?it/s]"
      ]
     },
     "metadata": {},
     "output_type": "display_data"
    },
    {
     "data": {
      "application/vnd.jupyter.widget-view+json": {
       "model_id": "a2cc15a258234315920db08299cfa35d",
       "version_major": 2,
       "version_minor": 0
      },
      "text/plain": [
       "Validation: 0it [00:00, ?it/s]"
      ]
     },
     "metadata": {},
     "output_type": "display_data"
    },
    {
     "data": {
      "application/vnd.jupyter.widget-view+json": {
       "model_id": "4349f78dd6e6408dac4e933b3367fa64",
       "version_major": 2,
       "version_minor": 0
      },
      "text/plain": [
       "Validation: 0it [00:00, ?it/s]"
      ]
     },
     "metadata": {},
     "output_type": "display_data"
    },
    {
     "data": {
      "application/vnd.jupyter.widget-view+json": {
       "model_id": "6d3d4a85d99f4145a41a372bef390e94",
       "version_major": 2,
       "version_minor": 0
      },
      "text/plain": [
       "Validation: 0it [00:00, ?it/s]"
      ]
     },
     "metadata": {},
     "output_type": "display_data"
    },
    {
     "data": {
      "application/vnd.jupyter.widget-view+json": {
       "model_id": "40802b03ee50443aa27d99d930c806e7",
       "version_major": 2,
       "version_minor": 0
      },
      "text/plain": [
       "Validation: 0it [00:00, ?it/s]"
      ]
     },
     "metadata": {},
     "output_type": "display_data"
    },
    {
     "data": {
      "application/vnd.jupyter.widget-view+json": {
       "model_id": "302ed1a1250546048dbc8e7dc0c2e19d",
       "version_major": 2,
       "version_minor": 0
      },
      "text/plain": [
       "Validation: 0it [00:00, ?it/s]"
      ]
     },
     "metadata": {},
     "output_type": "display_data"
    },
    {
     "data": {
      "application/vnd.jupyter.widget-view+json": {
       "model_id": "e881534283c14d6eae4343957e875f63",
       "version_major": 2,
       "version_minor": 0
      },
      "text/plain": [
       "Validation: 0it [00:00, ?it/s]"
      ]
     },
     "metadata": {},
     "output_type": "display_data"
    },
    {
     "data": {
      "application/vnd.jupyter.widget-view+json": {
       "model_id": "c19261f540e2441b9248985d76971668",
       "version_major": 2,
       "version_minor": 0
      },
      "text/plain": [
       "Validation: 0it [00:00, ?it/s]"
      ]
     },
     "metadata": {},
     "output_type": "display_data"
    },
    {
     "name": "stderr",
     "output_type": "stream",
     "text": [
      "Monitored metric valid_loss did not improve in the last 21 records. Best score: 0.375. Signaling Trainer to stop.\n"
     ]
    }
   ],
   "source": [
    "trainer.fit(\n",
    "    model, \n",
    "    DataLoader(train_tensor_dset, batch_size=2048, shuffle=True, num_workers=4),\n",
    "    DataLoader(valid_tensor_dset, batch_size=2048, shuffle=False, num_workers=4)\n",
    ")"
   ]
  },
  {
   "cell_type": "code",
   "execution_count": 10,
   "metadata": {},
   "outputs": [
    {
     "name": "stderr",
     "output_type": "stream",
     "text": [
      "LOCAL_RANK: 0 - CUDA_VISIBLE_DEVICES: [0]\n"
     ]
    },
    {
     "data": {
      "application/vnd.jupyter.widget-view+json": {
       "model_id": "c166a9f067284d1c9d9a776cb11c288e",
       "version_major": 2,
       "version_minor": 0
      },
      "text/plain": [
       "Testing: 0it [00:00, ?it/s]"
      ]
     },
     "metadata": {},
     "output_type": "display_data"
    },
    {
     "data": {
      "image/png": "[encoded data removed]",
      "text/plain": [
       "<Figure size 800x600 with 2 Axes>"
      ]
     },
     "metadata": {},
     "output_type": "display_data"
    },
    {
     "data": {
      "image/png": "[encoded data removed]",
      "text/plain": [
       "<Figure size 800x600 with 2 Axes>"
      ]
     },
     "metadata": {},
     "output_type": "display_data"
    },
    {
     "data": {
      "image/png": "[encoded data removed]",
      "text/plain": [
       "<Figure size 800x600 with 2 Axes>"
      ]
     },
     "metadata": {},
     "output_type": "display_data"
    },
    {
     "name": "stdout",
     "output_type": "stream",
     "text": [
      "────────────────────────────────────────────────────────────────────────────────────────────────────────────────────────\n",
      "Runningstage.testing metric      DataLoader 0\n",
      "────────────────────────────────────────────────────────────────────────────────────────────────────────────────────────\n",
      "        test_acc             0.816198224852071\n",
      "        test_auc            0.9213266001559509\n",
      "         test_f1            0.8355173547862847\n",
      "        test_loss           0.4216756522655487\n",
      "────────────────────────────────────────────────────────────────────────────────────────────────────────────────────────\n"
     ]
    },
    {
     "data": {
      "text/plain": [
       "[{'test_loss': 0.4216756522655487,\n",
       "  'test_auc': 0.9213266001559509,\n",
       "  'test_acc': 0.816198224852071,\n",
       "  'test_f1': 0.8355173547862847}]"
      ]
     },
     "execution_count": 10,
     "metadata": {},
     "output_type": "execute_result"
    }
   ],
   "source": [
    "# Métricas no conjuntos de dados de Validação\n",
    "trainer.test(model, DataLoader(valid_tensor_dset, batch_size=2048, shuffle=False, num_workers=4))"
   ]
  },
  {
   "cell_type": "code",
   "execution_count": 11,
   "metadata": {},
   "outputs": [
    {
     "name": "stderr",
     "output_type": "stream",
     "text": [
      "LOCAL_RANK: 0 - CUDA_VISIBLE_DEVICES: [0]\n"
     ]
    },
    {
     "data": {
      "application/vnd.jupyter.widget-view+json": {
       "model_id": "5d9c23325e8740888a84461344b8bdac",
       "version_major": 2,
       "version_minor": 0
      },
      "text/plain": [
       "Testing: 0it [00:00, ?it/s]"
      ]
     },
     "metadata": {},
     "output_type": "display_data"
    },
    {
     "data": {
      "image/png": "[encoded data removed]",
      "text/plain": [
       "<Figure size 800x600 with 2 Axes>"
      ]
     },
     "metadata": {},
     "output_type": "display_data"
    },
    {
     "data": {
      "image/png": "[encoded data removed]",
      "text/plain": [
       "<Figure size 800x600 with 2 Axes>"
      ]
     },
     "metadata": {},
     "output_type": "display_data"
    },
    {
     "data": {
      "image/png": "[encoded data removed]",
      "text/plain": [
       "<Figure size 800x600 with 2 Axes>"
      ]
     },
     "metadata": {},
     "output_type": "display_data"
    },
    {
     "name": "stdout",
     "output_type": "stream",
     "text": [
      "────────────────────────────────────────────────────────────────────────────────────────────────────────────────────────\n",
      "Runningstage.testing metric      DataLoader 0\n",
      "────────────────────────────────────────────────────────────────────────────────────────────────────────────────────────\n",
      "        test_acc            0.8312072471806249\n",
      "        test_auc            0.9250384283004668\n",
      "         test_f1            0.8525213823392824\n",
      "        test_loss           0.39913278818130493\n",
      "────────────────────────────────────────────────────────────────────────────────────────────────────────────────────────\n"
     ]
    },
    {
     "data": {
      "text/plain": [
       "[{'test_loss': 0.39913278818130493,\n",
       "  'test_auc': 0.9250384283004668,\n",
       "  'test_acc': 0.8312072471806249,\n",
       "  'test_f1': 0.8525213823392824}]"
      ]
     },
     "execution_count": 11,
     "metadata": {},
     "output_type": "execute_result"
    }
   ],
   "source": [
    "# Métricas no conjuntos de dados de Teste\n",
    "trainer.test(model, DataLoader(test_tensor_dset, batch_size=2048, shuffle=False, num_workers=4))"
   ]
  }
 ],
 "metadata": {
  "kernelspec": {
   "display_name": "TCC",
   "language": "python",
   "name": "python3"
  },
  "language_info": {
   "codemirror_mode": {
    "name": "ipython",
    "version": 3
   },
   "file_extension": ".py",
   "mimetype": "text/x-python",
   "name": "python",
   "nbconvert_exporter": "python",
   "pygments_lexer": "ipython3",
   "version": "3.11.3"
  },
  "orig_nbformat": 4
 },
 "nbformat": 4,
 "nbformat_minor": 2
}
